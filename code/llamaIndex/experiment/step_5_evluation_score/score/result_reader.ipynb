{
 "cells": [
  {
   "cell_type": "markdown",
   "metadata": {},
   "source": [
    "### Faithfulness"
   ]
  },
  {
   "cell_type": "code",
   "execution_count": 3,
   "metadata": {},
   "outputs": [
    {
     "name": "stdout",
     "output_type": "stream",
     "text": [
      "answer_similarity: 0.9656295297303144\n",
      "context_precision: 0.9493278178988623\n",
      "context_utilization: 0.9276111684698035\n",
      "context_recall: 0.49158541389668586\n",
      "context_entity_recall: 0.3134965821352539\n"
     ]
    }
   ],
   "source": [
    "import os\n",
    "import pandas as pd\n",
    "matrixes = [\n",
    "    'faithfulness',\n",
    "    'answer_relevancy',\n",
    "    'answer_similarity',\n",
    "    'answer_correctness',\n",
    "    'context_precision',\n",
    "    'context_utilization',\n",
    "    'context_recall',\n",
    "    'context_entity_recall',\n",
    "    'noise_sensitivity_relevant'\n",
    "]\n",
    "\n",
    "condition = \"condition_1\"\n",
    "\n",
    "print(f\"experiment: {condition}\")\n",
    "for matrix in matrixes:\n",
    "    for filename in os.listdir(os.path.abspath('.')):\n",
    "        if condition in filename and matrix in filename:\n",
    "            result = pd.read_csv(filename)\n",
    "            print(f'{matrix}: {result[matrix].mean()}')\n"
   ]
  },
  {
   "cell_type": "code",
   "execution_count": null,
   "metadata": {},
   "outputs": [],
   "source": []
  }
 ],
 "metadata": {
  "kernelspec": {
   "display_name": "llm",
   "language": "python",
   "name": "python3"
  },
  "language_info": {
   "codemirror_mode": {
    "name": "ipython",
    "version": 3
   },
   "file_extension": ".py",
   "mimetype": "text/x-python",
   "name": "python",
   "nbconvert_exporter": "python",
   "pygments_lexer": "ipython3",
   "version": "3.11.9"
  }
 },
 "nbformat": 4,
 "nbformat_minor": 2
}
