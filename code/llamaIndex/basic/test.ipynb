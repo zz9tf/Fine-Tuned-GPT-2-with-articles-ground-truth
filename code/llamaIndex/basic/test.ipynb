{
 "cells": [
  {
   "cell_type": "markdown",
   "metadata": {},
   "source": [
    "### Reader"
   ]
  },
  {
   "cell_type": "code",
   "execution_count": null,
   "metadata": {},
   "outputs": [],
   "source": [
    "import os\n",
    "import xml.etree.ElementTree as ET\n",
    "cache_path = '/home/zhengzheng/scratch0/projects/Fine-Tuned-GPT-2-with-articles-ground-truth/code/llamaIndex/.cache'\n",
    "filenames = [filename for filename in os.listdir(cache_path) if filename.endswith('tei.xml')]\n",
    "\n",
    "\n",
    "def get_full_text(element):\n",
    "    text = element.text or ''\n",
    "    for subelement in element:\n",
    "        text += ET.tostring(subelement, encoding='unicode', method='text')\n",
    "        if subelement.tail:\n",
    "            text += subelement.tail\n",
    "    return text.strip()\n",
    "\n",
    "iter_filenames = (iter(filenames))"
   ]
  },
  {
   "cell_type": "code",
   "execution_count": null,
   "metadata": {},
   "outputs": [],
   "source": [
    "file_path = os.path.join(cache_path, next(iter_filenames)) \n",
    "file_path"
   ]
  },
  {
   "cell_type": "code",
   "execution_count": null,
   "metadata": {},
   "outputs": [],
   "source": [
    "file_dict = {}\n",
    "tree = ET.parse(file_path)\n",
    "root = tree.getroot()\n",
    "\n",
    "namespace = {'tei': 'http://www.tei-c.org/ns/1.0'}"
   ]
  },
  {
   "cell_type": "code",
   "execution_count": null,
   "metadata": {},
   "outputs": [],
   "source": [
    "# title\n",
    "title = root.find('.//tei:teiHeader/tei:fileDesc/tei:titleStmt/tei:title', namespaces=namespace)\n",
    "file_dict['title'] = title.text\n",
    "file_dict"
   ]
  },
  {
   "cell_type": "code",
   "execution_count": null,
   "metadata": {},
   "outputs": [],
   "source": [
    "# authors\n",
    "authors = root.findall('.//tei:teiHeader/tei:fileDesc/tei:sourceDesc/tei:biblStruct/tei:analytic/tei:author/tei:persName', namespaces=namespace)\n",
    "file_dict['authors'] = []\n",
    "for author in authors:\n",
    "    forename = author.findall('tei:forename', namespaces=namespace)\n",
    "    if len(forename) == 0:\n",
    "        continue\n",
    "    forename = ' '.join(name.text for name in forename)\n",
    "    surname = ' '.join([name.text for name in author.findall('tei:surname', namespaces=namespace)])\n",
    "    author_name = forename + ' ' + surname\n",
    "    file_dict['authors'].append(author_name)\n",
    "file_dict"
   ]
  },
  {
   "cell_type": "code",
   "execution_count": null,
   "metadata": {},
   "outputs": [],
   "source": [
    "# abstract\n",
    "abstract = root.find('.//tei:teiHeader/tei:profileDesc/tei:abstract/tei:div/tei:p', namespaces=namespace)\n",
    "print(abstract)\n",
    "if abstract is not None:\n",
    "    file_dict['abstract'] = abstract.text\n",
    "file_dict"
   ]
  },
  {
   "cell_type": "code",
   "execution_count": null,
   "metadata": {},
   "outputs": [],
   "source": [
    "# Body\n",
    "body = root.findall('.//tei:text/tei:body/tei:div', namespaces=namespace)\n",
    "\n",
    "for i, child in enumerate(body):\n",
    "    ps = child.findall('.//tei:p', namespaces=namespace)\n",
    "    if len(ps) == 0:\n",
    "        continue\n",
    "    head = child.find('.//tei:head', namespaces=namespace).text\n",
    "    content = '\\n'.join([get_full_text(p) for p in ps])\n",
    "    file_dict[head] = content\n",
    "file_dict"
   ]
  },
  {
   "cell_type": "code",
   "execution_count": null,
   "metadata": {},
   "outputs": [],
   "source": [
    "from utils.custom_document_reader import CustomDocumentReader\n",
    "\n",
    "documents = CustomDocumentReader(\n",
    "    input_dir=\"/home/zhengzheng/scratch0/projects/Fine-Tuned-GPT-2-with-articles-ground-truth/data\",\n",
    "    cache_dir=\"/home/zhengzheng/scratch0/projects/Fine-Tuned-GPT-2-with-articles-ground-truth/code/llamaIndex/.cache\",\n",
    "    config_path=\"/home/zhengzheng/scratch0/projects/Fine-Tuned-GPT-2-with-articles-ground-truth/code/llamaIndex/utils/config.json\",\n",
    "    remove_cache=False\n",
    ")._load_data()"
   ]
  },
  {
   "cell_type": "markdown",
   "metadata": {},
   "source": [
    "### CustomSplitter"
   ]
  },
  {
   "cell_type": "code",
   "execution_count": null,
   "metadata": {},
   "outputs": [],
   "source": [
    "from llama_index.core.node_parser import SentenceSplitter\n",
    "\n",
    "ss1 = SentenceSplitter(\n",
    "    chunk_size=1024,\n",
    "    include_metadata=True,\n",
    "    include_prev_next_rel=True,\n",
    ")"
   ]
  },
  {
   "cell_type": "code",
   "execution_count": null,
   "metadata": {},
   "outputs": [],
   "source": [
    "from llama_index.core.storage.docstore import SimpleDocumentStore\n",
    "nodes = ss1.get_nodes_from_documents(documents)\n",
    "docstore = SimpleDocumentStore()\n",
    "docstore.add_documents(nodes)\n",
    "docstore.persist(persist_path=\"/home/zhengzheng/scratch0/projects/Fine-Tuned-GPT-2-with-articles-ground-truth/code/llamaIndex/.cache/test.json\")\n"
   ]
  },
  {
   "cell_type": "code",
   "execution_count": null,
   "metadata": {},
   "outputs": [],
   "source": [
    "from llama_index.core.node_parser import SimpleFileNodeParser\n",
    "\n",
    "nodes = SimpleFileNodeParser().get_nodes_from_documents(documents=documents)"
   ]
  },
  {
   "cell_type": "code",
   "execution_count": null,
   "metadata": {},
   "outputs": [],
   "source": [
    "for k, v in nodes[0].to_dict().items():\n",
    "    print(f\"key: {k}\\nvalue: {v}\\n\\n\")"
   ]
  },
  {
   "cell_type": "code",
   "execution_count": null,
   "metadata": {},
   "outputs": [],
   "source": [
    "from utils.custom_document_reader import CustomDocumentReader\n",
    "\n",
    "documents = CustomDocumentReader(\n",
    "    input_dir=\"/home/zhengzheng/scratch0/projects/Fine-Tuned-GPT-2-with-articles-ground-truth/data\",\n",
    "    cache_dir=\"/home/zhengzheng/scratch0/projects/Fine-Tuned-GPT-2-with-articles-ground-truth/code/llamaIndex/.cache\",\n",
    "    config_path=\"/home/zhengzheng/scratch0/projects/Fine-Tuned-GPT-2-with-articles-ground-truth/code/llamaIndex/utils/config.json\",\n",
    "    remove_cache=False\n",
    ")._load_data()\n",
    "\n",
    "from utils.custom_parser import CustomHierarchicalNodeParser\n",
    "hnp = CustomHierarchicalNodeParser.from_defaults()\n",
    "hnp._parse_nodes(documents)"
   ]
  },
  {
   "cell_type": "markdown",
   "metadata": {},
   "source": [
    "### Test custom document reader"
   ]
  },
  {
   "cell_type": "code",
   "execution_count": null,
   "metadata": {},
   "outputs": [],
   "source": [
    "from utils.custom_document_reader import CustomDocumentReader\n",
    "\n",
    "documents = CustomDocumentReader(\n",
    "    input_dir=\"/home/zhengzheng/scratch0/projects/Fine-Tuned-GPT-2-with-articles-ground-truth/data\",\n",
    "    cache_dir=\"/home/zhengzheng/scratch0/projects/Fine-Tuned-GPT-2-with-articles-ground-truth/code/llamaIndex/.cache\",\n",
    "    config_path=\"/home/zhengzheng/scratch0/projects/Fine-Tuned-GPT-2-with-articles-ground-truth/code/llamaIndex/utils/config.json\",\n",
    "    remove_cache=False\n",
    ")._load_data()\n",
    "\n",
    "from utils.custom_parser import CustomHierarchicalNodeParser\n",
    "hnp = CustomHierarchicalNodeParser.from_defaults()\n",
    "nodes = hnp.get_nodes_from_documents(documents)"
   ]
  },
  {
   "cell_type": "code",
   "execution_count": null,
   "metadata": {},
   "outputs": [],
   "source": [
    "len(documents)"
   ]
  },
  {
   "cell_type": "code",
   "execution_count": null,
   "metadata": {},
   "outputs": [],
   "source": [
    "len(nodes)"
   ]
  },
  {
   "cell_type": "code",
   "execution_count": null,
   "metadata": {},
   "outputs": [],
   "source": [
    "from utils.custom_extractor import HuggingfaceBasedExtractor, OllamaBasedExtractor, OpenAIBasedExtractor\n",
    "\n",
    "extractor = OllamaBasedExtractor(\n",
    "    model_name='sammcj/sfr-embedding-mistral:Q4_K_M',\n",
    "    only_meta={'level': ['section']}\n",
    ")\n",
    "\n",
    "extractor.extract(nodes)"
   ]
  },
  {
   "cell_type": "markdown",
   "metadata": {},
   "source": [
    "### Pydantic"
   ]
  },
  {
   "cell_type": "code",
   "execution_count": null,
   "metadata": {},
   "outputs": [],
   "source": [
    "from utils.get import get_a_store\n",
    "file_path = 'D:\\\\Projects(D)\\\\Fine-Tuned-GPT-2-with-articles-ground-truth\\\\code\\\\llamaIndex\\\\.cache\\\\test-gpt-4o-batch_1_parser_CustomHierarchicalNodeParser-vicuna_13b.json'\n",
    "docstore = get_a_store('SimpleDocumentStore').from_persist_path(persist_path=file_path)\n",
    "nodes = [node for _, node in docstore.docs.items()][:4]"
   ]
  },
  {
   "cell_type": "code",
   "execution_count": null,
   "metadata": {},
   "outputs": [],
   "source": [
    "from custom.custom_extractor import OpenAIBasedQARExtractor\n",
    "from custom.schema import QAR\n",
    "from dotenv import load_dotenv\n",
    "\n",
    "load_dotenv()\n",
    "extractor = OpenAIBasedQARExtractor(\n",
    "    model_name='gpt-4o',\n",
    "    cache_dir='D:\\\\Projects(D)\\\\Fine-Tuned-GPT-2-with-articles-ground-truth\\\\code\\\\llamaIndex\\\\.cache',\n",
    "    mode='immediately',\n",
    "    embedding_only=True,\n",
    "    only_meta=None\n",
    ")"
   ]
  },
  {
   "cell_type": "code",
   "execution_count": null,
   "metadata": {},
   "outputs": [],
   "source": [
    "outputs = extractor.extract(nodes, 'test', 'test_action', 'D:\\\\Projects(D)\\\\Fine-Tuned-GPT-2-with-articles-ground-truth\\\\code\\\\llamaIndex\\\\.cache')"
   ]
  },
  {
   "cell_type": "code",
   "execution_count": null,
   "metadata": {},
   "outputs": [],
   "source": [
    "nodes[0].metadata['questions_this_excerpt_can_answer_and_corresponding_answers_and_reasons'].split('\\n')"
   ]
  },
  {
   "cell_type": "code",
   "execution_count": null,
   "metadata": {},
   "outputs": [],
   "source": [
    "nodes[0].metadata['questions_this_excerpt_can_answer_and_corresponding_answers_and_reasons'].split('\\n')"
   ]
  },
  {
   "cell_type": "code",
   "execution_count": null,
   "metadata": {},
   "outputs": [],
   "source": [
    "import re\n",
    "def extract_json_str(text: str) -> list:\n",
    "    \"\"\"Extract JSON strings from text.\"\"\"\n",
    "    matches = re.findall(r'\\{.*?\\}', text.strip(), re.MULTILINE | re.IGNORECASE | re.DOTALL)\n",
    "    if not matches:\n",
    "        raise ValueError(f\"Could not extract json strings from output: {text}\")\n",
    "    return matches\n",
    "\n",
    "text = \"\"\"```json\n",
    "[\n",
    "    {\n",
    "        \"Question\": \"What are the main pathological features of Parkinson's disease as described in the document?\",\n",
    "        \"Answer\": \"The main pathological feature of Parkinson's disease is the progressive destruction of dopamine-producing cells in the substantia nigra region of the brain stem.\",\n",
    "        \"Reason\": \"This specific detail about the pathological feature is highlighted in the context and is not general knowledge.\"\n",
    "    },\n",
    "    {\n",
    "        \"Question\": \"How does the document describe the role of neuromelanin in Parkinson's disease?\",\n",
    "        \"Answer\": \"The document suggests that neuromelanin may serve as an indication of catecholamine synthesis in neuronal systems containing dopamine or norepinephrine and may influence neuronal metabolism due to the heavy metals it contains.\",\n",
    "        \"Reason\": \"This insight into neuromelanin's role and its potential impact on neuronal metabolism is unique to the context provided.\"\n",
    "    },\n",
    "    {\n",
    "        \"Question\": \"What evidence does the document provide to support the hypothesis that oxidative stress is involved in Parkinson's disease?\",\n",
    "        \"Answer\": \"The document provides evidence such as increased membrane peroxidation in the substantia nigra, elevated TBA-reactive substance levels, increased 8-hydroxy-2′deoxyguanosine levels, and low phospholipid turnover in the substantia nigra.\",\n",
    "        \"Reason\": \"These specific pieces of evidence are detailed in the context and are not commonly known facts.\"\n",
    "    },\n",
    "    {\n",
    "        \"Question\": \"What are the potential sources of increased oxidative stress in Parkinson's disease according to the document?\",\n",
    "        \"Answer\": \"Potential sources include dopamine metabolism, mitochondrial dysfunction, increased free iron levels, accumulation of AGEs, reduced activity of free radical defense systems, and the deleterious role of glial cells.\",\n",
    "        \"Reason\": \"The document lists these specific sources, providing a comprehensive view that is unique to the context.\"\n",
    "    },\n",
    "    {\n",
    "        \"Question\": \"How does the document describe the involvement of mitochondrial dysfunction in Parkinson's disease?\",\n",
    "        \"Answer\": \"The document describes mitochondrial dysfunction as involving abnormalities of the respiratory chain, particularly a 30-40% decrease in complex I activity in the substantia nigra, which leads to reductions in ATP production and elevated ROS generation.\",\n",
    "        \"Reason\": \"This detailed description of mitochondrial dysfunction and its specific impact on Parkinson's disease is unique to the context provided.\"\n",
    "    }\n",
    "]\n",
    "\"\"\"\n",
    "\n",
    "for k in extract_json_str(text):\n",
    "    print(k)\n",
    "# print(extract_json_str(text))"
   ]
  },
  {
   "cell_type": "markdown",
   "metadata": {},
   "source": [
    "### Custom IO nodes"
   ]
  },
  {
   "cell_type": "code",
   "execution_count": null,
   "metadata": {},
   "outputs": [],
   "source": [
    "from llama_index.core.storage.docstore import SimpleDocumentStore\n",
    "docstore = SimpleDocumentStore.from_persist_path(persist_path=\"/home/zhengzheng/scratch0/projects/Fine-Tuned-GPT-2-with-articles-ground-truth/code/llamaIndex/.cache/test_2_parser_CustomHierarchicalNodeParser-ollama_vicuna_13b.json\")\n",
    "nodes = [node for _, node in docstore.docs.items()]"
   ]
  },
  {
   "cell_type": "code",
   "execution_count": null,
   "metadata": {},
   "outputs": [],
   "source": [
    "from llama_index.core.schema import TextNode\n",
    "TextNode.from_dict(nodes[0].to_dict())"
   ]
  },
  {
   "cell_type": "code",
   "execution_count": null,
   "metadata": {},
   "outputs": [],
   "source": [
    "len(nodes)"
   ]
  },
  {
   "cell_type": "code",
   "execution_count": null,
   "metadata": {},
   "outputs": [],
   "source": [
    "nodes[0].get_content()"
   ]
  },
  {
   "cell_type": "code",
   "execution_count": null,
   "metadata": {},
   "outputs": [],
   "source": [
    "import os, sys\n",
    "root_dir = os.path.abspath(os.path.join(os.path.dirname(os.getcwd()), '..'))\n",
    "sys.path.insert(0, root_dir)"
   ]
  },
  {
   "cell_type": "code",
   "execution_count": null,
   "metadata": {},
   "outputs": [],
   "source": [
    "import os\n",
    "import json\n",
    "from typing import List\n",
    "from tqdm import tqdm\n",
    "from llama_index.core.schema import BaseNode, TextNode\n",
    "\n",
    "def save_nodes_jsonl(file_path: str, nodes: List[BaseNode]):\n",
    "    try:\n",
    "        with open(file_path, 'w') as file:\n",
    "            for node in tqdm(nodes, desc='Saving nodes...'):\n",
    "                json.dump(node.to_dict(), file)\n",
    "                file.write('\\n')\n",
    "    except Exception as e:\n",
    "        print(f\"An error occurred while saving nodes: {e}\")\n",
    "\n",
    "def load_nodes_jsonl(file_path: str) -> List[TextNode]:\n",
    "    nodes = []\n",
    "    \n",
    "    try:\n",
    "        # Get the total file size\n",
    "        file_size = os.path.getsize(file_path)\n",
    "        \n",
    "        # Read the file and track progress based on bytes read\n",
    "        with open(file_path, 'r') as file:\n",
    "            with tqdm(total=file_size, desc='Loading nodes...', unit='B', unit_scale=True, unit_divisor=1024) as pbar:\n",
    "                for line in file:\n",
    "                    node_data = json.loads(line)\n",
    "                    nodes.append(TextNode.from_dict(node_data))\n",
    "                    # Update progress bar based on bytes read\n",
    "                    pbar.update(len(line))\n",
    "    except Exception as e:\n",
    "        print(f\"An error occurred while loading nodes: {e}\")\n",
    "    \n",
    "    return nodes\n"
   ]
  },
  {
   "cell_type": "code",
   "execution_count": null,
   "metadata": {},
   "outputs": [],
   "source": [
    "file_path = '/home/zhengzheng/scratch0/projects/Fine-Tuned-GPT-2-with-articles-ground-truth/code/llamaIndex/.cache/test.jsonl'\n",
    "save_nodes_jsonl(file_path, nodes)"
   ]
  },
  {
   "cell_type": "code",
   "execution_count": null,
   "metadata": {},
   "outputs": [],
   "source": [
    "nodes = load_nodes_jsonl(file_path)\n",
    "print(len(nodes))"
   ]
  },
  {
   "cell_type": "markdown",
   "metadata": {},
   "source": [
    "### get pocessing node id"
   ]
  },
  {
   "cell_type": "code",
   "execution_count": null,
   "metadata": {},
   "outputs": [],
   "source": [
    "import os\n",
    "file_path = '/home/zhengzheng/scratch0/projects/Fine-Tuned-GPT-2-with-articles-ground-truth/code/llamaIndex/.cache/pid-20.jsonl'\n",
    "nodes = load_nodes_jsonl(file_path)"
   ]
  },
  {
   "cell_type": "code",
   "execution_count": null,
   "metadata": {},
   "outputs": [],
   "source": [
    "_cache_process_path = '/home/zhengzheng/scratch0/projects/Fine-Tuned-GPT-2-with-articles-ground-truth/code/llamaIndex/.cache/pid-20.jsonl'\n",
    "latest_level = -1\n",
    "_level2nodes = {}\n",
    "level2int = {level: i for i, level in enumerate([\"document\", \"section\", \"paragraph\", \"multi-sentences\"])}"
   ]
  },
  {
   "cell_type": "code",
   "execution_count": null,
   "metadata": {},
   "outputs": [],
   "source": [
    "cache_file = open(_cache_process_path, 'r')"
   ]
  },
  {
   "cell_type": "code",
   "execution_count": null,
   "metadata": {},
   "outputs": [],
   "source": [
    "if os.path.exists(_cache_process_path):\n",
    "    file_size = os.path.getsize(_cache_process_path)\n",
    "    i = 1\n",
    "    with open(_cache_process_path, 'r') as cache_file:\n",
    "        with tqdm(total=file_size, desc='Loading cache...', unit='B', unit_scale=True, unit_divisor=1024) as pbar:\n",
    "            for line in cache_file:\n",
    "                try:\n",
    "                    node_dict = json.loads(line)\n",
    "                    node = TextNode.from_dict(node_dict)\n",
    "                    if level2int[node.metadata['level']] > latest_level:\n",
    "                        latest_level = level2int[node.metadata['level']]\n",
    "                        _level2nodes[latest_level] = []\n",
    "                    _level2nodes[level2int[node.metadata['level']]].append(node)\n",
    "                except Exception as e:\n",
    "                    print(e)\n",
    "                # Update progress bar based on bytes read\n",
    "                pbar.update(len(line))\n",
    "                i += 1"
   ]
  },
  {
   "cell_type": "code",
   "execution_count": null,
   "metadata": {},
   "outputs": [],
   "source": [
    "print(_level2nodes)"
   ]
  },
  {
   "cell_type": "code",
   "execution_count": null,
   "metadata": {},
   "outputs": [],
   "source": [
    "level = 0\n",
    "processed_prev_level_nodes_id = set()\n",
    "for node in _level2nodes[level]:\n",
    "    processed_prev_level_nodes_id.add(node.ref_doc_id)\n",
    "prev_level_nodes = []\n",
    "for node in nodes:\n",
    "    if node.id_ not in processed_prev_level_nodes_id:\n",
    "        prev_level_nodes.append(node)"
   ]
  },
  {
   "cell_type": "code",
   "execution_count": null,
   "metadata": {},
   "outputs": [],
   "source": [
    "print(len(processed_prev_level_nodes_id))"
   ]
  },
  {
   "cell_type": "code",
   "execution_count": null,
   "metadata": {},
   "outputs": [],
   "source": [
    "\n",
    "def _init_get_nodes_from_nodes(nodes):\n",
    "        latest_level = 0\n",
    "        prev_level_nodes = nodes\n",
    "        _cache_process_path = '/home/zhengzheng/scratch0/projects/Fine-Tuned-GPT-2-with-articles-ground-truth/code/llamaIndex/.cache/pid-0.jsonl'\n",
    "\n",
    "        if _cache_process_path is not None:\n",
    "            # init attributions\n",
    "            latest_level = -1\n",
    "            _level2nodes = {}\n",
    "            level2int = {level: i for i, level in enumerate([\"document\", \"section\", \"paragraph\", \"multi-sentences\"])}\n",
    "            \n",
    "            # loading nodes\n",
    "            if os.path.exists(_cache_process_path):\n",
    "                file_size = os.path.getsize(_cache_process_path)\n",
    "                with open(_cache_process_path, 'r') as cache_file:\n",
    "                    with tqdm(total=file_size, desc='Loading cache...', unit='B', unit_scale=True, unit_divisor=1024) as pbar:\n",
    "                        for line in cache_file:\n",
    "                            try:\n",
    "                                node_dict = json.loads(line)\n",
    "                                node = TextNode.from_dict(node_dict)\n",
    "                                if level2int[node.metadata['level']] > latest_level:\n",
    "                                    latest_level = level2int[node.metadata['level']]\n",
    "                                    _level2nodes[latest_level] = []\n",
    "                                    _level2nodes[latest_level].append(node)\n",
    "                            except Exception as e:\n",
    "                                print(e)\n",
    "                            # Update progress bar based on bytes read\n",
    "                            pbar.update(len(line))\n",
    "            _cache_process_file = open(_cache_process_path, 'a+')\n",
    "\n",
    "            latest_level = max(latest_level, 0)\n",
    "\n",
    "            # get prev_level_nodes\n",
    "            if latest_level == 1:\n",
    "                latest_level = 0\n",
    "                processed_prev_level_nodes_id = set()\n",
    "                for node in _level2nodes[latest_level]:\n",
    "                    processed_prev_level_nodes_id.add(node.ref_doc_id)\n",
    "                prev_level_nodes = []\n",
    "                for node in nodes:\n",
    "                    if node.id_ not in processed_prev_level_nodes_id:\n",
    "                        prev_level_nodes.append(node)\n",
    "                \n",
    "            if latest_level > 1:\n",
    "                processed_prev_level_nodes_id = set()\n",
    "                for node in _level2nodes[latest_level]:\n",
    "                    parent_node_id = node.relationships[NodeRelationship.PARENT].node_id\n",
    "                    processed_prev_level_nodes_id.add(parent_node_id)\n",
    "                prev_level_nodes = []\n",
    "                for node in _level2nodes[latest_level-1]:\n",
    "                    if node.id_ not in processed_prev_level_nodes_id:\n",
    "                        prev_level_nodes.append(node)\n",
    "\n",
    "        return latest_level, prev_level_nodes"
   ]
  },
  {
   "cell_type": "code",
   "execution_count": null,
   "metadata": {},
   "outputs": [],
   "source": [
    "from llama_index.core.schema import BaseNode, Document, NodeRelationship\n",
    "\n",
    "print(nodes[-1].relationships[NodeRelationship.PARENT])"
   ]
  },
  {
   "cell_type": "code",
   "execution_count": null,
   "metadata": {},
   "outputs": [],
   "source": []
  },
  {
   "cell_type": "code",
   "execution_count": null,
   "metadata": {},
   "outputs": [],
   "source": [
    "len(processed_section_nodes_id)"
   ]
  },
  {
   "cell_type": "code",
   "execution_count": null,
   "metadata": {},
   "outputs": [],
   "source": [
    "node_dict.keys()"
   ]
  },
  {
   "cell_type": "code",
   "execution_count": null,
   "metadata": {},
   "outputs": [],
   "source": [
    "len(node_dict['paragraph'])"
   ]
  },
  {
   "cell_type": "code",
   "execution_count": null,
   "metadata": {},
   "outputs": [],
   "source": [
    "len(node_dict['section'])"
   ]
  },
  {
   "cell_type": "markdown",
   "metadata": {},
   "source": [
    "### Visualize node parser results"
   ]
  },
  {
   "cell_type": "code",
   "execution_count": 1,
   "metadata": {},
   "outputs": [],
   "source": [
    "import os, sys\n",
    "root_dir = os.path.abspath(os.path.join(os.path.dirname(os.getcwd()), '..'))\n",
    "sys.path.insert(0, root_dir)\n",
    "import os\n",
    "import json\n",
    "from typing import List\n",
    "from tqdm import tqdm\n",
    "from llama_index.core.schema import BaseNode, TextNode\n",
    "\n",
    "def save_nodes_jsonl(file_path: str, nodes: List[BaseNode]):\n",
    "    try:\n",
    "        with open(file_path, 'w') as file:\n",
    "            for node in tqdm(nodes, desc='Saving nodes...'):\n",
    "                json.dump(node.to_dict(), file)\n",
    "                file.write('\\n')\n",
    "    except Exception as e:\n",
    "        print(f\"An error occurred while saving nodes: {e}\")\n",
    "\n",
    "def load_nodes_jsonl(file_path: str) -> List[TextNode]:\n",
    "    nodes = []\n",
    "    \n",
    "    try:\n",
    "        # Get the total file size\n",
    "        file_size = os.path.getsize(file_path)\n",
    "        \n",
    "        # Read the file and track progress based on bytes read\n",
    "        with open(file_path, 'r') as file:\n",
    "            with tqdm(total=file_size, desc='Loading nodes...', unit='B', unit_scale=True, unit_divisor=1024) as pbar:\n",
    "                for line in file:\n",
    "                    node_data = json.loads(line)\n",
    "                    nodes.append(TextNode.from_dict(node_data))\n",
    "                    # Update progress bar based on bytes read\n",
    "                    pbar.update(len(line))\n",
    "    except Exception as e:\n",
    "        print(f\"An error occurred while loading nodes: {e}\")\n",
    "    \n",
    "    return nodes"
   ]
  },
  {
   "cell_type": "code",
   "execution_count": 4,
   "metadata": {},
   "outputs": [
    {
     "name": "stderr",
     "output_type": "stream",
     "text": [
      "Loading nodes...: 100%|█████████▉| 219M/219M [00:01<00:00, 127MB/s]  \n"
     ]
    }
   ],
   "source": [
    "file_path = r'D:\\Projects(D)\\Fine-Tuned-GPT-2-with-articles-ground-truth\\code\\llamaIndex\\.cache\\target_nodes.jsonl'\n",
    "# file_path = 'D:\\Projects(D)\\Fine-Tuned-GPT-2-with-articles-ground-truth\\code\\llamaIndex\\.cache\\gpt-4o-batch-all-p_2_parser_ManuallyHierarchicalNodeParser_8165_processing.jsonl'\n",
    "nodes = load_nodes_jsonl(file_path)"
   ]
  },
  {
   "cell_type": "code",
   "execution_count": 5,
   "metadata": {},
   "outputs": [],
   "source": [
    "import pandas as pd\n",
    "import numpy as np\n",
    "section_titles = []\n",
    "ids = []\n",
    "levels = []\n",
    "texts = []\n",
    "text_lens = []\n",
    "parent_ids = []\n",
    "id2nodes = {}\n",
    "parent_id_counts = {}\n",
    "parent_id_sum_len = {}\n",
    "for node in nodes:\n",
    "    id2nodes[node.id_] = node\n",
    "    ids.append(node.id_)\n",
    "    level = node.metadata['level']\n",
    "    parent_id = node.ref_doc_id\n",
    "    text = node.get_content()\n",
    "\n",
    "    levels.append(level)\n",
    "    parent_ids.append(parent_id)\n",
    "    texts.append(text)\n",
    "    text_lens.append(len(text))\n",
    "    if node.metadata['level'] == 'section':\n",
    "        section_titles.append(node.metadata['section_title'].lower())\n",
    "    else:\n",
    "        section_titles.append(None)\n",
    "\n",
    "    if parent_id not in parent_id_counts:\n",
    "        parent_id_counts[parent_id] = 0\n",
    "    parent_id_counts[parent_id] += 1\n",
    "\n",
    "    if parent_id not in parent_id_sum_len:\n",
    "        parent_id_sum_len[parent_id] = 0\n",
    "    if level in ['paragraph', 'multi-sentences']:\n",
    "        parent_id_sum_len[parent_id] += len(text)\n",
    "    else:\n",
    "        parent_id_sum_len[parent_id] += len(node.metadata['original_content'])\n",
    "df = pd.DataFrame({\n",
    "    'id': ids,\n",
    "    'level': levels,\n",
    "    'text': texts,\n",
    "    'text_len': text_lens,\n",
    "    'parent_id': parent_ids,\n",
    "    'section_titles': section_titles\n",
    "})\n",
    "df['parent_id_num'] = df['parent_id'].map(parent_id_counts)\n",
    "\n",
    "df['diff_text_len_sum_children_len'] = np.nan\n",
    "for idx, row in df.iterrows():\n",
    "    if row['id'] in parent_id_sum_len:\n",
    "        node = id2nodes[row['id']]\n",
    "        if node.metadata['level'] in ['document', 'section']:\n",
    "            df.at[idx, 'diff_text_len_sum_children_len'] = len(node.metadata['original_content']) - parent_id_sum_len[row['id']]\n",
    "        elif node.metadata['level'] == ['paragraph']:\n",
    "            df.at[idx, 'diff_text_len_sum_children_len'] = len(node.text) - parent_id_sum_len[row['id']]"
   ]
  },
  {
   "cell_type": "code",
   "execution_count": 6,
   "metadata": {},
   "outputs": [
    {
     "data": {
      "text/html": [
       "<div>\n",
       "<style scoped>\n",
       "    .dataframe tbody tr th:only-of-type {\n",
       "        vertical-align: middle;\n",
       "    }\n",
       "\n",
       "    .dataframe tbody tr th {\n",
       "        vertical-align: top;\n",
       "    }\n",
       "\n",
       "    .dataframe thead th {\n",
       "        text-align: right;\n",
       "    }\n",
       "</style>\n",
       "<table border=\"1\" class=\"dataframe\">\n",
       "  <thead>\n",
       "    <tr style=\"text-align: right;\">\n",
       "      <th></th>\n",
       "      <th>id</th>\n",
       "      <th>level</th>\n",
       "      <th>text</th>\n",
       "      <th>text_len</th>\n",
       "      <th>parent_id</th>\n",
       "      <th>section_titles</th>\n",
       "      <th>parent_id_num</th>\n",
       "      <th>diff_text_len_sum_children_len</th>\n",
       "    </tr>\n",
       "  </thead>\n",
       "  <tbody>\n",
       "    <tr>\n",
       "      <th>0</th>\n",
       "      <td>a2013402-28e1-4fc7-ae48-3fc81a3fa92a</td>\n",
       "      <td>document</td>\n",
       "      <td>Advanced mass spectrometry strategies enable d...</td>\n",
       "      <td>337</td>\n",
       "      <td>343a0785-cacd-4c76-9414-bb4ebe9412ce</td>\n",
       "      <td>None</td>\n",
       "      <td>1</td>\n",
       "      <td>643.0</td>\n",
       "    </tr>\n",
       "    <tr>\n",
       "      <th>1</th>\n",
       "      <td>1afa3420-36ca-44e3-9c70-96779dce6c91</td>\n",
       "      <td>document</td>\n",
       "      <td>The article highlights the significance of opt...</td>\n",
       "      <td>441</td>\n",
       "      <td>1bd51770-43d3-4ae0-be19-0856ad270790</td>\n",
       "      <td>None</td>\n",
       "      <td>1</td>\n",
       "      <td>29560.0</td>\n",
       "    </tr>\n",
       "    <tr>\n",
       "      <th>2</th>\n",
       "      <td>37e78ddb-6196-49c4-b786-ddec2ff70c7e</td>\n",
       "      <td>document</td>\n",
       "      <td>The research investigated how Low Molecular We...</td>\n",
       "      <td>192</td>\n",
       "      <td>06894aff-0bdc-40b5-b0d7-a4c69298ecf8</td>\n",
       "      <td>None</td>\n",
       "      <td>1</td>\n",
       "      <td>6327.0</td>\n",
       "    </tr>\n",
       "    <tr>\n",
       "      <th>3</th>\n",
       "      <td>56eabac7-8098-4427-8836-ac323e92d31b</td>\n",
       "      <td>document</td>\n",
       "      <td>Researchers examined the N-glycans of cell-wal...</td>\n",
       "      <td>439</td>\n",
       "      <td>f2efe430-66d8-4061-b48c-1e73a9c3a52d</td>\n",
       "      <td>None</td>\n",
       "      <td>1</td>\n",
       "      <td>14287.0</td>\n",
       "    </tr>\n",
       "    <tr>\n",
       "      <th>4</th>\n",
       "      <td>1422854f-c275-4872-a4df-1d2eb73691e3</td>\n",
       "      <td>document</td>\n",
       "      <td>This research explores the impact of gonadotro...</td>\n",
       "      <td>401</td>\n",
       "      <td>237627e5-fcc7-4ead-beab-6540a4868206</td>\n",
       "      <td>None</td>\n",
       "      <td>1</td>\n",
       "      <td>2057.0</td>\n",
       "    </tr>\n",
       "    <tr>\n",
       "      <th>...</th>\n",
       "      <td>...</td>\n",
       "      <td>...</td>\n",
       "      <td>...</td>\n",
       "      <td>...</td>\n",
       "      <td>...</td>\n",
       "      <td>...</td>\n",
       "      <td>...</td>\n",
       "      <td>...</td>\n",
       "    </tr>\n",
       "    <tr>\n",
       "      <th>3495</th>\n",
       "      <td>4b89f337-24cb-4e93-860c-f9ab8e008f9f</td>\n",
       "      <td>multi-sentences</td>\n",
       "      <td>We regret that Faye and colleagues' efforts to...</td>\n",
       "      <td>477</td>\n",
       "      <td>3b287541-36aa-429e-9169-ba4609aa0258</td>\n",
       "      <td>None</td>\n",
       "      <td>2</td>\n",
       "      <td>NaN</td>\n",
       "    </tr>\n",
       "    <tr>\n",
       "      <th>3496</th>\n",
       "      <td>0fb2ebad-7c51-4a28-b15b-963a0fe333f0</td>\n",
       "      <td>multi-sentences</td>\n",
       "      <td>The ability to sialylate proteins is a critica...</td>\n",
       "      <td>300</td>\n",
       "      <td>5cae0157-e4de-4b65-a9a4-db21a095077d</td>\n",
       "      <td>None</td>\n",
       "      <td>1</td>\n",
       "      <td>NaN</td>\n",
       "    </tr>\n",
       "    <tr>\n",
       "      <th>3497</th>\n",
       "      <td>4e8e9c31-9b81-4b36-8f50-cb64b2f3965e</td>\n",
       "      <td>multi-sentences</td>\n",
       "      <td>We concur with the authors that DMBlabeled Neu...</td>\n",
       "      <td>459</td>\n",
       "      <td>67f3ad75-3709-40d6-9eee-5bded7bb67ef</td>\n",
       "      <td>None</td>\n",
       "      <td>1</td>\n",
       "      <td>NaN</td>\n",
       "    </tr>\n",
       "    <tr>\n",
       "      <th>3498</th>\n",
       "      <td>d108e671-f55a-411d-a31a-aa81340ca007</td>\n",
       "      <td>multi-sentences</td>\n",
       "      <td>4-galactosyltransferase and producing 30% of t...</td>\n",
       "      <td>127</td>\n",
       "      <td>3b287541-36aa-429e-9169-ba4609aa0258</td>\n",
       "      <td>None</td>\n",
       "      <td>2</td>\n",
       "      <td>NaN</td>\n",
       "    </tr>\n",
       "    <tr>\n",
       "      <th>3499</th>\n",
       "      <td>7d452790-bb06-4c38-94ad-36ccd85626a8</td>\n",
       "      <td>multi-sentences</td>\n",
       "      <td>Further evidence is emerging from ongoing work...</td>\n",
       "      <td>437</td>\n",
       "      <td>fa752ab8-7a1a-4073-a73b-6b36108fa4f9</td>\n",
       "      <td>None</td>\n",
       "      <td>1</td>\n",
       "      <td>NaN</td>\n",
       "    </tr>\n",
       "  </tbody>\n",
       "</table>\n",
       "<p>3500 rows × 8 columns</p>\n",
       "</div>"
      ],
      "text/plain": [
       "                                        id            level  \\\n",
       "0     a2013402-28e1-4fc7-ae48-3fc81a3fa92a         document   \n",
       "1     1afa3420-36ca-44e3-9c70-96779dce6c91         document   \n",
       "2     37e78ddb-6196-49c4-b786-ddec2ff70c7e         document   \n",
       "3     56eabac7-8098-4427-8836-ac323e92d31b         document   \n",
       "4     1422854f-c275-4872-a4df-1d2eb73691e3         document   \n",
       "...                                    ...              ...   \n",
       "3495  4b89f337-24cb-4e93-860c-f9ab8e008f9f  multi-sentences   \n",
       "3496  0fb2ebad-7c51-4a28-b15b-963a0fe333f0  multi-sentences   \n",
       "3497  4e8e9c31-9b81-4b36-8f50-cb64b2f3965e  multi-sentences   \n",
       "3498  d108e671-f55a-411d-a31a-aa81340ca007  multi-sentences   \n",
       "3499  7d452790-bb06-4c38-94ad-36ccd85626a8  multi-sentences   \n",
       "\n",
       "                                                   text  text_len  \\\n",
       "0     Advanced mass spectrometry strategies enable d...       337   \n",
       "1     The article highlights the significance of opt...       441   \n",
       "2     The research investigated how Low Molecular We...       192   \n",
       "3     Researchers examined the N-glycans of cell-wal...       439   \n",
       "4     This research explores the impact of gonadotro...       401   \n",
       "...                                                 ...       ...   \n",
       "3495  We regret that Faye and colleagues' efforts to...       477   \n",
       "3496  The ability to sialylate proteins is a critica...       300   \n",
       "3497  We concur with the authors that DMBlabeled Neu...       459   \n",
       "3498  4-galactosyltransferase and producing 30% of t...       127   \n",
       "3499  Further evidence is emerging from ongoing work...       437   \n",
       "\n",
       "                                 parent_id section_titles  parent_id_num  \\\n",
       "0     343a0785-cacd-4c76-9414-bb4ebe9412ce           None              1   \n",
       "1     1bd51770-43d3-4ae0-be19-0856ad270790           None              1   \n",
       "2     06894aff-0bdc-40b5-b0d7-a4c69298ecf8           None              1   \n",
       "3     f2efe430-66d8-4061-b48c-1e73a9c3a52d           None              1   \n",
       "4     237627e5-fcc7-4ead-beab-6540a4868206           None              1   \n",
       "...                                    ...            ...            ...   \n",
       "3495  3b287541-36aa-429e-9169-ba4609aa0258           None              2   \n",
       "3496  5cae0157-e4de-4b65-a9a4-db21a095077d           None              1   \n",
       "3497  67f3ad75-3709-40d6-9eee-5bded7bb67ef           None              1   \n",
       "3498  3b287541-36aa-429e-9169-ba4609aa0258           None              2   \n",
       "3499  fa752ab8-7a1a-4073-a73b-6b36108fa4f9           None              1   \n",
       "\n",
       "      diff_text_len_sum_children_len  \n",
       "0                              643.0  \n",
       "1                            29560.0  \n",
       "2                             6327.0  \n",
       "3                            14287.0  \n",
       "4                             2057.0  \n",
       "...                              ...  \n",
       "3495                             NaN  \n",
       "3496                             NaN  \n",
       "3497                             NaN  \n",
       "3498                             NaN  \n",
       "3499                             NaN  \n",
       "\n",
       "[3500 rows x 8 columns]"
      ]
     },
     "execution_count": 6,
     "metadata": {},
     "output_type": "execute_result"
    }
   ],
   "source": [
    "df"
   ]
  },
  {
   "cell_type": "code",
   "execution_count": null,
   "metadata": {},
   "outputs": [],
   "source": [
    "df_filtered = df[~df['diff_text_len_sum_children_len'].isna()]\n",
    "\n",
    "# Further filter rows where the absolute value of 'diff_text_len_sum_children_len' is greater than 800\n",
    "df_large_diff = df_filtered[abs(df_filtered['diff_text_len_sum_children_len']) > 800]\n",
    "df_large_diff"
   ]
  },
  {
   "cell_type": "code",
   "execution_count": null,
   "metadata": {},
   "outputs": [],
   "source": [
    "df[df['level'] == 'section']['section_titles'].value_counts()[:10]"
   ]
  },
  {
   "cell_type": "code",
   "execution_count": null,
   "metadata": {},
   "outputs": [],
   "source": [
    "import matplotlib.pyplot as plt\n",
    "\n",
    "# df_filtered = df[~df['diff_text_len_sum_children_len'].isna()]\n",
    "# plt.hist(df_filtered['diff_text_len_sum_children_len'], bins=10, edgecolor='black')\n",
    "# 绘制直方图\n",
    "# plt.hist(df[df['level'] == 'paragraph']['parent_id_num'], bins=10, edgecolor='black')\n",
    "\n",
    "plt.hist(df, bins=10, edgecolor='black')\n",
    "\n",
    "\n",
    "# 添加标题和标签\n",
    "plt.title('Histogram using Matplotlib')\n",
    "plt.xlabel('Value')\n",
    "plt.ylabel('Frequency')\n",
    "\n",
    "# 显示图形\n",
    "plt.show()"
   ]
  },
  {
   "cell_type": "code",
   "execution_count": 7,
   "metadata": {},
   "outputs": [
    {
     "data": {
      "image/png": "[encoded data removed]",
      "text/plain": [
       "<Figure size 640x480 with 1 Axes>"
      ]
     },
     "metadata": {},
     "output_type": "display_data"
    }
   ],
   "source": [
    "import seaborn as sns\n",
    "import matplotlib.pyplot as plt\n",
    "\n",
    "# Create a violin plot\n",
    "sns.violinplot(x='level', y='text_len', data=df[df['text_len'] < 800])\n",
    "\n",
    "# Add titles and labels\n",
    "plt.title('Violin Plot of parser nodes')\n",
    "plt.xlabel('level')\n",
    "plt.ylabel('text len')\n",
    "\n",
    "# Show the plot\n",
    "plt.show()"
   ]
  },
  {
   "cell_type": "code",
   "execution_count": 8,
   "metadata": {},
   "outputs": [
    {
     "data": {
      "text/plain": [
       "level\n",
       "section            1264\n",
       "paragraph          1059\n",
       "multi-sentences     977\n",
       "document            200\n",
       "Name: count, dtype: int64"
      ]
     },
     "execution_count": 8,
     "metadata": {},
     "output_type": "execute_result"
    }
   ],
   "source": [
    "df['level'].value_counts()"
   ]
  },
  {
   "cell_type": "markdown",
   "metadata": {},
   "source": [
    "### Model for sentence classification"
   ]
  },
  {
   "cell_type": "code",
   "execution_count": null,
   "metadata": {},
   "outputs": [],
   "source": [
    "import os\n",
    "from dotenv import load_dotenv\n",
    "load_dotenv(dotenv_path='D:\\Projects(D)\\Fine-Tuned-GPT-2-with-articles-ground-truth\\code\\llamaIndex\\.env')\n",
    "from transformers import AutoModelForSequenceClassification, AutoTokenizer\n",
    "\n",
    "# load from local\n",
    "token = os.getenv('GLYCO_TOKEN')\n",
    "sentence_model = AutoModelForSequenceClassification.from_pretrained(\"MomochiKyaru/glyco-paper-sentence\",token=token)\n",
    "paragraph_model = AutoModelForSequenceClassification.from_pretrained(\"MomochiKyaru/glyco-paper-paragraph\", token=token)\n",
    "tokenizer =AutoTokenizer.from_pretrained('MomochiKyaru/glyco-paper-sentence',token=token)"
   ]
  },
  {
   "cell_type": "code",
   "execution_count": null,
   "metadata": {},
   "outputs": [],
   "source": [
    "def get_sentence_prediction(text):\n",
    "    tokenized_input = tokenizer(text,truncation=True, padding=True, return_tensors='pt')\n",
    "    logits = sentence_model(**tokenized_input).logits\n",
    "    probabilities = logits.softmax(dim=1)\n",
    "    return probabilities.detach().numpy()"
   ]
  },
  {
   "cell_type": "code",
   "execution_count": null,
   "metadata": {},
   "outputs": [],
   "source": [
    "print(df.iloc[0]['abstract'])\n",
    "print(get_sentence_prediction(df.iloc[0]['abstract']))"
   ]
  },
  {
   "cell_type": "code",
   "execution_count": null,
   "metadata": {},
   "outputs": [],
   "source": []
  },
  {
   "cell_type": "markdown",
   "metadata": {},
   "source": [
    "### Evaluate"
   ]
  },
  {
   "cell_type": "code",
   "execution_count": 1,
   "metadata": {},
   "outputs": [
    {
     "ename": "ModuleNotFoundError",
     "evalue": "No module named 'datasets'",
     "output_type": "error",
     "traceback": [
      "\u001b[1;31m---------------------------------------------------------------------------\u001b[0m",
      "\u001b[1;31mModuleNotFoundError\u001b[0m                       Traceback (most recent call last)",
      "Cell \u001b[1;32mIn[1], line 1\u001b[0m\n\u001b[1;32m----> 1\u001b[0m \u001b[38;5;28;01mfrom\u001b[39;00m \u001b[38;5;21;01mdatasets\u001b[39;00m \u001b[38;5;28;01mimport\u001b[39;00m load_dataset\n\u001b[0;32m      3\u001b[0m \u001b[38;5;66;03m# loading the V2 dataset\u001b[39;00m\n\u001b[0;32m      4\u001b[0m amnesty_qa \u001b[38;5;241m=\u001b[39m load_dataset(\u001b[38;5;124m\"\u001b[39m\u001b[38;5;124mexplodinggradients/amnesty_qa\u001b[39m\u001b[38;5;124m\"\u001b[39m, \u001b[38;5;124m\"\u001b[39m\u001b[38;5;124menglish_v2\u001b[39m\u001b[38;5;124m\"\u001b[39m)\n",
      "\u001b[1;31mModuleNotFoundError\u001b[0m: No module named 'datasets'"
     ]
    }
   ],
   "source": [
    "from datasets import load_dataset\n",
    "\n",
    "# loading the V2 dataset\n",
    "amnesty_qa = load_dataset(\"explodinggradients/amnesty_qa\", \"english_v2\")\n",
    "amnesty_qa"
   ]
  },
  {
   "cell_type": "code",
   "execution_count": 3,
   "metadata": {},
   "outputs": [
    {
     "name": "stderr",
     "output_type": "stream",
     "text": [
      "Repo card metadata block was not found. Setting CardData to empty.\n",
      "Downloading data: 100%|██████████| 70.8k/70.8k [00:00<00:00, 1.06MB/s]\n",
      "Generating eval split: 20 examples [00:00, 1666.59 examples/s]\n"
     ]
    },
    {
     "data": {
      "text/plain": [
       "DatasetDict({\n",
       "    eval: Dataset({\n",
       "        features: ['question', 'ground_truth', 'answer', 'contexts'],\n",
       "        num_rows: 20\n",
       "    })\n",
       "})"
      ]
     },
     "execution_count": 3,
     "metadata": {},
     "output_type": "execute_result"
    }
   ],
   "source": [
    "from datasets import load_dataset\n",
    "\n",
    "# loading the V2 dataset\n",
    "amnesty_qa = load_dataset(\"explodinggradients/amnesty_qa\", \"english_v2\", trust_remote_code=True)\n",
    "amnesty_qa"
   ]
  },
  {
   "cell_type": "code",
   "execution_count": 7,
   "metadata": {},
   "outputs": [
    {
     "ename": "ValidationError",
     "evalue": "1 validation error for ChatOpenAI\n__root__\n  Did not find openai_api_key, please add an environment variable `OPENAI_API_KEY` which contains it, or pass `openai_api_key` as a named parameter. (type=value_error)",
     "output_type": "error",
     "traceback": [
      "\u001b[1;31m---------------------------------------------------------------------------\u001b[0m",
      "\u001b[1;31mValidationError\u001b[0m                           Traceback (most recent call last)",
      "Cell \u001b[1;32mIn[7], line 9\u001b[0m\n\u001b[0;32m      1\u001b[0m \u001b[38;5;28;01mfrom\u001b[39;00m \u001b[38;5;21;01mragas\u001b[39;00m\u001b[38;5;21;01m.\u001b[39;00m\u001b[38;5;21;01mmetrics\u001b[39;00m \u001b[38;5;28;01mimport\u001b[39;00m (\n\u001b[0;32m      2\u001b[0m     answer_relevancy,\n\u001b[0;32m      3\u001b[0m     faithfulness,\n\u001b[0;32m      4\u001b[0m     context_recall,\n\u001b[0;32m      5\u001b[0m     context_precision,\n\u001b[0;32m      6\u001b[0m )\n\u001b[0;32m      7\u001b[0m \u001b[38;5;28;01mfrom\u001b[39;00m \u001b[38;5;21;01mragas\u001b[39;00m \u001b[38;5;28;01mimport\u001b[39;00m evaluate\n\u001b[1;32m----> 9\u001b[0m result \u001b[38;5;241m=\u001b[39m \u001b[43mevaluate\u001b[49m\u001b[43m(\u001b[49m\n\u001b[0;32m     10\u001b[0m \u001b[43m    \u001b[49m\u001b[43mamnesty_qa\u001b[49m\u001b[43m[\u001b[49m\u001b[38;5;124;43m\"\u001b[39;49m\u001b[38;5;124;43meval\u001b[39;49m\u001b[38;5;124;43m\"\u001b[39;49m\u001b[43m]\u001b[49m\u001b[43m,\u001b[49m\n\u001b[0;32m     11\u001b[0m \u001b[43m    \u001b[49m\u001b[43mmetrics\u001b[49m\u001b[38;5;241;43m=\u001b[39;49m\u001b[43m[\u001b[49m\n\u001b[0;32m     12\u001b[0m \u001b[43m        \u001b[49m\u001b[38;5;66;43;03m# context_precision,\u001b[39;49;00m\n\u001b[0;32m     13\u001b[0m \u001b[43m        \u001b[49m\u001b[43mfaithfulness\u001b[49m\u001b[43m,\u001b[49m\n\u001b[0;32m     14\u001b[0m \u001b[43m        \u001b[49m\u001b[38;5;66;43;03m# answer_relevancy,\u001b[39;49;00m\n\u001b[0;32m     15\u001b[0m \u001b[43m        \u001b[49m\u001b[38;5;66;43;03m# context_recall,\u001b[39;49;00m\n\u001b[0;32m     16\u001b[0m \u001b[43m    \u001b[49m\u001b[43m]\u001b[49m\u001b[43m,\u001b[49m\n\u001b[0;32m     17\u001b[0m \u001b[43m)\u001b[49m\n\u001b[0;32m     19\u001b[0m result\n",
      "File \u001b[1;32mc:\\Users\\Zheng\\miniconda3\\envs\\llm\\Lib\\site-packages\\ragas\\_analytics.py:129\u001b[0m, in \u001b[0;36mtrack_was_completed.<locals>.wrapper\u001b[1;34m(*args, **kwargs)\u001b[0m\n\u001b[0;32m    126\u001b[0m \u001b[38;5;129m@wraps\u001b[39m(func)\n\u001b[0;32m    127\u001b[0m \u001b[38;5;28;01mdef\u001b[39;00m \u001b[38;5;21mwrapper\u001b[39m(\u001b[38;5;241m*\u001b[39margs: P\u001b[38;5;241m.\u001b[39margs, \u001b[38;5;241m*\u001b[39m\u001b[38;5;241m*\u001b[39mkwargs: P\u001b[38;5;241m.\u001b[39mkwargs) \u001b[38;5;241m-\u001b[39m\u001b[38;5;241m>\u001b[39m t\u001b[38;5;241m.\u001b[39mAny:\n\u001b[0;32m    128\u001b[0m     track(IsCompleteEvent(event_type\u001b[38;5;241m=\u001b[39mfunc\u001b[38;5;241m.\u001b[39m\u001b[38;5;18m__name__\u001b[39m, is_completed\u001b[38;5;241m=\u001b[39m\u001b[38;5;28;01mFalse\u001b[39;00m))\n\u001b[1;32m--> 129\u001b[0m     result \u001b[38;5;241m=\u001b[39m \u001b[43mfunc\u001b[49m\u001b[43m(\u001b[49m\u001b[38;5;241;43m*\u001b[39;49m\u001b[43margs\u001b[49m\u001b[43m,\u001b[49m\u001b[43m \u001b[49m\u001b[38;5;241;43m*\u001b[39;49m\u001b[38;5;241;43m*\u001b[39;49m\u001b[43mkwargs\u001b[49m\u001b[43m)\u001b[49m\n\u001b[0;32m    130\u001b[0m     track(IsCompleteEvent(event_type\u001b[38;5;241m=\u001b[39mfunc\u001b[38;5;241m.\u001b[39m\u001b[38;5;18m__name__\u001b[39m, is_completed\u001b[38;5;241m=\u001b[39m\u001b[38;5;28;01mTrue\u001b[39;00m))\n\u001b[0;32m    132\u001b[0m     \u001b[38;5;28;01mreturn\u001b[39;00m result\n",
      "File \u001b[1;32mc:\\Users\\Zheng\\miniconda3\\envs\\llm\\Lib\\site-packages\\ragas\\evaluation.py:187\u001b[0m, in \u001b[0;36mevaluate\u001b[1;34m(dataset, metrics, llm, embeddings, callbacks, in_ci, run_config, token_usage_parser, raise_exceptions, column_map)\u001b[0m\n\u001b[0;32m    185\u001b[0m \u001b[38;5;28;01mif\u001b[39;00m \u001b[38;5;28misinstance\u001b[39m(metric, MetricWithLLM) \u001b[38;5;129;01mand\u001b[39;00m metric\u001b[38;5;241m.\u001b[39mllm \u001b[38;5;129;01mis\u001b[39;00m \u001b[38;5;28;01mNone\u001b[39;00m:\n\u001b[0;32m    186\u001b[0m     \u001b[38;5;28;01mif\u001b[39;00m llm \u001b[38;5;129;01mis\u001b[39;00m \u001b[38;5;28;01mNone\u001b[39;00m:\n\u001b[1;32m--> 187\u001b[0m         llm \u001b[38;5;241m=\u001b[39m \u001b[43mllm_factory\u001b[49m\u001b[43m(\u001b[49m\u001b[43m)\u001b[49m\n\u001b[0;32m    188\u001b[0m     metric\u001b[38;5;241m.\u001b[39mllm \u001b[38;5;241m=\u001b[39m llm\n\u001b[0;32m    189\u001b[0m     llm_changed\u001b[38;5;241m.\u001b[39mappend(i)\n",
      "File \u001b[1;32mc:\\Users\\Zheng\\miniconda3\\envs\\llm\\Lib\\site-packages\\ragas\\llms\\base.py:307\u001b[0m, in \u001b[0;36mllm_factory\u001b[1;34m(model, run_config, default_headers, base_url)\u001b[0m\n\u001b[0;32m    304\u001b[0m     default_headers \u001b[38;5;241m=\u001b[39m helicone_config\u001b[38;5;241m.\u001b[39mdefault_headers()\n\u001b[0;32m    305\u001b[0m     base_url \u001b[38;5;241m=\u001b[39m helicone_config\u001b[38;5;241m.\u001b[39mbase_url\n\u001b[1;32m--> 307\u001b[0m openai_model \u001b[38;5;241m=\u001b[39m \u001b[43mChatOpenAI\u001b[49m\u001b[43m(\u001b[49m\n\u001b[0;32m    308\u001b[0m \u001b[43m    \u001b[49m\u001b[43mmodel\u001b[49m\u001b[38;5;241;43m=\u001b[39;49m\u001b[43mmodel\u001b[49m\u001b[43m,\u001b[49m\u001b[43m \u001b[49m\u001b[43mtimeout\u001b[49m\u001b[38;5;241;43m=\u001b[39;49m\u001b[43mtimeout\u001b[49m\u001b[43m,\u001b[49m\u001b[43m \u001b[49m\u001b[43mdefault_headers\u001b[49m\u001b[38;5;241;43m=\u001b[39;49m\u001b[43mdefault_headers\u001b[49m\u001b[43m,\u001b[49m\u001b[43m \u001b[49m\u001b[43mbase_url\u001b[49m\u001b[38;5;241;43m=\u001b[39;49m\u001b[43mbase_url\u001b[49m\n\u001b[0;32m    309\u001b[0m \u001b[43m\u001b[49m\u001b[43m)\u001b[49m\n\u001b[0;32m    310\u001b[0m \u001b[38;5;28;01mreturn\u001b[39;00m LangchainLLMWrapper(openai_model, run_config)\n",
      "File \u001b[1;32mc:\\Users\\Zheng\\miniconda3\\envs\\llm\\Lib\\site-packages\\langchain_core\\load\\serializable.py:113\u001b[0m, in \u001b[0;36mSerializable.__init__\u001b[1;34m(self, *args, **kwargs)\u001b[0m\n\u001b[0;32m    111\u001b[0m \u001b[38;5;28;01mdef\u001b[39;00m \u001b[38;5;21m__init__\u001b[39m(\u001b[38;5;28mself\u001b[39m, \u001b[38;5;241m*\u001b[39margs: Any, \u001b[38;5;241m*\u001b[39m\u001b[38;5;241m*\u001b[39mkwargs: Any) \u001b[38;5;241m-\u001b[39m\u001b[38;5;241m>\u001b[39m \u001b[38;5;28;01mNone\u001b[39;00m:\n\u001b[0;32m    112\u001b[0m \u001b[38;5;250m    \u001b[39m\u001b[38;5;124;03m\"\"\"\"\"\"\u001b[39;00m\n\u001b[1;32m--> 113\u001b[0m     \u001b[38;5;28;43msuper\u001b[39;49m\u001b[43m(\u001b[49m\u001b[43m)\u001b[49m\u001b[38;5;241;43m.\u001b[39;49m\u001b[38;5;21;43m__init__\u001b[39;49m\u001b[43m(\u001b[49m\u001b[38;5;241;43m*\u001b[39;49m\u001b[43margs\u001b[49m\u001b[43m,\u001b[49m\u001b[43m \u001b[49m\u001b[38;5;241;43m*\u001b[39;49m\u001b[38;5;241;43m*\u001b[39;49m\u001b[43mkwargs\u001b[49m\u001b[43m)\u001b[49m\n",
      "File \u001b[1;32mc:\\Users\\Zheng\\miniconda3\\envs\\llm\\Lib\\site-packages\\pydantic\\v1\\main.py:341\u001b[0m, in \u001b[0;36mBaseModel.__init__\u001b[1;34m(__pydantic_self__, **data)\u001b[0m\n\u001b[0;32m    339\u001b[0m values, fields_set, validation_error \u001b[38;5;241m=\u001b[39m validate_model(__pydantic_self__\u001b[38;5;241m.\u001b[39m\u001b[38;5;18m__class__\u001b[39m, data)\n\u001b[0;32m    340\u001b[0m \u001b[38;5;28;01mif\u001b[39;00m validation_error:\n\u001b[1;32m--> 341\u001b[0m     \u001b[38;5;28;01mraise\u001b[39;00m validation_error\n\u001b[0;32m    342\u001b[0m \u001b[38;5;28;01mtry\u001b[39;00m:\n\u001b[0;32m    343\u001b[0m     object_setattr(__pydantic_self__, \u001b[38;5;124m'\u001b[39m\u001b[38;5;124m__dict__\u001b[39m\u001b[38;5;124m'\u001b[39m, values)\n",
      "\u001b[1;31mValidationError\u001b[0m: 1 validation error for ChatOpenAI\n__root__\n  Did not find openai_api_key, please add an environment variable `OPENAI_API_KEY` which contains it, or pass `openai_api_key` as a named parameter. (type=value_error)"
     ]
    }
   ],
   "source": [
    "from ragas.metrics import (\n",
    "    answer_relevancy,\n",
    "    faithfulness,\n",
    "    context_recall,\n",
    "    context_precision,\n",
    ")\n",
    "from ragas import evaluate\n",
    "\n",
    "result = evaluate(\n",
    "    amnesty_qa[\"eval\"],\n",
    "    metrics=[\n",
    "        # context_precision,\n",
    "        faithfulness,\n",
    "        # answer_relevancy,\n",
    "        # context_recall,\n",
    "    ],\n",
    ")\n",
    "\n",
    "result"
   ]
  },
  {
   "cell_type": "code",
   "execution_count": null,
   "metadata": {},
   "outputs": [],
   "source": []
  }
 ],
 "metadata": {
  "kernelspec": {
   "display_name": "base",
   "language": "python",
   "name": "python3"
  },
  "language_info": {
   "codemirror_mode": {
    "name": "ipython",
    "version": 3
   },
   "file_extension": ".py",
   "mimetype": "text/x-python",
   "name": "python",
   "nbconvert_exporter": "python",
   "pygments_lexer": "ipython3",
   "version": "3.11.3"
  }
 },
 "nbformat": 4,
 "nbformat_minor": 2
}
