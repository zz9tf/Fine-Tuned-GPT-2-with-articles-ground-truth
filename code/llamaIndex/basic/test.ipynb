{
 "cells": [
  {
   "cell_type": "markdown",
   "metadata": {},
   "source": [
    "### Reader"
   ]
  },
  {
   "cell_type": "code",
   "execution_count": null,
   "metadata": {},
   "outputs": [],
   "source": [
    "import os\n",
    "import xml.etree.ElementTree as ET\n",
    "cache_path = '/home/zhengzheng/scratch0/projects/Fine-Tuned-GPT-2-with-articles-ground-truth/code/llamaIndex/.cache'\n",
    "filenames = [filename for filename in os.listdir(cache_path) if filename.endswith('tei.xml')]\n",
    "\n",
    "\n",
    "def get_full_text(element):\n",
    "    text = element.text or ''\n",
    "    for subelement in element:\n",
    "        text += ET.tostring(subelement, encoding='unicode', method='text')\n",
    "        if subelement.tail:\n",
    "            text += subelement.tail\n",
    "    return text.strip()\n",
    "\n",
    "iter_filenames = (iter(filenames))"
   ]
  },
  {
   "cell_type": "code",
   "execution_count": null,
   "metadata": {},
   "outputs": [],
   "source": [
    "file_path = os.path.join(cache_path, next(iter_filenames)) \n",
    "file_path"
   ]
  },
  {
   "cell_type": "code",
   "execution_count": null,
   "metadata": {},
   "outputs": [],
   "source": [
    "file_dict = {}\n",
    "tree = ET.parse(file_path)\n",
    "root = tree.getroot()\n",
    "\n",
    "namespace = {'tei': 'http://www.tei-c.org/ns/1.0'}"
   ]
  },
  {
   "cell_type": "code",
   "execution_count": null,
   "metadata": {},
   "outputs": [],
   "source": [
    "# title\n",
    "title = root.find('.//tei:teiHeader/tei:fileDesc/tei:titleStmt/tei:title', namespaces=namespace)\n",
    "file_dict['title'] = title.text\n",
    "file_dict"
   ]
  },
  {
   "cell_type": "code",
   "execution_count": null,
   "metadata": {},
   "outputs": [],
   "source": [
    "# authors\n",
    "authors = root.findall('.//tei:teiHeader/tei:fileDesc/tei:sourceDesc/tei:biblStruct/tei:analytic/tei:author/tei:persName', namespaces=namespace)\n",
    "file_dict['authors'] = []\n",
    "for author in authors:\n",
    "    forename = author.findall('tei:forename', namespaces=namespace)\n",
    "    if len(forename) == 0:\n",
    "        continue\n",
    "    forename = ' '.join(name.text for name in forename)\n",
    "    surname = ' '.join([name.text for name in author.findall('tei:surname', namespaces=namespace)])\n",
    "    author_name = forename + ' ' + surname\n",
    "    file_dict['authors'].append(author_name)\n",
    "file_dict"
   ]
  },
  {
   "cell_type": "code",
   "execution_count": null,
   "metadata": {},
   "outputs": [],
   "source": [
    "# abstract\n",
    "abstract = root.find('.//tei:teiHeader/tei:profileDesc/tei:abstract/tei:div/tei:p', namespaces=namespace)\n",
    "print(abstract)\n",
    "if abstract is not None:\n",
    "    file_dict['abstract'] = abstract.text\n",
    "file_dict"
   ]
  },
  {
   "cell_type": "code",
   "execution_count": null,
   "metadata": {},
   "outputs": [],
   "source": [
    "# Body\n",
    "body = root.findall('.//tei:text/tei:body/tei:div', namespaces=namespace)\n",
    "\n",
    "for i, child in enumerate(body):\n",
    "    ps = child.findall('.//tei:p', namespaces=namespace)\n",
    "    if len(ps) == 0:\n",
    "        continue\n",
    "    head = child.find('.//tei:head', namespaces=namespace).text\n",
    "    content = '\\n'.join([get_full_text(p) for p in ps])\n",
    "    file_dict[head] = content\n",
    "file_dict"
   ]
  },
  {
   "cell_type": "code",
   "execution_count": null,
   "metadata": {},
   "outputs": [],
   "source": [
    "from utils.custom_document_reader import CustomDocumentReader\n",
    "\n",
    "documents = CustomDocumentReader(\n",
    "    input_dir=\"/home/zhengzheng/scratch0/projects/Fine-Tuned-GPT-2-with-articles-ground-truth/data\",\n",
    "    cache_dir=\"/home/zhengzheng/scratch0/projects/Fine-Tuned-GPT-2-with-articles-ground-truth/code/llamaIndex/.cache\",\n",
    "    config_path=\"/home/zhengzheng/scratch0/projects/Fine-Tuned-GPT-2-with-articles-ground-truth/code/llamaIndex/utils/config.json\",\n",
    "    remove_cache=False\n",
    ")._load_data()"
   ]
  },
  {
   "cell_type": "markdown",
   "metadata": {},
   "source": [
    "### CustomSplitter"
   ]
  },
  {
   "cell_type": "code",
   "execution_count": null,
   "metadata": {},
   "outputs": [],
   "source": [
    "from llama_index.core.node_parser import SentenceSplitter\n",
    "\n",
    "ss1 = SentenceSplitter(\n",
    "    chunk_size=1024,\n",
    "    include_metadata=True,\n",
    "    include_prev_next_rel=True,\n",
    ")"
   ]
  },
  {
   "cell_type": "code",
   "execution_count": null,
   "metadata": {},
   "outputs": [],
   "source": [
    "from llama_index.core.storage.docstore import SimpleDocumentStore\n",
    "nodes = ss1.get_nodes_from_documents(documents)\n",
    "docstore = SimpleDocumentStore()\n",
    "docstore.add_documents(nodes)\n",
    "docstore.persist(persist_path=\"/home/zhengzheng/scratch0/projects/Fine-Tuned-GPT-2-with-articles-ground-truth/code/llamaIndex/.cache/test.json\")\n"
   ]
  },
  {
   "cell_type": "code",
   "execution_count": null,
   "metadata": {},
   "outputs": [],
   "source": [
    "from llama_index.core.node_parser import SimpleFileNodeParser\n",
    "\n",
    "nodes = SimpleFileNodeParser().get_nodes_from_documents(documents=documents)"
   ]
  },
  {
   "cell_type": "code",
   "execution_count": null,
   "metadata": {},
   "outputs": [],
   "source": [
    "for k, v in nodes[0].to_dict().items():\n",
    "    print(f\"key: {k}\\nvalue: {v}\\n\\n\")"
   ]
  },
  {
   "cell_type": "code",
   "execution_count": null,
   "metadata": {},
   "outputs": [],
   "source": [
    "from utils.custom_document_reader import CustomDocumentReader\n",
    "\n",
    "documents = CustomDocumentReader(\n",
    "    input_dir=\"/home/zhengzheng/scratch0/projects/Fine-Tuned-GPT-2-with-articles-ground-truth/data\",\n",
    "    cache_dir=\"/home/zhengzheng/scratch0/projects/Fine-Tuned-GPT-2-with-articles-ground-truth/code/llamaIndex/.cache\",\n",
    "    config_path=\"/home/zhengzheng/scratch0/projects/Fine-Tuned-GPT-2-with-articles-ground-truth/code/llamaIndex/utils/config.json\",\n",
    "    remove_cache=False\n",
    ")._load_data()\n",
    "\n",
    "from utils.custom_parser import CustomHierarchicalNodeParser\n",
    "hnp = CustomHierarchicalNodeParser.from_defaults()\n",
    "hnp._parse_nodes(documents)"
   ]
  },
  {
   "cell_type": "markdown",
   "metadata": {},
   "source": [
    "### Test custom document reader"
   ]
  },
  {
   "cell_type": "code",
   "execution_count": null,
   "metadata": {},
   "outputs": [],
   "source": [
    "from utils.custom_document_reader import CustomDocumentReader\n",
    "\n",
    "documents = CustomDocumentReader(\n",
    "    input_dir=\"/home/zhengzheng/scratch0/projects/Fine-Tuned-GPT-2-with-articles-ground-truth/data\",\n",
    "    cache_dir=\"/home/zhengzheng/scratch0/projects/Fine-Tuned-GPT-2-with-articles-ground-truth/code/llamaIndex/.cache\",\n",
    "    config_path=\"/home/zhengzheng/scratch0/projects/Fine-Tuned-GPT-2-with-articles-ground-truth/code/llamaIndex/utils/config.json\",\n",
    "    remove_cache=False\n",
    ")._load_data()\n",
    "\n",
    "from utils.custom_parser import CustomHierarchicalNodeParser\n",
    "hnp = CustomHierarchicalNodeParser.from_defaults()\n",
    "nodes = hnp.get_nodes_from_documents(documents)"
   ]
  },
  {
   "cell_type": "code",
   "execution_count": null,
   "metadata": {},
   "outputs": [],
   "source": [
    "len(documents)"
   ]
  },
  {
   "cell_type": "code",
   "execution_count": null,
   "metadata": {},
   "outputs": [],
   "source": [
    "len(nodes)"
   ]
  },
  {
   "cell_type": "code",
   "execution_count": null,
   "metadata": {},
   "outputs": [],
   "source": [
    "from utils.custom_extractor import HuggingfaceBasedExtractor, OllamaBasedExtractor, OpenAIBasedExtractor\n",
    "\n",
    "extractor = OllamaBasedExtractor(\n",
    "    model_name='sammcj/sfr-embedding-mistral:Q4_K_M',\n",
    "    only_meta={'level': ['section']}\n",
    ")\n",
    "\n",
    "extractor.extract(nodes)"
   ]
  },
  {
   "cell_type": "markdown",
   "metadata": {},
   "source": [
    "### Pydantic"
   ]
  },
  {
   "cell_type": "code",
   "execution_count": null,
   "metadata": {},
   "outputs": [],
   "source": [
    "from utils.get import get_a_store\n",
    "file_path = 'D:\\\\Projects(D)\\\\Fine-Tuned-GPT-2-with-articles-ground-truth\\\\code\\\\llamaIndex\\\\.cache\\\\test-gpt-4o-batch_1_parser_CustomHierarchicalNodeParser-vicuna_13b.json'\n",
    "docstore = get_a_store('SimpleDocumentStore').from_persist_path(persist_path=file_path)\n",
    "nodes = [node for _, node in docstore.docs.items()][:4]"
   ]
  },
  {
   "cell_type": "code",
   "execution_count": null,
   "metadata": {},
   "outputs": [],
   "source": [
    "from custom.custom_extractor import OpenAIBasedQARExtractor\n",
    "from custom.schema import QAR\n",
    "from dotenv import load_dotenv\n",
    "\n",
    "load_dotenv()\n",
    "extractor = OpenAIBasedQARExtractor(\n",
    "    model_name='gpt-4o',\n",
    "    cache_dir='D:\\\\Projects(D)\\\\Fine-Tuned-GPT-2-with-articles-ground-truth\\\\code\\\\llamaIndex\\\\.cache',\n",
    "    mode='immediately',\n",
    "    embedding_only=True,\n",
    "    only_meta=None\n",
    ")"
   ]
  },
  {
   "cell_type": "code",
   "execution_count": null,
   "metadata": {},
   "outputs": [],
   "source": [
    "outputs = extractor.extract(nodes, 'test', 'test_action', 'D:\\\\Projects(D)\\\\Fine-Tuned-GPT-2-with-articles-ground-truth\\\\code\\\\llamaIndex\\\\.cache')"
   ]
  },
  {
   "cell_type": "code",
   "execution_count": null,
   "metadata": {},
   "outputs": [],
   "source": [
    "nodes[0].metadata['questions_this_excerpt_can_answer_and_corresponding_answers_and_reasons'].split('\\n')"
   ]
  },
  {
   "cell_type": "code",
   "execution_count": null,
   "metadata": {},
   "outputs": [],
   "source": [
    "nodes[0].metadata['questions_this_excerpt_can_answer_and_corresponding_answers_and_reasons'].split('\\n')"
   ]
  },
  {
   "cell_type": "code",
   "execution_count": null,
   "metadata": {},
   "outputs": [],
   "source": [
    "import re\n",
    "def extract_json_str(text: str) -> list:\n",
    "    \"\"\"Extract JSON strings from text.\"\"\"\n",
    "    matches = re.findall(r'\\{.*?\\}', text.strip(), re.MULTILINE | re.IGNORECASE | re.DOTALL)\n",
    "    if not matches:\n",
    "        raise ValueError(f\"Could not extract json strings from output: {text}\")\n",
    "    return matches\n",
    "\n",
    "text = \"\"\"```json\n",
    "[\n",
    "    {\n",
    "        \"Question\": \"What are the main pathological features of Parkinson's disease as described in the document?\",\n",
    "        \"Answer\": \"The main pathological feature of Parkinson's disease is the progressive destruction of dopamine-producing cells in the substantia nigra region of the brain stem.\",\n",
    "        \"Reason\": \"This specific detail about the pathological feature is highlighted in the context and is not general knowledge.\"\n",
    "    },\n",
    "    {\n",
    "        \"Question\": \"How does the document describe the role of neuromelanin in Parkinson's disease?\",\n",
    "        \"Answer\": \"The document suggests that neuromelanin may serve as an indication of catecholamine synthesis in neuronal systems containing dopamine or norepinephrine and may influence neuronal metabolism due to the heavy metals it contains.\",\n",
    "        \"Reason\": \"This insight into neuromelanin's role and its potential impact on neuronal metabolism is unique to the context provided.\"\n",
    "    },\n",
    "    {\n",
    "        \"Question\": \"What evidence does the document provide to support the hypothesis that oxidative stress is involved in Parkinson's disease?\",\n",
    "        \"Answer\": \"The document provides evidence such as increased membrane peroxidation in the substantia nigra, elevated TBA-reactive substance levels, increased 8-hydroxy-2′deoxyguanosine levels, and low phospholipid turnover in the substantia nigra.\",\n",
    "        \"Reason\": \"These specific pieces of evidence are detailed in the context and are not commonly known facts.\"\n",
    "    },\n",
    "    {\n",
    "        \"Question\": \"What are the potential sources of increased oxidative stress in Parkinson's disease according to the document?\",\n",
    "        \"Answer\": \"Potential sources include dopamine metabolism, mitochondrial dysfunction, increased free iron levels, accumulation of AGEs, reduced activity of free radical defense systems, and the deleterious role of glial cells.\",\n",
    "        \"Reason\": \"The document lists these specific sources, providing a comprehensive view that is unique to the context.\"\n",
    "    },\n",
    "    {\n",
    "        \"Question\": \"How does the document describe the involvement of mitochondrial dysfunction in Parkinson's disease?\",\n",
    "        \"Answer\": \"The document describes mitochondrial dysfunction as involving abnormalities of the respiratory chain, particularly a 30-40% decrease in complex I activity in the substantia nigra, which leads to reductions in ATP production and elevated ROS generation.\",\n",
    "        \"Reason\": \"This detailed description of mitochondrial dysfunction and its specific impact on Parkinson's disease is unique to the context provided.\"\n",
    "    }\n",
    "]\n",
    "\"\"\"\n",
    "\n",
    "for k in extract_json_str(text):\n",
    "    print(k)\n",
    "# print(extract_json_str(text))"
   ]
  },
  {
   "cell_type": "markdown",
   "metadata": {},
   "source": [
    "### Custom IO nodes"
   ]
  },
  {
   "cell_type": "code",
   "execution_count": null,
   "metadata": {},
   "outputs": [],
   "source": [
    "from llama_index.core.storage.docstore import SimpleDocumentStore\n",
    "docstore = SimpleDocumentStore.from_persist_path(persist_path=\"/home/zhengzheng/scratch0/projects/Fine-Tuned-GPT-2-with-articles-ground-truth/code/llamaIndex/.cache/test_2_parser_CustomHierarchicalNodeParser-ollama_vicuna_13b.json\")\n",
    "nodes = [node for _, node in docstore.docs.items()]"
   ]
  },
  {
   "cell_type": "code",
   "execution_count": null,
   "metadata": {},
   "outputs": [],
   "source": [
    "from llama_index.core.schema import TextNode\n",
    "TextNode.from_dict(nodes[0].to_dict())"
   ]
  },
  {
   "cell_type": "code",
   "execution_count": null,
   "metadata": {},
   "outputs": [],
   "source": [
    "len(nodes)"
   ]
  },
  {
   "cell_type": "code",
   "execution_count": null,
   "metadata": {},
   "outputs": [],
   "source": [
    "nodes[0].get_content()"
   ]
  },
  {
   "cell_type": "code",
   "execution_count": 1,
   "metadata": {},
   "outputs": [],
   "source": [
    "import os, sys\n",
    "root_dir = os.path.abspath(os.path.join(os.path.dirname(os.getcwd()), '..'))\n",
    "sys.path.insert(0, root_dir)"
   ]
  },
  {
   "cell_type": "code",
   "execution_count": 2,
   "metadata": {},
   "outputs": [],
   "source": [
    "import os\n",
    "import json\n",
    "from typing import List\n",
    "from tqdm import tqdm\n",
    "from llama_index.core.schema import BaseNode, TextNode\n",
    "\n",
    "def save_nodes_jsonl(file_path: str, nodes: List[BaseNode]):\n",
    "    try:\n",
    "        with open(file_path, 'w') as file:\n",
    "            for node in tqdm(nodes, desc='Saving nodes...'):\n",
    "                json.dump(node.to_dict(), file)\n",
    "                file.write('\\n')\n",
    "    except Exception as e:\n",
    "        print(f\"An error occurred while saving nodes: {e}\")\n",
    "\n",
    "def load_nodes_jsonl(file_path: str) -> List[TextNode]:\n",
    "    nodes = []\n",
    "    \n",
    "    try:\n",
    "        # Get the total file size\n",
    "        file_size = os.path.getsize(file_path)\n",
    "        \n",
    "        # Read the file and track progress based on bytes read\n",
    "        with open(file_path, 'r') as file:\n",
    "            with tqdm(total=file_size, desc='Loading nodes...', unit='B', unit_scale=True, unit_divisor=1024) as pbar:\n",
    "                for line in file:\n",
    "                    node_data = json.loads(line)\n",
    "                    nodes.append(TextNode.from_dict(node_data))\n",
    "                    # Update progress bar based on bytes read\n",
    "                    pbar.update(len(line))\n",
    "    except Exception as e:\n",
    "        print(f\"An error occurred while loading nodes: {e}\")\n",
    "    \n",
    "    return nodes\n"
   ]
  },
  {
   "cell_type": "code",
   "execution_count": null,
   "metadata": {},
   "outputs": [],
   "source": [
    "file_path = '/home/zhengzheng/scratch0/projects/Fine-Tuned-GPT-2-with-articles-ground-truth/code/llamaIndex/.cache/test.jsonl'\n",
    "save_nodes_jsonl(file_path, nodes)"
   ]
  },
  {
   "cell_type": "code",
   "execution_count": null,
   "metadata": {},
   "outputs": [],
   "source": [
    "nodes = load_nodes_jsonl(file_path)\n",
    "print(len(nodes))"
   ]
  },
  {
   "cell_type": "markdown",
   "metadata": {},
   "source": [
    "### get pocessing node id"
   ]
  },
  {
   "cell_type": "code",
   "execution_count": 9,
   "metadata": {},
   "outputs": [
    {
     "name": "stderr",
     "output_type": "stream",
     "text": [
      "Loading nodes...: 100%|██████████| 738M/738M [00:14<00:00, 52.4MB/s] \n"
     ]
    }
   ],
   "source": [
    "import os\n",
    "file_path = '/home/zhengzheng/scratch0/projects/Fine-Tuned-GPT-2-with-articles-ground-truth/code/llamaIndex/.cache/pid-20.jsonl'\n",
    "nodes = load_nodes_jsonl(file_path)"
   ]
  },
  {
   "cell_type": "code",
   "execution_count": 11,
   "metadata": {},
   "outputs": [],
   "source": [
    "_cache_process_path = '/home/zhengzheng/scratch0/projects/Fine-Tuned-GPT-2-with-articles-ground-truth/code/llamaIndex/.cache/pid-20.jsonl'\n",
    "latest_level = -1\n",
    "_level2nodes = {}\n",
    "level2int = {level: i for i, level in enumerate([\"document\", \"section\", \"paragraph\", \"multi-sentences\"])}"
   ]
  },
  {
   "cell_type": "code",
   "execution_count": null,
   "metadata": {},
   "outputs": [],
   "source": [
    "cache_file = open(_cache_process_path, 'r')"
   ]
  },
  {
   "cell_type": "code",
   "execution_count": 12,
   "metadata": {},
   "outputs": [
    {
     "name": "stderr",
     "output_type": "stream",
     "text": [
      "Loading cache...: 100%|██████████| 738M/738M [00:12<00:00, 59.7MB/s] \n"
     ]
    }
   ],
   "source": [
    "if os.path.exists(_cache_process_path):\n",
    "    file_size = os.path.getsize(_cache_process_path)\n",
    "    i = 1\n",
    "    with open(_cache_process_path, 'r') as cache_file:\n",
    "        with tqdm(total=file_size, desc='Loading cache...', unit='B', unit_scale=True, unit_divisor=1024) as pbar:\n",
    "            for line in cache_file:\n",
    "                try:\n",
    "                    node_dict = json.loads(line)\n",
    "                    node = TextNode.from_dict(node_dict)\n",
    "                    if level2int[node.metadata['level']] > latest_level:\n",
    "                        latest_level = level2int[node.metadata['level']]\n",
    "                        _level2nodes[latest_level] = []\n",
    "                    _level2nodes[level2int[node.metadata['level']]].append(node)\n",
    "                except Exception as e:\n",
    "                    print(e)\n",
    "                # Update progress bar based on bytes read\n",
    "                pbar.update(len(line))\n",
    "                i += 1"
   ]
  },
  {
   "cell_type": "code",
   "execution_count": null,
   "metadata": {},
   "outputs": [],
   "source": [
    "print(_level2nodes)"
   ]
  },
  {
   "cell_type": "code",
   "execution_count": null,
   "metadata": {},
   "outputs": [],
   "source": [
    "level = 0\n",
    "processed_prev_level_nodes_id = set()\n",
    "for node in _level2nodes[level]:\n",
    "    processed_prev_level_nodes_id.add(node.ref_doc_id)\n",
    "prev_level_nodes = []\n",
    "for node in nodes:\n",
    "    if node.id_ not in processed_prev_level_nodes_id:\n",
    "        prev_level_nodes.append(node)"
   ]
  },
  {
   "cell_type": "code",
   "execution_count": null,
   "metadata": {},
   "outputs": [],
   "source": [
    "print(len(processed_prev_level_nodes_id))"
   ]
  },
  {
   "cell_type": "code",
   "execution_count": null,
   "metadata": {},
   "outputs": [],
   "source": [
    "\n",
    "def _init_get_nodes_from_nodes(nodes):\n",
    "        latest_level = 0\n",
    "        prev_level_nodes = nodes\n",
    "        _cache_process_path = '/home/zhengzheng/scratch0/projects/Fine-Tuned-GPT-2-with-articles-ground-truth/code/llamaIndex/.cache/pid-0.jsonl'\n",
    "\n",
    "        if _cache_process_path is not None:\n",
    "            # init attributions\n",
    "            latest_level = -1\n",
    "            _level2nodes = {}\n",
    "            level2int = {level: i for i, level in enumerate([\"document\", \"section\", \"paragraph\", \"multi-sentences\"])}\n",
    "            \n",
    "            # loading nodes\n",
    "            if os.path.exists(_cache_process_path):\n",
    "                file_size = os.path.getsize(_cache_process_path)\n",
    "                with open(_cache_process_path, 'r') as cache_file:\n",
    "                    with tqdm(total=file_size, desc='Loading cache...', unit='B', unit_scale=True, unit_divisor=1024) as pbar:\n",
    "                        for line in cache_file:\n",
    "                            try:\n",
    "                                node_dict = json.loads(line)\n",
    "                                node = TextNode.from_dict(node_dict)\n",
    "                                if level2int[node.metadata['level']] > latest_level:\n",
    "                                    latest_level = level2int[node.metadata['level']]\n",
    "                                    _level2nodes[latest_level] = []\n",
    "                                    _level2nodes[latest_level].append(node)\n",
    "                            except Exception as e:\n",
    "                                print(e)\n",
    "                            # Update progress bar based on bytes read\n",
    "                            pbar.update(len(line))\n",
    "            _cache_process_file = open(_cache_process_path, 'a+')\n",
    "\n",
    "            latest_level = max(latest_level, 0)\n",
    "\n",
    "            # get prev_level_nodes\n",
    "            if latest_level == 1:\n",
    "                latest_level = 0\n",
    "                processed_prev_level_nodes_id = set()\n",
    "                for node in _level2nodes[latest_level]:\n",
    "                    processed_prev_level_nodes_id.add(node.ref_doc_id)\n",
    "                prev_level_nodes = []\n",
    "                for node in nodes:\n",
    "                    if node.id_ not in processed_prev_level_nodes_id:\n",
    "                        prev_level_nodes.append(node)\n",
    "                \n",
    "            if latest_level > 1:\n",
    "                processed_prev_level_nodes_id = set()\n",
    "                for node in _level2nodes[latest_level]:\n",
    "                    parent_node_id = node.relationships[NodeRelationship.PARENT].node_id\n",
    "                    processed_prev_level_nodes_id.add(parent_node_id)\n",
    "                prev_level_nodes = []\n",
    "                for node in _level2nodes[latest_level-1]:\n",
    "                    if node.id_ not in processed_prev_level_nodes_id:\n",
    "                        prev_level_nodes.append(node)\n",
    "\n",
    "        return latest_level, prev_level_nodes"
   ]
  },
  {
   "cell_type": "code",
   "execution_count": null,
   "metadata": {},
   "outputs": [],
   "source": [
    "from llama_index.core.schema import BaseNode, Document, NodeRelationship\n",
    "\n",
    "print(nodes[-1].relationships[NodeRelationship.PARENT])"
   ]
  },
  {
   "cell_type": "code",
   "execution_count": null,
   "metadata": {},
   "outputs": [],
   "source": []
  },
  {
   "cell_type": "code",
   "execution_count": null,
   "metadata": {},
   "outputs": [],
   "source": [
    "len(processed_section_nodes_id)"
   ]
  },
  {
   "cell_type": "code",
   "execution_count": null,
   "metadata": {},
   "outputs": [],
   "source": [
    "node_dict.keys()"
   ]
  },
  {
   "cell_type": "code",
   "execution_count": null,
   "metadata": {},
   "outputs": [],
   "source": [
    "len(node_dict['paragraph'])"
   ]
  },
  {
   "cell_type": "code",
   "execution_count": null,
   "metadata": {},
   "outputs": [],
   "source": [
    "len(node_dict['section'])"
   ]
  },
  {
   "cell_type": "markdown",
   "metadata": {},
   "source": [
    "### Visualize node parser results"
   ]
  },
  {
   "cell_type": "code",
   "execution_count": null,
   "metadata": {},
   "outputs": [],
   "source": [
    "import os, sys\n",
    "root_dir = os.path.abspath(os.path.join(os.path.dirname(os.getcwd()), '..'))\n",
    "sys.path.insert(0, root_dir)\n",
    "import os\n",
    "import json\n",
    "from typing import List\n",
    "from tqdm import tqdm\n",
    "from llama_index.core.schema import BaseNode, TextNode\n",
    "\n",
    "def save_nodes_jsonl(file_path: str, nodes: List[BaseNode]):\n",
    "    try:\n",
    "        with open(file_path, 'w') as file:\n",
    "            for node in tqdm(nodes, desc='Saving nodes...'):\n",
    "                json.dump(node.to_dict(), file)\n",
    "                file.write('\\n')\n",
    "    except Exception as e:\n",
    "        print(f\"An error occurred while saving nodes: {e}\")\n",
    "\n",
    "def load_nodes_jsonl(file_path: str) -> List[TextNode]:\n",
    "    nodes = []\n",
    "    \n",
    "    try:\n",
    "        # Get the total file size\n",
    "        file_size = os.path.getsize(file_path)\n",
    "        \n",
    "        # Read the file and track progress based on bytes read\n",
    "        with open(file_path, 'r') as file:\n",
    "            with tqdm(total=file_size, desc='Loading nodes...', unit='B', unit_scale=True, unit_divisor=1024) as pbar:\n",
    "                for line in file:\n",
    "                    node_data = json.loads(line)\n",
    "                    nodes.append(TextNode.from_dict(node_data))\n",
    "                    # Update progress bar based on bytes read\n",
    "                    pbar.update(len(line))\n",
    "    except Exception as e:\n",
    "        print(f\"An error occurred while loading nodes: {e}\")\n",
    "    \n",
    "    return nodes"
   ]
  },
  {
   "cell_type": "code",
   "execution_count": 35,
   "metadata": {},
   "outputs": [
    {
     "name": "stderr",
     "output_type": "stream",
     "text": [
      "Loading nodes...: 100%|██████████| 783M/783M [00:15<00:00, 52.6MB/s] \n"
     ]
    }
   ],
   "source": [
    "file_path = '/home/zhengzheng/scratch0/projects/Fine-Tuned-GPT-2-with-articles-ground-truth/code/llamaIndex/.cache/pid-20.jsonl'\n",
    "nodes = load_nodes_jsonl(file_path)"
   ]
  },
  {
   "cell_type": "code",
   "execution_count": 43,
   "metadata": {},
   "outputs": [],
   "source": [
    "import pandas as pd\n",
    "levels = []\n",
    "texts = []\n",
    "text_lens = []\n",
    "parent_ids = []\n",
    "\n",
    "parent_id_counts = {}\n",
    "for node in nodes:\n",
    "    level = node.metadata['level']\n",
    "    parent_id = node.ref_doc_id\n",
    "    text = node.get_content()\n",
    "\n",
    "    levels.append(level)\n",
    "    parent_ids.append(parent_id)\n",
    "    texts.append(text)\n",
    "    text_lens.append(len(text))\n",
    "\n",
    "    if parent_id not in parent_id_counts:\n",
    "        parent_id_counts[parent_id] = 0\n",
    "    parent_id_counts[parent_id] += 1\n",
    "df = pd.DataFrame({\n",
    "    'level': levels,\n",
    "    'text': texts,\n",
    "    'text_len': text_lens,\n",
    "    'parent_id': parent_ids\n",
    "})\n",
    "df['parent_id_num'] = df['parent_id'].map(parent_id_counts)"
   ]
  },
  {
   "cell_type": "code",
   "execution_count": 44,
   "metadata": {},
   "outputs": [
    {
     "data": {
      "text/html": [
       "<div>\n",
       "<style scoped>\n",
       "    .dataframe tbody tr th:only-of-type {\n",
       "        vertical-align: middle;\n",
       "    }\n",
       "\n",
       "    .dataframe tbody tr th {\n",
       "        vertical-align: top;\n",
       "    }\n",
       "\n",
       "    .dataframe thead th {\n",
       "        text-align: right;\n",
       "    }\n",
       "</style>\n",
       "<table border=\"1\" class=\"dataframe\">\n",
       "  <thead>\n",
       "    <tr style=\"text-align: right;\">\n",
       "      <th></th>\n",
       "      <th>level</th>\n",
       "      <th>text</th>\n",
       "      <th>text_len</th>\n",
       "      <th>parent_id</th>\n",
       "      <th>parent_id_num</th>\n",
       "    </tr>\n",
       "  </thead>\n",
       "  <tbody>\n",
       "    <tr>\n",
       "      <th>0</th>\n",
       "      <td>document</td>\n",
       "      <td></td>\n",
       "      <td>0</td>\n",
       "      <td>c7a39956-0a53-4aa5-a9ef-ba7059c5197d</td>\n",
       "      <td>1</td>\n",
       "    </tr>\n",
       "    <tr>\n",
       "      <th>1</th>\n",
       "      <td>section</td>\n",
       "      <td></td>\n",
       "      <td>0</td>\n",
       "      <td>b3bd9387-5574-4198-b8dd-3a80ff7dddf4</td>\n",
       "      <td>18</td>\n",
       "    </tr>\n",
       "    <tr>\n",
       "      <th>2</th>\n",
       "      <td>section</td>\n",
       "      <td></td>\n",
       "      <td>0</td>\n",
       "      <td>b3bd9387-5574-4198-b8dd-3a80ff7dddf4</td>\n",
       "      <td>18</td>\n",
       "    </tr>\n",
       "    <tr>\n",
       "      <th>3</th>\n",
       "      <td>section</td>\n",
       "      <td></td>\n",
       "      <td>0</td>\n",
       "      <td>b3bd9387-5574-4198-b8dd-3a80ff7dddf4</td>\n",
       "      <td>18</td>\n",
       "    </tr>\n",
       "    <tr>\n",
       "      <th>4</th>\n",
       "      <td>section</td>\n",
       "      <td></td>\n",
       "      <td>0</td>\n",
       "      <td>b3bd9387-5574-4198-b8dd-3a80ff7dddf4</td>\n",
       "      <td>18</td>\n",
       "    </tr>\n",
       "    <tr>\n",
       "      <th>...</th>\n",
       "      <td>...</td>\n",
       "      <td>...</td>\n",
       "      <td>...</td>\n",
       "      <td>...</td>\n",
       "      <td>...</td>\n",
       "    </tr>\n",
       "    <tr>\n",
       "      <th>43633</th>\n",
       "      <td>multi-sentences</td>\n",
       "      <td>The requirement for mitochondrial protein synt...</td>\n",
       "      <td>538</td>\n",
       "      <td>1e1833b5-4e8d-4cc6-91d8-255e4f7deee9</td>\n",
       "      <td>5</td>\n",
       "    </tr>\n",
       "    <tr>\n",
       "      <th>43634</th>\n",
       "      <td>multi-sentences</td>\n",
       "      <td>Some of the other effects noted could be direc...</td>\n",
       "      <td>717</td>\n",
       "      <td>1e1833b5-4e8d-4cc6-91d8-255e4f7deee9</td>\n",
       "      <td>5</td>\n",
       "    </tr>\n",
       "    <tr>\n",
       "      <th>43635</th>\n",
       "      <td>multi-sentences</td>\n",
       "      <td>Mitochondrial inhibitors may prove to be very ...</td>\n",
       "      <td>497</td>\n",
       "      <td>1e1833b5-4e8d-4cc6-91d8-255e4f7deee9</td>\n",
       "      <td>5</td>\n",
       "    </tr>\n",
       "    <tr>\n",
       "      <th>43636</th>\n",
       "      <td>multi-sentences</td>\n",
       "      <td>Some of the other effects noted could be direc...</td>\n",
       "      <td>717</td>\n",
       "      <td>1e1833b5-4e8d-4cc6-91d8-255e4f7deee9</td>\n",
       "      <td>5</td>\n",
       "    </tr>\n",
       "    <tr>\n",
       "      <th>43637</th>\n",
       "      <td>multi-sentences</td>\n",
       "      <td>Mitochondrial inhibitors may prove to be very ...</td>\n",
       "      <td>195</td>\n",
       "      <td>1e1833b5-4e8d-4cc6-91d8-255e4f7deee9</td>\n",
       "      <td>5</td>\n",
       "    </tr>\n",
       "  </tbody>\n",
       "</table>\n",
       "<p>43638 rows × 5 columns</p>\n",
       "</div>"
      ],
      "text/plain": [
       "                 level                                               text  \\\n",
       "0             document                                                      \n",
       "1              section                                                      \n",
       "2              section                                                      \n",
       "3              section                                                      \n",
       "4              section                                                      \n",
       "...                ...                                                ...   \n",
       "43633  multi-sentences  The requirement for mitochondrial protein synt...   \n",
       "43634  multi-sentences  Some of the other effects noted could be direc...   \n",
       "43635  multi-sentences  Mitochondrial inhibitors may prove to be very ...   \n",
       "43636  multi-sentences  Some of the other effects noted could be direc...   \n",
       "43637  multi-sentences  Mitochondrial inhibitors may prove to be very ...   \n",
       "\n",
       "       text_len                             parent_id  parent_id_num  \n",
       "0             0  c7a39956-0a53-4aa5-a9ef-ba7059c5197d              1  \n",
       "1             0  b3bd9387-5574-4198-b8dd-3a80ff7dddf4             18  \n",
       "2             0  b3bd9387-5574-4198-b8dd-3a80ff7dddf4             18  \n",
       "3             0  b3bd9387-5574-4198-b8dd-3a80ff7dddf4             18  \n",
       "4             0  b3bd9387-5574-4198-b8dd-3a80ff7dddf4             18  \n",
       "...         ...                                   ...            ...  \n",
       "43633       538  1e1833b5-4e8d-4cc6-91d8-255e4f7deee9              5  \n",
       "43634       717  1e1833b5-4e8d-4cc6-91d8-255e4f7deee9              5  \n",
       "43635       497  1e1833b5-4e8d-4cc6-91d8-255e4f7deee9              5  \n",
       "43636       717  1e1833b5-4e8d-4cc6-91d8-255e4f7deee9              5  \n",
       "43637       195  1e1833b5-4e8d-4cc6-91d8-255e4f7deee9              5  \n",
       "\n",
       "[43638 rows x 5 columns]"
      ]
     },
     "execution_count": 44,
     "metadata": {},
     "output_type": "execute_result"
    }
   ],
   "source": [
    "df"
   ]
  },
  {
   "cell_type": "code",
   "execution_count": 41,
   "metadata": {},
   "outputs": [
    {
     "data": {
      "image/png": "[encoded data removed]",
      "text/plain": [
       "<Figure size 640x480 with 1 Axes>"
      ]
     },
     "metadata": {},
     "output_type": "display_data"
    }
   ],
   "source": [
    "import matplotlib.pyplot as plt\n",
    "\n",
    "# 绘制直方图\n",
    "plt.hist(df[df['level'] == 'paragraph']['parent_id_num'], bins=10, edgecolor='black')\n",
    "\n",
    "# 添加标题和标签\n",
    "plt.title('Histogram using Matplotlib')\n",
    "plt.xlabel('Value')\n",
    "plt.ylabel('Frequency')\n",
    "\n",
    "# 显示图形\n",
    "plt.show()"
   ]
  },
  {
   "cell_type": "code",
   "execution_count": 46,
   "metadata": {},
   "outputs": [
    {
     "data": {
      "image/png": "[encoded data removed]",
      "text/plain": [
       "<Figure size 640x480 with 1 Axes>"
      ]
     },
     "metadata": {},
     "output_type": "display_data"
    }
   ],
   "source": [
    "import seaborn as sns\n",
    "import matplotlib.pyplot as plt\n",
    "\n",
    "# Create a violin plot\n",
    "sns.violinplot(x='level', y='text_len', data=df)\n",
    "\n",
    "# Add titles and labels\n",
    "plt.title('Violin Plot of parser nodes')\n",
    "plt.xlabel('level')\n",
    "plt.ylabel('text len')\n",
    "\n",
    "# Show the plot\n",
    "plt.show()"
   ]
  },
  {
   "cell_type": "code",
   "execution_count": 48,
   "metadata": {},
   "outputs": [
    {
     "data": {
      "text/plain": [
       "0.9286172601860764"
      ]
     },
     "execution_count": 48,
     "metadata": {},
     "output_type": "execute_result"
    }
   ],
   "source": [
    "len(df[df['text_len']<1000])/len(df)"
   ]
  },
  {
   "cell_type": "code",
   "execution_count": null,
   "metadata": {},
   "outputs": [],
   "source": []
  }
 ],
 "metadata": {
  "kernelspec": {
   "display_name": "base",
   "language": "python",
   "name": "python3"
  },
  "language_info": {
   "codemirror_mode": {
    "name": "ipython",
    "version": 3
   },
   "file_extension": ".py",
   "mimetype": "text/x-python",
   "name": "python",
   "nbconvert_exporter": "python",
   "pygments_lexer": "ipython3",
   "version": "3.11.3"
  }
 },
 "nbformat": 4,
 "nbformat_minor": 2
}
