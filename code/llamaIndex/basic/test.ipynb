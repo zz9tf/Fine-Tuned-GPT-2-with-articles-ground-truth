{
 "cells": [
  {
   "cell_type": "markdown",
   "metadata": {},
   "source": [
    "### Reader"
   ]
  },
  {
   "cell_type": "code",
   "execution_count": null,
   "metadata": {},
   "outputs": [],
   "source": [
    "import os\n",
    "import xml.etree.ElementTree as ET\n",
    "cache_path = '/home/zhengzheng/scratch0/projects/Fine-Tuned-GPT-2-with-articles-ground-truth/code/llamaIndex/.cache'\n",
    "filenames = [filename for filename in os.listdir(cache_path) if filename.endswith('tei.xml')]\n",
    "\n",
    "\n",
    "def get_full_text(element):\n",
    "    text = element.text or ''\n",
    "    for subelement in element:\n",
    "        text += ET.tostring(subelement, encoding='unicode', method='text')\n",
    "        if subelement.tail:\n",
    "            text += subelement.tail\n",
    "    return text.strip()\n",
    "\n",
    "iter_filenames = (iter(filenames))"
   ]
  },
  {
   "cell_type": "code",
   "execution_count": null,
   "metadata": {},
   "outputs": [],
   "source": [
    "file_path = os.path.join(cache_path, next(iter_filenames)) \n",
    "file_path"
   ]
  },
  {
   "cell_type": "code",
   "execution_count": null,
   "metadata": {},
   "outputs": [],
   "source": [
    "file_dict = {}\n",
    "tree = ET.parse(file_path)\n",
    "root = tree.getroot()\n",
    "\n",
    "namespace = {'tei': 'http://www.tei-c.org/ns/1.0'}"
   ]
  },
  {
   "cell_type": "code",
   "execution_count": null,
   "metadata": {},
   "outputs": [],
   "source": [
    "# title\n",
    "title = root.find('.//tei:teiHeader/tei:fileDesc/tei:titleStmt/tei:title', namespaces=namespace)\n",
    "file_dict['title'] = title.text\n",
    "file_dict"
   ]
  },
  {
   "cell_type": "code",
   "execution_count": null,
   "metadata": {},
   "outputs": [],
   "source": [
    "# authors\n",
    "authors = root.findall('.//tei:teiHeader/tei:fileDesc/tei:sourceDesc/tei:biblStruct/tei:analytic/tei:author/tei:persName', namespaces=namespace)\n",
    "file_dict['authors'] = []\n",
    "for author in authors:\n",
    "    forename = author.findall('tei:forename', namespaces=namespace)\n",
    "    if len(forename) == 0:\n",
    "        continue\n",
    "    forename = ' '.join(name.text for name in forename)\n",
    "    surname = ' '.join([name.text for name in author.findall('tei:surname', namespaces=namespace)])\n",
    "    author_name = forename + ' ' + surname\n",
    "    file_dict['authors'].append(author_name)\n",
    "file_dict"
   ]
  },
  {
   "cell_type": "code",
   "execution_count": null,
   "metadata": {},
   "outputs": [],
   "source": [
    "# abstract\n",
    "abstract = root.find('.//tei:teiHeader/tei:profileDesc/tei:abstract/tei:div/tei:p', namespaces=namespace)\n",
    "print(abstract)\n",
    "if abstract is not None:\n",
    "    file_dict['abstract'] = abstract.text\n",
    "file_dict"
   ]
  },
  {
   "cell_type": "code",
   "execution_count": null,
   "metadata": {},
   "outputs": [],
   "source": [
    "# Body\n",
    "body = root.findall('.//tei:text/tei:body/tei:div', namespaces=namespace)\n",
    "\n",
    "for i, child in enumerate(body):\n",
    "    ps = child.findall('.//tei:p', namespaces=namespace)\n",
    "    if len(ps) == 0:\n",
    "        continue\n",
    "    head = child.find('.//tei:head', namespaces=namespace).text\n",
    "    content = '\\n'.join([get_full_text(p) for p in ps])\n",
    "    file_dict[head] = content\n",
    "file_dict"
   ]
  },
  {
   "cell_type": "code",
   "execution_count": null,
   "metadata": {},
   "outputs": [],
   "source": [
    "from utils.custom_document_reader import CustomDocumentReader\n",
    "\n",
    "documents = CustomDocumentReader(\n",
    "    input_dir=\"/home/zhengzheng/scratch0/projects/Fine-Tuned-GPT-2-with-articles-ground-truth/data\",\n",
    "    cache_dir=\"/home/zhengzheng/scratch0/projects/Fine-Tuned-GPT-2-with-articles-ground-truth/code/llamaIndex/.cache\",\n",
    "    config_path=\"/home/zhengzheng/scratch0/projects/Fine-Tuned-GPT-2-with-articles-ground-truth/code/llamaIndex/utils/config.json\",\n",
    "    remove_cache=False\n",
    ")._load_data()"
   ]
  },
  {
   "cell_type": "markdown",
   "metadata": {},
   "source": [
    "### CustomSplitter"
   ]
  },
  {
   "cell_type": "code",
   "execution_count": null,
   "metadata": {},
   "outputs": [],
   "source": [
    "from llama_index.core.node_parser import SentenceSplitter\n",
    "\n",
    "ss1 = SentenceSplitter(\n",
    "    chunk_size=1024,\n",
    "    include_metadata=True,\n",
    "    include_prev_next_rel=True,\n",
    ")"
   ]
  },
  {
   "cell_type": "code",
   "execution_count": null,
   "metadata": {},
   "outputs": [],
   "source": [
    "from llama_index.core.storage.docstore import SimpleDocumentStore\n",
    "nodes = ss1.get_nodes_from_documents(documents)\n",
    "docstore = SimpleDocumentStore()\n",
    "docstore.add_documents(nodes)\n",
    "docstore.persist(persist_path=\"/home/zhengzheng/scratch0/projects/Fine-Tuned-GPT-2-with-articles-ground-truth/code/llamaIndex/.cache/test.json\")\n"
   ]
  },
  {
   "cell_type": "code",
   "execution_count": null,
   "metadata": {},
   "outputs": [],
   "source": [
    "from llama_index.core.node_parser import SimpleFileNodeParser\n",
    "\n",
    "nodes = SimpleFileNodeParser().get_nodes_from_documents(documents=documents)"
   ]
  },
  {
   "cell_type": "code",
   "execution_count": null,
   "metadata": {},
   "outputs": [],
   "source": [
    "for k, v in nodes[0].to_dict().items():\n",
    "    print(f\"key: {k}\\nvalue: {v}\\n\\n\")"
   ]
  },
  {
   "cell_type": "code",
   "execution_count": null,
   "metadata": {},
   "outputs": [],
   "source": [
    "from utils.custom_document_reader import CustomDocumentReader\n",
    "\n",
    "documents = CustomDocumentReader(\n",
    "    input_dir=\"/home/zhengzheng/scratch0/projects/Fine-Tuned-GPT-2-with-articles-ground-truth/data\",\n",
    "    cache_dir=\"/home/zhengzheng/scratch0/projects/Fine-Tuned-GPT-2-with-articles-ground-truth/code/llamaIndex/.cache\",\n",
    "    config_path=\"/home/zhengzheng/scratch0/projects/Fine-Tuned-GPT-2-with-articles-ground-truth/code/llamaIndex/utils/config.json\",\n",
    "    remove_cache=False\n",
    ")._load_data()\n",
    "\n",
    "from utils.custom_parser import CustomHierarchicalNodeParser\n",
    "hnp = CustomHierarchicalNodeParser.from_defaults()\n",
    "hnp._parse_nodes(documents)"
   ]
  },
  {
   "cell_type": "markdown",
   "metadata": {},
   "source": [
    "### Test custom document reader"
   ]
  },
  {
   "cell_type": "code",
   "execution_count": null,
   "metadata": {},
   "outputs": [],
   "source": [
    "from utils.custom_document_reader import CustomDocumentReader\n",
    "\n",
    "documents = CustomDocumentReader(\n",
    "    input_dir=\"/home/zhengzheng/scratch0/projects/Fine-Tuned-GPT-2-with-articles-ground-truth/data\",\n",
    "    cache_dir=\"/home/zhengzheng/scratch0/projects/Fine-Tuned-GPT-2-with-articles-ground-truth/code/llamaIndex/.cache\",\n",
    "    config_path=\"/home/zhengzheng/scratch0/projects/Fine-Tuned-GPT-2-with-articles-ground-truth/code/llamaIndex/utils/config.json\",\n",
    "    remove_cache=False\n",
    ")._load_data()\n",
    "\n",
    "from utils.custom_parser import CustomHierarchicalNodeParser\n",
    "hnp = CustomHierarchicalNodeParser.from_defaults()\n",
    "nodes = hnp.get_nodes_from_documents(documents)"
   ]
  },
  {
   "cell_type": "code",
   "execution_count": null,
   "metadata": {},
   "outputs": [],
   "source": [
    "len(documents)"
   ]
  },
  {
   "cell_type": "code",
   "execution_count": null,
   "metadata": {},
   "outputs": [],
   "source": [
    "len(nodes)"
   ]
  },
  {
   "cell_type": "code",
   "execution_count": null,
   "metadata": {},
   "outputs": [],
   "source": [
    "from utils.custom_extractor import HuggingfaceBasedExtractor, OllamaBasedExtractor, OpenAIBasedExtractor\n",
    "\n",
    "extractor = OllamaBasedExtractor(\n",
    "    model_name='sammcj/sfr-embedding-mistral:Q4_K_M',\n",
    "    only_meta={'level': ['section']}\n",
    ")\n",
    "\n",
    "extractor.extract(nodes)"
   ]
  },
  {
   "cell_type": "markdown",
   "metadata": {},
   "source": [
    "### Pydantic"
   ]
  },
  {
   "cell_type": "code",
   "execution_count": null,
   "metadata": {},
   "outputs": [],
   "source": [
    "from utils.get import get_a_store\n",
    "file_path = 'D:\\\\Projects(D)\\\\Fine-Tuned-GPT-2-with-articles-ground-truth\\\\code\\\\llamaIndex\\\\.cache\\\\test-gpt-4o-batch_1_parser_CustomHierarchicalNodeParser-vicuna_13b.json'\n",
    "docstore = get_a_store('SimpleDocumentStore').from_persist_path(persist_path=file_path)\n",
    "nodes = [node for _, node in docstore.docs.items()][:4]"
   ]
  },
  {
   "cell_type": "code",
   "execution_count": null,
   "metadata": {},
   "outputs": [],
   "source": [
    "from custom.custom_extractor import OpenAIBasedQARExtractor\n",
    "from custom.schema import QAR\n",
    "from dotenv import load_dotenv\n",
    "\n",
    "load_dotenv()\n",
    "extractor = OpenAIBasedQARExtractor(\n",
    "    model_name='gpt-4o',\n",
    "    cache_dir='D:\\\\Projects(D)\\\\Fine-Tuned-GPT-2-with-articles-ground-truth\\\\code\\\\llamaIndex\\\\.cache',\n",
    "    mode='immediately',\n",
    "    embedding_only=True,\n",
    "    only_meta=None\n",
    ")"
   ]
  },
  {
   "cell_type": "code",
   "execution_count": null,
   "metadata": {},
   "outputs": [],
   "source": [
    "outputs = extractor.extract(nodes, 'test', 'test_action', 'D:\\\\Projects(D)\\\\Fine-Tuned-GPT-2-with-articles-ground-truth\\\\code\\\\llamaIndex\\\\.cache')"
   ]
  },
  {
   "cell_type": "code",
   "execution_count": null,
   "metadata": {},
   "outputs": [],
   "source": [
    "nodes[0].metadata['questions_this_excerpt_can_answer_and_corresponding_answers_and_reasons'].split('\\n')"
   ]
  },
  {
   "cell_type": "code",
   "execution_count": null,
   "metadata": {},
   "outputs": [],
   "source": [
    "nodes[0].metadata['questions_this_excerpt_can_answer_and_corresponding_answers_and_reasons'].split('\\n')"
   ]
  },
  {
   "cell_type": "code",
   "execution_count": null,
   "metadata": {},
   "outputs": [],
   "source": [
    "import re\n",
    "def extract_json_str(text: str) -> list:\n",
    "    \"\"\"Extract JSON strings from text.\"\"\"\n",
    "    matches = re.findall(r'\\{.*?\\}', text.strip(), re.MULTILINE | re.IGNORECASE | re.DOTALL)\n",
    "    if not matches:\n",
    "        raise ValueError(f\"Could not extract json strings from output: {text}\")\n",
    "    return matches\n",
    "\n",
    "text = \"\"\"```json\n",
    "[\n",
    "    {\n",
    "        \"Question\": \"What are the main pathological features of Parkinson's disease as described in the document?\",\n",
    "        \"Answer\": \"The main pathological feature of Parkinson's disease is the progressive destruction of dopamine-producing cells in the substantia nigra region of the brain stem.\",\n",
    "        \"Reason\": \"This specific detail about the pathological feature is highlighted in the context and is not general knowledge.\"\n",
    "    },\n",
    "    {\n",
    "        \"Question\": \"How does the document describe the role of neuromelanin in Parkinson's disease?\",\n",
    "        \"Answer\": \"The document suggests that neuromelanin may serve as an indication of catecholamine synthesis in neuronal systems containing dopamine or norepinephrine and may influence neuronal metabolism due to the heavy metals it contains.\",\n",
    "        \"Reason\": \"This insight into neuromelanin's role and its potential impact on neuronal metabolism is unique to the context provided.\"\n",
    "    },\n",
    "    {\n",
    "        \"Question\": \"What evidence does the document provide to support the hypothesis that oxidative stress is involved in Parkinson's disease?\",\n",
    "        \"Answer\": \"The document provides evidence such as increased membrane peroxidation in the substantia nigra, elevated TBA-reactive substance levels, increased 8-hydroxy-2′deoxyguanosine levels, and low phospholipid turnover in the substantia nigra.\",\n",
    "        \"Reason\": \"These specific pieces of evidence are detailed in the context and are not commonly known facts.\"\n",
    "    },\n",
    "    {\n",
    "        \"Question\": \"What are the potential sources of increased oxidative stress in Parkinson's disease according to the document?\",\n",
    "        \"Answer\": \"Potential sources include dopamine metabolism, mitochondrial dysfunction, increased free iron levels, accumulation of AGEs, reduced activity of free radical defense systems, and the deleterious role of glial cells.\",\n",
    "        \"Reason\": \"The document lists these specific sources, providing a comprehensive view that is unique to the context.\"\n",
    "    },\n",
    "    {\n",
    "        \"Question\": \"How does the document describe the involvement of mitochondrial dysfunction in Parkinson's disease?\",\n",
    "        \"Answer\": \"The document describes mitochondrial dysfunction as involving abnormalities of the respiratory chain, particularly a 30-40% decrease in complex I activity in the substantia nigra, which leads to reductions in ATP production and elevated ROS generation.\",\n",
    "        \"Reason\": \"This detailed description of mitochondrial dysfunction and its specific impact on Parkinson's disease is unique to the context provided.\"\n",
    "    }\n",
    "]\n",
    "\"\"\"\n",
    "\n",
    "for k in extract_json_str(text):\n",
    "    print(k)\n",
    "# print(extract_json_str(text))"
   ]
  },
  {
   "cell_type": "markdown",
   "metadata": {},
   "source": [
    "### Custom IO nodes"
   ]
  },
  {
   "cell_type": "code",
   "execution_count": null,
   "metadata": {},
   "outputs": [],
   "source": [
    "from llama_index.core.storage.docstore import SimpleDocumentStore\n",
    "docstore = SimpleDocumentStore.from_persist_path(persist_path=\"/home/zhengzheng/scratch0/projects/Fine-Tuned-GPT-2-with-articles-ground-truth/code/llamaIndex/.cache/test_2_parser_CustomHierarchicalNodeParser-ollama_vicuna_13b.json\")\n",
    "nodes = [node for _, node in docstore.docs.items()]"
   ]
  },
  {
   "cell_type": "code",
   "execution_count": null,
   "metadata": {},
   "outputs": [],
   "source": [
    "from llama_index.core.schema import TextNode\n",
    "TextNode.from_dict(nodes[0].to_dict())"
   ]
  },
  {
   "cell_type": "code",
   "execution_count": null,
   "metadata": {},
   "outputs": [],
   "source": [
    "len(nodes)"
   ]
  },
  {
   "cell_type": "code",
   "execution_count": null,
   "metadata": {},
   "outputs": [],
   "source": [
    "nodes[0].get_content()"
   ]
  },
  {
   "cell_type": "code",
   "execution_count": null,
   "metadata": {},
   "outputs": [],
   "source": [
    "import os, sys\n",
    "root_dir = os.path.abspath(os.path.join(os.path.dirname(os.getcwd()), '..'))\n",
    "sys.path.insert(0, root_dir)"
   ]
  },
  {
   "cell_type": "code",
   "execution_count": null,
   "metadata": {},
   "outputs": [],
   "source": [
    "import json\n",
    "from typing import List\n",
    "from tqdm import tqdm\n",
    "from llama_index.core.schema import BaseNode, TextNode\n",
    "\n",
    "def save_nodes_jsonl(file_path: str, nodes: List[BaseNode]):\n",
    "    try:\n",
    "        with open(file_path, 'w') as file:\n",
    "            for node in tqdm(nodes, desc='Saving nodes...'):\n",
    "                json.dump(node.to_dict(), file)\n",
    "                file.write('\\n')\n",
    "    except Exception as e:\n",
    "        print(f\"An error occurred while saving nodes: {e}\")\n",
    "\n",
    "def load_nodes_jsonl(file_path: str) -> List[TextNode]:\n",
    "    nodes = []\n",
    "    \n",
    "    try:\n",
    "        # Get the total file size\n",
    "        file_size = os.path.getsize(file_path)\n",
    "        \n",
    "        # Read the file and track progress based on bytes read\n",
    "        with open(file_path, 'r') as file:\n",
    "            with tqdm(total=file_size, desc='Loading nodes...', unit='B', unit_scale=True, unit_divisor=1024) as pbar:\n",
    "                for line in file:\n",
    "                    node_data = json.loads(line)\n",
    "                    nodes.append(TextNode.from_dict(node_data))\n",
    "                    # Update progress bar based on bytes read\n",
    "                    pbar.update(len(line))\n",
    "    except Exception as e:\n",
    "        print(f\"An error occurred while loading nodes: {e}\")\n",
    "    \n",
    "    return nodes\n"
   ]
  },
  {
   "cell_type": "code",
   "execution_count": null,
   "metadata": {},
   "outputs": [],
   "source": [
    "file_path = '/home/zhengzheng/scratch0/projects/Fine-Tuned-GPT-2-with-articles-ground-truth/code/llamaIndex/.cache/test.jsonl'\n",
    "save_nodes_jsonl(file_path, nodes)"
   ]
  },
  {
   "cell_type": "code",
   "execution_count": null,
   "metadata": {},
   "outputs": [],
   "source": [
    "nodes = load_nodes_jsonl(file_path)\n",
    "print(len(nodes))"
   ]
  },
  {
   "cell_type": "markdown",
   "metadata": {},
   "source": [
    "### get pocessing node id"
   ]
  },
  {
   "cell_type": "code",
   "execution_count": null,
   "metadata": {},
   "outputs": [],
   "source": [
    "import os\n",
    "file_path = '/home/zhengzheng/scratch0/projects/Fine-Tuned-GPT-2-with-articles-ground-truth/code/llamaIndex/.cache/gpt-4o-batch-all-p_2_parser_ManuallyHierarchicalNodeParser_7879_processing.jsonl'\n",
    "nodes = load_nodes_jsonl(file_path)"
   ]
  },
  {
   "cell_type": "code",
   "execution_count": null,
   "metadata": {},
   "outputs": [],
   "source": [
    "_cache_process_path = '/home/zhengzheng/scratch0/projects/Fine-Tuned-GPT-2-with-articles-ground-truth/code/llamaIndex/.cache/pid-20.jsonl'\n",
    "latest_level = -1\n",
    "_level2nodes = {}\n",
    "level2int = {level: i for i, level in enumerate([\"document\", \"section\", \"paragraph\", \"multi-sentences\"])}"
   ]
  },
  {
   "cell_type": "code",
   "execution_count": null,
   "metadata": {},
   "outputs": [],
   "source": [
    "cache_file = open(_cache_process_path, 'r')"
   ]
  },
  {
   "cell_type": "code",
   "execution_count": null,
   "metadata": {},
   "outputs": [],
   "source": [
    "if os.path.exists(_cache_process_path):\n",
    "    file_size = os.path.getsize(_cache_process_path)\n",
    "    i = 1\n",
    "    with open(_cache_process_path, 'r') as cache_file:\n",
    "        with tqdm(total=file_size, desc='Loading cache...', unit='B', unit_scale=True, unit_divisor=1024) as pbar:\n",
    "            for line in cache_file:\n",
    "                try:\n",
    "                    node_dict = json.loads(line)\n",
    "                    node = TextNode.from_dict(node_dict)\n",
    "                    if level2int[node.metadata['level']] > latest_level:\n",
    "                        latest_level = level2int[node.metadata['level']]\n",
    "                        _level2nodes[latest_level] = []\n",
    "                    _level2nodes[level2int[node.metadata['level']]].append(node)\n",
    "                except Exception as e:\n",
    "                    print(e)\n",
    "                # Update progress bar based on bytes read\n",
    "                pbar.update(len(line))\n",
    "                i += 1"
   ]
  },
  {
   "cell_type": "code",
   "execution_count": 41,
   "metadata": {},
   "outputs": [
    {
     "data": {
      "text/plain": [
       "{'title': 'Selecting phototrophic species of native biocrusts in arid and semi-arid regions',\n",
       " 'authors': ['Leila Kashi Zenouzi',\n",
       "  'Hasan Kaboli',\n",
       "  'Kazem Khavazi',\n",
       "  'Mohammad Sohrabi',\n",
       "  'Mohammad Khosroshahi',\n",
       "  'Ulf Karsten',\n",
       "  'Seyed Hasan Kaboli'],\n",
       " 'file_name': 'Selecting_phototrophic_species_of_native.pdf',\n",
       " 'level': 'document',\n",
       " 'original_content': 'Title: Selecting phototrophic species of native biocrusts in arid and semi-arid regions\\n\\n[1. abstract]\\nBackground: Biological soil crusts (BSCs) that are able to produce sticky extracellular polymeric substances (EPS) play an important role in the formation of soil aggregates, thereby, reducing soil erosion. In this study, experiments were undertaken to identify biocrust species that produce EPS, in order to combat desertification in the Sejzi desert of Iran. Methods: A biocrust distribution map of Sejzi plain was prepared using Landsat 8 OLI images, then, various sampling points were selected. Some physicochemical parameters of samples from lichendominated and non-biocrusted areas were measured. The relationship between soil parameters and biocrusts presence was confirmed based on the Pearson\\'s correlation coefficient and principal component analysis (PCA) method. The type of chemical compounds in the soil content were determined via Fourier transform infrared spectroscopy (FTIR), including polysaccharides. To estimate the degradability of polysaccharides, each soil sample was placed under defined UV-B radiation for 24, 48, and 72 hours at three replications. Results: There was no significant correlation between moss and lichen species with the amount of EPS (%) values and various occurring cyanolichen species in three biocrusted soil samples, which included Collema coccophorum, Collema tenax, Peccania terricola, and Placidium squamulosum. It was speculated that these polysaccharides were produced by the photobiotic partners (microalgae or cyanobacteria) and secreted to the soil. Conclusion: According to the results, the cyanobacteria species of biocrusted samples might have high potential to combat desertification and soil stabilization in Sejzi desert.\\n\\n[2. Introduction]\\nBiological soil crusts (BSCs) are an important vegetation type in drylands, which enrich the upper millimeters of the soil with organic matter and nutrients, thereby, initiating biogeochemical cycles (1). Biocrusts play multiple essential roles in ecosystem functions . Biocrusts play multiple essential roles in ecosystem functions (2,3), including soil stabilization due to their dense network of algal/cyanobacterial filaments in combination with sticky extracellular polymeric substances (EPS), that are secreted as cellular sheaths and mucilage , including soil stabilization due to their dense network of algal/cyanobacterial filaments in combination with sticky extracellular polymeric substances (EPS), that are secreted as cellular sheaths and mucilage (4)(5)(6)..\\nThese communities effectively stabilize the soil surface, impeding the drift and migration of soil particles by wind (7)(8)(9) and water  and water (10). The EPS accumulate in a threedimensional extracellular polymeric matrix constituted by fractions with different grades of gelation . The EPS accumulate in a threedimensional extracellular polymeric matrix constituted by fractions with different grades of gelation (11). This matrix is an important biocrust component that serves in a wide array of functions, from conferring stability and cohesion to the crust structure and maintaining the moisture against evapotranspiration, as well as the exchange of nutrients and minerals at the microscale . This matrix is an important biocrust component that serves in a wide array of functions, from conferring stability and cohesion to the crust structure and maintaining the moisture against evapotranspiration, as well as the exchange of nutrients and minerals at the microscale (11,12)..\\nLichen species appear to be one of the strongest predictors for biocrust community composition, and highly-structured lichen-associated bacterial communities (microbiome) reflect different functional roles in symbiosis with the host (13,14). Differences in chemistry, structure, and growth of lichen-dominated biocrusts (e.g. crustose, foliose or fruticose lichens) also create a wide diversity of ecological niches for additional microorganisms (e.g. microalgae). Rhizobiales is typically the most abundant and taxonomically diverse order in lichen microbiomes . Differences in chemistry, structure, and growth of lichen-dominated biocrusts (e.g. crustose, foliose or fruticose lichens) also create a wide diversity of ecological niches for additional microorganisms (e.g. microalgae). Rhizobiales is typically the most abundant and taxonomically diverse order in lichen microbiomes (14,15)..\\nBiocrusts composed of lichens and cyanobacteria certainly secrete a wide variety of primary and secondary metabolites, such as oxalates, and other acid compounds, such as gyrophoric acid, lecanoric acid, and usnic acid (16)(17)(18)(19)(20), while the hydrophilic part of the lichens are typically composed of a large number of extracellular polysaccharides, that could also promote the growth of anaerobic bacteria , while the hydrophilic part of the lichens are typically composed of a large number of extracellular polysaccharides, that could also promote the growth of anaerobic bacteria (13), and some of these polysaccharides are of chemotaxonomic value , and some of these polysaccharides are of chemotaxonomic value (7). By applying chemical methods, it is still very difficult to distinguish to what extent soil polysaccharides are derived from plants, lichens or microorganisms . By applying chemical methods, it is still very difficult to distinguish to what extent soil polysaccharides are derived from plants, lichens or microorganisms (21). The soil with the lowest initial microbial biomass (lowest clay content) showed the highest polysaccharide enrichment, and the resulting fastest soil aggregate stabilizing effect is one of the highest ecological interest . The soil with the lowest initial microbial biomass (lowest clay content) showed the highest polysaccharide enrichment, and the resulting fastest soil aggregate stabilizing effect is one of the highest ecological interest (22), concerning rehabilitation strategies in drylands and disturbed ecosystems. Most interesting, the stability of soil polysaccharides in its native state is not related to its chemical composition or structural complexity, but rather to its unavailability to soil microorganisms or their extracellular hydrolytic enzymes , concerning rehabilitation strategies in drylands and disturbed ecosystems. Most interesting, the stability of soil polysaccharides in its native state is not related to its chemical composition or structural complexity, but rather to its unavailability to soil microorganisms or their extracellular hydrolytic enzymes (21,23)..\\nThe polysaccharides from Nostoc and other cyanobacterial strains that are photobionts of cyanolichens are typically composed of different monosaccharides such as hexoses (glucose, galactose, mannose), pentoses (ribose, xylose, arabinose), deoxy sugars (fucose and rhamnose), and acidic hexoses (glucuronic and galacturonic acid) (24). There are some evidence indicating that increases in the rhamnose or mannose proportion of polysaccharides lead to higher soil aggregate stability. Several microbial polysaccharides are already highly effective soil-binding agents at very low concentrations . There are some evidence indicating that increases in the rhamnose or mannose proportion of polysaccharides lead to higher soil aggregate stability. Several microbial polysaccharides are already highly effective soil-binding agents at very low concentrations (25). More sensitive detection methods seemed necessary to analyze all of the individual sugars also in the lowest concentrations, which may play a role as soil-binding agents . More sensitive detection methods seemed necessary to analyze all of the individual sugars also in the lowest concentrations, which may play a role as soil-binding agents (21). The aggregate-stabilizing effectiveness is more related to the molecular weight than to the chemical composition of polysaccharides . The aggregate-stabilizing effectiveness is more related to the molecular weight than to the chemical composition of polysaccharides (26). The biosynthesis of extracellular polysaccharides in cyanobacteria is induced by UV-B radiation. Fluence rates of UV-B which are within the magnitude of natural solar radiation induce a cascade of physiological and biochemical responses in Nostoc commune. In its natural habitat, Nostoc has to cope with high solar radiation under often dry conditions, in which photodamage cannot be efficiently repaired . The biosynthesis of extracellular polysaccharides in cyanobacteria is induced by UV-B radiation. Fluence rates of UV-B which are within the magnitude of natural solar radiation induce a cascade of physiological and biochemical responses in Nostoc commune. In its natural habitat, Nostoc has to cope with high solar radiation under often dry conditions, in which photodamage cannot be efficiently repaired (27), and hence, extracellular polysaccharides are supposed to contribute to stress tolerance., and hence, extracellular polysaccharides are supposed to contribute to stress tolerance.\\nThe study aimed to determine the most suitable cyanolichen species of native biocrusts in arid and semiarid regions of Sejzi desert (Iran) that produced high amounts of extracellular polysaccharides and are resistant to UV-B radiation. The soil carbohydrate measurements were designed in such a way that samples with the highest carbohydrate values were selected for the identification and isolation of biocrust lichen species. The hypothesis of this study was that polysaccharides produced by biocrusts, in particular by cyanolichens, stabilize the soil, and this biological activity can be applied to propagate biocrust species in order to combat desertification and improve soil stabilization in Sejzi desert (Iran).\\n\\n[3. Sampling]\\nThe soil samples were prepared form Sajzi desert which is the central desert of Iran, Isfahan (52°27\\'41\"-51°52\\'32\"-E, 32°33′31\"-32°55′ 01\" N). This desert is located at 1680 m above sea level, with the average slope of 1.08%, and sampling was performed in a 200 ha area (Figure 1). The climate of Sejzi plain is Mediterranean and dry based on the De Martonne and Ambreje classification method ). The climate of Sejzi plain is Mediterranean and dry based on the De Martonne and Ambreje classification method (28), with a mean annual precipitation of 106 mm. The vascular vegetation is dominated by Artemisia siberi, Artemisia siberi-Noaea mucronata, Scariola orientalis, Salsola tomentosa, Alhagi persarum, Tamarix sp, and Anabasis haussknechtii., with a mean annual precipitation of 106 mm. The vascular vegetation is dominated by Artemisia siberi, Artemisia siberi-Noaea mucronata, Scariola orientalis, Salsola tomentosa, Alhagi persarum, Tamarix sp, and Anabasis haussknechtii.\\nMap of biocrust distribution was prepared using Landsat 8 OLI satellite data (Figure 1).).\\n\\n[4. BSCI =]\\nWhere R RED and R GREEN are the reflectance of the green and red band, and R GREENREDNIR represents the mean reflectance in the red, green, and near-infrared band of the sensor. L represents an adjustment parameter to amplify the absolute difference between R GREEN and R RED (29)..\\nBiocrust distribution map was validated, after a field surveying using a stratified random sampling method. The overall classification accuracy and overall Kappa statistics index were 0.9312 and 94%, respectively. Afterwards, the maps of biocrust distribution, vegetation cover, and basic soil properties (pH, EC, and soil texture) were blended in order to determine the same number of sampling points in each areal polygon, depending on the homogeneity of vegetation and soil properties. Because of the Mediterranean climate and the beginning of rainfall in the late October in Sejzi plain, resulting in increasing soil moisture and activity of BSCs, the first week of December was selected for sampling. However, only lichen-dominated and non-biocrusted soil samples were collected. In each of the homogenous areal polygons, biocrusted soils were randomly collected from 100 m transects at three locations every 30 m (Figure 1A). Soil samples were collected from areal polygon without biocrusts at a depth of 0-15 cm of topsoil surface (Figure ). Soil samples were collected from areal polygon without biocrusts at a depth of 0-15 cm of topsoil surface (Figure 2A,C,E). Sampling depth depended on the biocrust cover thickness (Figure ). Sampling depth depended on the biocrust cover thickness (Figure 2B,D,F). According to the thickness of biocrusts, soil samples were collected from 1-15 cm or 3-15 mm underneath the topsoil surface. Due to similar lichen species associated with biocrusts, three samples were collected with a distance of approximately 30 m from each sampling point, about 1 kg dry weight, and after mixing all three replicate samples, a homogeneous soil sample was prepared. Similar samples were collected from non-biocrusted areas. Finally, all of 40 soil samples (20 soil samples underneath lichen-dominated biocrusts and 20 non-biocrusted soil samples) were analyzed.). According to the thickness of biocrusts, soil samples were collected from 1-15 cm or 3-15 mm underneath the topsoil surface. Due to similar lichen species associated with biocrusts, three samples were collected with a distance of approximately 30 m from each sampling point, about 1 kg dry weight, and after mixing all three replicate samples, a homogeneous soil sample was prepared. Similar samples were collected from non-biocrusted areas. Finally, all of 40 soil samples (20 soil samples underneath lichen-dominated biocrusts and 20 non-biocrusted soil samples) were analyzed.\\n\\n[5. Identification of cyanolichen dominated biocrusts]\\nThe material was examined using standard microscopic techniques. Specimens were treated according to Obermayer (30) and determined by examination of their morphological properties using a microscope with magnifications of 40X and 100X, according to Dobson  and determined by examination of their morphological properties using a microscope with magnifications of 40X and 100X, according to Dobson (31), , Malcolm and Galloway (32), and Ryan et al , and Ryan et al (33). Anatomical properties were investigated by preparing thin layers of the thallus and fruiting bodies . Anatomical properties were investigated by preparing thin layers of the thallus and fruiting bodies (34). Moreover, the chemical characters were investigated by spot tests. In special cases, thin layers chromatography were done. The principal determination keys used were according to Awasthi . Moreover, the chemical characters were investigated by spot tests. In special cases, thin layers chromatography were done. The principal determination keys used were according to Awasthi (35), , Gaya (36), , Krzewicka (37), , Magnusson (38), Nash et al , Nash et al (39), Schultz et al , Schultz et al (40), Sliwa (41), Smith et al , Sliwa (41), Smith et al (42), Temina et al , Temina et al (43). The specimens names were taxonomically considered via Index Fungorum (http:// www.speciesfungorum.org/names/names.asp) and Mycobank . The specimens names were taxonomically considered via Index Fungorum (http:// www.speciesfungorum.org/names/names.asp) and Mycobank (44). The examined species were deposited in Iranian Research Organization for Science and Technology (IROST) with its acronym ICH (Iranian Cryptogamic Herbarium).. The examined species were deposited in Iranian Research Organization for Science and Technology (IROST) with its acronym ICH (Iranian Cryptogamic Herbarium).\\n\\n[6. Physicochemical soil properties]\\nThe following soil physicochemical properties were measured: pH, electrical conductivity (EC) (45), CaCo 3 (titration NaOH 1N), organic carbon content (OC%) in % dry weight , CaCo 3 (titration NaOH 1N), organic carbon content (OC%) in % dry weight (46), soil texture , soil texture (47), wet aggregate stability (WAS) , wet aggregate stability (WAS) (48), and mean weight diameter (MWD) , and mean weight diameter (MWD) (48). Dry grain size distribution curves were plotted according to the standard test method for sieve analysis of fine and coarse aggregates (ASTM C136), and the weight percentage of particles less than 0.84 mm were calculated as an index of soil wind erosion . Dry grain size distribution curves were plotted according to the standard test method for sieve analysis of fine and coarse aggregates (ASTM C136), and the weight percentage of particles less than 0.84 mm were calculated as an index of soil wind erosion (49). To measure aggregate dry stability (ADS) index, 50 g of soil sample was passed through a series of standard mesh sizes, and soil particles were separated as the medium sand (0.1-0.5 mm) and fine sand (0.0105-0.07 mm), and transferred into centrifuge tubes. They were centrifuged at 5,000 rpm for 5 minutes. The fine sand particles were bombarded with coarse sand and due to the force of friction at high speeds, they were crushed, and hence, the resistance of the aggregates was measured by the collision of the particles at high centrifugation speeds. Afterwards, the soil samples in the centrifuge tubes were added again to the same initial amount and again for 50g of the soil, soil texture and the percentages of silt and clay in the samples were calculated according to Folk and Ward . To measure aggregate dry stability (ADS) index, 50 g of soil sample was passed through a series of standard mesh sizes, and soil particles were separated as the medium sand (0.1-0.5 mm) and fine sand (0.0105-0.07 mm), and transferred into centrifuge tubes. They were centrifuged at 5,000 rpm for 5 minutes. The fine sand particles were bombarded with coarse sand and due to the force of friction at high speeds, they were crushed, and hence, the resistance of the aggregates was measured by the collision of the particles at high centrifugation speeds. Afterwards, the soil samples in the centrifuge tubes were added again to the same initial amount and again for 50g of the soil, soil texture and the percentages of silt and clay in the samples were calculated according to Folk and Ward (47). According to the following formula, based on the difference between the values of silt and clay, the amount of ADS was calculated.. According to the following formula, based on the difference between the values of silt and clay, the amount of ADS was calculated.\\nWhere A is the amount of silt in soil sample before\\n\\n[7. Fourier Transform Infrared Spectroscopy (FTIR)]\\nTo identify the type of organic compounds present in the soil samples, FTIR analysis was performed for samples which had higher OC (%) values (23,(50)(51)(52)(53)(54). Solid compounds should be tested in the form of a compact tablet or as a clearly deposited film. To prevent the scattering of IR rays, fine soil particles (silt and clay) were separated using a standard sieve (No. 200). Particles with a size less than 74 µm were dried at 2 to 5 mg in petri dishes for 24 hours at 150°C to eliminate the effect of water on the FTIR spectral reflection. Then, they were mixed with dry potassium bromide powder in a ratio of 2 to 200 mg in an opal mortar, and prepared to a paste. Small tablets of 0.5 to 1.5 mm in diameter can be tested using an optical thickener. The mixture was squeezed into a clear tablet under a pressure of 10 000 to 15 000 psi. Using FB-IR MB-154 Bomem spectrometer and Bomem Easy software (ABB, Zurich, Switzerland), spectra for each sample were obtained.. Solid compounds should be tested in the form of a compact tablet or as a clearly deposited film. To prevent the scattering of IR rays, fine soil particles (silt and clay) were separated using a standard sieve (No. 200). Particles with a size less than 74 µm were dried at 2 to 5 mg in petri dishes for 24 hours at 150°C to eliminate the effect of water on the FTIR spectral reflection. Then, they were mixed with dry potassium bromide powder in a ratio of 2 to 200 mg in an opal mortar, and prepared to a paste. Small tablets of 0.5 to 1.5 mm in diameter can be tested using an optical thickener. The mixture was squeezed into a clear tablet under a pressure of 10 000 to 15 000 psi. Using FB-IR MB-154 Bomem spectrometer and Bomem Easy software (ABB, Zurich, Switzerland), spectra for each sample were obtained.\\n\\n[8. EPS quantification and analysis]\\nTo measure the polysaccharides content in soil, they were first passed through standard No. 140 sieve (particle size less than 106 µm) (55). Two g of soil was weighed into a 250 ml Erlenmeyer flask and 4 mL of 0.5 N NaOH was added to separate the soil particles completely . Two g of soil was weighed into a 250 ml Erlenmeyer flask and 4 mL of 0.5 N NaOH was added to separate the soil particles completely (55,56), and then, left for 3 hours in the lab. Then, 8 mL of 12 M sulfuric acid was added. The flasks were covered with a glass lid and left for 2 hours. Then, 184 mL of distilled water was added to dilute the 12 M sulfuric acid to 0.5 M (56). The soil samples were placed in an oven at 85°C for 16 hours to hydrolyze soil polysaccharides , and then, left for 3 hours in the lab. Then, 8 mL of 12 M sulfuric acid was added. The flasks were covered with a glass lid and left for 2 hours. Then, 184 mL of distilled water was added to dilute the 12 M sulfuric acid to 0.5 M (56). The soil samples were placed in an oven at 85°C for 16 hours to hydrolyze soil polysaccharides (55). The samples were centrifuged at 5000 rpm for 15 minutes and supernatants were filtered through Whatman filter papers grade 595 . The samples were centrifuged at 5000 rpm for 15 minutes and supernatants were filtered through Whatman filter papers grade 595 (22). To quantify polysaccharides, 5% phenol reagent was added . To quantify polysaccharides, 5% phenol reagent was added (56,57). Glucose standards (0.5 mg/L, 1 mg/L, 1.5 mg/L) were prepared and their absorbance were measured at 490 nm with a UV/VIS spectrophotometer (Jenway) . Glucose standards (0.5 mg/L, 1 mg/L, 1.5 mg/L) were prepared and their absorbance were measured at 490 nm with a UV/VIS spectrophotometer (Jenway) (56,58)..\\nTo determine the chemical degradability of polysaccharides, 3 g of each soil samples was sieved by standard mesh No. 140 (particle size less than 0.1 mm) and spread on the surface of a Petri dish and placed under a UV-B lamp (T5 8W, 220-240 V) with maximum radiation at a wavelength of 254 nm. Triplicates of each soil sample were prepared. The first, second, and third series were exposed to UV radiation for 24, 48, and 72 hours, respectively. Then, based on the above-mentioned method, the polysaccharides content in the soil was measured in each sample.\\n\\n[9. High-Performance Liquid Chromatography (HPLC)]\\nTo identify monosaccharides from the chemically hydrolyzed soil polysaccharides, the HPLC method was applied using a PUMP K-1001 (KNAUER GmbH, Berlin, Germany), Nucleosil-100 NH2 column (250 × 4.6 mm, 5 μm), and a K-2301 Refractive Index (RI) detector. The mobile phase and flow rates were acetonitrile/water (80:20 v/v) and 1 mL/min, respectively. 20 μL of the sample was injected onto the column at 30°C and four types of monosaccharides including glucose, mannose, xylose, and arabinose were examined in the 20 soil samples.\\n\\n[10. Statistical analyses]\\nPearson\\'s correlation coefficient was calculated to investigate the linear relationship between two variables (59), i.e. soil physicochemical parameters under biocrust coverage and non-biocrusted samples. Then, principal component analysis (PCA) statistical test (60) was used to analyze the effect of soil properties on biocrust formation. was used to analyze the effect of soil properties on biocrust formation.\\n\\n[11. Specifications of lichen species identified in Sejzi desert]\\nA total of 32 species of terrestrial lichens were collected from Sejzi desert. Most of the lichens were classified as cyanolichens, i.e. their photobiont partners are represented by cyanobacterial species. Images of the most frequent cyanolichens in Sejzi plain are shown in Figure 3..\\n\\n[12. The relationship between soil properties and biocrust distribution]\\nSoils underneath biocrusts showed a significant Pearson\\'s correlation with soil stability indexes (Table 1). The samples had the highest correlation with the MWD, dry soil stability index (ADS), OC (%), and N (%). Based on the data in Table ). The samples had the highest correlation with the MWD, dry soil stability index (ADS), OC (%), and N (%). Based on the data in Table 1, biocrust increased the MWD, thereby, reducing the erosion rate. Due to decreasing amount of particles with a size less than 0.84mm (d<0.84 mm), the present biocrusts reduced soil erosion in Sejzi plain, as reflected in an inverse relationship between this parameter and biocrusts., biocrust increased the MWD, thereby, reducing the erosion rate. Due to decreasing amount of particles with a size less than 0.84mm (d<0.84 mm), the present biocrusts reduced soil erosion in Sejzi plain, as reflected in an inverse relationship between this parameter and biocrusts.\\nThe ADS index data showed that the occurrence of biocrust (r = -0.657) is effective on soil strength, i.e. by increasing the aggregation of soil particles in the dry state due to the collision with other particles at a high speed. This shows what percentage of the average amount of silt has changed to clay. The negative correlation between the soil underneath the biocrusts and the ADS index indicates the positive effect of the biocrust cover on increasing the aggregate resistance. According to Eq. 2, with increasing biocrust cover, the ADS index will be reduced. According to the relationship between WAS (0.623) index and MWD (0.702), biocrusts also increased soil stability in wet situation, so they protect soil against water erosion. Based on the EC measurements in the soil samples of Sejzi Desert, it can be concluded that the salinity of soils negatively affects the biocrust distribution. Biocrusts led to an increase in the percentage of OC and N, thereby, improving the soil quality. The soil samples underneath the biocrusts collected from lichen-dominated areas, showed a positive correlation with the percentage of clay. In comparison with silt or sandy soils, clay has an important role to be rather stable in the field, so lichens are preferentially found in clay soils. In Sejzi desert, biocrusts do not have a significant effect on increasing CaCO 3 (%) in the soil. Although this relationship is not significant at 95% level, there is a positive relationship between the percentage of lime and biocrusts. pH had a low significant effect on the distribution of biocrusts at 95% confidence level. The percentage of OC and N showed a strong negative significant correlation with ADS index.\\nPCA was performed to classify all factors influencing a biocrusted and non-biocrusted soil based on the correlation between the parameters (Figure 4a). The score plot shows that all parameters affected by biocrusts (red points that were classified as number 1) separated from the other parameters (black points that were classified as number 0).). The score plot shows that all parameters affected by biocrusts (red points that were classified as number 1) separated from the other parameters (black points that were classified as number 0).\\nThe loading plot was performed based on the highest covariance difference of soil parameters (Figure 4b). This plot clearly shows that the covariance difference of OC (%), N (%), ADS, MWD, WAS, CaCo 3 (%), and pH parameters in biocrusted soil are low, and hence, these parameters are the most important factors. Conversely, the lowest differences of covariance were observed in the EC, d<0.84 mm, silt (%) and sand (%) values in nonbiocrusted soils. Moreover, loading of PCA, indicated that the maximum length of the axis belonged to OC (%), N (%), MWD, WAS, and ADS, so in these parameters, the difference in the covariance of the biocrust community samples is minimal.). This plot clearly shows that the covariance difference of OC (%), N (%), ADS, MWD, WAS, CaCo 3 (%), and pH parameters in biocrusted soil are low, and hence, these parameters are the most important factors. Conversely, the lowest differences of covariance were observed in the EC, d<0.84 mm, silt (%) and sand (%) values in nonbiocrusted soils. Moreover, loading of PCA, indicated that the maximum length of the axis belonged to OC (%), N (%), MWD, WAS, and ADS, so in these parameters, the difference in the covariance of the biocrust community samples is minimal.\\nAnalysis of PC1 component, which compared soil parameters at level 67.6%, showed the highest covariance difference among soil samples, which was related to soil texture and EC. The non-biocrusted soil samples contained more sand and silt than biocrusted soil samples, whereas biocrusted soil samples had higher clay content. The higher values of CaCO 3 were measured in the biocrusted soil samples. The second component of PC2 at level 21.8% indicated that the differences in covariance are related to sand (%), silt (%), clay (%), CaCO 3 (%), d < 0.84 mm, and  EC of the soil samples (Figures 5a and andb).).\\n\\n[13. Soil organic compounds identification via FTIR]\\nChemical components of soils with an OC (%) more than 0.5%, were analyzed by the FTIR spectra (Table 2). Some of the samples exhibited a stronger intensity of absorption than the others, as shown, for example, for sample 567 (Figure ). Some of the samples exhibited a stronger intensity of absorption than the others, as shown, for example, for sample 567 (Figure 6).).\\n\\n[14. EPS content of biocrusted soil samples]\\nThe polysaccharide contents among the soil samples were different. The highest amount of polysaccharide was 0.16%, which belonged to sample 581 and the lowest one was 0.05% as determined in samples 564, 565, and 572. After being placed under UV-B radiation, the amounts of polysaccharide were measured again in the previous soil samples, which indicted the highest content of polysaccharides by 0.11% and 0.10% in the samples 574, 575, and 567, respectively. There was no statistically significant difference between the amount of polysaccharides of UV-B-treated soil samples at both 48 and 72 hours (t-test). There was a difference in the amount of EPS between control samples and soils exposed to UV-B for 24 h (t-stat = 2.97, t-critical = 1.96) and 48 hours (t-stat = 2.15, t-critical = 1.69). Therefore, UV-B degraded the polysaccharides by 50% in the soil samples during 48 h of exposure to UV-B (Figure 7). The amount of EPS in the sample 567 similar to the other samples (Table ). The amount of EPS in the sample 567 similar to the other samples (Table 3), but EPS or the biocrust species were more resistant to UV-B compared to the other samples. The same results could be seen in the samples 574 and 575 (Table ), but EPS or the biocrust species were more resistant to UV-B compared to the other samples. The same results could be seen in the samples 574 and 575 (Table 3). Biocrust species in these samples included as cyanolichen dominated Peccania terricola, Collema tenax, Collema cocophorum, and Placidium squamulosum. But these species also observed in other samples (Figure ). Biocrust species in these samples included as cyanolichen dominated Peccania terricola, Collema tenax, Collema cocophorum, and Placidium squamulosum. But these species also observed in other samples (Figure 7).).\\nEPS% was also measured along with a vertical soil depth profile in 3 selected samples (Table 3), and the polysaccharide values increased in the soil depth. In all samples, EPS% was enriched at a soil depth of 15-25 cm   in comparison with the soil depth of 10-15 and 0-10 cm (Table ), and the polysaccharide values increased in the soil depth. In all samples, EPS% was enriched at a soil depth of 15-25 cm   in comparison with the soil depth of 10-15 and 0-10 cm (Table 4).).\\n\\n[15. High-Performance Liquid Chromatography]\\nMannose, glucose, arabinose, and xylose were detected as the monosaccharide composition of EPS in the underneath biocrusts soil samples (Table 4). Arabinose was present at all soil samples, while none of the abovementioned monosaccharides could be seen in two samples, 565 and 566, which were from the soil underneath of Peccania arizonica and moss, respectively, could be detected. The soil samples collected from the underneath of Collema tenax and Collema coccophorum contained different amounts of arabinose. Xylose was detected in sample 571.). Arabinose was present at all soil samples, while none of the abovementioned monosaccharides could be seen in two samples, 565 and 566, which were from the soil underneath of Peccania arizonica and moss, respectively, could be detected. The soil samples collected from the underneath of Collema tenax and Collema coccophorum contained different amounts of arabinose. Xylose was detected in sample 571.\\n\\n[16. Discussion]\\nThe most effective role of biocrusts to improve soil properties Soil samples were collected according to the Sejzi plain rainfall regime in early December at the same time as the of biocrust activity occurred, during a season that the number of sunny days and sunny hours were low. Because of general life strategies of biocrust species during the environmental stress, such as low availability of soil water  or enhanced UV radiation in summer, their metabolic activities temporarily stop until the abiotic conditions improve. Biocrusts play important ecological roles in improving soil properties in different ways (74), such as increasing OC (%) , such as increasing OC (%) (75,76) and N (%) (77), producing CaCO 3 and EPS, which increase soil stability and aggregate formation  and N (%) (77), producing CaCO 3 and EPS, which increase soil stability and aggregate formation (78), gluing soil particles together, thereby, making large aggregates by biocrust filaments , gluing soil particles together, thereby, making large aggregates by biocrust filaments (79), adjusting the effect of anions and cations such as reduction of soil EC and exchangeable sodium , adjusting the effect of anions and cations such as reduction of soil EC and exchangeable sodium (80), and rising soil porosity and infiltration , and rising soil porosity and infiltration (81). According to the data belonged to ADS, WAS, and WMD, biocrusts could enhance soil OC and so improve soil quality and stability. Therefore, it can be possible to use biocrusts to increase the carbon sequestration process, to modify the quality of Sejzi desert soil, and finally, to control wind erosion. This ecological strategy will provide a useful solution to combat desertification. Some reports consider particle size less than 0.84 mm as an index of wind erosion for top soil . According to the data belonged to ADS, WAS, and WMD, biocrusts could enhance soil OC and so improve soil quality and stability. Therefore, it can be possible to use biocrusts to increase the carbon sequestration process, to modify the quality of Sejzi desert soil, and finally, to control wind erosion. This ecological strategy will provide a useful solution to combat desertification. Some reports consider particle size less than 0.84 mm as an index of wind erosion for top soil (82); reducing the diameter dry clay to 0.1 mm is effective against erosion. If the diameter of the dry particles in the soil is than 0.1 mm, the wind erosion will be reduced. This is because a unit volume of the smallest aggregates has the greatest surface for protecting the erodible particles ; reducing the diameter dry clay to 0.1 mm is effective against erosion. If the diameter of the dry particles in the soil is than 0.1 mm, the wind erosion will be reduced. This is because a unit volume of the smallest aggregates has the greatest surface for protecting the erodible particles (82) and the fluid and impact threshold drag velocities for dry grains greater than 0.1 mm in diameter vary as the square root of the product of equivalent diameter of the grain and the density relationship of the fluid and the grain  and the fluid and impact threshold drag velocities for dry grains greater than 0.1 mm in diameter vary as the square root of the product of equivalent diameter of the grain and the density relationship of the fluid and the grain (83). The threshold drag velocity for a mixture of different comparable sizes of erodible particles is less than that required to erode only the largest particles. Movement of the larger particles is facilitated by bombardment received from the smaller particles moving in saltation . The threshold drag velocity for a mixture of different comparable sizes of erodible particles is less than that required to erode only the largest particles. Movement of the larger particles is facilitated by bombardment received from the smaller particles moving in saltation (83). It is clear that the ADS index indicates that the presence of biocrusts (r = -0.657) is effective in increasing soil strength. The ADS index shows the extent to which greater aggregates are broken down when bombarded by other particles. Based on the results of the present study, biocrusts using their filaments and secreting exopolysaccharides in the soil content, had made greater aggregates, which have more cohesion and adhesion. It means that these aggregates are broken less than the other particles in soil content without biocrust cover. Therefore, strengthening the community of biocrusts is an effective idea to reduce dust storms. As a result of the wind blowing, the aggregates separate from their beds and first creep. By increasing wind velocity, lighter particles move near the earth\\'s surface by saltation in the air. These aggregates are separated from their substrates and are affected by the force of the wind friction. Besides, they collide with other particles in the air and disintegrate. If this process frequently occurs in the field, the soil aggregates are constantly broken and become smaller and lighter, and as a result, will be more easily removed from the bed even by medium and low wind speed, which will enhance their distribution in the air, causing dust storms. But, soil limiting factors for biocrust cover in Sejzi desert are EC, soil texture, and CaCO 3 (%), respectively. To combat desertification in Sejzi desert, these soil parameters must always be considered first, especially the limitation by EC and soil texture, and according to these results, rehabilitation measures can be adopted and applied. Such measures include the utilization of biocrust organisms, such as suitable lichens or microorganisms, to improve soil conditions, for example, by reducing erosion processes, thereby, combating desertification. To identify suitable biocrust microorganisms, they have first to be isolated from field samples, purified and established as clonal cultures. Afterwards, they can be characterized in terms of their stress tolerance and productivity, and promising strains can be used for field application, for example, by spraying on degraded soils, thereby, promoting artificial biocrust formation . It is clear that the ADS index indicates that the presence of biocrusts (r = -0.657) is effective in increasing soil strength. The ADS index shows the extent to which greater aggregates are broken down when bombarded by other particles. Based on the results of the present study, biocrusts using their filaments and secreting exopolysaccharides in the soil content, had made greater aggregates, which have more cohesion and adhesion. It means that these aggregates are broken less than the other particles in soil content without biocrust cover. Therefore, strengthening the community of biocrusts is an effective idea to reduce dust storms. As a result of the wind blowing, the aggregates separate from their beds and first creep. By increasing wind velocity, lighter particles move near the earth\\'s surface by saltation in the air. These aggregates are separated from their substrates and are affected by the force of the wind friction. Besides, they collide with other particles in the air and disintegrate. If this process frequently occurs in the field, the soil aggregates are constantly broken and become smaller and lighter, and as a result, will be more easily removed from the bed even by medium and low wind speed, which will enhance their distribution in the air, causing dust storms. But, soil limiting factors for biocrust cover in Sejzi desert are EC, soil texture, and CaCO 3 (%), respectively. To combat desertification in Sejzi desert, these soil parameters must always be considered first, especially the limitation by EC and soil texture, and according to these results, rehabilitation measures can be adopted and applied. Such measures include the utilization of biocrust organisms, such as suitable lichens or microorganisms, to improve soil conditions, for example, by reducing erosion processes, thereby, combating desertification. To identify suitable biocrust microorganisms, they have first to be isolated from field samples, purified and established as clonal cultures. Afterwards, they can be characterized in terms of their stress tolerance and productivity, and promising strains can be used for field application, for example, by spraying on degraded soils, thereby, promoting artificial biocrust formation (84)..\\n\\n[17. Selecting a perfect soil sample to isolate suitable biocrust species]\\nThe carbohydrates constitute between 5% and 25% of the soil organic matter (85). The presence of a substantial polysaccharide fraction in a relatively stable form in the soil humus indicates that: (a): It consists of polysaccharides of microbial and plant origin which are resistant to decomposition. (b): That certain plant or microbial polysaccharides or their partial degradation products form salts or complexes with metal ions, clays, or humic complexes which are resistant to decomposition. (c): That new complex polysaccharide molecules characteristics of or peculiar to the soil environment are formed which are resistant to decomposition, or that (d): A combination of all or some of the above-mentioned factors are involved . The presence of a substantial polysaccharide fraction in a relatively stable form in the soil humus indicates that: (a): It consists of polysaccharides of microbial and plant origin which are resistant to decomposition. (b): That certain plant or microbial polysaccharides or their partial degradation products form salts or complexes with metal ions, clays, or humic complexes which are resistant to decomposition. (c): That new complex polysaccharide molecules characteristics of or peculiar to the soil environment are formed which are resistant to decomposition, or that (d): A combination of all or some of the above-mentioned factors are involved (86). All these components were found in soil samples content according to their FTIR spectra. The peaks at 1000 to 1030 cm -1 , which were related to C-H bands, were identified as polysaccharides from FTIR spectra. The Si-O stretching vibrations of kaolinite and dickite give several well-resolved strong bands in the 1120-1000 cm -1 region. The di-or trioctahedral nature of a mineral apparently influences where the Si-O stretching band appears within a spectrum, as bands for the trioctahedral minerals which appear at higher wavenumbers (1030-1020 cm -1 ) than the dioctahedral minerals (~1010 cm -1 ) . All these components were found in soil samples content according to their FTIR spectra. The peaks at 1000 to 1030 cm -1 , which were related to C-H bands, were identified as polysaccharides from FTIR spectra. The Si-O stretching vibrations of kaolinite and dickite give several well-resolved strong bands in the 1120-1000 cm -1 region. The di-or trioctahedral nature of a mineral apparently influences where the Si-O stretching band appears within a spectrum, as bands for the trioctahedral minerals which appear at higher wavenumbers (1030-1020 cm -1 ) than the dioctahedral minerals (~1010 cm -1 ) (86). Mineral absorbance corresponds to that of the constituent units. The 3750-3400 cm -1 region corresponded to OH stretching vibrations. In the 950-600 cm -1 region, OH bending vibrations occur. Absorption of Si-O stretching vibrations is a characteristic for the 1200-700 cm -1 region and absorption band of Si-O bending vibrations is between 600 and 150 cm -1 . Mineral absorbance corresponds to that of the constituent units. The 3750-3400 cm -1 region corresponded to OH stretching vibrations. In the 950-600 cm -1 region, OH bending vibrations occur. Absorption of Si-O stretching vibrations is a characteristic for the 1200-700 cm -1 region and absorption band of Si-O bending vibrations is between 600 and 150 cm -1 (87). Several new vibration bands appeared at ~3399, 1640, and 1435 cm -1 in the FTIR spectra of NH 3 -adsorbed montmorillonite (Figure . Several new vibration bands appeared at ~3399, 1640, and 1435 cm -1 in the FTIR spectra of NH 3 -adsorbed montmorillonite (Figure 5) and were attributed to the coordinated NH 3 to the Lewis acid sites (denoted as L:NH 3 , ~3399 and 1640 cm -1 ) and NH 4 (1435 cm -1 ) (87-89). The broad spanning (3500-3200 cm -1 ) was assigned to O-H vibration from water, alcohols, carboxylic acids, phenols, and N-H vibration for amides ) and were attributed to the coordinated NH 3 to the Lewis acid sites (denoted as L:NH 3 , ~3399 and 1640 cm -1 ) and NH 4 (1435 cm -1 ) (87-89). The broad spanning (3500-3200 cm -1 ) was assigned to O-H vibration from water, alcohols, carboxylic acids, phenols, and N-H vibration for amides (88,89). The peak at 3620 cm -1 originated from the stretching vibration of O-H in the clay minerals . The peak at 3620 cm -1 originated from the stretching vibration of O-H in the clay minerals (90). In the case of overlaps between C=N (amide II) and aromatic C=C at 1530 cm -1 , or polysaccharide type (e.g. lignin, cellulose, and pectin) for C-O absorbance at 1160-1020 cm -1 . In the case of overlaps between C=N (amide II) and aromatic C=C at 1530 cm -1 , or polysaccharide type (e.g. lignin, cellulose, and pectin) for C-O absorbance at 1160-1020 cm -1 (91)..\\nThe high values of polysaccharides in soil can not the only reason for the suitability of aggregates. The biocrust species had possibly produced a large amount of EPS, which is degradable under environmental stresses such as UV-B. Thus, the biocrusts which produce more EPS are not always the most suitable organisms. In addition, the EPS resistance against UV-B is not sufficient to use them in arid regions to improve soil quality. As mentioned before, under drought conditions, high UV-B and salinity, biocrusts use different mechanisms to adapt and settle in the field, and they stop their biological activities which prevent formation of soil aggregates. So, both resistance and the EPS (%) are important before the biocrusts start their activities again and produce useful compounds in soil content. All samples collected from soils containing biocrust had different amounts of polysaccharide with high amounts in three samples of 567, 574, and 575, which showed the highest resistance to UV-B. Therefore, the native biocrust species in these three samples might be suitable to combat desertification in arid and semi-arid regions. However, the underlying organisms that had the most effectiveness to EPS production, have not yet been identified. Identification of super molecules of polysaccharides that are secreted in soil content by microorganisms, is very difficult. It is clear that the monosaccharides never have a role in soil functions as those secreted by biocruts. However, the role of monomer of polysaccharides identification can be evaluated based on some of soil physicochemical properties such as increasing of aggregates stabilization. However, it depends on the clay type in soil, because all clay anions and cations have strong interactions with EPS and formation of aggregates in soil content. For example, K of kaolinite and Ca and Mg of montmorillonite play a main role in establishing chemical bonds in soil content. So, it is necessary to determine the type of clay in soil content. Therefore, identification of monosaccharides, which play a main role in increasing soil stability, is so difficult and it is necessary to investigate all the functions between soil structure and monosaccharides. They must tested in many types of soil, in terms of soil texture, types of clay, bulk density, particle density, EC, CaCo , soil water content, and etc. to understand the main reason of EPS resistance in these three soil samples. It is difficult to determine which monomer plays the most important role in functions between clay mineral\\'s cations or anions. Maybe just the supermolecule of EPS plays the main role and it is wrong to test each of monomers to understand the soil functions in this way.\\nFinally, from an applied perspective, it is important to exactly determine which species has the greatest potential for settlement in Sejzi desert and are suitable to combat desertification. The macro biocrust species in these three samples are dominated by the cyanolichen Collema coccophorum, Collema tenax, Peccania terricola, and Placidium squamulosum, which had the highest amounts of EPS (%) (Figure 3). In these samples, the symbiotic microorganisms may play an important role in producing EPS. Therefore, the main species of biocrusts, which are photoautotrophic and can be located in Sejzi desert, are the photobiont part of cyanolichens, namely some species of cyanobacteria. In deserts, terrestrial biocrust communities are the main species to investigate their effects in soil properties. Therefore, it could be assumed that in the same condition of cultures, the cyanobacteria that are symbiosis with cynolichens , have more adaptation to their environment, as a result of which, they have gained more resistance to harsh environmental conditions. Maybe it is related to their processes in nature. Lichen-dominated areas appears one or two stages after moss-dominated areas and they have gone through more difficult stages and settled in their habitat, so they can be survived under UV-B more than the other specimens that had been symbiosis with mosses.). In these samples, the symbiotic microorganisms may play an important role in producing EPS. Therefore, the main species of biocrusts, which are photoautotrophic and can be located in Sejzi desert, are the photobiont part of cyanolichens, namely some species of cyanobacteria. In deserts, terrestrial biocrust communities are the main species to investigate their effects in soil properties. Therefore, it could be assumed that in the same condition of cultures, the cyanobacteria that are symbiosis with cynolichens , have more adaptation to their environment, as a result of which, they have gained more resistance to harsh environmental conditions. Maybe it is related to their processes in nature. Lichen-dominated areas appears one or two stages after moss-dominated areas and they have gone through more difficult stages and settled in their habitat, so they can be survived under UV-B more than the other specimens that had been symbiosis with mosses.\\n\\n[18. Conclusion]\\nHowever, there are still many open questions which must be addressed in follow-up studies of this less-well investigated region. The relationship between biocrusts and wind or water erosion indices must be determined in our country, Iran. It is very important to investigate biocrust affection in aggregates stability, soil limiting factors to settlement of biocrusts. Finding suitable biocrust organisms as soil engineers is of great importance for the arid regions of Iran as a natural strategy to reduce soil erosion.\\n\\n'}"
      ]
     },
     "execution_count": 41,
     "metadata": {},
     "output_type": "execute_result"
    }
   ],
   "source": [
    "_level2nodes[0][0].metadata"
   ]
  },
  {
   "cell_type": "code",
   "execution_count": null,
   "metadata": {},
   "outputs": [],
   "source": [
    "len(_level2nodes)"
   ]
  },
  {
   "cell_type": "code",
   "execution_count": null,
   "metadata": {},
   "outputs": [],
   "source": [
    "print(_level2nodes)"
   ]
  },
  {
   "cell_type": "code",
   "execution_count": null,
   "metadata": {},
   "outputs": [],
   "source": [
    "print(len(_level2nodes[0]), len(_level2nodes[1]))"
   ]
  },
  {
   "cell_type": "code",
   "execution_count": null,
   "metadata": {},
   "outputs": [],
   "source": [
    "level = 0\n",
    "processed_prev_level_nodes_id = set()\n",
    "for node in _level2nodes[level]:\n",
    "    processed_prev_level_nodes_id.add(node.ref_doc_id)\n",
    "prev_level_nodes = []\n",
    "for node in nodes:\n",
    "    if node.id_ not in processed_prev_level_nodes_id:\n",
    "        prev_level_nodes.append(node)"
   ]
  },
  {
   "cell_type": "code",
   "execution_count": null,
   "metadata": {},
   "outputs": [],
   "source": [
    "print(len(processed_prev_level_nodes_id))"
   ]
  },
  {
   "cell_type": "code",
   "execution_count": null,
   "metadata": {},
   "outputs": [],
   "source": [
    "\n",
    "\n",
    "def _init_get_nodes_from_nodes(nodes):\n",
    "        latest_level = 0\n",
    "        prev_level_nodes = nodes\n",
    "        _cache_process_path = '/home/zhengzheng/scratch0/projects/Fine-Tuned-GPT-2-with-articles-ground-truth/code/llamaIndex/.cache/pid-0.jsonl'\n",
    "\n",
    "        if _cache_process_path is not None:\n",
    "            # init attributions\n",
    "            latest_level = -1\n",
    "            _level2nodes = {}\n",
    "            level2int = {level: i for i, level in enumerate([\"document\", \"section\", \"paragraph\", \"multi-sentences\"])}\n",
    "            \n",
    "            # loading nodes\n",
    "            if os.path.exists(_cache_process_path):\n",
    "                file_size = os.path.getsize(_cache_process_path)\n",
    "                with open(_cache_process_path, 'r') as cache_file:\n",
    "                    with tqdm(total=file_size, desc='Loading cache...', unit='B', unit_scale=True, unit_divisor=1024) as pbar:\n",
    "                        for line in cache_file:\n",
    "                            try:\n",
    "                                node_dict = json.loads(line)\n",
    "                                node = TextNode.from_dict(node_dict)\n",
    "                                if level2int[node.metadata['level']] > latest_level:\n",
    "                                    latest_level = level2int[node.metadata['level']]\n",
    "                                    _level2nodes[latest_level] = []\n",
    "                                    _level2nodes[latest_level].append(node)\n",
    "                            except Exception as e:\n",
    "                                print(e)\n",
    "                            # Update progress bar based on bytes read\n",
    "                            pbar.update(len(line))\n",
    "            _cache_process_file = open(_cache_process_path, 'a+')\n",
    "\n",
    "            latest_level = max(latest_level, 0)\n",
    "\n",
    "            # get prev_level_nodes\n",
    "            if latest_level == 1:\n",
    "                latest_level = 0\n",
    "                processed_prev_level_nodes_id = set()\n",
    "                for node in _level2nodes[latest_level]:\n",
    "                    processed_prev_level_nodes_id.add(node.ref_doc_id)\n",
    "                prev_level_nodes = []\n",
    "                for node in nodes:\n",
    "                    if node.id_ not in processed_prev_level_nodes_id:\n",
    "                        prev_level_nodes.append(node)\n",
    "                \n",
    "            if latest_level > 1:\n",
    "                processed_prev_level_nodes_id = set()\n",
    "                for node in _level2nodes[latest_level]:\n",
    "                    parent_node_id = node.relationships[NodeRelationship.PARENT].node_id\n",
    "                    processed_prev_level_nodes_id.add(parent_node_id)\n",
    "                prev_level_nodes = []\n",
    "                for node in _level2nodes[latest_level-1]:\n",
    "                    if node.id_ not in processed_prev_level_nodes_id:\n",
    "                        prev_level_nodes.append(node)\n",
    "\n",
    "        return latest_level, prev_level_nodes"
   ]
  },
  {
   "cell_type": "code",
   "execution_count": null,
   "metadata": {},
   "outputs": [],
   "source": [
    "from llama_index.core.schema import BaseNode, Document, NodeRelationship\n",
    "\n",
    "print(nodes[-1].relationships[NodeRelationship.PARENT])"
   ]
  },
  {
   "cell_type": "code",
   "execution_count": null,
   "metadata": {},
   "outputs": [],
   "source": []
  },
  {
   "cell_type": "code",
   "execution_count": null,
   "metadata": {},
   "outputs": [],
   "source": [
    "len(processed_section_nodes_id)"
   ]
  },
  {
   "cell_type": "code",
   "execution_count": null,
   "metadata": {},
   "outputs": [],
   "source": [
    "node_dict.keys()"
   ]
  },
  {
   "cell_type": "code",
   "execution_count": null,
   "metadata": {},
   "outputs": [],
   "source": [
    "len(node_dict['paragraph'])"
   ]
  },
  {
   "cell_type": "code",
   "execution_count": null,
   "metadata": {},
   "outputs": [],
   "source": [
    "len(node_dict['section'])"
   ]
  },
  {
   "cell_type": "code",
   "execution_count": null,
   "metadata": {},
   "outputs": [],
   "source": []
  }
 ],
 "metadata": {
  "kernelspec": {
   "display_name": "base",
   "language": "python",
   "name": "python3"
  },
  "language_info": {
   "codemirror_mode": {
    "name": "ipython",
    "version": 3
   },
   "file_extension": ".py",
   "mimetype": "text/x-python",
   "name": "python",
   "nbconvert_exporter": "python",
   "pygments_lexer": "ipython3",
   "version": "3.11.3"
  }
 },
 "nbformat": 4,
 "nbformat_minor": 2
}
