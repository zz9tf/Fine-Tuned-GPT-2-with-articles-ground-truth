{
 "cells": [
  {
   "cell_type": "markdown",
   "metadata": {},
   "source": [
    "### Reader"
   ]
  },
  {
   "cell_type": "code",
   "execution_count": 5,
   "metadata": {},
   "outputs": [
    {
     "ename": "FileNotFoundError",
     "evalue": "[Errno 2] No such file or directory: '/home/zhengzheng/scratch0/projects/Fine-Tuned-GPT-2-with-articles-ground-truth/code/llamaIndex/.cache'",
     "output_type": "error",
     "traceback": [
      "\u001b[0;31m---------------------------------------------------------------------------\u001b[0m",
      "\u001b[0;31mFileNotFoundError\u001b[0m                         Traceback (most recent call last)",
      "Cell \u001b[0;32mIn[5], line 4\u001b[0m\n\u001b[1;32m      2\u001b[0m \u001b[38;5;28;01mimport\u001b[39;00m \u001b[38;5;21;01mxml\u001b[39;00m\u001b[38;5;21;01m.\u001b[39;00m\u001b[38;5;21;01metree\u001b[39;00m\u001b[38;5;21;01m.\u001b[39;00m\u001b[38;5;21;01mElementTree\u001b[39;00m \u001b[38;5;28;01mas\u001b[39;00m \u001b[38;5;21;01mET\u001b[39;00m\n\u001b[1;32m      3\u001b[0m cache_path \u001b[38;5;241m=\u001b[39m \u001b[38;5;124m'\u001b[39m\u001b[38;5;124m/home/zhengzheng/scratch0/projects/Fine-Tuned-GPT-2-with-articles-ground-truth/code/llamaIndex/.cache\u001b[39m\u001b[38;5;124m'\u001b[39m\n\u001b[0;32m----> 4\u001b[0m filenames \u001b[38;5;241m=\u001b[39m [filename \u001b[38;5;28;01mfor\u001b[39;00m filename \u001b[38;5;129;01min\u001b[39;00m \u001b[43mos\u001b[49m\u001b[38;5;241;43m.\u001b[39;49m\u001b[43mlistdir\u001b[49m\u001b[43m(\u001b[49m\u001b[43mcache_path\u001b[49m\u001b[43m)\u001b[49m \u001b[38;5;28;01mif\u001b[39;00m filename\u001b[38;5;241m.\u001b[39mendswith(\u001b[38;5;124m'\u001b[39m\u001b[38;5;124mtei.xml\u001b[39m\u001b[38;5;124m'\u001b[39m)]\n\u001b[1;32m      7\u001b[0m \u001b[38;5;28;01mdef\u001b[39;00m \u001b[38;5;21mget_full_text\u001b[39m(element):\n\u001b[1;32m      8\u001b[0m     text \u001b[38;5;241m=\u001b[39m element\u001b[38;5;241m.\u001b[39mtext \u001b[38;5;129;01mor\u001b[39;00m \u001b[38;5;124m'\u001b[39m\u001b[38;5;124m'\u001b[39m\n",
      "\u001b[0;31mFileNotFoundError\u001b[0m: [Errno 2] No such file or directory: '/home/zhengzheng/scratch0/projects/Fine-Tuned-GPT-2-with-articles-ground-truth/code/llamaIndex/.cache'"
     ]
    }
   ],
   "source": [
    "import os\n",
    "import xml.etree.ElementTree as ET\n",
    "cache_path = '/home/zhengzheng/scratch0/projects/Fine-Tuned-GPT-2-with-articles-ground-truth/code/llamaIndex/.cache'\n",
    "filenames = [filename for filename in os.listdir(cache_path) if filename.endswith('tei.xml')]\n",
    "\n",
    "\n",
    "def get_full_text(element):\n",
    "    text = element.text or ''\n",
    "    for subelement in element:\n",
    "        text += ET.tostring(subelement, encoding='unicode', method='text')\n",
    "        if subelement.tail:\n",
    "            text += subelement.tail\n",
    "    return text.strip()\n",
    "\n",
    "iter_filenames = (iter(filenames))"
   ]
  },
  {
   "cell_type": "code",
   "execution_count": null,
   "metadata": {},
   "outputs": [],
   "source": [
    "file_path = os.path.join(cache_path, next(iter_filenames)) \n",
    "file_path"
   ]
  },
  {
   "cell_type": "code",
   "execution_count": null,
   "metadata": {},
   "outputs": [],
   "source": [
    "file_dict = {}\n",
    "tree = ET.parse(file_path)\n",
    "root = tree.getroot()\n",
    "\n",
    "namespace = {'tei': 'http://www.tei-c.org/ns/1.0'}"
   ]
  },
  {
   "cell_type": "code",
   "execution_count": null,
   "metadata": {},
   "outputs": [],
   "source": [
    "# title\n",
    "title = root.find('.//tei:teiHeader/tei:fileDesc/tei:titleStmt/tei:title', namespaces=namespace)\n",
    "file_dict['title'] = title.text\n",
    "file_dict"
   ]
  },
  {
   "cell_type": "code",
   "execution_count": null,
   "metadata": {},
   "outputs": [],
   "source": [
    "# authors\n",
    "authors = root.findall('.//tei:teiHeader/tei:fileDesc/tei:sourceDesc/tei:biblStruct/tei:analytic/tei:author/tei:persName', namespaces=namespace)\n",
    "file_dict['authors'] = []\n",
    "for author in authors:\n",
    "    forename = author.findall('tei:forename', namespaces=namespace)\n",
    "    if len(forename) == 0:\n",
    "        continue\n",
    "    forename = ' '.join(name.text for name in forename)\n",
    "    surname = ' '.join([name.text for name in author.findall('tei:surname', namespaces=namespace)])\n",
    "    author_name = forename + ' ' + surname\n",
    "    file_dict['authors'].append(author_name)\n",
    "file_dict"
   ]
  },
  {
   "cell_type": "code",
   "execution_count": null,
   "metadata": {},
   "outputs": [],
   "source": [
    "# abstract\n",
    "abstract = root.find('.//tei:teiHeader/tei:profileDesc/tei:abstract/tei:div/tei:p', namespaces=namespace)\n",
    "print(abstract)\n",
    "if abstract is not None:\n",
    "    file_dict['abstract'] = abstract.text\n",
    "file_dict"
   ]
  },
  {
   "cell_type": "code",
   "execution_count": null,
   "metadata": {},
   "outputs": [],
   "source": [
    "# Body\n",
    "body = root.findall('.//tei:text/tei:body/tei:div', namespaces=namespace)\n",
    "\n",
    "for i, child in enumerate(body):\n",
    "    ps = child.findall('.//tei:p', namespaces=namespace)\n",
    "    if len(ps) == 0:\n",
    "        continue\n",
    "    head = child.find('.//tei:head', namespaces=namespace).text\n",
    "    content = '\\n'.join([get_full_text(p) for p in ps])\n",
    "    file_dict[head] = content\n",
    "file_dict"
   ]
  },
  {
   "cell_type": "code",
   "execution_count": null,
   "metadata": {},
   "outputs": [],
   "source": [
    "from utils.custom_document_reader import CustomDocumentReader\n",
    "\n",
    "documents = CustomDocumentReader(\n",
    "    input_dir=\"/home/zhengzheng/scratch0/projects/Fine-Tuned-GPT-2-with-articles-ground-truth/data\",\n",
    "    cache_dir=\"/home/zhengzheng/scratch0/projects/Fine-Tuned-GPT-2-with-articles-ground-truth/code/llamaIndex/.cache\",\n",
    "    config_path=\"/home/zhengzheng/scratch0/projects/Fine-Tuned-GPT-2-with-articles-ground-truth/code/llamaIndex/utils/config.json\",\n",
    "    remove_cache=False\n",
    ")._load_data()"
   ]
  },
  {
   "cell_type": "markdown",
   "metadata": {},
   "source": [
    "### CustomSplitter"
   ]
  },
  {
   "cell_type": "code",
   "execution_count": null,
   "metadata": {},
   "outputs": [],
   "source": [
    "from llama_index.core.node_parser import SentenceSplitter\n",
    "\n",
    "ss1 = SentenceSplitter(\n",
    "    chunk_size=1024,\n",
    "    include_metadata=True,\n",
    "    include_prev_next_rel=True,\n",
    ")"
   ]
  },
  {
   "cell_type": "code",
   "execution_count": null,
   "metadata": {},
   "outputs": [],
   "source": [
    "from llama_index.core.storage.docstore import SimpleDocumentStore\n",
    "nodes = ss1.get_nodes_from_documents(documents)\n",
    "docstore = SimpleDocumentStore()\n",
    "docstore.add_documents(nodes)\n",
    "docstore.persist(persist_path=\"/home/zhengzheng/scratch0/projects/Fine-Tuned-GPT-2-with-articles-ground-truth/code/llamaIndex/.cache/test.json\")\n"
   ]
  },
  {
   "cell_type": "code",
   "execution_count": null,
   "metadata": {},
   "outputs": [],
   "source": [
    "from llama_index.core.node_parser import SimpleFileNodeParser\n",
    "\n",
    "nodes = SimpleFileNodeParser().get_nodes_from_documents(documents=documents)"
   ]
  },
  {
   "cell_type": "code",
   "execution_count": null,
   "metadata": {},
   "outputs": [],
   "source": [
    "for k, v in nodes[0].to_dict().items():\n",
    "    print(f\"key: {k}\\nvalue: {v}\\n\\n\")"
   ]
  },
  {
   "cell_type": "code",
   "execution_count": null,
   "metadata": {},
   "outputs": [],
   "source": [
    "from utils.custom_document_reader import CustomDocumentReader\n",
    "\n",
    "documents = CustomDocumentReader(\n",
    "    input_dir=\"/home/zhengzheng/scratch0/projects/Fine-Tuned-GPT-2-with-articles-ground-truth/data\",\n",
    "    cache_dir=\"/home/zhengzheng/scratch0/projects/Fine-Tuned-GPT-2-with-articles-ground-truth/code/llamaIndex/.cache\",\n",
    "    config_path=\"/home/zhengzheng/scratch0/projects/Fine-Tuned-GPT-2-with-articles-ground-truth/code/llamaIndex/utils/config.json\",\n",
    "    remove_cache=False\n",
    ")._load_data()\n",
    "\n",
    "from utils.custom_parser import CustomHierarchicalNodeParser\n",
    "hnp = CustomHierarchicalNodeParser.from_defaults()\n",
    "hnp._parse_nodes(documents)"
   ]
  },
  {
   "cell_type": "markdown",
   "metadata": {},
   "source": [
    "### Test custom document reader"
   ]
  },
  {
   "cell_type": "code",
   "execution_count": null,
   "metadata": {},
   "outputs": [],
   "source": [
    "from utils.custom_document_reader import CustomDocumentReader\n",
    "\n",
    "documents = CustomDocumentReader(\n",
    "    input_dir=\"/home/zhengzheng/scratch0/projects/Fine-Tuned-GPT-2-with-articles-ground-truth/data\",\n",
    "    cache_dir=\"/home/zhengzheng/scratch0/projects/Fine-Tuned-GPT-2-with-articles-ground-truth/code/llamaIndex/.cache\",\n",
    "    config_path=\"/home/zhengzheng/scratch0/projects/Fine-Tuned-GPT-2-with-articles-ground-truth/code/llamaIndex/utils/config.json\",\n",
    "    remove_cache=False\n",
    ")._load_data()\n",
    "\n",
    "from utils.custom_parser import CustomHierarchicalNodeParser\n",
    "hnp = CustomHierarchicalNodeParser.from_defaults()\n",
    "nodes = hnp.get_nodes_from_documents(documents)"
   ]
  },
  {
   "cell_type": "code",
   "execution_count": null,
   "metadata": {},
   "outputs": [],
   "source": [
    "len(documents)"
   ]
  },
  {
   "cell_type": "code",
   "execution_count": null,
   "metadata": {},
   "outputs": [],
   "source": [
    "len(nodes)"
   ]
  },
  {
   "cell_type": "code",
   "execution_count": null,
   "metadata": {},
   "outputs": [],
   "source": [
    "from utils.custom_extractor import HuggingfaceBasedExtractor, OllamaBasedExtractor, OpenAIBasedExtractor\n",
    "\n",
    "extractor = OllamaBasedExtractor(\n",
    "    model_name='sammcj/sfr-embedding-mistral:Q4_K_M',\n",
    "    only_meta={'level': ['section']}\n",
    ")\n",
    "\n",
    "extractor.extract(nodes)"
   ]
  },
  {
   "cell_type": "markdown",
   "metadata": {},
   "source": [
    "### Pydantic"
   ]
  },
  {
   "cell_type": "code",
   "execution_count": null,
   "metadata": {},
   "outputs": [],
   "source": [
    "from utils.get import get_a_store\n",
    "file_path = 'D:\\\\Projects(D)\\\\Fine-Tuned-GPT-2-with-articles-ground-truth\\\\code\\\\llamaIndex\\\\.cache\\\\test-gpt-4o-batch_1_parser_CustomHierarchicalNodeParser-vicuna_13b.json'\n",
    "docstore = get_a_store('SimpleDocumentStore').from_persist_path(persist_path=file_path)\n",
    "nodes = [node for _, node in docstore.docs.items()][:4]"
   ]
  },
  {
   "cell_type": "code",
   "execution_count": null,
   "metadata": {},
   "outputs": [],
   "source": [
    "from custom.custom_extractor import OpenAIBasedQARExtractor\n",
    "from custom.schema import QAR\n",
    "from dotenv import load_dotenv\n",
    "\n",
    "load_dotenv()\n",
    "extractor = OpenAIBasedQARExtractor(\n",
    "    model_name='gpt-4o',\n",
    "    cache_dir='D:\\\\Projects(D)\\\\Fine-Tuned-GPT-2-with-articles-ground-truth\\\\code\\\\llamaIndex\\\\.cache',\n",
    "    mode='immediately',\n",
    "    embedding_only=True,\n",
    "    only_meta=None\n",
    ")"
   ]
  },
  {
   "cell_type": "code",
   "execution_count": null,
   "metadata": {},
   "outputs": [],
   "source": [
    "outputs = extractor.extract(nodes, 'test', 'test_action', 'D:\\\\Projects(D)\\\\Fine-Tuned-GPT-2-with-articles-ground-truth\\\\code\\\\llamaIndex\\\\.cache')"
   ]
  },
  {
   "cell_type": "code",
   "execution_count": null,
   "metadata": {},
   "outputs": [],
   "source": [
    "nodes[0].metadata['questions_this_excerpt_can_answer_and_corresponding_answers_and_reasons'].split('\\n')"
   ]
  },
  {
   "cell_type": "code",
   "execution_count": null,
   "metadata": {},
   "outputs": [],
   "source": [
    "nodes[0].metadata['questions_this_excerpt_can_answer_and_corresponding_answers_and_reasons'].split('\\n')"
   ]
  },
  {
   "cell_type": "code",
   "execution_count": null,
   "metadata": {},
   "outputs": [],
   "source": [
    "import re\n",
    "def extract_json_str(text: str) -> list:\n",
    "    \"\"\"Extract JSON strings from text.\"\"\"\n",
    "    matches = re.findall(r'\\{.*?\\}', text.strip(), re.MULTILINE | re.IGNORECASE | re.DOTALL)\n",
    "    if not matches:\n",
    "        raise ValueError(f\"Could not extract json strings from output: {text}\")\n",
    "    return matches\n",
    "\n",
    "text = \"\"\"```json\n",
    "[\n",
    "    {\n",
    "        \"Question\": \"What are the main pathological features of Parkinson's disease as described in the document?\",\n",
    "        \"Answer\": \"The main pathological feature of Parkinson's disease is the progressive destruction of dopamine-producing cells in the substantia nigra region of the brain stem.\",\n",
    "        \"Reason\": \"This specific detail about the pathological feature is highlighted in the context and is not general knowledge.\"\n",
    "    },\n",
    "    {\n",
    "        \"Question\": \"How does the document describe the role of neuromelanin in Parkinson's disease?\",\n",
    "        \"Answer\": \"The document suggests that neuromelanin may serve as an indication of catecholamine synthesis in neuronal systems containing dopamine or norepinephrine and may influence neuronal metabolism due to the heavy metals it contains.\",\n",
    "        \"Reason\": \"This insight into neuromelanin's role and its potential impact on neuronal metabolism is unique to the context provided.\"\n",
    "    },\n",
    "    {\n",
    "        \"Question\": \"What evidence does the document provide to support the hypothesis that oxidative stress is involved in Parkinson's disease?\",\n",
    "        \"Answer\": \"The document provides evidence such as increased membrane peroxidation in the substantia nigra, elevated TBA-reactive substance levels, increased 8-hydroxy-2′deoxyguanosine levels, and low phospholipid turnover in the substantia nigra.\",\n",
    "        \"Reason\": \"These specific pieces of evidence are detailed in the context and are not commonly known facts.\"\n",
    "    },\n",
    "    {\n",
    "        \"Question\": \"What are the potential sources of increased oxidative stress in Parkinson's disease according to the document?\",\n",
    "        \"Answer\": \"Potential sources include dopamine metabolism, mitochondrial dysfunction, increased free iron levels, accumulation of AGEs, reduced activity of free radical defense systems, and the deleterious role of glial cells.\",\n",
    "        \"Reason\": \"The document lists these specific sources, providing a comprehensive view that is unique to the context.\"\n",
    "    },\n",
    "    {\n",
    "        \"Question\": \"How does the document describe the involvement of mitochondrial dysfunction in Parkinson's disease?\",\n",
    "        \"Answer\": \"The document describes mitochondrial dysfunction as involving abnormalities of the respiratory chain, particularly a 30-40% decrease in complex I activity in the substantia nigra, which leads to reductions in ATP production and elevated ROS generation.\",\n",
    "        \"Reason\": \"This detailed description of mitochondrial dysfunction and its specific impact on Parkinson's disease is unique to the context provided.\"\n",
    "    }\n",
    "]\n",
    "\"\"\"\n",
    "\n",
    "for k in extract_json_str(text):\n",
    "    print(k)\n",
    "# print(extract_json_str(text))"
   ]
  },
  {
   "cell_type": "markdown",
   "metadata": {},
   "source": [
    "### Custom IO nodes"
   ]
  },
  {
   "cell_type": "code",
   "execution_count": null,
   "metadata": {},
   "outputs": [],
   "source": [
    "from llama_index.core.storage.docstore import SimpleDocumentStore\n",
    "docstore = SimpleDocumentStore.from_persist_path(persist_path=\"/home/zhengzheng/scratch0/projects/Fine-Tuned-GPT-2-with-articles-ground-truth/code/llamaIndex/.cache/test_2_parser_CustomHierarchicalNodeParser-ollama_vicuna_13b.json\")\n",
    "nodes = [node for _, node in docstore.docs.items()]"
   ]
  },
  {
   "cell_type": "code",
   "execution_count": null,
   "metadata": {},
   "outputs": [],
   "source": [
    "from llama_index.core.schema import TextNode\n",
    "TextNode.from_dict(nodes[0].to_dict())"
   ]
  },
  {
   "cell_type": "code",
   "execution_count": null,
   "metadata": {},
   "outputs": [],
   "source": [
    "len(nodes)"
   ]
  },
  {
   "cell_type": "code",
   "execution_count": null,
   "metadata": {},
   "outputs": [],
   "source": [
    "nodes[0].get_content()"
   ]
  },
  {
   "cell_type": "code",
   "execution_count": null,
   "metadata": {},
   "outputs": [],
   "source": [
    "import os, sys\n",
    "root_dir = os.path.abspath(os.path.join(os.path.dirname(os.getcwd()), '..'))\n",
    "sys.path.insert(0, root_dir)"
   ]
  },
  {
   "cell_type": "code",
   "execution_count": null,
   "metadata": {},
   "outputs": [],
   "source": [
    "import os\n",
    "import json\n",
    "from typing import List\n",
    "from tqdm import tqdm\n",
    "from llama_index.core.schema import BaseNode, TextNode\n",
    "\n",
    "def save_nodes_jsonl(file_path: str, nodes: List[BaseNode]):\n",
    "    try:\n",
    "        with open(file_path, 'w') as file:\n",
    "            for node in tqdm(nodes, desc='Saving nodes...'):\n",
    "                json.dump(node.to_dict(), file)\n",
    "                file.write('\\n')\n",
    "    except Exception as e:\n",
    "        print(f\"An error occurred while saving nodes: {e}\")\n",
    "\n",
    "def load_nodes_jsonl(file_path: str) -> List[TextNode]:\n",
    "    nodes = []\n",
    "    \n",
    "    try:\n",
    "        # Get the total file size\n",
    "        file_size = os.path.getsize(file_path)\n",
    "        \n",
    "        # Read the file and track progress based on bytes read\n",
    "        with open(file_path, 'r') as file:\n",
    "            with tqdm(total=file_size, desc='Loading nodes...', unit='B', unit_scale=True, unit_divisor=1024) as pbar:\n",
    "                for line in file:\n",
    "                    node_data = json.loads(line)\n",
    "                    nodes.append(TextNode.from_dict(node_data))\n",
    "                    # Update progress bar based on bytes read\n",
    "                    pbar.update(len(line))\n",
    "    except Exception as e:\n",
    "        print(f\"An error occurred while loading nodes: {e}\")\n",
    "    \n",
    "    return nodes\n"
   ]
  },
  {
   "cell_type": "code",
   "execution_count": null,
   "metadata": {},
   "outputs": [],
   "source": [
    "file_path = '/home/zhengzheng/scratch0/projects/Fine-Tuned-GPT-2-with-articles-ground-truth/code/llamaIndex/.cache/test.jsonl'\n",
    "save_nodes_jsonl(file_path, nodes)"
   ]
  },
  {
   "cell_type": "code",
   "execution_count": null,
   "metadata": {},
   "outputs": [],
   "source": [
    "nodes = load_nodes_jsonl(file_path)\n",
    "print(len(nodes))"
   ]
  },
  {
   "cell_type": "markdown",
   "metadata": {},
   "source": [
    "### get pocessing node id"
   ]
  },
  {
   "cell_type": "code",
   "execution_count": null,
   "metadata": {},
   "outputs": [],
   "source": [
    "import os\n",
    "file_path = '/home/zhengzheng/scratch0/projects/Fine-Tuned-GPT-2-with-articles-ground-truth/code/llamaIndex/.cache/pid-20.jsonl'\n",
    "nodes = load_nodes_jsonl(file_path)"
   ]
  },
  {
   "cell_type": "code",
   "execution_count": null,
   "metadata": {},
   "outputs": [],
   "source": [
    "_cache_process_path = '/home/zhengzheng/scratch0/projects/Fine-Tuned-GPT-2-with-articles-ground-truth/code/llamaIndex/.cache/pid-20.jsonl'\n",
    "latest_level = -1\n",
    "_level2nodes = {}\n",
    "level2int = {level: i for i, level in enumerate([\"document\", \"section\", \"paragraph\", \"multi-sentences\"])}"
   ]
  },
  {
   "cell_type": "code",
   "execution_count": null,
   "metadata": {},
   "outputs": [],
   "source": [
    "cache_file = open(_cache_process_path, 'r')"
   ]
  },
  {
   "cell_type": "code",
   "execution_count": null,
   "metadata": {},
   "outputs": [],
   "source": [
    "if os.path.exists(_cache_process_path):\n",
    "    file_size = os.path.getsize(_cache_process_path)\n",
    "    i = 1\n",
    "    with open(_cache_process_path, 'r') as cache_file:\n",
    "        with tqdm(total=file_size, desc='Loading cache...', unit='B', unit_scale=True, unit_divisor=1024) as pbar:\n",
    "            for line in cache_file:\n",
    "                try:\n",
    "                    node_dict = json.loads(line)\n",
    "                    node = TextNode.from_dict(node_dict)\n",
    "                    if level2int[node.metadata['level']] > latest_level:\n",
    "                        latest_level = level2int[node.metadata['level']]\n",
    "                        _level2nodes[latest_level] = []\n",
    "                    _level2nodes[level2int[node.metadata['level']]].append(node)\n",
    "                except Exception as e:\n",
    "                    print(e)\n",
    "                # Update progress bar based on bytes read\n",
    "                pbar.update(len(line))\n",
    "                i += 1"
   ]
  },
  {
   "cell_type": "code",
   "execution_count": null,
   "metadata": {},
   "outputs": [],
   "source": [
    "print(_level2nodes)"
   ]
  },
  {
   "cell_type": "code",
   "execution_count": null,
   "metadata": {},
   "outputs": [],
   "source": [
    "level = 0\n",
    "processed_prev_level_nodes_id = set()\n",
    "for node in _level2nodes[level]:\n",
    "    processed_prev_level_nodes_id.add(node.ref_doc_id)\n",
    "prev_level_nodes = []\n",
    "for node in nodes:\n",
    "    if node.id_ not in processed_prev_level_nodes_id:\n",
    "        prev_level_nodes.append(node)"
   ]
  },
  {
   "cell_type": "code",
   "execution_count": null,
   "metadata": {},
   "outputs": [],
   "source": [
    "print(len(processed_prev_level_nodes_id))"
   ]
  },
  {
   "cell_type": "code",
   "execution_count": null,
   "metadata": {},
   "outputs": [],
   "source": [
    "\n",
    "def _init_get_nodes_from_nodes(nodes):\n",
    "        latest_level = 0\n",
    "        prev_level_nodes = nodes\n",
    "        _cache_process_path = '/home/zhengzheng/scratch0/projects/Fine-Tuned-GPT-2-with-articles-ground-truth/code/llamaIndex/.cache/pid-0.jsonl'\n",
    "\n",
    "        if _cache_process_path is not None:\n",
    "            # init attributions\n",
    "            latest_level = -1\n",
    "            _level2nodes = {}\n",
    "            level2int = {level: i for i, level in enumerate([\"document\", \"section\", \"paragraph\", \"multi-sentences\"])}\n",
    "            \n",
    "            # loading nodes\n",
    "            if os.path.exists(_cache_process_path):\n",
    "                file_size = os.path.getsize(_cache_process_path)\n",
    "                with open(_cache_process_path, 'r') as cache_file:\n",
    "                    with tqdm(total=file_size, desc='Loading cache...', unit='B', unit_scale=True, unit_divisor=1024) as pbar:\n",
    "                        for line in cache_file:\n",
    "                            try:\n",
    "                                node_dict = json.loads(line)\n",
    "                                node = TextNode.from_dict(node_dict)\n",
    "                                if level2int[node.metadata['level']] > latest_level:\n",
    "                                    latest_level = level2int[node.metadata['level']]\n",
    "                                    _level2nodes[latest_level] = []\n",
    "                                    _level2nodes[latest_level].append(node)\n",
    "                            except Exception as e:\n",
    "                                print(e)\n",
    "                            # Update progress bar based on bytes read\n",
    "                            pbar.update(len(line))\n",
    "            _cache_process_file = open(_cache_process_path, 'a+')\n",
    "\n",
    "            latest_level = max(latest_level, 0)\n",
    "\n",
    "            # get prev_level_nodes\n",
    "            if latest_level == 1:\n",
    "                latest_level = 0\n",
    "                processed_prev_level_nodes_id = set()\n",
    "                for node in _level2nodes[latest_level]:\n",
    "                    processed_prev_level_nodes_id.add(node.ref_doc_id)\n",
    "                prev_level_nodes = []\n",
    "                for node in nodes:\n",
    "                    if node.id_ not in processed_prev_level_nodes_id:\n",
    "                        prev_level_nodes.append(node)\n",
    "                \n",
    "            if latest_level > 1:\n",
    "                processed_prev_level_nodes_id = set()\n",
    "                for node in _level2nodes[latest_level]:\n",
    "                    parent_node_id = node.relationships[NodeRelationship.PARENT].node_id\n",
    "                    processed_prev_level_nodes_id.add(parent_node_id)\n",
    "                prev_level_nodes = []\n",
    "                for node in _level2nodes[latest_level-1]:\n",
    "                    if node.id_ not in processed_prev_level_nodes_id:\n",
    "                        prev_level_nodes.append(node)\n",
    "\n",
    "        return latest_level, prev_level_nodes"
   ]
  },
  {
   "cell_type": "code",
   "execution_count": null,
   "metadata": {},
   "outputs": [],
   "source": [
    "from llama_index.core.schema import BaseNode, Document, NodeRelationship\n",
    "\n",
    "print(nodes[-1].relationships[NodeRelationship.PARENT])"
   ]
  },
  {
   "cell_type": "code",
   "execution_count": null,
   "metadata": {},
   "outputs": [],
   "source": []
  },
  {
   "cell_type": "code",
   "execution_count": null,
   "metadata": {},
   "outputs": [],
   "source": [
    "len(processed_section_nodes_id)"
   ]
  },
  {
   "cell_type": "code",
   "execution_count": null,
   "metadata": {},
   "outputs": [],
   "source": [
    "node_dict.keys()"
   ]
  },
  {
   "cell_type": "code",
   "execution_count": null,
   "metadata": {},
   "outputs": [],
   "source": [
    "len(node_dict['paragraph'])"
   ]
  },
  {
   "cell_type": "code",
   "execution_count": null,
   "metadata": {},
   "outputs": [],
   "source": [
    "len(node_dict['section'])"
   ]
  },
  {
   "cell_type": "markdown",
   "metadata": {},
   "source": [
    "### Visualize node parser results"
   ]
  },
  {
   "cell_type": "code",
   "execution_count": 13,
   "metadata": {},
   "outputs": [],
   "source": [
    "import os, sys\n",
    "root_dir = os.path.abspath(os.path.join(os.path.dirname(os.getcwd()), '..'))\n",
    "sys.path.insert(0, root_dir)\n",
    "import os\n",
    "import json\n",
    "from typing import List\n",
    "from tqdm import tqdm\n",
    "from llama_index.core.schema import BaseNode, TextNode\n",
    "\n",
    "def save_nodes_jsonl(file_path: str, nodes: List[BaseNode]):\n",
    "    try:\n",
    "        with open(file_path, 'w') as file:\n",
    "            for node in tqdm(nodes, desc='Saving nodes...'):\n",
    "                json.dump(node.to_dict(), file)\n",
    "                file.write('\\n')\n",
    "    except Exception as e:\n",
    "        print(f\"An error occurred while saving nodes: {e}\")\n",
    "\n",
    "def load_nodes_jsonl(file_path: str) -> List[TextNode]:\n",
    "    nodes = []\n",
    "    \n",
    "    try:\n",
    "        # Get the total file size\n",
    "        file_size = os.path.getsize(file_path)\n",
    "        \n",
    "        # Read the file and track progress based on bytes read\n",
    "        with open(file_path, 'r') as file:\n",
    "            with tqdm(total=file_size, desc='Loading nodes...', unit='B', unit_scale=True, unit_divisor=1024) as pbar:\n",
    "                for line in file:\n",
    "                    node_data = json.loads(line)\n",
    "                    nodes.append(TextNode.from_dict(node_data))\n",
    "                    # Update progress bar based on bytes read\n",
    "                    pbar.update(len(line))\n",
    "    except Exception as e:\n",
    "        print(f\"An error occurred while loading nodes: {e}\")\n",
    "    \n",
    "    return nodes"
   ]
  },
  {
   "cell_type": "code",
   "execution_count": 14,
   "metadata": {},
   "outputs": [
    {
     "name": "stderr",
     "output_type": "stream",
     "text": [
      "Loading nodes...: 100%|██████████| 90.8M/90.8M [00:03<00:00, 31.7MB/s]\n"
     ]
    }
   ],
   "source": [
    "file_path = r'/home/zhengzheng/scratch0/projects/Fine-Tuned-GPT-2-with-articles-ground-truth/code/llamaIndex/.cache/pid-0.jsonl'\n",
    "# file_path = 'D:\\Projects(D)\\Fine-Tuned-GPT-2-with-articles-ground-truth\\code\\llamaIndex\\.cache\\gpt-4o-batch-all-p_2_parser_ManuallyHierarchicalNodeParser_8165_processing.jsonl'\n",
    "nodes = load_nodes_jsonl(file_path)"
   ]
  },
  {
   "cell_type": "code",
   "execution_count": 15,
   "metadata": {},
   "outputs": [
    {
     "data": {
      "text/plain": [
       "6132"
      ]
     },
     "execution_count": 15,
     "metadata": {},
     "output_type": "execute_result"
    }
   ],
   "source": [
    "len(nodes)"
   ]
  },
  {
   "cell_type": "code",
   "execution_count": 16,
   "metadata": {},
   "outputs": [],
   "source": [
    "import pandas as pd\n",
    "import numpy as np\n",
    "section_titles = []\n",
    "ids = []\n",
    "levels = []\n",
    "texts = []\n",
    "text_lens = []\n",
    "parent_ids = []\n",
    "id2nodes = {}\n",
    "parent_id_counts = {}\n",
    "parent_id_sum_len = {}\n",
    "for node in nodes:\n",
    "    id2nodes[node.id_] = node\n",
    "    ids.append(node.id_)\n",
    "    level = node.metadata['level']\n",
    "    parent_id = node.ref_doc_id\n",
    "    text = node.get_content()\n",
    "\n",
    "    levels.append(level)\n",
    "    parent_ids.append(parent_id)\n",
    "    texts.append(text)\n",
    "    text_lens.append(len(text))\n",
    "    if node.metadata['level'] == 'section':\n",
    "        section_titles.append(node.metadata['section_title'].lower())\n",
    "    else:\n",
    "        section_titles.append(None)\n",
    "\n",
    "    if parent_id not in parent_id_counts:\n",
    "        parent_id_counts[parent_id] = 0\n",
    "    parent_id_counts[parent_id] += 1\n",
    "\n",
    "    if parent_id not in parent_id_sum_len:\n",
    "        parent_id_sum_len[parent_id] = 0\n",
    "    if level in ['paragraph', 'multi-sentences']:\n",
    "        parent_id_sum_len[parent_id] += len(text)\n",
    "    else:\n",
    "        try:\n",
    "            parent_id_sum_len[parent_id] += len(node.metadata['original_content'])\n",
    "        except:\n",
    "            print(node)\n",
    "            input(node.metadata)\n",
    "df = pd.DataFrame({\n",
    "    'id': ids,\n",
    "    'level': levels,\n",
    "    'text': texts,\n",
    "    'text_len': text_lens,\n",
    "    'parent_id': parent_ids,\n",
    "    'section_titles': section_titles\n",
    "})\n",
    "df['parent_id_num'] = df['parent_id'].map(parent_id_counts)\n",
    "\n",
    "df['diff_text_len_sum_children_len'] = np.nan\n",
    "for idx, row in df.iterrows():\n",
    "    if row['id'] in parent_id_sum_len:\n",
    "        node = id2nodes[row['id']]\n",
    "        if node.metadata['level'] in ['document', 'section']:\n",
    "            df.at[idx, 'diff_text_len_sum_children_len'] = len(node.metadata['original_content']) - parent_id_sum_len[row['id']]\n",
    "        elif node.metadata['level'] == ['paragraph']:\n",
    "            df.at[idx, 'diff_text_len_sum_children_len'] = len(node.text) - parent_id_sum_len[row['id']]"
   ]
  },
  {
   "cell_type": "code",
   "execution_count": 22,
   "metadata": {},
   "outputs": [
    {
     "data": {
      "text/plain": [
       "1636"
      ]
     },
     "execution_count": 22,
     "metadata": {},
     "output_type": "execute_result"
    }
   ],
   "source": [
    "len(df[df['level'] == 'paragraph'])"
   ]
  },
  {
   "cell_type": "code",
   "execution_count": null,
   "metadata": {},
   "outputs": [],
   "source": [
    "df_filtered = df[~df['diff_text_len_sum_children_len'].isna()]\n",
    "\n",
    "# Further filter rows where the absolute value of 'diff_text_len_sum_children_len' is greater than 800\n",
    "df_large_diff = df_filtered[abs(df_filtered['diff_text_len_sum_children_len']) > 800]\n",
    "df_large_diff"
   ]
  },
  {
   "cell_type": "code",
   "execution_count": null,
   "metadata": {},
   "outputs": [],
   "source": [
    "df[df['level'] == 'section']['section_titles'].value_counts()[:10]"
   ]
  },
  {
   "cell_type": "code",
   "execution_count": 23,
   "metadata": {},
   "outputs": [
    {
     "data": {
      "image/png": "[encoded data removed]",
      "text/plain": [
       "<Figure size 640x480 with 1 Axes>"
      ]
     },
     "metadata": {},
     "output_type": "display_data"
    }
   ],
   "source": [
    "import matplotlib.pyplot as plt\n",
    "\n",
    "# df_filtered = df[~df['diff_text_len_sum_children_len'].isna()]\n",
    "# plt.hist(df_filtered['diff_text_len_sum_children_len'], bins=10, edgecolor='black')\n",
    "# 绘制直方图\n",
    "plt.hist(df[df['level'] == 'paragraph']['parent_id_num'], bins=10, edgecolor='black')\n",
    "\n",
    "# plt.hist(df, bins=10, edgecolor='black')\n",
    "\n",
    "\n",
    "# 添加标题和标签\n",
    "plt.title('Histogram using Matplotlib')\n",
    "plt.xlabel('Value')\n",
    "plt.ylabel('Frequency')\n",
    "\n",
    "# 显示图形\n",
    "plt.show()"
   ]
  },
  {
   "cell_type": "code",
   "execution_count": 27,
   "metadata": {},
   "outputs": [
    {
     "data": {
      "image/png": "[encoded data removed]",
      "text/plain": [
       "<Figure size 640x480 with 1 Axes>"
      ]
     },
     "metadata": {},
     "output_type": "display_data"
    }
   ],
   "source": [
    "import seaborn as sns\n",
    "import matplotlib.pyplot as plt\n",
    "\n",
    "# Create a box plot\n",
    "sns.boxplot(x='level', y='text_len', data=df[df['level'] != 'preprocessed_document'])\n",
    "\n",
    "# Add titles and labels\n",
    "plt.title('Box Plot of parser nodes')\n",
    "plt.xlabel('level')\n",
    "plt.ylabel('text len')\n",
    "\n",
    "# Show the plot\n",
    "plt.show()"
   ]
  },
  {
   "cell_type": "code",
   "execution_count": null,
   "metadata": {},
   "outputs": [],
   "source": [
    "df['level'].value_counts()"
   ]
  },
  {
   "cell_type": "markdown",
   "metadata": {},
   "source": [
    "### Model for sentence classification"
   ]
  },
  {
   "cell_type": "code",
   "execution_count": null,
   "metadata": {},
   "outputs": [],
   "source": [
    "import os\n",
    "from dotenv import load_dotenv\n",
    "load_dotenv(dotenv_path='D:\\Projects(D)\\Fine-Tuned-GPT-2-with-articles-ground-truth\\code\\llamaIndex\\.env')\n",
    "from transformers import AutoModelForSequenceClassification, AutoTokenizer\n",
    "\n",
    "# load from local\n",
    "token = os.getenv('GLYCO_TOKEN')\n",
    "sentence_model = AutoModelForSequenceClassification.from_pretrained(\"MomochiKyaru/glyco-paper-sentence\",token=token)\n",
    "paragraph_model = AutoModelForSequenceClassification.from_pretrained(\"MomochiKyaru/glyco-paper-paragraph\", token=token)\n",
    "tokenizer =AutoTokenizer.from_pretrained('MomochiKyaru/glyco-paper-sentence',token=token)"
   ]
  },
  {
   "cell_type": "code",
   "execution_count": null,
   "metadata": {},
   "outputs": [],
   "source": [
    "def get_sentence_prediction(text):\n",
    "    tokenized_input = tokenizer(text,truncation=True, padding=True, return_tensors='pt')\n",
    "    logits = sentence_model(**tokenized_input).logits\n",
    "    probabilities = logits.softmax(dim=1)\n",
    "    return probabilities.detach().numpy()"
   ]
  },
  {
   "cell_type": "code",
   "execution_count": null,
   "metadata": {},
   "outputs": [],
   "source": [
    "print(df.iloc[0]['abstract'])\n",
    "print(get_sentence_prediction(df.iloc[0]['abstract']))"
   ]
  },
  {
   "cell_type": "code",
   "execution_count": null,
   "metadata": {},
   "outputs": [],
   "source": []
  },
  {
   "cell_type": "markdown",
   "metadata": {},
   "source": [
    "### Evaluate"
   ]
  },
  {
   "cell_type": "code",
   "execution_count": null,
   "metadata": {},
   "outputs": [],
   "source": [
    "from datasets import load_dataset\n",
    "\n",
    "# loading the V2 dataset\n",
    "amnesty_qa = load_dataset(\"explodinggradients/amnesty_qa\", \"english_v2\")\n",
    "amnesty_qa"
   ]
  },
  {
   "cell_type": "code",
   "execution_count": null,
   "metadata": {},
   "outputs": [],
   "source": [
    "from datasets import load_dataset\n",
    "\n",
    "# loading the V2 dataset\n",
    "amnesty_qa = load_dataset(\"explodinggradients/amnesty_qa\", \"english_v2\", trust_remote_code=True)\n",
    "amnesty_qa"
   ]
  },
  {
   "cell_type": "code",
   "execution_count": null,
   "metadata": {},
   "outputs": [],
   "source": [
    "from ragas.metrics import (\n",
    "    answer_relevancy,\n",
    "    faithfulness,\n",
    "    context_recall,\n",
    "    context_precision,\n",
    ")\n",
    "from ragas import evaluate\n",
    "\n",
    "result = evaluate(\n",
    "    amnesty_qa[\"eval\"],\n",
    "    metrics=[\n",
    "        # context_precision,\n",
    "        faithfulness,\n",
    "        # answer_relevancy,\n",
    "        # context_recall,\n",
    "    ],\n",
    ")\n",
    "\n",
    "result"
   ]
  },
  {
   "cell_type": "markdown",
   "metadata": {},
   "source": [
    "### LangChain Pydantic"
   ]
  },
  {
   "cell_type": "code",
   "execution_count": 18,
   "metadata": {},
   "outputs": [],
   "source": [
    "import os\n",
    "from dotenv import load_dotenv\n",
    "\n",
    "load_dotenv(os.path.abspath('../.env'))\n",
    "from langchain_openai import ChatOpenAI\n",
    "model = ChatOpenAI(temperature=0, api_key=os.getenv('OPENAI_API_KEY'))"
   ]
  },
  {
   "cell_type": "code",
   "execution_count": 15,
   "metadata": {},
   "outputs": [],
   "source": [
    "import os, sys\n",
    "sys.path.insert(0, \"/run/media/zheng/Elements/Projects(D)/Fine-Tuned-GPT-2-with-articles-ground-truth/code/llamaIndex\")\n",
    "from custom.schema import LCTemp"
   ]
  },
  {
   "cell_type": "code",
   "execution_count": 16,
   "metadata": {},
   "outputs": [],
   "source": [
    "parser = LCTemp.parser\n",
    "prompt = LCTemp.prompt_template"
   ]
  },
  {
   "cell_type": "code",
   "execution_count": 5,
   "metadata": {},
   "outputs": [],
   "source": [
    "context_str = \"Further evidence is emerging from ongoing work in our laboratory that a pathway for the synthesis of sialic acid in plants exists and sialoglycoconjugates can be localized within plant cells (Shah, M. et al.,  unpublished data). The fundamental question to be explored now is not whether plants possess sialic acid but instead, what is the precise metabolic pathway leading to the synthesis of sialic acid in plants and what is its role?\"\n",
    "qar_num = 2"
   ]
  },
  {
   "cell_type": "code",
   "execution_count": 7,
   "metadata": {},
   "outputs": [
    {
     "name": "stdout",
     "output_type": "stream",
     "text": [
      "The output should be formatted as a JSON instance that conforms to the JSON schema below.\n",
      "\n",
      "As an example, for the schema {\"properties\": {\"foo\": {\"title\": \"Foo\", \"description\": \"a list of strings\", \"type\": \"array\", \"items\": {\"type\": \"string\"}}}, \"required\": [\"foo\"]}\n",
      "the object {\"foo\": [\"bar\", \"baz\"]} is a well-formatted instance of the schema. The object {\"properties\": {\"foo\": [\"bar\", \"baz\"]}} is not well-formatted.\n",
      "\n",
      "Here is the output schema:\n",
      "```\n",
      "{\"properties\": {\"qars\": {\"title\": \"Qars\", \"type\": \"array\", \"items\": {\"$ref\": \"#/definitions/QAR\"}}}, \"required\": [\"qars\"], \"definitions\": {\"QAR\": {\"title\": \"QAR\", \"type\": \"object\", \"properties\": {\"Question\": {\"title\": \"Question\", \"description\": \"The question being asked\", \"type\": \"string\"}, \"Answer\": {\"title\": \"Answer\", \"description\": \"The answer to the question\", \"type\": \"string\"}, \"Reason\": {\"title\": \"Reason\", \"description\": \"The reason for the answer\", \"type\": \"string\"}}, \"required\": [\"Question\", \"Answer\", \"Reason\"]}}}\n",
      "```\n"
     ]
    }
   ],
   "source": [
    "print(parser.get_format_instructions())"
   ]
  },
  {
   "cell_type": "code",
   "execution_count": 8,
   "metadata": {},
   "outputs": [],
   "source": [
    "prompt_str = prompt.format(context_str=context_str, qar_num=qar_num)"
   ]
  },
  {
   "cell_type": "code",
   "execution_count": 9,
   "metadata": {},
   "outputs": [
    {
     "name": "stdout",
     "output_type": "stream",
     "text": [
      "You are an expert researcher. Using the following enhanced template, analyze the provided contextual information to generate the top 2 critical academic questions that researchers in this field care about. For each question, provide a thorough and contextually relevant answer, and explain why these questions are significant to researchers and why the provided answers are accurate.\n",
      "\n",
      "Here is the context:\n",
      "Further evidence is emerging from ongoing work in our laboratory that a pathway for the synthesis of sialic acid in plants exists and sialoglycoconjugates can be localized within plant cells (Shah, M. et al.,  unpublished data). The fundamental question to be explored now is not whether plants possess sialic acid but instead, what is the precise metabolic pathway leading to the synthesis of sialic acid in plants and what is its role?\n",
      "\n",
      "Using this context, generate 2 specific questions that this context can uniquely answer. Ensure that these questions:\n",
      "1. Are directly related to the provided context.\n",
      "2. Highlight unique information or insights from the context.\n",
      "3. Cannot be easily answered by general knowledge.\n",
      "\n",
      "Higher-level summaries of surrounding context may be provided as well. Try using these summaries to generate better questions that this context can answer.----------------------------------------------------------------------------------\n",
      "The output should be formatted as a JSON instance that conforms to the JSON schema below.\n",
      "\n",
      "As an example, for the schema {\"properties\": {\"foo\": {\"title\": \"Foo\", \"description\": \"a list of strings\", \"type\": \"array\", \"items\": {\"type\": \"string\"}}}, \"required\": [\"foo\"]}\n",
      "the object {\"foo\": [\"bar\", \"baz\"]} is a well-formatted instance of the schema. The object {\"properties\": {\"foo\": [\"bar\", \"baz\"]}} is not well-formatted.\n",
      "\n",
      "Here is the output schema:\n",
      "```\n",
      "{\"properties\": {\"qars\": {\"title\": \"Qars\", \"type\": \"array\", \"items\": {\"$ref\": \"#/definitions/QAR\"}}}, \"required\": [\"qars\"], \"definitions\": {\"QAR\": {\"title\": \"QAR\", \"type\": \"object\", \"properties\": {\"Question\": {\"title\": \"Question\", \"description\": \"The question being asked\", \"type\": \"string\"}, \"Answer\": {\"title\": \"Answer\", \"description\": \"The answer to the question\", \"type\": \"string\"}, \"Reason\": {\"title\": \"Reason\", \"description\": \"The reason for the answer\", \"type\": \"string\"}}, \"required\": [\"Question\", \"Answer\", \"Reason\"]}}}\n",
      "```\n"
     ]
    }
   ],
   "source": [
    "print(prompt_str)"
   ]
  },
  {
   "cell_type": "code",
   "execution_count": 10,
   "metadata": {},
   "outputs": [],
   "source": [
    "response = model.invoke(prompt_str)"
   ]
  },
  {
   "cell_type": "code",
   "execution_count": 11,
   "metadata": {},
   "outputs": [
    {
     "name": "stdout",
     "output_type": "stream",
     "text": [
      "\n",
      "{\n",
      "  \"qars\": [\n",
      "    {\n",
      "      \"Question\": \"What is the precise metabolic pathway leading to the synthesis of sialic acid in plants?\",\n",
      "      \"Answer\": \"The precise metabolic pathway leading to the synthesis of sialic acid in plants is currently being investigated in our laboratory. Initial evidence suggests that a pathway for the synthesis of sialic acid in plants exists.\",\n",
      "      \"Reason\": \"This question is significant to researchers as understanding the metabolic pathway for sialic acid synthesis in plants can provide insights into the unique biochemical processes in plants and potentially lead to the development of novel applications in agriculture and biotechnology.\"\n",
      "    },\n",
      "    {\n",
      "      \"Question\": \"What is the role of sialic acid in plants?\",\n",
      "      \"Answer\": \"The role of sialic acid in plants is a key question that researchers are aiming to address. Localization of sialoglycoconjugates within plant cells suggests that sialic acid may play important roles in plant physiology.\",\n",
      "      \"Reason\": \"This question is significant as uncovering the role of sialic acid in plants can provide valuable information on its biological functions, potential signaling pathways, and implications for plant development and stress responses.\"\n",
      "    }\n",
      "  ]\n",
      "}\n"
     ]
    }
   ],
   "source": [
    "print(response.content)\n",
    "result = response.content"
   ]
  },
  {
   "cell_type": "code",
   "execution_count": 10,
   "metadata": {},
   "outputs": [],
   "source": [
    "result = \"\"\"\\\n",
    "{\n",
    "  \"Question\": \"What are the precise metabolic pathways leading to the synthesis of sialic acid in plants and what is its role?\",\n",
    "  \"Answer\": \"The precise metabolic pathways leading to the synthesis of sialic acid in plants involve a series of enzymatic reactions that convert precursor molecules into sialic acid. These pathways likely include enzymes such as UDP-N-acetylglucosamine 2-epimerase, N-acetylneuraminate synthase, and CMP-sialic acid synthetase. Sialic acid in plants may play a role in cell-cell recognition, defense mechanisms, or other signaling processes within plant cells.\",\n",
    "  \"Reason\": \"This question is crucial for researchers in the field because understanding the metabolic pathways for sialic acid synthesis in plants can provide insights into the biological significance of sialic acid in plant physiology. By elucidating these pathways and roles, researchers can potentially uncover novel functions of sialic acid in plants and its implications for plant growth, development, and interactions with the environment. The answer provided integrates knowledge from the context and highlights the importance of investigating these specific metabolic pathways and their functional roles in plants.\" \n",
    "}\"\"\""
   ]
  },
  {
   "cell_type": "code",
   "execution_count": 12,
   "metadata": {},
   "outputs": [],
   "source": [
    "result_obj = parser.parse(result)"
   ]
  },
  {
   "cell_type": "code",
   "execution_count": 14,
   "metadata": {},
   "outputs": [
    {
     "data": {
      "text/plain": [
       "[QAR(Question='What is the precise metabolic pathway leading to the synthesis of sialic acid in plants?', Answer='The precise metabolic pathway leading to the synthesis of sialic acid in plants is currently being investigated in our laboratory. Initial evidence suggests that a pathway for the synthesis of sialic acid in plants exists.', Reason='This question is significant to researchers as understanding the metabolic pathway for sialic acid synthesis in plants can provide insights into the unique biochemical processes in plants and potentially lead to the development of novel applications in agriculture and biotechnology.'),\n",
       " QAR(Question='What is the role of sialic acid in plants?', Answer='The role of sialic acid in plants is a key question that researchers are aiming to address. Localization of sialoglycoconjugates within plant cells suggests that sialic acid may play important roles in plant physiology.', Reason='This question is significant as uncovering the role of sialic acid in plants can provide valuable information on its biological functions, potential signaling pathways, and implications for plant development and stress responses.')]"
      ]
     },
     "execution_count": 14,
     "metadata": {},
     "output_type": "execute_result"
    }
   ],
   "source": [
    "result_obj.qars"
   ]
  },
  {
   "cell_type": "code",
   "execution_count": 15,
   "metadata": {},
   "outputs": [
    {
     "data": {
      "text/plain": [
       "'[Question=What is the precise metabolic pathway leading to the synthesis of sialic acid in plants?\\nAnswer=The precise metabolic pathway leading to the synthesis of sialic acid in plants is currently being investigated in our laboratory. Initial evidence suggests that a pathway for the synthesis of sialic acid in plants exists.\\nReason=This question is significant to researchers as understanding the metabolic pathway for sialic acid synthesis in plants can provide insights into the unique biochemical processes in plants and potentially lead to the development of novel applications in agriculture and biotechnology.]\\n[Question=What is the role of sialic acid in plants?\\nAnswer=The role of sialic acid in plants is a key question that researchers are aiming to address. Localization of sialoglycoconjugates within plant cells suggests that sialic acid may play important roles in plant physiology.\\nReason=This question is significant as uncovering the role of sialic acid in plants can provide valuable information on its biological functions, potential signaling pathways, and implications for plant development and stress responses.]'"
      ]
     },
     "execution_count": 15,
     "metadata": {},
     "output_type": "execute_result"
    }
   ],
   "source": [
    "def parse_obj_to_str(objs):\n",
    "    objs_str = \"\"\n",
    "    for obj in objs:\n",
    "        obj_str = '\\n'.join([f'{k}={v}' for k, v in obj.dict().items()])\n",
    "        objs_str += f\"[{obj_str}]\\n\"\n",
    "    return objs_str.strip()\n",
    "parse_obj_to_str(result_obj.qars)"
   ]
  },
  {
   "cell_type": "code",
   "execution_count": 12,
   "metadata": {},
   "outputs": [
    {
     "data": {
      "text/plain": [
       "{'Question': 'What are the precise metabolic pathways leading to the synthesis of sialic acid in plants and what is its role?',\n",
       " 'Answer': 'The precise metabolic pathways leading to the synthesis of sialic acid in plants involve a series of enzymatic reactions that convert precursor molecules into sialic acid. These pathways likely include enzymes such as UDP-N-acetylglucosamine 2-epimerase, N-acetylneuraminate synthase, and CMP-sialic acid synthetase. Sialic acid in plants may play a role in cell-cell recognition, defense mechanisms, or other signaling processes within plant cells.',\n",
       " 'Reason': 'This question is crucial for researchers in the field because understanding the metabolic pathways for sialic acid synthesis in plants can provide insights into the biological significance of sialic acid in plant physiology. By elucidating these pathways and roles, researchers can potentially uncover novel functions of sialic acid in plants and its implications for plant growth, development, and interactions with the environment. The answer provided integrates knowledge from the context and highlights the importance of investigating these specific metabolic pathways and their functional roles in plants.'}"
      ]
     },
     "execution_count": 12,
     "metadata": {},
     "output_type": "execute_result"
    }
   ],
   "source": [
    "result_obj.dict()"
   ]
  },
  {
   "cell_type": "code",
   "execution_count": null,
   "metadata": {},
   "outputs": [],
   "source": [
    "chain2 = result | parser\n",
    "result = chain2.invoke()\n",
    "result"
   ]
  },
  {
   "cell_type": "code",
   "execution_count": null,
   "metadata": {},
   "outputs": [],
   "source": [
    "chain.__dict__"
   ]
  },
  {
   "cell_type": "markdown",
   "metadata": {},
   "source": [
    "### force_splitter size"
   ]
  },
  {
   "cell_type": "code",
   "execution_count": null,
   "metadata": {},
   "outputs": [],
   "source": [
    "from llama_index.core.node_parser import SentenceSplitter\n",
    "text = \"assessed using comparative thermal analysis. Such interactions are generally revealed in the form of appearance, disappearance, shifting, or changes the melting temperature of ACV. Another minor endothermic event was observed for pure ACV between ~60°C and ~ 175°C (not apparent in the figure). This event may be attributed to the phase transition of polymorphic hydrate form V to anhydrous form III in the range of 65°C and 100°C, and thereafter from form III to anhydrous form VI at higher temperatures. These changes in the thermal characteristics of ACV are not uncommon and have been reported earlier (9, 10, 37). The thermogram of glucosamine HCl (Figure 3B) revealed two, broad, fused endothermic peaks; a larger peak with an onset at ~190°C and a smaller peak in the onset and/or relative areas of the peaks as a function of controlled temperature increases. These interactions may indicate melting, degradation, and/ or incompatibilities between the components of the formulation. The spectra obtained from the infrared analysis of pure ACV, pure glucosamine HCl, the physical mixture (PM, 1:3) of pure ACV and glucosamine HCl, and the prepared ACV-SD are shown in Figure ) revealed two, broad, fused endothermic peaks; a larger peak with an onset at ~190°C and a smaller peak in the onset and/or relative areas of the peaks as a function of controlled temperature increases. These interactions may indicate melting, degradation, and/ or incompatibilities between the components of the formulation. The spectra obtained from the infrared analysis of pure ACV, pure glucosamine HCl, the physical mixture (PM, 1:3) of pure ACV and glucosamine HCl, and the prepared ACV-SD are shown in Figure 4A, 4B, 4C, and 4D, respectively. For pure ACV (Figure , 4B, 4C, and 4D, respectively. For pure ACV (Figure 4A), characteristic absorption bands were located at ~3622 cm-1 (primary amine) and 3411 cm -1 (secondary amine, N-H stretching). Additional peaks typically associated with ACV were found at ~1712 cm -1 (C=O stretching), ~1630 cm -1 and ~1609 cm -1 (amine), ~1483 cm -1 (O-H stretching), and ~1347 cm -1 (C-H stretching). These observations were consistent with previous findings (10, 38). The FTIR spectrum of glucosamine HCl (Figure ), characteristic absorption bands were located at ~3622 cm-1 (primary amine) and 3411 cm -1 (secondary amine, N-H stretching). Additional peaks typically associated with ACV were found at ~1712 cm -1 (C=O stretching), ~1630 cm -1 and ~1609 cm -1 (amine), ~1483 cm -1 (O-H stretching), and ~1347 cm -1 (C-H stretching). These observations were consistent with previous findings (10, 38). The FTIR spectrum of glucosamine HCl (Figure 4B) exhibited a characteristic absorption peak at ~3291 cm -1 (N-H and O-H stretching). Other peaks related to glucosamine were observed at ~3000 cm -1 and 2881 cm -1 (-C-H stretching), ~1618 cm -1 and 1537 cm -1 (N-H bending), ~1140 cm -1 (asymmetric at ~229°C. The first peak is likely associated with the melting of glucosamine HCl, and the second, smaller peak may be associated with its degradation. These results are in agreement with previously published reports ) exhibited a characteristic absorption peak at ~3291 cm -1 (N-H and O-H stretching). Other peaks related to glucosamine were observed at ~3000 cm -1 and 2881 cm -1 (-C-H stretching), ~1618 cm -1 and 1537 cm -1 (N-H bending), ~1140 cm -1 (asymmetric at ~229°C. The first peak is likely associated with the melting of glucosamine HCl, and the second, smaller peak may be associated with its degradation. These results are in agreement with previously published reports (26,27). The thermograms of the physical mixture (Figure . The thermograms of the physical mixture (Figure 3C) exhibited broad, fused peaks similar to that of pure glucosamine HCl, along with the disappearance of the melting peak of ACV.\"\n",
    "\n",
    "force_splitter = SentenceSplitter(\n",
    "    chunk_size=286, \n",
    "    chunk_overlap=20, \n",
    "    include_metadata=False, \n",
    "    include_prev_next_rel=False\n",
    ")\n",
    "print(force_splitter._token_size(text))\n",
    "texts = force_splitter.split_text_metadata_aware(text, \"\")"
   ]
  },
  {
   "cell_type": "code",
   "execution_count": null,
   "metadata": {},
   "outputs": [],
   "source": [
    "len(texts[0])"
   ]
  },
  {
   "cell_type": "code",
   "execution_count": null,
   "metadata": {},
   "outputs": [],
   "source": []
  },
  {
   "cell_type": "markdown",
   "metadata": {},
   "source": [
    "### Extractor for response object of batch mode"
   ]
  },
  {
   "cell_type": "code",
   "execution_count": 1,
   "metadata": {},
   "outputs": [
    {
     "name": "stderr",
     "output_type": "stream",
     "text": [
      "/home/zheng/miniconda3/envs/llm/lib/python3.11/site-packages/tqdm/auto.py:21: TqdmWarning: IProgress not found. Please update jupyter and ipywidgets. See https://ipywidgets.readthedocs.io/en/stable/user_install.html\n",
      "  from .autonotebook import tqdm as notebook_tqdm\n",
      "/home/zheng/miniconda3/envs/llm/lib/python3.11/site-packages/pydantic/_internal/_fields.py:161: UserWarning: Field \"model_name\" has conflict with protected namespace \"model_\".\n",
      "\n",
      "You may be able to resolve this warning by setting `model_config['protected_namespaces'] = ()`.\n",
      "  warnings.warn(\n",
      "/home/zheng/miniconda3/envs/llm/lib/python3.11/site-packages/pydantic/_internal/_fields.py:161: UserWarning: Field \"model_kwargs\" has conflict with protected namespace \"model_\".\n",
      "\n",
      "You may be able to resolve this warning by setting `model_config['protected_namespaces'] = ()`.\n",
      "  warnings.warn(\n",
      "Loading gpt-4o-batch-all-p_2_parser_ManuallyHierarchicalNodeParser_8165_gpu_V100_nodeNum_200_pid_1.jsonl: 100%|██████████| 1.33G/1.33G [00:05<00:00, 243MB/s] \n"
     ]
    }
   ],
   "source": [
    "import os, sys\n",
    "sys.path.insert(0, \"/run/media/zheng/Elements/Projects(D)/Fine-Tuned-GPT-2-with-articles-ground-truth/code/llamaIndex\")\n",
    "import yaml\n",
    "from dotenv import load_dotenv\n",
    "from custom.io import save_nodes_jsonl, load_nodes_jsonl\n",
    "from custom.extractor import PartalyOpenAIBasedQARExtractor\n",
    "\n",
    "# Load config\n",
    "root_path = '../../..'\n",
    "config_dir_path='./code/llamaIndex/configs'\n",
    "config_path = os.path.abspath(os.path.join(root_path, config_dir_path, 'config.yaml'))\n",
    "prefix_config_path = os.path.abspath(os.path.join(root_path, config_dir_path, 'prefix_config.yaml'))\n",
    "with open(config_path, 'r') as config:\n",
    "    config = yaml.safe_load(config)\n",
    "with open(prefix_config_path, 'r') as prefix_config:\n",
    "    prefix_config = yaml.safe_load(prefix_config)\n",
    "load_dotenv(dotenv_path=os.path.abspath(os.path.join(root_path, './code/llamaIndex/.env')))\n",
    "\n",
    "cache_path = os.path.abspath(os.path.join(root_path, config['cache']))\n",
    "cache_path = '/run/media/zheng/Elements/Projects(D)/Fine-Tuned-GPT-2-with-articles-ground-truth/code/llamaIndex/.save'\n",
    "extractor_config = prefix_config['extractor']['manually_partaly_QAExtractor']\n",
    "\n",
    "# load extractor\n",
    "extractor = PartalyOpenAIBasedQARExtractor(\n",
    "    model_name=extractor_config['llm'],\n",
    "    cache_dir=os.path.abspath(os.path.join(root_path, config['cache'])),\n",
    "    mode=extractor_config['mode'],\n",
    "    embedding_only=extractor_config.get('embedding_only', True)\n",
    ")\n",
    "\n",
    "# Load data\n",
    "input_file = 'gpt-4o-batch-all-p_2_parser_ManuallyHierarchicalNodeParser_8165_gpu_V100_nodeNum_200_pid_1.jsonl'\n",
    "nodes = load_nodes_jsonl(os.path.abspath(os.path.join(cache_path, input_file)))"
   ]
  },
  {
   "cell_type": "code",
   "execution_count": 2,
   "metadata": {},
   "outputs": [
    {
     "name": "stderr",
     "output_type": "stream",
     "text": [
      "100%|██████████| 2/2 [00:00<00:00, 3372.98it/s], ?batch/s]\n",
      "Creating batches: 100%|██████████| 1/1 [00:02<00:00,  2.74s/batch]\n",
      "Processing batches: 100%|██████████| 1/1 [00:19<00:00, 19.85s/batch]\n",
      "Updating nodes: 100%|██████████| 2/2 [00:00<00:00, 448.49nodes/s]"
     ]
    },
    {
     "name": "stdout",
     "output_type": "stream",
     "text": [
      "You are an expert researcher. Using the following enhanced template, analyze the provided contextual information to generate the top 2 critical academic questions that researchers in this field care about. For each question, provide a thorough and contextually relevant answer, and explain why these questions are significant to researchers and why the provided answers are accurate.\n",
      "\n",
      "Here is the context:\n",
      "Advanced mass spectrometry strategies enable detailed structural analysis and profiling of glycans and glycoconjugates, utilizing techniques like derivatizations, chromatography, electrospray ionization, and matrix-assisted laser desorption/ionization. Electron-based techniques offer promising future developments in this area of study.\n",
      "\n",
      "Using this context, generate 2 specific questions that this context can uniquely answer. Ensure that these questions:\n",
      "1. Are directly related to the provided context.\n",
      "2. Highlight unique information or insights from the context.\n",
      "3. Cannot be easily answered by general knowledge.\n",
      "\n",
      "Higher-level summaries of surrounding context may be provided as well. Try using these summaries to generate better questions that this context can answer.----------------------------------------------------------------------------------\n",
      "The output should be formatted as a JSON instance that conforms to the JSON schema below.\n",
      "\n",
      "As an example, for the schema {\"properties\": {\"foo\": {\"title\": \"Foo\", \"description\": \"a list of strings\", \"type\": \"array\", \"items\": {\"type\": \"string\"}}}, \"required\": [\"foo\"]}\n",
      "the object {\"foo\": [\"bar\", \"baz\"]} is a well-formatted instance of the schema. The object {\"properties\": {\"foo\": [\"bar\", \"baz\"]}} is not well-formatted.\n",
      "\n",
      "Here is the output schema:\n",
      "```\n",
      "{\"properties\": {\"qars\": {\"title\": \"Qars\", \"type\": \"array\", \"items\": {\"$ref\": \"#/definitions/QAR\"}}}, \"required\": [\"qars\"], \"definitions\": {\"QAR\": {\"title\": \"QAR\", \"type\": \"object\", \"properties\": {\"Question\": {\"title\": \"Question\", \"description\": \"The question being asked\", \"type\": \"string\"}, \"Answer\": {\"title\": \"Answer\", \"description\": \"The answer to the question\", \"type\": \"string\"}, \"Reason\": {\"title\": \"Reason\", \"description\": \"The reason for the answer\", \"type\": \"string\"}}, \"required\": [\"Question\", \"Answer\", \"Reason\"]}}}\n",
      "```\n",
      "Output a valid JSON object but do not repeat the schema.\n",
      "response:\n",
      "{\n",
      "  \"qars\": [\n",
      "    {\n",
      "      \"Question\": \"How do derivatizations and chromatography techniques enhance the structural analysis of glycans and glycoconjugates in mass spectrometry?\",\n",
      "      \"Answer\": \"Derivatizations and chromatography techniques enhance the structural analysis of glycans and glycoconjugates by improving the separation, detection, and quantification of these complex biomolecules. Derivatization can increase ionization efficiency and stability, leading to better sensitivity and specificity in mass spectrometric analysis. Chromatography techniques, like HPLC or GC, separate glycan isomers and differentially conjugated species before they are analyzed by mass spectrometry, allowing for more detailed profiling and structural elucidation.\",\n",
      "      \"Reason\": \"These techniques are crucial because glycans and glycoconjugates are highly heterogeneous and structurally complex, often occurring as isomeric mixtures. The enhanced separation and ionization provided by derivatizations and chromatography enable researchers to resolve and analyze these molecules with greater clarity and accuracy, leading to more precise structural determinations and understanding of their biological roles.\"\n",
      "    },\n",
      "    {\n",
      "      \"Question\": \"What advantages do electron-based techniques offer in the mass spectrometric analysis of glycans and glycoconjugates?\",\n",
      "      \"Answer\": \"Electron-based techniques, such as electron capture dissociation (ECD) and electron transfer dissociation (ETD), offer significant advantages in the mass spectrometric analysis of glycans and glycoconjugates. These methods can produce extensive and detailed fragmentation patterns without causing significant loss of labile post-translational modifications. This leads to better sequencing of complex glycan structures and allows for the identification and characterization of isomeric forms.\",\n",
      "      \"Reason\": \"Electron-based techniques are especially valuable because conventional collision-induced dissociation (CID) often falls short in analyzing glycans and glycoconjugates due to its tendency to cause extensive fragmentation and loss of important structural information. ECD and ETD, by preserving labile modifications and providing detailed fragmentation, address these limitations and thus represent a significant advancement in the structural elucidation of glycans and glycoconjugates.\"\n",
      "    }\n",
      "  ]\n",
      "}\n",
      "{'level': 'document', 'title': 'Mass Spectrometry of Glycans', 'authors': ['Liang Han', 'Catherine E Costello', 'E Catherine'], 'sections': {'abstract': [37, 642], 'Introduction': [644, 10803], 'Glycan release': [10805, 14765], 'Derivatization of Glycans': [14767, 18048], 'Separation of glycans': [18050, 23714], 'Mass spectrometry of glycans': [23716, 45246], 'Conclusions': [45248, 46621]}, 'file_name': 'Mass_spectrometry_of_glycans.pdf', 'original_content': 'Title: Mass Spectrometry of Glycans\\n\\nPowerful new strategies based on mass spectrometry are revolutionizing the structural analysis and profiling of glycans and glycoconjugates. We survey here the major biosynthetic pathways that underlie the biological diversity in glycobiology, with emphasis on glycoproteins, and the approaches that can be used to address the resulting heterogeneity. Included among these are derivatizations, on-and off-line chromatography, electrospray and matrix-assisted laser desorption/ionization, and a variety of dissociation methods, the recently introduced electronbased techniques being of particular interest.\\n\\nCarbohydrates are the most abundant and structurally diverse compounds found in nature. They participate in various biological processes. They are involved in diverse roles such as molecular recognition, cell-cell and cell-matrix interactions, energy generation, and modification of protein conformations. Carbohydrates also serve as markers for many disease states. They can be used in the food, textile, paper, and pharmaceutical industries. Increasing evidence shows that numerous biological functions are closely related to specific carbohydrate structures [1][2][3][4]. They can form branched structures because linkages of the constituent monosaccharides can occur at a number of positions.. They can form branched structures because linkages of the constituent monosaccharides can occur at a number of positions.\\nMonosaccharides, which cannot be hydrolyzed into a simpler form, are the most basic units of carbohydrates. Monosaccharides constitute oligosaccharides (2-10 units) by the attachment to one another via glycosidic linkages, forming branched or linear chains. Polysaccharides (>10 units) are typically reserved as large glycans that are composed of repeating oligosaccharide motifs. The ring form of a monosaccharide generates a chiral (anomeric) center. A glycosidic linkage involves the attachment of a monosaccharide to another residue, typically via the hydroxyl group of this anomeric center. The formation of α linkages or β linkages depends on the direction of the C-1 hydroxyl group with respect to the plane of the ring. The most common monosaccharides are the hexoses. Modifications include the absence of one or more oxygen atoms (deoxysugars), oxidation of a primary hydroxyl group to a carboxylic acid (uronic acid), or replacement of a hydroxyl group with a primary amine or acylamino-group. Each of these monosaccharides exists in a number of isomeric forms because of the constituent asymmetrically substituted carbon atoms. Glycosylation is the process by which one or more monosaccharide or oligosaccharide units are linked to proteins or lipids. It is the most common post-translational modification (PTM) [5]. The central paradigm of modern molecular biology is that the information flows from DNA to RNA to protein to cell. Proteins are vital parts of living organisms and nearly half of them are glycosylated . The central paradigm of modern molecular biology is that the information flows from DNA to RNA to protein to cell. Proteins are vital parts of living organisms and nearly half of them are glycosylated [6]. When linked to a specific site on a protein backbone, glycans can modify the structural properties of the protein, affecting its solubility and conformation. Glycans are also important in localization and cellular adhesion events such as those occurring during development and tumorigenesis . When linked to a specific site on a protein backbone, glycans can modify the structural properties of the protein, affecting its solubility and conformation. Glycans are also important in localization and cellular adhesion events such as those occurring during development and tumorigenesis [7][8][9][10]. The modification modulates the activity of the molecules decorated. For example, changes in glycosylation on the cellular surface cause the immune system to target infected cells for destruction.. The modification modulates the activity of the molecules decorated. For example, changes in glycosylation on the cellular surface cause the immune system to target infected cells for destruction.\\nGlycoproteins often exist as heterogeneous mixtures of closely related structures, called glycoforms, which vary in their glycan structures and glycan attachment sites. Glycans attached to specific sites on a protein backbone generate structurally and chemically diverse glycoproteins. The two most common forms of glycosylation are N-and O-linked glycosylation (Figure 1). In N-glycosylation, oligosaccharides bind to the amine nitrogen of asparagine side chains within the Asn-Xxx-Ser(Thr) consensus sequence in which Xxx is any amino acid except proline. In O-glycosylation, oligosaccharides are linked to the hydroxyl oxygen of serine (Ser) or Threonine (Thr) side chains. The N-glycans of higher organisms all contain a common pentasaccharide core structure (Man 3 GlcNAc 2 ), which is also called trimannosyl chitobiose core ). In N-glycosylation, oligosaccharides bind to the amine nitrogen of asparagine side chains within the Asn-Xxx-Ser(Thr) consensus sequence in which Xxx is any amino acid except proline. In O-glycosylation, oligosaccharides are linked to the hydroxyl oxygen of serine (Ser) or Threonine (Thr) side chains. The N-glycans of higher organisms all contain a common pentasaccharide core structure (Man 3 GlcNAc 2 ), which is also called trimannosyl chitobiose core [11]; in contrast, multiple O-glycan core structures exist, and there is considerable structural diversity in this glycan class ; in contrast, multiple O-glycan core structures exist, and there is considerable structural diversity in this glycan class [12]..\\nIn eukaryotes, the glycoprotein and N-linked glycans are synthesized in the endoplasmic reticulum (ER) and Golgi apparatus, involving enzymes that first accomplish synthesis of the lipid-linked oligosaccharide precursor [13]. The process begins with the step-wise addition of monosaccharide residues by oligotransferases, leading to a 14-oligosaccharide core on the lipid carrier dolicholpyrophosphate (Dol-P). Once the seven-sugar precursor (Man 5 GlcNAc 2 -PP-dolichol) is formed on the cytoplasmic side of the ER, the whole complex is flipped across the membrane layer into the ER lumen, where four more mannose residues and three glucose residues are added. In a co-translational process, the assembled glycan is transferred to Asn residues on the nascent protein, within Asn-X-Ser/Thr sequons via the action of oligosaccharyltransferase (OST). Figure . The process begins with the step-wise addition of monosaccharide residues by oligotransferases, leading to a 14-oligosaccharide core on the lipid carrier dolicholpyrophosphate (Dol-P). Once the seven-sugar precursor (Man 5 GlcNAc 2 -PP-dolichol) is formed on the cytoplasmic side of the ER, the whole complex is flipped across the membrane layer into the ER lumen, where four more mannose residues and three glucose residues are added. In a co-translational process, the assembled glycan is transferred to Asn residues on the nascent protein, within Asn-X-Ser/Thr sequons via the action of oligosaccharyltransferase (OST). Figure 2 depicts the whole process  depicts the whole process [14]. High-mannose N-glycans contain only mannose attached to the chitobiose core. During passage through the ER and Golgi, the mannoses on antennae are removed and other types of residues are added, thus reaching the complex N-glycans. Hybrid N-glycans are incompletely processed and retain at least one antenna containing mannose residues . High-mannose N-glycans contain only mannose attached to the chitobiose core. During passage through the ER and Golgi, the mannoses on antennae are removed and other types of residues are added, thus reaching the complex N-glycans. Hybrid N-glycans are incompletely processed and retain at least one antenna containing mannose residues [15]. N-Glycans play important roles in the quality control (QC) of glycoprotein folding in the ER lumen . N-Glycans play important roles in the quality control (QC) of glycoprotein folding in the ER lumen [15][16][17]. Glycoproteins will not pass ER quality control if they fail to reach the correct conformation . Glycoproteins will not pass ER quality control if they fail to reach the correct conformation [18]..\\nBy comparison, O-glycans have neither consensus sequence nor a consistent core structure; they are extremely diverse [19]. The process is typically initiated by adding a single Nacetylgalactosamine (GalNAc) residue via glycosyltransferase . The process is typically initiated by adding a single Nacetylgalactosamine (GalNAc) residue via glycosyltransferase [20]. Mammals have eight common O-glycan core structures . Mammals have eight common O-glycan core structures [3]. O-Glycosylation also has significant effects on the solubility, conformation, stability and hydrophilicity of proteins . O-Glycosylation also has significant effects on the solubility, conformation, stability and hydrophilicity of proteins [21]..\\nThe study of glycans, termed glycomics, is applied to biology and chemistry that focuses on the structure and function of carbohydrates, and on glycoform distributions at the cellular, tissue, organ and organism levels. A glycomics approach may combine three main aspects: the structural characterization of glycans, detailed understanding of glycan-protein interactions, and the study of in vitro and in vivo systems for the determination of function of specific glycans. This review focuses on the structural identification of glycans and determination of glycoform patterns, and summarizes recent techniques in mass spectrometric glycomics. Despite the important functions of oligosaccharides in biological systems, structural determination of these molecules is an analytical challenge compared to other biomolecules. Unlike linear peptides or nucleic acids, a very limited number of monosaccharides can form many stereoisomeric structures of carbohydrates. For structural elucidation, not only the monosaccharides (and their stereochemistry) need be identified, but also how they link together to form the polymers needs to be determined, which may include their sequence and branching pattern. Glycoform patterns and their changes may be measured at the semiquantitative or quantitative level; usually the values are expressed as relative rather than absolute changes. Mass Spectrometry (MS) is one of the important tools for the structural characterization of carbohydrates, as it offers high sensitivity and addresses the most frequent biological problems. With the help of chromatographic separation, derivatization and mass spectral fragmentation, oligosaccharide structures can be elucidated.\\n\\nThe general approach for analyzing carbohydrates involves, first, the release of the glycan moiety from the glycoprotein. Two general methods are available for releasing carbohydrates: enzymatic methods and chemical methods. Enzymatic methods offer the advantage of preserving the information of the glycoprotein. The glycoprotein will not be degraded so that remains available for analysis. Specific enzymes are used to release Nlinked glycans from glycoproteins. Two types of enzymes are available, endoglycosidases and exoglycosidases; the former releases all or most of the glycan whereas the latter removes only a very specific portion of the non-reducing end of the glycan. Common endoglycosidases are the PNGase family which are amidases that release most N-glycans, e.g., PNGase F cleaves the bond between the innermost GlcNAc and asparagines residues of glycoproteins, releasing the carbohydrate and preserving the intact glycosylamine at the reducing end [22,23], although the amino group is quickly hydrolyzed and replaced by an hydroxyl group. Endoglycosidase H (endo H) cleaves between the GlcNAc residues of the chitobiose core for high mannose and hybrid glycans , although the amino group is quickly hydrolyzed and replaced by an hydroxyl group. Endoglycosidase H (endo H) cleaves between the GlcNAc residues of the chitobiose core for high mannose and hybrid glycans [24]. Exoglycosidases cleave one monosaccharide unit at a time from the nonreducing end of the carbohydrate chain and are frequently employed stepwise in conjunction with Matrix-Assisted Laser Desorption/ Ionization Mass Spectrometry (MALDI-MS) profiling of glycoforms, to facilitate assignment of the terminal monosaccharides and linkages . Exoglycosidases cleave one monosaccharide unit at a time from the nonreducing end of the carbohydrate chain and are frequently employed stepwise in conjunction with Matrix-Assisted Laser Desorption/ Ionization Mass Spectrometry (MALDI-MS) profiling of glycoforms, to facilitate assignment of the terminal monosaccharides and linkages [37]. Therefore, many features in the structure of the carbohydrate sample might be deduced from the enzymatic reaction(s). However, not all features of the sequences and linkages can be defined solely by using this approach. Hence, linkage analysis experiments that employ Gas Chromatography coupled to Mass Spectrometry (GC/MS) are still necessary and are regularly employed for rigorous structure analysis.. Therefore, many features in the structure of the carbohydrate sample might be deduced from the enzymatic reaction(s). However, not all features of the sequences and linkages can be defined solely by using this approach. Hence, linkage analysis experiments that employ Gas Chromatography coupled to Mass Spectrometry (GC/MS) are still necessary and are regularly employed for rigorous structure analysis.\\nChemical release, which includes alkaline elimination and hydrazinolysis [25][26][27], preserves the carbohydrate moiety but degrades the glycoprotein. It is frequently used to release Olinked glycans from glycoproteins, since there is a dearth of glycosidases for release of Olinked glycans., preserves the carbohydrate moiety but degrades the glycoprotein. It is frequently used to release Olinked glycans from glycoproteins, since there is a dearth of glycosidases for release of Olinked glycans.\\nIn order to retain the information about site occupancy, N-linked glycan release may be carried out in the presence of 18 O-water, or an enzyme such as PNGase F1-F3 or endo H, that leave the first GlcNAc attached to the protein, may be employed. The determination of glycoform distributions at specific positions on the protein(s) requires that the sample be subjected to proteolysis and analyzed at the glycopeptide level, usually with on-or off-line chromatography in conjunction with mass spectrometry, or that the glycans be characterized after release from isolated glycopeptides.\\n\\nReleased sugars contain a single reactive carbonyl group at the reducing end that can be derivatized separately from the other hydroxyl groups. This property has been used to improve ionization, to add a stable isotope tag or to attach a chromophore for detection by High-performance Liquid Chromatography (HPLC) [28,29]. Reductive amination works for N-linked glycans released enzymatically from proteins and for any glycan that contains a reducing end. It is not applicable to O-glycans released under reductive conditions, while the aldehyde group is reduced to an alditol, but this group may also be derivatized efficiently or labelled with stable isotopes for structural or quantitative studies.. Reductive amination works for N-linked glycans released enzymatically from proteins and for any glycan that contains a reducing end. It is not applicable to O-glycans released under reductive conditions, while the aldehyde group is reduced to an alditol, but this group may also be derivatized efficiently or labelled with stable isotopes for structural or quantitative studies.\\nPermethylation is another important derivatization tool for investigation of glycan structures [30,31]. Carbohydrates are not ionized as efficiently as compounds such as proteins that can be protonated on many basic sites, neither do they appear to be transferred to the vapor phase as efficiently. Permethylation decreases the intermolecular hydrogen bonding, thereby increasing the sample volatility and thus the intensity of the ion signals . Carbohydrates are not ionized as efficiently as compounds such as proteins that can be protonated on many basic sites, neither do they appear to be transferred to the vapor phase as efficiently. Permethylation decreases the intermolecular hydrogen bonding, thereby increasing the sample volatility and thus the intensity of the ion signals [32]. It also enhances the formation of diagnostic fragment ions and thereby increases the yield of useful structural information . It also enhances the formation of diagnostic fragment ions and thereby increases the yield of useful structural information [33]. It prevents gas-phase rearrangements of glycan residues that can introduce ambiguity into structural analyses . It prevents gas-phase rearrangements of glycan residues that can introduce ambiguity into structural analyses [34]. Furthermore, it can eliminate the negative charge associated with acidic residues, and thus stabilize acidic residues in the positive mode; this feature is especially important for the analysis of sialylated glycans in which the carboxyl group is located on the same carbon as the glycosidic linkage . Furthermore, it can eliminate the negative charge associated with acidic residues, and thus stabilize acidic residues in the positive mode; this feature is especially important for the analysis of sialylated glycans in which the carboxyl group is located on the same carbon as the glycosidic linkage [35]. The reaction pathways for reductive amination and permethylation are shown in Figure . The reaction pathways for reductive amination and permethylation are shown in Figure 3, also with several commonly used reagents for reductive amination , also with several commonly used reagents for reductive amination [36,37]..\\n\\nAfter release of the carbohydrates, the next stage is separation of the carbohydrates. This is not always necessary but it offers the advantage of reducing sample complexity, especially when dealing with biological samples. In most cases, the large variety of isomeric or closely related structures of carbohydrate moiety requires high performance separation techniques prior to mass spectrometry.\\nBoth native glycans and permethylated glycans can be separated by HPLC with a C 18 column. As noted above, reductive amination adds chromophores to native glycans, allowing the detection by Ultraviolet (UV) when using offline HPLC. Normal phase LC provides such regular separation of glycans (usually analyzed as derivatives with a chromophore at the reducing end) that the retention index scale is quite linear and can be used as a basis for assignments [38]. The combination of HPLC and MS (online HPLC) provides qualitative and quantitative analysis of native glycans, dramatically decreasing the effort and time requirements . The combination of HPLC and MS (online HPLC) provides qualitative and quantitative analysis of native glycans, dramatically decreasing the effort and time requirements [38]. Both offline and online liquid chromatography/mass spectrometry (LC/MS) approaches are used for glycan or glycoconjugate profiling. Glycans/ glycoconjugates with low abundance, including N-linked glycans, O-linked glycans, glycopeptides and glycolipids, can be detected by LC/MS and this allows the analysis of complex mixtures . Both offline and online liquid chromatography/mass spectrometry (LC/MS) approaches are used for glycan or glycoconjugate profiling. Glycans/ glycoconjugates with low abundance, including N-linked glycans, O-linked glycans, glycopeptides and glycolipids, can be detected by LC/MS and this allows the analysis of complex mixtures [39][40][41]. When permethylation is applied to increase the hydrophobicity, glycans can be separated by reversed phase LC . When permethylation is applied to increase the hydrophobicity, glycans can be separated by reversed phase LC [42]..\\nPorous graphitized carbon chromatography (PGC) uses a solid phase that is composed of large macromolecules that are made up primarily of carbon atoms. There are two main mechanisms which may contribute to retention: hydrophobic interactions and electronic forces [43]. PGC shows an extraordinary isomeric selectivity to separate glycan isomers . PGC shows an extraordinary isomeric selectivity to separate glycan isomers [44,45]. It can also be used for desalting of glycans prior to mass spectrometry.. It can also be used for desalting of glycans prior to mass spectrometry.\\nHydrophobic interaction liquid chromatography (HILIC) is a type of partition chromatography in which the retention mechanism is due the variations in the size and polarity of glycans. It is an effective tool for online LC/MS to analyze derivatized and reducing glycans [46] and peptides/glycopeptides  and peptides/glycopeptides [47]. However, it cannot separate isomers.. However, it cannot separate isomers.\\nIon mobility -mass spectrometry is an emerging method to distinguish isomers of glycans. IM-MS separates and identifies ionized molecules in the gas phase based on their mobility in the presence of a carrier buffer gas. In IMS-MS, a weak uniform electric field is applied across a drift tube to pull ions through the buffer gas. Compact isomers with higher mobility exit the drift tube earlier than those with lower mobility [48]. Recently, advances in the development of traveling wave ion mobility spectrometry (TWIMS) have significantly increased sensitivity and speed . Recently, advances in the development of traveling wave ion mobility spectrometry (TWIMS) have significantly increased sensitivity and speed [49]. TWIMS offers the possibility of separating complex glycan isomers in the gas phase and can easily be combined with mass spectrometry for further characterization . TWIMS offers the possibility of separating complex glycan isomers in the gas phase and can easily be combined with mass spectrometry for further characterization [50]. Figure . Figure 4 displays the IM-MS distribution observed for electrosprayed high mannose glycans derived from RNase B  displays the IM-MS distribution observed for electrosprayed high mannose glycans derived from RNase B [51]. Isomers of Man 7 GlcNAc 2 can be separated by the technique. IM-MS reduces the carbohydrate complexity in a given mass window. Use of tandem mass spectrometry in conjunction with IM-MS can obtain much \"clearer\" fragmentation ions based on separated precursor ions compared to those previously detected in the mixture caused by overlap between isotopic distributions of their precursors . Isomers of Man 7 GlcNAc 2 can be separated by the technique. IM-MS reduces the carbohydrate complexity in a given mass window. Use of tandem mass spectrometry in conjunction with IM-MS can obtain much \"clearer\" fragmentation ions based on separated precursor ions compared to those previously detected in the mixture caused by overlap between isotopic distributions of their precursors [52,53]. This will simplify the level of glycoform de novo identifications by mass spectrometry and make results much more definitive. The development of this and other mobility-based approaches is an especially active area of current MS research and development.. This will simplify the level of glycoform de novo identifications by mass spectrometry and make results much more definitive. The development of this and other mobility-based approaches is an especially active area of current MS research and development.\\n\\nMass spectrometry (MS), in its most simple definition, is the production and detection of ions separated according to their mass-to-charge (m/z) ratios. The detection of such ions results in a mass spectrum which is a plot of the relative abundance of the ions as a function of their m/z ratio. At present, the two most widely-used MS ionization techniques for the analysis of carbohydrates are Matrix-Assisted Laser Desorption/Ionization (MALDI) and Electrospray Ionization (ESI); in both free glycans are typically detected as metal (usually sodium) adducts in the positive ion mode, and as deprotonated or anion-adducted species in the negative-ion mode. Glycopeptides may be detected in their protonated or deprotonated forms. Both MALDI and ESI are soft ionization techniques; i.e., the ionization process imparts little excess energy and thus generates few or no fragments for glycans so that the intact molecular ions can be easily observed. Nevertheless, prompt loss of labile groups, especially sialic acid and fucose, may occur and the extent of its occurrence should be assessed, particularly in quantitative studies. Both MALDI-MS and ESI-MS can be applied to obtain an overall glycan profile. MALDI yields a series of singly charged molecular ions and the ionization efficiency for neutral carbohydrates is constant as the size of molecule increases, in contrast to that for ESI, where the ionization efficiency decreases with an increasing molecular weight [54]. Additionally, ESI usually generates multiply charged ions; although these complicate spectral analysis, especially when mixtures are introduced with on-or off-line separation, the instrument software can perform a deconvolution of the multiple charge states to produce a spectrum that shows a single molecular weight distribution. However, the signal is distributed over multiple charge states and this affects the ability to detect low-abundance species.. Additionally, ESI usually generates multiply charged ions; although these complicate spectral analysis, especially when mixtures are introduced with on-or off-line separation, the instrument software can perform a deconvolution of the multiple charge states to produce a spectrum that shows a single molecular weight distribution. However, the signal is distributed over multiple charge states and this affects the ability to detect low-abundance species.\\nFigure 5 presents profile negative ion (a) Matrix-Assisted Laser Desorption/Ionization-Time of Flight (MALDI-TOF) and (b) Fourier Transform Ion Cyclotron Resonance (FT-ICR) spectra of a Lipid A mixture obtained from a marine source by Elkin and co-workers  presents profile negative ion (a) Matrix-Assisted Laser Desorption/Ionization-Time of Flight (MALDI-TOF) and (b) Fourier Transform Ion Cyclotron Resonance (FT-ICR) spectra of a Lipid A mixture obtained from a marine source by Elkin and co-workers [55]. The Lipid A sample, extracted from the first batch cultivation of the bacterial cells, has three types monophosphorylated lipid molecules designated as M1, M2 and M3, respectively (see Figure . The Lipid A sample, extracted from the first batch cultivation of the bacterial cells, has three types monophosphorylated lipid molecules designated as M1, M2 and M3, respectively (see Figure 5a). Lipids M2 and M3 may result from fragmentation of the ion M1 or may represent variant products that arise from differences in the biosynthetic pathways.). Lipids M2 and M3 may result from fragmentation of the ion M1 or may represent variant products that arise from differences in the biosynthetic pathways.\\nAlthough MALDI-MS and ESI-MS spectra are highly suited to mass fingerprinting of glycan mixtures and is thus very valuable for initial stages of glycomic analysis, the lack of fragment ions can be a problem for detailed structural elucidation of glycans. This can be solved by making the molecular ions more energetic thereby inducing fragmentation, which is achieved by employing one or more well-controlled dissociation steps and tandem mass spectrometry.\\nTandem mass spectrometry (MS n ), including low-and high-energy collision-induced dissociation (CID) [56][57][58], infrared multiphoton dissociation , infrared multiphoton dissociation [59] and the newer electronbased dissociation methods  and the newer electronbased dissociation methods [60][61][62][63][64] has proven to be a powerful means for carbohydrate structural identification. Generally, glycans undergo two main types of cleavage upon CID: glycosidic cleavages resulting from the rupture between the two neighboring residues and cross-ring cleavages that involve the fragmentation of a sugar ring. The former provide information on composition and sequence, while the latter provide some details on the different linkage types. Internal fragments are generated upon the occurrence of two (or more) cleavages, either glycosidic or cross-ring, from more than one site in the molecule  has proven to be a powerful means for carbohydrate structural identification. Generally, glycans undergo two main types of cleavage upon CID: glycosidic cleavages resulting from the rupture between the two neighboring residues and cross-ring cleavages that involve the fragmentation of a sugar ring. The former provide information on composition and sequence, while the latter provide some details on the different linkage types. Internal fragments are generated upon the occurrence of two (or more) cleavages, either glycosidic or cross-ring, from more than one site in the molecule [1]. They may also provide useful structural information. Figure . They may also provide useful structural information. Figure 6 shows the widely-used nomenclature originally proposed by Domon and Costello to designate different types of glycan fragment ions they observed in the high-energy CID spectra obtained using fast atom bombardment (FAB) or Liquid Secondary Ionization Mass Spectrometry (LSIMS) on a four-sector tandem instrument  shows the widely-used nomenclature originally proposed by Domon and Costello to designate different types of glycan fragment ions they observed in the high-energy CID spectra obtained using fast atom bombardment (FAB) or Liquid Secondary Ionization Mass Spectrometry (LSIMS) on a four-sector tandem instrument [65]. Advent of FAB and LSIMS had made it possible to obtain long-lived, stable ion beams for glycans and glycoconjugates and these features led to wide use of these ionization methods in glycobiology, although they have now largely been replaced by MALDI and ESI.. Advent of FAB and LSIMS had made it possible to obtain long-lived, stable ion beams for glycans and glycoconjugates and these features led to wide use of these ionization methods in glycobiology, although they have now largely been replaced by MALDI and ESI.\\nExtensive studies have revealed that protonated oligosaccharides mainly produce glycosidic cleavages, yielding sequence but not linkage information [66][67][68]. Many reports have shown that fragmentation of different metal-adducted oligosaccharides (Li + , Na + , Mg 2+ , Ca 2+ , etc.) resulted in more cross-ring cleavages in low energy CID . Many reports have shown that fragmentation of different metal-adducted oligosaccharides (Li + , Na + , Mg 2+ , Ca 2+ , etc.) resulted in more cross-ring cleavages in low energy CID [67][68][69]. The Leary group and the Lebrilla group have discussed the relationship between the metal size, sugar size, and fragment ion yield. Figure . The Leary group and the Lebrilla group have discussed the relationship between the metal size, sugar size, and fragment ion yield. Figure 7 explains that the activation barrier increases as the radius of the cation increases. The metal ion binding to a ring oxygen localizes the oxygen\\'s electrons and prohibits glycosidic bond cleavages and it therefore induces abundant cross-ring cleavages under CID or Infrared Multiphoton Dissociation (IRMPD) conditions  explains that the activation barrier increases as the radius of the cation increases. The metal ion binding to a ring oxygen localizes the oxygen\\'s electrons and prohibits glycosidic bond cleavages and it therefore induces abundant cross-ring cleavages under CID or Infrared Multiphoton Dissociation (IRMPD) conditions [68,71,72]..\\nMost published studies have been mainly concerned with the fragmentation of positive ions on both native and permethylated N-linked glycans [69,73,74]. The fragment ions from native glycans tend to undergo rearrangement reactions which lead to ambiguous information . The fragment ions from native glycans tend to undergo rearrangement reactions which lead to ambiguous information [34,75]. Permethlyation is used to stabilize the labile acidic groups which can be easily lost, particularly during MALDI ionization and in the analyzer under low or high energy CID . Permethlyation is used to stabilize the labile acidic groups which can be easily lost, particularly during MALDI ionization and in the analyzer under low or high energy CID [11,76]. Low energy CID generates mainly glycosidic cleavages. Fragments resulting from cross-ring cleavages, which can provide information needed for making detailed structural assignments, have quite low relative abundances or are absent. High energy CID can provide extensive informative fragments for analysis of oligosaccharides with smaller sizes . Low energy CID generates mainly glycosidic cleavages. Fragments resulting from cross-ring cleavages, which can provide information needed for making detailed structural assignments, have quite low relative abundances or are absent. High energy CID can provide extensive informative fragments for analysis of oligosaccharides with smaller sizes [35,77]. High energy dissociation in a sector mass spectrometer can produce many informative cleavages . High energy dissociation in a sector mass spectrometer can produce many informative cleavages [65] but these instruments are now seldom available for glycan analysis. but these instruments are now seldom available for glycan analysis.\\nFor larger N-linked glycans with more complex structures, the most abundant cross-ring fragments detected with high-energy CID in a MALDI-TOF/TOF mass spectrometer are often the 1,5 X n cleavages, but these are not unique enough to facilitate detailed structural assignments [78]. Negative ion CID is very useful for analysis of glycans with acidic monosaccharide residues. The Zaia group acquired a set of targeted negative CID spectra in automated mode on heparan sulfate (HS) oligosaccharides deriving from two different tissue sources. By using statistical methods, they were able to profile a number of HS oligosaccharides and foresaw the potential for glycosamineglycans (GAG) class profiling . Negative ion CID is very useful for analysis of glycans with acidic monosaccharide residues. The Zaia group acquired a set of targeted negative CID spectra in automated mode on heparan sulfate (HS) oligosaccharides deriving from two different tissue sources. By using statistical methods, they were able to profile a number of HS oligosaccharides and foresaw the potential for glycosamineglycans (GAG) class profiling [79]. In addition, the spectra from dissociation of N-linked glycan negative ions provide extensive information with, in many cases, specific fragmentation on the chitobiose core that can reveal finer details of glycan structures. But the same deficiency rises, in that only limited structural information can be gained, due to the occurrence of minimal fragmentation on the antennae . In addition, the spectra from dissociation of N-linked glycan negative ions provide extensive information with, in many cases, specific fragmentation on the chitobiose core that can reveal finer details of glycan structures. But the same deficiency rises, in that only limited structural information can be gained, due to the occurrence of minimal fragmentation on the antennae [80][81][82][83][84][85]..\\nRecently, several novel fragmentation techniques have been applied to the analysis of carbohydrates. Adamson et al. and Zhao et al. have investigated the application of electron capture dissociation (ECD) to both linear and branched oligosaccharides by utilizing FT-ICR mass spectrometers [63,64]. They showed that cross-ring cleavages were the dominant fragmentation pathway in ECD spectra. Whereas ECD is applied in the positive ion mode for characterization of neutral glycans, electron detachment dissociation (EDD) generates fragmentation in the negative mode for analysis of acidic glycans, and has been shown to be particularly useful for analysis of glycosaminoglycans (GAGs). Wolff, Amster et al. applied EDD to the analysis of GAGs and elucidated some mechanisms and pathways . They showed that cross-ring cleavages were the dominant fragmentation pathway in ECD spectra. Whereas ECD is applied in the positive ion mode for characterization of neutral glycans, electron detachment dissociation (EDD) generates fragmentation in the negative mode for analysis of acidic glycans, and has been shown to be particularly useful for analysis of glycosaminoglycans (GAGs). Wolff, Amster et al. applied EDD to the analysis of GAGs and elucidated some mechanisms and pathways [61,86]. Adamson and Hakansson also showed that EDD produces relatively abundant cross-ring cleavage ions for N-glycans and milk oligosaccharides . Adamson and Hakansson also showed that EDD produces relatively abundant cross-ring cleavage ions for N-glycans and milk oligosaccharides [87]. Yu et al. investigated the application of electron energy-dependent electron activated dissociation (ExD) based on alkaline metal-adducted permethylated maltoheptaose in positive mode. Their data showed that such a glycan exhibits several fragmentation processes, including electron capture dissociation (ECD) (1.5eV), hot-ECD (9eV), and electronic excitation dissociation (EED) (14eV). EED provided cross-ring cleavages more informative than those obtained by ECD or hot-ECD . Yu et al. investigated the application of electron energy-dependent electron activated dissociation (ExD) based on alkaline metal-adducted permethylated maltoheptaose in positive mode. Their data showed that such a glycan exhibits several fragmentation processes, including electron capture dissociation (ECD) (1.5eV), hot-ECD (9eV), and electronic excitation dissociation (EED) (14eV). EED provided cross-ring cleavages more informative than those obtained by ECD or hot-ECD [62]. Figure . Figure 8 shows the EED spectrum of permethylated Man 5 GlcNAc 2 . The appearance of extensive fragment ions allows the detailed structural identification of the Nlinked glycan. shows the EED spectrum of permethylated Man 5 GlcNAc 2 . The appearance of extensive fragment ions allows the detailed structural identification of the Nlinked glycan.\\nThese fragmentation techniques, including ECD, EDD and EED as discussed above, are mostly limited to FT-ICR MS, but the cost and complexity of these instrument systems limit their availability. Electron transfer dissociation (ETD), a fragmentation technique very similar to ECD, was introduced by Syka et al. for peptide/protein fragmentation [88]. ETD can be carried out in most mass spectrometers, including quadrupole ion trap mass spectrometers, which are widely available. Recently, Han and Costello successfully applied ETD to investigations in a series of milk oligosaccharides and observed extensive cross-ring cleavages as well as other useful fragment ions; this feature of ETD greatly improves the capability of mass spectrometry to determine the linkage types and branching positions for glycans . ETD can be carried out in most mass spectrometers, including quadrupole ion trap mass spectrometers, which are widely available. Recently, Han and Costello successfully applied ETD to investigations in a series of milk oligosaccharides and observed extensive cross-ring cleavages as well as other useful fragment ions; this feature of ETD greatly improves the capability of mass spectrometry to determine the linkage types and branching positions for glycans [60]. Figures 9 and 10 compare the results from CID and ETD of reduced and permethylated LSTa, respectively. The mass accuracy can be guaranteed by carrying out the analyses with an FTICR MS instrument equipped for ETD; ETD-CID MS 3 on the ion trap instrument provides additional valuable clues for revealing fragmentation pathways. Further applications of ETD to the structural determination of glycans, oligosaccharides, glycopeptides and glycoproteins from biological samples are beginning to be reported.. Figures 9 and 10 compare the results from CID and ETD of reduced and permethylated LSTa, respectively. The mass accuracy can be guaranteed by carrying out the analyses with an FTICR MS instrument equipped for ETD; ETD-CID MS 3 on the ion trap instrument provides additional valuable clues for revealing fragmentation pathways. Further applications of ETD to the structural determination of glycans, oligosaccharides, glycopeptides and glycoproteins from biological samples are beginning to be reported.\\nHigh throughput analyses and the newly developed fragmentation techniques, such as ECD, EDD, ETD and EED, that generate much more extensive structural information have the potential for enormous benefit to the glycobiology community, but they have introduced a new problem: the challenges for interpreting the huge amount of mass spectrometric data and building up the databases and search engines necessary to support future glycobiology research.\\nGlycoMod is a widely-used software tool designed to predict all possible compositions of a certain glycan structure, either underivatized, or derivatized, based on its experimentally determined mass [89]. The program can also suggest candidate oligosaccharides that are derived from glycopeptides/glycoproteins known in the SWISS-PROT or TrEMBL databases and match the experimental results against the results from database. UniCarbKB is an online information storage and search platform for glycomics and glycobiology research . The program can also suggest candidate oligosaccharides that are derived from glycopeptides/glycoproteins known in the SWISS-PROT or TrEMBL databases and match the experimental results against the results from database. UniCarbKB is an online information storage and search platform for glycomics and glycobiology research [90]. It brings together information on the structure, biological origin and potential function of glycans and links each stored glycan structure to quality experimental data from mass spectrometry, chromatography and other technologies. Another useful glycan knowledgebase is EUROCarbDB, which is a glycan platform also based on the primary and interpreted analytical data from high-performance liquid chromatography, mass spectrometry and nuclear magnetic resonance experiments . It brings together information on the structure, biological origin and potential function of glycans and links each stored glycan structure to quality experimental data from mass spectrometry, chromatography and other technologies. Another useful glycan knowledgebase is EUROCarbDB, which is a glycan platform also based on the primary and interpreted analytical data from high-performance liquid chromatography, mass spectrometry and nuclear magnetic resonance experiments [91]. It offers various web-based research tools to expedite aspects of glycan analysis, structural eludication, and recommends the format and nomenclature for encoding carbohydrate structures. As mentioned above, liquid chromatography/mass spectrometry (LC/MS) can be used to compare glycan compositions and abundances among different biological samples. Manual interpretation of the LC/MS data is extremely time-consuming. Zaia and co-workers developed a tool to computationally model LC/MS data on tissue derived heparan sulfate oligosaccharides . It offers various web-based research tools to expedite aspects of glycan analysis, structural eludication, and recommends the format and nomenclature for encoding carbohydrate structures. As mentioned above, liquid chromatography/mass spectrometry (LC/MS) can be used to compare glycan compositions and abundances among different biological samples. Manual interpretation of the LC/MS data is extremely time-consuming. Zaia and co-workers developed a tool to computationally model LC/MS data on tissue derived heparan sulfate oligosaccharides [92]. The software, GlycReSoft, improve glycan recognition through grouping candidate glycan compositions summarized over their various charge states, adducts and range of elution times. This strategy can form an essential part of glycomics work flows which enable efficient profiling of glycans. Going forward, the construction of glycoinformatic databases will drive the leading edge and support innovative approaches to connect various types of glycoanalytical data to a centralized repository of known glycan structures.. The software, GlycReSoft, improve glycan recognition through grouping candidate glycan compositions summarized over their various charge states, adducts and range of elution times. This strategy can form an essential part of glycomics work flows which enable efficient profiling of glycans. Going forward, the construction of glycoinformatic databases will drive the leading edge and support innovative approaches to connect various types of glycoanalytical data to a centralized repository of known glycan structures.\\n\\nThis review summarizes the glycomics workflow and the current and emerging mass spectral methods that are available to study the structures of glycans and their functions in biological systems, with a particular emphasis on glycoprotein analysis. Over the past decade, the development of mass spectrometry has increased our knowledge and facilitated exploration of biological carbohydrates. Our understanding of the structures and diversity of glycans in biological samples has increased dramatically due, in large part, to the dramatic improvements in the sensitivity and variety of mass spectrometry approaches. The initiatives that generate glycoinformatics database platforms should hasten the progress in glycocomics by providing freely accessible database tools for carbohydrates researchers and linking glycomics with all areas of biology, medicine and the environment.   The reactions of reductive amination and permethylation as well as several commonly used reagents for reductive amination.   Nomenclature for glycan and glycoconjugate fragments observed in tandem mass spectra. Reproduced, with permission, from [65] Figure  Figure 7..\\nMetal effects on glycans in tandem mass spectrometry: (A) proton mediated glycosidic bond dissociation, (B) higher activation energy barrier as the cation radius increases. Reproduced, with permission, from [71]          [60]\\n\\n', 'requirements': {'qar_num': 2}}\n",
      "You are an expert researcher. Using the following enhanced template, analyze the provided contextual information to generate the top 5 critical academic questions that researchers in this field care about. For each question, provide a thorough and contextually relevant answer, and explain why these questions are significant to researchers and why the provided answers are accurate.\n",
      "\n",
      "Here is the context:\n",
      "The article highlights the significance of optimizing surface properties for biomaterials to achieve interfacial biocompatibility. Sulfated polysaccharides like fucoidan show great potential as alternatives to traditional anticoagulants without associated risks. By successfully immobilizing fucoidan onto low-density polyethylene surfaces, this study demonstrates its effectiveness as an anticoagulant while avoiding bleeding complications.\n",
      "\n",
      "Using this context, generate 5 specific questions that this context can uniquely answer. Ensure that these questions:\n",
      "1. Are directly related to the provided context.\n",
      "2. Highlight unique information or insights from the context.\n",
      "3. Cannot be easily answered by general knowledge.\n",
      "\n",
      "Higher-level summaries of surrounding context may be provided as well. Try using these summaries to generate better questions that this context can answer.----------------------------------------------------------------------------------\n",
      "The output should be formatted as a JSON instance that conforms to the JSON schema below.\n",
      "\n",
      "As an example, for the schema {\"properties\": {\"foo\": {\"title\": \"Foo\", \"description\": \"a list of strings\", \"type\": \"array\", \"items\": {\"type\": \"string\"}}}, \"required\": [\"foo\"]}\n",
      "the object {\"foo\": [\"bar\", \"baz\"]} is a well-formatted instance of the schema. The object {\"properties\": {\"foo\": [\"bar\", \"baz\"]}} is not well-formatted.\n",
      "\n",
      "Here is the output schema:\n",
      "```\n",
      "{\"properties\": {\"qars\": {\"title\": \"Qars\", \"type\": \"array\", \"items\": {\"$ref\": \"#/definitions/QAR\"}}}, \"required\": [\"qars\"], \"definitions\": {\"QAR\": {\"title\": \"QAR\", \"type\": \"object\", \"properties\": {\"Question\": {\"title\": \"Question\", \"description\": \"The question being asked\", \"type\": \"string\"}, \"Answer\": {\"title\": \"Answer\", \"description\": \"The answer to the question\", \"type\": \"string\"}, \"Reason\": {\"title\": \"Reason\", \"description\": \"The reason for the answer\", \"type\": \"string\"}}, \"required\": [\"Question\", \"Answer\", \"Reason\"]}}}\n",
      "```\n",
      "Output a valid JSON object but do not repeat the schema.\n",
      "response:\n",
      "{\n",
      "  \"qars\": [\n",
      "    {\n",
      "      \"Question\": \"How does the immobilization of fucoidan onto low-density polyethylene surfaces enhance its anticoagulant properties?\",\n",
      "      \"Answer\": \"The immobilization of fucoidan onto low-density polyethylene surfaces enhances its anticoagulant properties by providing a stable substrate that promotes the bioactivity of fucoidan. This coupling ensures that fucoidan remains effective in preventing coagulation without being introduced into the systemic circulation, which mitigates the risks of systemic bleeding.\",\n",
      "      \"Reason\": \"Immobilizing anticoagulants like fucoidan onto biomaterial surfaces can localize their activity to areas where it is most needed, such as at the interface between blood and a medical device, reducing the risk of systemic side effects such as bleeding.\"\n",
      "    },\n",
      "    {\n",
      "      \"Question\": \"What is the significance of using sulfated polysaccharides, specifically fucoidan, as an alternative to traditional anticoagulants?\",\n",
      "      \"Answer\": \"Sulfated polysaccharides like fucoidan are significant alternatives to traditional anticoagulants because they exhibit lower risks of bleeding and other side effects, while still effectively preventing blood clot formation. As natural compounds, they may also offer additional benefits such as anti-inflammatory and immune-modulatory effects, enhancing overall biocompatibility.\",\n",
      "      \"Reason\": \"Traditional anticoagulants often come with significant risks, including uncontrolled bleeding and adverse reactions. Fucoidan's natural origin and unique biochemical properties provide a safer and potentially more versatile option for anticoagulation therapy.\"\n",
      "    },\n",
      "    {\n",
      "      \"Question\": \"Why is it important to optimize surface properties for biomaterials to achieve interfacial biocompatibility?\",\n",
      "      \"Answer\": \"Optimizing surface properties for biomaterials is important to achieve interfacial biocompatibility because it ensures that the material will interact harmoniously with biological tissues and fluids, reducing the risk of adverse reactions. This optimization helps in promoting cell adhesion, proliferation, and appropriate immune responses, essential factors for the successful integration of biomaterials in medical applications.\",\n",
      "      \"Reason\": \"The interaction between biomaterial surfaces and biological environments is critical for the success of implants, medical devices, and other applications. Ensuring biocompatibility reduces complications and improves the performance and longevity of the biomaterials used.\"\n",
      "    },\n",
      "    {\n",
      "      \"Question\": \"What methods might researchers use to ensure the successful immobilization of fucoidan on biomaterial surfaces?\",\n",
      "      \"Answer\": \"Researchers might employ various chemical and physical techniques to ensure the successful immobilization of fucoidan on biomaterial surfaces, such as covalent bonding, adsorption, layer-by-layer assembly, and surface functionalization. These methods would be selected based on the desired stability and activity of the immobilized fucoidan.\",\n",
      "      \"Reason\": \"The stability and functional activity of immobilized biomolecules like fucoidan are critical for their effectiveness. Choosing the appropriate immobilization technique ensures that fucoidan retains its anticoagulant activity while being firmly attached to the surface, preventing detachment under physiological conditions.\"\n",
      "    },\n",
      "    {\n",
      "      \"Question\": \"What challenges might arise when immobilizing a biologically active compound like fucoidan onto synthetic surfaces, and how can these be addressed?\",\n",
      "      \"Answer\": \"Challenges that might arise include maintaining the biological activity of fucoidan after immobilization, preventing its degradation, and ensuring uniform and stable attachment to the synthetic surface. These challenges can be addressed through careful selection of immobilization techniques, surface pretreatment to enhance bonding, and optimizing environmental conditions during the immobilization process to preserve fucoidan's bioactivity.\",\n",
      "      \"Reason\": \"Maintaining the function and stability of biologically active compounds after immobilization is crucial for their therapeutic effectiveness. Addressing these challenges requires a combination of materials science and biochemical strategies to ensure that the immobilized compounds retain their desired properties.\"\n",
      "    }\n",
      "  ]\n",
      "}\n",
      "{'level': 'document', 'title': 'A New Route of Fucoidan Immobilization on Low Density Polyethylene and Its Blood Compatibility and Anticoagulation Activity', 'authors': ['Kadir Ozaltin', 'Marián Lehocký', 'Petr Humpolíček', 'Jana Pelková', 'Petr Sáha'], 'sections': {'abstract': [132, 1590], 'Introduction': [1592, 12475], 'Results': [12477, 12867], 'Surface Wettability Behaviour': [12869, 15903], 'Scanning Electron Microscopy Characterization': [15905, 18110], 'Atomic Force Microscopy Characterization': [18112, 20776], 'Fourier Transform Infrared Spectra Investigations': [20778, 23373], 'X-ray Photoelectron Spectroscopy Investigations': [23375, 26051], 'Anticoagulation Activity Studied in Vitro': [26053, 31739], 'Materials and Preparation': [31741, 33296], 'Plasma Surface Modification and Reagent Immobilization': [33298, 35859], 'Surface Wettability Evaluation': [35861, 36464], 'Scanning Electron Microscopy': [36466, 36802], 'Atomic Force Microscopy': [36804, 37320], 'Fourier Transform Infrared Spectroscopy': [37322, 37758], 'X-ray Photoelectron Spectroscopy': [37760, 38496], 'Anticoagulation Activity Test': [38498, 39079], 'Conclusions': [39081, 40139]}, 'file_name': 'A_New_Route_of_Fucoidan_Immobilization_o.pdf', 'original_content': \"Title: A New Route of Fucoidan Immobilization on Low Density Polyethylene and Its Blood Compatibility and Anticoagulation Activity\\n\\nBeside biomaterials' bulk properties, their surface properties are equally important to control interfacial biocompatibility. However, due to the inadequate interaction with tissue, they may cause foreign body reaction. Moreover, surface induced thrombosis can occur when biomaterials are used for blood containing applications. Surface modification of the biomaterials can bring enhanced surface properties in biomedical applications. Sulfated polysaccharide coatings can be used to avoid surface induced thrombosis which may cause vascular occlusion (blocking the blood flow by blood clot), which results in serious health problems. Naturally occurring heparin is one of the sulfated polysaccharides most commonly used as an anticoagulant, but its long term usage causes hemorrhage. Marine sourced sulfated polysaccharide fucoidan is an alternative anticoagulant without the hemorrhage drawback. Heparin and fucoidan immobilization onto a low density polyethylene surface after functionalization by plasma has been studied. Surface energy was demonstrated by water contact angle test and chemical characterizations were carried out by Fourier transform infrared spectroscopy and X-ray photoelectron spectroscopy. Surface morphology was monitored by scanning electron microscope and atomic force microscope. Finally, their anticoagulation activity was examined for prothrombin time (PT), activated partial thromboplastin time (aPTT), and thrombin time (TT).\\n\\nBiocompatibility of polymeric biomaterials can be considered mostly by means of their bulk and surface properties. Mechanical compatibility is important for sufficient stability and appropriate rigidity within bulk properties, whereas material surface compatibility is important to obtain a good interfacial biocompatibility. When a biomaterial is placed into the body, firstly its surface comes into contact with physiological fluids, thus the first interaction is strongly dependent on the surface properties.\\nWhen a synthetic biomaterial, with the purpose of implantation or tissue replacement, is introduced into a living biological system it can cause a foreign body reaction and surface induced thrombosis since it is not biologically active as living tissues. The first response of the biological system is the rapid protein adsorption (within seconds) onto a biomaterial's surface, in accordance with the Vroman Effect [1,2]. As such, this response becomes recognizable by the integrin receptors of most of the cells . As such, this response becomes recognizable by the integrin receptors of most of the cells [3]. Thus, cellular interaction with the adsorbed protein layer plays a paramount importance . Thus, cellular interaction with the adsorbed protein layer plays a paramount importance [3][4][5][6][7]. The type, concentration, and conformation of the proteins are important by means of further cellular interactions at the interface . The type, concentration, and conformation of the proteins are important by means of further cellular interactions at the interface [2]..\\nIn terms of blood compatibility, the blood response strongly depends on materials' surface properties, such as surface chemistry, energy, charge density, and wettability [4]. Protein adsorption is followed by platelet adhesion and aggregation, activation of intrinsic pathway of blood coagulation via blood protein factor XII (mostly activated by negatively charged surfaces . Protein adsorption is followed by platelet adhesion and aggregation, activation of intrinsic pathway of blood coagulation via blood protein factor XII (mostly activated by negatively charged surfaces [8]), fibrin network formation, complement system activation with interactions of erythrocytes and leucocytes ), fibrin network formation, complement system activation with interactions of erythrocytes and leucocytes [3,5,[9][10][11][12]. Therefore, this coagulation cascade triggers the thrombus (blood clot) formation on the biomaterials' surface, namely surface induced thrombosis . Therefore, this coagulation cascade triggers the thrombus (blood clot) formation on the biomaterials' surface, namely surface induced thrombosis [4,5], which may cause blood vessel occlusion or heart attack in the case of its vascular implantation , which may cause blood vessel occlusion or heart attack in the case of its vascular implantation [13,14]. Thus, reducing protein adsorption and platelet activity increase the hemocompatibility of the biomaterial.. Thus, reducing protein adsorption and platelet activity increase the hemocompatibility of the biomaterial.\\nSome of the polymeric materials (such as polyolefins) have low surface energy and lack adequate enough bonding interfaces which makes them challenging substrates for further surface modification; as such, surface treatment is essential [15,16]. Functionalization of biomaterials by means of surface treatment is possible by several methods, such as corona discharge, UV irradiation, wet chemistry, flame treatment, ozone induced treatment, flame treatment, and plasma treatment . Functionalization of biomaterials by means of surface treatment is possible by several methods, such as corona discharge, UV irradiation, wet chemistry, flame treatment, ozone induced treatment, flame treatment, and plasma treatment [17][18][19]. Among them, plasma treatment is an effective way to modify polymer surface homogeneously without toxic residues. The heat free process of plasma treatment is another important advantage, especially for heat sensitive polymeric materials, in order to keep their desired bulk properties. Altering the plasma parameters, such as diversity of used gas with its flow rate, reactor type and pressure, generated power, and frequency creates different types of plasma for individual applications like sterilization, deposition, chain scission, ion etching, cross-linking, polymerization, surface activation, etc. . Among them, plasma treatment is an effective way to modify polymer surface homogeneously without toxic residues. The heat free process of plasma treatment is another important advantage, especially for heat sensitive polymeric materials, in order to keep their desired bulk properties. Altering the plasma parameters, such as diversity of used gas with its flow rate, reactor type and pressure, generated power, and frequency creates different types of plasma for individual applications like sterilization, deposition, chain scission, ion etching, cross-linking, polymerization, surface activation, etc. [15,17,20]. Controlling the process efficiency is possible by changing the exposure time. Plasma treatment can introduce oxygen containing functional groups (such as hydroxyl, carboxyl, carbonyl) onto the polymer surface by means of excited atoms, ions, electrons, neutral species, and ultraviolet light; in doing so, polymer surfaces can become more convenient for further chemical modifications . Controlling the process efficiency is possible by changing the exposure time. Plasma treatment can introduce oxygen containing functional groups (such as hydroxyl, carboxyl, carbonyl) onto the polymer surface by means of excited atoms, ions, electrons, neutral species, and ultraviolet light; in doing so, polymer surfaces can become more convenient for further chemical modifications [17,[21][22][23]..\\nTo avoid blood coagulation, fibrinolysis occurs by a normal body process [24] as a result of the breakdown of blood clots (primary fibrinolysis) or by medical supply (secondary fibrinolysis). Thrombus inhibition by anticoagulant fucoidan is a promising strategy to avoid thrombus formation. Heparin is another polysaccharide (see Figure  as a result of the breakdown of blood clots (primary fibrinolysis) or by medical supply (secondary fibrinolysis). Thrombus inhibition by anticoagulant fucoidan is a promising strategy to avoid thrombus formation. Heparin is another polysaccharide (see Figure 1a) that has been used as an anticoagulant for several years ) that has been used as an anticoagulant for several years [15,25,26]. The biggest drawback of heparin is hemorrhaging and thrombocytopenia . The biggest drawback of heparin is hemorrhaging and thrombocytopenia [25][26][27]. It may also cause virus-based infections due to the fact that it is mostly obtained from animals [25]. Fucoidan is another sulfated polysaccharide that has attracted scientific interest in recent years as an alternative anticoagulant to heparin. Fucoidan is a marine sourced biopolymer largely found in the intercellular matrix of brown algae [25] and rather limitedly found in marine invertebrates . It may also cause virus-based infections due to the fact that it is mostly obtained from animals [25]. Fucoidan is another sulfated polysaccharide that has attracted scientific interest in recent years as an alternative anticoagulant to heparin. Fucoidan is a marine sourced biopolymer largely found in the intercellular matrix of brown algae [25] and rather limitedly found in marine invertebrates [27][28][29][30] (see Figure  (see Figure 1b). Besides its anticoagulant activity, it has an assortment of biological activities, such as antivirus, anticancer, antitumor, anti-inflammatory, and antioxidant activities. These properties make fucoidan an attractive polysaccharide for numerous biomedical applications ). Besides its anticoagulant activity, it has an assortment of biological activities, such as antivirus, anticancer, antitumor, anti-inflammatory, and antioxidant activities. These properties make fucoidan an attractive polysaccharide for numerous biomedical applications [28][29][30][31][32][33][34][35]..\\nDissimilarly to other polysaccharides, the mechanism of anticoagulant activity of fucoidan is related to the interactions with the natural thrombin inhibitors of antithrombin (AT III) and heparin cofactor II (HCII), activated factor II (thrombin), and activated factor X [26,28,36,37]. The effect of the anticoagulant activity of fucoidan depends on its structural properties, such as sulfation pattern and degree, monosaccharide composition and especially its molecular weight (MW) . The effect of the anticoagulant activity of fucoidan depends on its structural properties, such as sulfation pattern and degree, monosaccharide composition and especially its molecular weight (MW) [27,28,36,38]. For instance, low molecular weight (LMW) fucoidan has been found to be effective for its anti-inflammatory response, while middle and high molecular weight fucoidan has been found to be more effective for its anticoagulant activity, which is related to the altering of sulfate groups by changing MW in order to control the binding properties . For instance, low molecular weight (LMW) fucoidan has been found to be effective for its anti-inflammatory response, while middle and high molecular weight fucoidan has been found to be more effective for its anticoagulant activity, which is related to the altering of sulfate groups by changing MW in order to control the binding properties [27,28,34,36]. Besides the drawbacks of heparin, it has been found that the anticoagulant activity of fucoidan is greater than heparin . Besides the drawbacks of heparin, it has been found that the anticoagulant activity of fucoidan is greater than heparin [39]. On the other hand, the structure of fucoidan is not well defined yet, so as such its applications are presently rather limited.. On the other hand, the structure of fucoidan is not well defined yet, so as such its applications are presently rather limited.\\nIn this study, low density polyethylene (LDPE) was used as a substrate to functionalize its surface by means of plasma treatment and further polymerization by grafting polymer brushes of Allylamine (AAM), N-allylmethylamine (MAAM), and N,N-dimethylallylamine (DAAM) by introducing an amine functional group, one methyl, and two methyl groups to reveal the optimum polymer brush for the immobilization of the anticoagulants heparin and fucoidan. Surface characterizations were carried out by means of scanning electron microscope (SEM), atomic force microscope (AFM), X-ray photoelectron spectroscopy (XPS), Fourier transform infrared spectroscopy (FTIR), and wettability test. Anticoagulation activity was examined for prothrombin time (PT), activated partial thromboplastin time (aPTT), and thrombin time (TT).\\n\\nDue to the similar and unsatisfying anticoagulation behaviors of AAM, MAAM, and DAAM immobilized samples, their investigations, except the anticoagulation test, are not placed in this paper. In fact, as was observed after surface examinations, the existence of their polymer brushes was revealed, however, they did not show any significant effect on further heparin/fucoidan immobilization.\\n\\nSurface wettability was carried out by static contact angle measurement by sessile drop technique using distilled water as a testing liquid; results are provided in Table 1. Changes in the water contact angle (θ w ) by spreading the water on the surface, as a result of bonding interactions of the water molecules, refers to hydrophilicity, which has a correlation with its surface energy. The water contact angle of the reference polyethylene (PE) is drastically decreased by about 33% after plasma treatment (from 85.3 ˝to 56.9 ˝) as a result of the presence of plasma induced hydrophilic oxidative functional groups . Changes in the water contact angle (θ w ) by spreading the water on the surface, as a result of bonding interactions of the water molecules, refers to hydrophilicity, which has a correlation with its surface energy. The water contact angle of the reference polyethylene (PE) is drastically decreased by about 33% after plasma treatment (from 85.3 ˝to 56.9 ˝) as a result of the presence of plasma induced hydrophilic oxidative functional groups [40] and also with respect to the surface roughening which is discussed in Section 2.3. Thus, wettability and surface energy is increased and therefore the PET surface becomes more likely to interact with further modifications. It has also been known that such hydrophilic surfaces have significant influence on the cell and blood plasma protein interactions. Heparin and fucoidan immobilized samples before plasma treatment (PEH and PEF, respectively) and heparin immobilized sample after plasma treatment (PETH) showed almost the same wettability properties (Table  and also with respect to the surface roughening which is discussed in Section 2.3. Thus, wettability and surface energy is increased and therefore the PET surface becomes more likely to interact with further modifications. It has also been known that such hydrophilic surfaces have significant influence on the cell and blood plasma protein interactions. Heparin and fucoidan immobilized samples before plasma treatment (PEH and PEF, respectively) and heparin immobilized sample after plasma treatment (PETH) showed almost the same wettability properties (Table 1) due to insufficient immobilization of anticoagulants (see Section 2.2). The fucoidan immobilized sample after plasma treatment (PETF) showed the lowest water contact angle value among all anticoagulant immobilized samples, which corresponds to its hydrophilic character (Table ) due to insufficient immobilization of anticoagulants (see Section 2.2). The fucoidan immobilized sample after plasma treatment (PETF) showed the lowest water contact angle value among all anticoagulant immobilized samples, which corresponds to its hydrophilic character (Table 1). This indicates that fucoidan was successfully immobilized onto the surface, which was also demonstrated by scanning electron microscopy.). This indicates that fucoidan was successfully immobilized onto the surface, which was also demonstrated by scanning electron microscopy.\\n\\nSurface morphological images of the samples taken by SEM are shown in Figure 2. The reference PE sample exhibits homogenous, relatively smooth surface morphology with a minor uniform fiber-like feature stem from the production (Figure . The reference PE sample exhibits homogenous, relatively smooth surface morphology with a minor uniform fiber-like feature stem from the production (Figure 2a). After plasma treatment, the surface morphology became rougher due to the surface reorganization by exposition in plasma (Figure ). After plasma treatment, the surface morphology became rougher due to the surface reorganization by exposition in plasma (Figure 2b). As a result, increased surface area was generated by increasing roughness, which is a desired surface condition for further interactions. Without plasma treatment the immobilization of the anticoagulants onto PE surface were limited since partially attachment was observed (see Figure ). As a result, increased surface area was generated by increasing roughness, which is a desired surface condition for further interactions. Without plasma treatment the immobilization of the anticoagulants onto PE surface were limited since partially attachment was observed (see Figure 2c,d). Therefore, beside immobilized anticoagulants, blood may also contact with the substrate, which results in decrease of antithrombotic effect. Plasma modified samples (Figure ). Therefore, beside immobilized anticoagulants, blood may also contact with the substrate, which results in decrease of antithrombotic effect. Plasma modified samples (Figure 2e,f) exhibit more homogenous and completely coated layers thanks to the functional groups introduced by plasma treatment. In addition to the antithrombotic activities of anticoagulants, the bonding type is also crucial for further interactions with the blood, which is discussed in Section 2.6 in this paper. ) exhibit more homogenous and completely coated layers thanks to the functional groups introduced by plasma treatment. In addition to the antithrombotic activities of anticoagulants, the bonding type is also crucial for further interactions with the blood, which is discussed in Section 2.6 in this paper.\\n\\nSurface topography investigations of the samples were carried out by AFM; the corresponding images are shown in Figure 3. The surface roughness of the reference PE sample is rather smooth with an average roughness value of 24.2 nm (Table . The surface roughness of the reference PE sample is rather smooth with an average roughness value of 24.2 nm (Table 1). Direct immobilizations of the anticoagulants heparin and fucoidan onto the PE surface decreased the surface roughness to 13.9 and 20.3 nm, respectively (Figure ). Direct immobilizations of the anticoagulants heparin and fucoidan onto the PE surface decreased the surface roughness to 13.9 and 20.3 nm, respectively (Figure 3c,d). This indicates that heparin and fucoidan particles slightly covered the pores of the PE with a non-uniform feature. However, the PE surface became more rough (46.7 nm) after plasma treatment by etching of the surface (Figure ). This indicates that heparin and fucoidan particles slightly covered the pores of the PE with a non-uniform feature. However, the PE surface became more rough (46.7 nm) after plasma treatment by etching of the surface (Figure 3b). Similar behavior was observed after the heparin and fucoidan immobilization for PETH and PETF samples in that the layers of anticoagulants decreased the roughness of PET to 17.9 and 24 nm, respectively. The roughness of the PETH and PETF is slightly higher than their PEH and PEF counterparts, which indicates the effect of plasma treatment. It should be emphasized that roughness value itself is not an indicator of the uniformity of the coated layer, and that features of the immobilized anticoagulants should also be take into consideration.). Similar behavior was observed after the heparin and fucoidan immobilization for PETH and PETF samples in that the layers of anticoagulants decreased the roughness of PET to 17.9 and 24 nm, respectively. The roughness of the PETH and PETF is slightly higher than their PEH and PEF counterparts, which indicates the effect of plasma treatment. It should be emphasized that roughness value itself is not an indicator of the uniformity of the coated layer, and that features of the immobilized anticoagulants should also be take into consideration.\\nMoreover, although the reference PE and PETF show similar surface roughness values, their wettability behaviors are completely different, as was discussed previously in Section 2.1. Therefore, it is evident that wettability, even in the same roughness conditions, is also related to chemical features of the examined substrates. Roughness is an important feature by means of contact area for cell and blood protein adhesion.\\n\\nFigure 4 shows chemical changes in the near-surface area of the selected samples obtained by attenuated total reflectance Fourier transform infrared (ATR-FTIR) spectra. Regarding the spectrum of the PE, main peaks at the wavenumbers of 2915 and 2850 cm ´1, which are ascribed to C-H stretching, are visible (typical for aliphatic hydrocarbon chain)  shows chemical changes in the near-surface area of the selected samples obtained by attenuated total reflectance Fourier transform infrared (ATR-FTIR) spectra. Regarding the spectrum of the PE, main peaks at the wavenumbers of 2915 and 2850 cm ´1, which are ascribed to C-H stretching, are visible (typical for aliphatic hydrocarbon chain) [41]. Characteristic signals of C-H bending deformation and methylene rocking deformation appeared at the wavenumbers of 1470 and 719 cm ´1, respectively. By means of the PET sample, in addition to PE peaks, amine groups introduced by plasma treatment are clearly seen at the wavenumber of 1630 cm ´1 and oxygen containing hydroperoxides are apparent at the wavenumber of 3370 cm ´1 . Characteristic signals of C-H bending deformation and methylene rocking deformation appeared at the wavenumbers of 1470 and 719 cm ´1, respectively. By means of the PET sample, in addition to PE peaks, amine groups introduced by plasma treatment are clearly seen at the wavenumber of 1630 cm ´1 and oxygen containing hydroperoxides are apparent at the wavenumber of 3370 cm ´1 [21]. PEH and PEF spectra did not show significant changes to the peaks in comparison to the PET peaks (which means that the peaks at the 3370 and 1630 cm ´1 are still visible), which serves as evidence for the limited immobilization (or no immobilization at all, but some seen on SEM images) of the heparin and fucoidan on the PE surface without plasma treatment. In the case of PETH and PETF samples, hydroperoxide and amine group peaks are not visible anymore, which serves as an indicator of heparin and fucoidan immobilization on the PE surface after plasma treatment. . PEH and PEF spectra did not show significant changes to the peaks in comparison to the PET peaks (which means that the peaks at the 3370 and 1630 cm ´1 are still visible), which serves as evidence for the limited immobilization (or no immobilization at all, but some seen on SEM images) of the heparin and fucoidan on the PE surface without plasma treatment. In the case of PETH and PETF samples, hydroperoxide and amine group peaks are not visible anymore, which serves as an indicator of heparin and fucoidan immobilization on the PE surface after plasma treatment.\\n\\nChemical surface compositions are listed in Table 2. Samples without plasma treatment (PE, PEH, PEF) displayed the same carbon, oxygen, nitrogen, and sulfur levels in regards to the XPS spectra, irrelevant of their exposure to anticoagulants. Constant carbon levels indicate that immobilization of heparin/fucoidan did not take place on the PE surface, or that it took place on a limited basis, since no apparent carbon consumption occurred by introducing of anticoagulants, as we have witnessed partially heparin/fucoidan layers on the surfaces by SEM in Figure . Samples without plasma treatment (PE, PEH, PEF) displayed the same carbon, oxygen, nitrogen, and sulfur levels in regards to the XPS spectra, irrelevant of their exposure to anticoagulants. Constant carbon levels indicate that immobilization of heparin/fucoidan did not take place on the PE surface, or that it took place on a limited basis, since no apparent carbon consumption occurred by introducing of anticoagulants, as we have witnessed partially heparin/fucoidan layers on the surfaces by SEM in Figure 2. As expected, the oxygen level is also constant, which means none of the oxide groups were introduced by plasma treatment yet, and the absence of nitrogen is evidence of free amine groups. After plasma treatment, the carbon level decreased by about 12% and the oxygen content significantly increased due to the introduced oxides groups; the appearance of a nitrogen level of 1.1% indicates the introduction of amine groups by the plasma treatment.. As expected, the oxygen level is also constant, which means none of the oxide groups were introduced by plasma treatment yet, and the absence of nitrogen is evidence of free amine groups. After plasma treatment, the carbon level decreased by about 12% and the oxygen content significantly increased due to the introduced oxides groups; the appearance of a nitrogen level of 1.1% indicates the introduction of amine groups by the plasma treatment.\\nAnticoagulant immobilization after plasma treatment, in the case of PETH and PETF, decreased the carbon and nitrogen level (amine groups) by chemical bonding and increased the oxygen content due to the oxide containing functional groups present in heparin and fucoidan. Besides consumption of carbon and nitrogen, existing pH levels are the most important evidence of the immobilization of anticoagulants. The immobilized fucoidan layer on the PET sample is greater than that of the immobilized heparin layer, in considering the pH levels (see Table 2). Therefore, it has a more significant impact on antithrombotic properties.). Therefore, it has a more significant impact on antithrombotic properties.\\n\\nThe blood coagulation cascade consists of the tissue-mediated extrinsic pathway, surface-mediated intrinsic pathway, and common coagulation pathway [42]. The examination of those coagulation pathways were carried out for all samples by means of prothrombin time (PT), activated partial thromboplastin time (aPTT), and thrombin time (TT).. The examination of those coagulation pathways were carried out for all samples by means of prothrombin time (PT), activated partial thromboplastin time (aPTT), and thrombin time (TT).\\nPT assay measures the clot formation time in both the extrinsic and common coagulation pathways. The normal time range for healthy donors is generally between 11-13.5 s [41]. As summarized in Table . As summarized in Table 3, all samples are within this range., all samples are within this range.\\nAn aPTT assay is related to both the intrinsic and common coagulation pathways. The normal time range of aPTT for healthy donors is between 25 and 32 s [43]. As summarized in Table . As summarized in Table 3, none of the samples performed anticoagulant activity on the intrinsic pathway since none of them prolonged aPTT, which indicates no remarkable inhibition of the intrinsic pathway factors. Although, some of the samples exhibited slightly lower aPTT values than the control value, it can be ignored since the differences were still under the physiological threshold., none of the samples performed anticoagulant activity on the intrinsic pathway since none of them prolonged aPTT, which indicates no remarkable inhibition of the intrinsic pathway factors. Although, some of the samples exhibited slightly lower aPTT values than the control value, it can be ignored since the differences were still under the physiological threshold.\\nTT is a measure of thrombin formation time by converting fibrinogen to fibrin in the common coagulation pathway [42]. The lower limit for TT to perform anticoagulation activity is 20 s . The lower limit for TT to perform anticoagulation activity is 20 s [43]. The TT of the control PE value (15.9 s) is comparable to the TT value of the plasma modified sample (PET); that indicates plasma induced oxidative functional groups and its increased hydrophilicity were not influencing TT, which is in contrast with the fact that hydrophilicity affects the coagulation cascade, but it is worth noting that pH values and the surface charges are another two crucial parameters to affect the coagulation cascade. Similar results were observed for AAM, MAAM, and DAAM grafted samples (PETA, PETM, and PETD, respectively) with their anticoagulant immobilized counterparts. Antithrombotic activity was not monitored (Table . The TT of the control PE value (15.9 s) is comparable to the TT value of the plasma modified sample (PET); that indicates plasma induced oxidative functional groups and its increased hydrophilicity were not influencing TT, which is in contrast with the fact that hydrophilicity affects the coagulation cascade, but it is worth noting that pH values and the surface charges are another two crucial parameters to affect the coagulation cascade. Similar results were observed for AAM, MAAM, and DAAM grafted samples (PETA, PETM, and PETD, respectively) with their anticoagulant immobilized counterparts. Antithrombotic activity was not monitored (Table 3) since intramolecular interactions between grafted polymer brushes and anticoagulants were not sufficient for immobilization, which is in agreement with the SEM investigations. Immobilizations of anticoagulants heparin and fucoidan without plasma treatment (PEH and PEF) did not affect TT due to insufficient immobilization, as was observed in Figure ) since intramolecular interactions between grafted polymer brushes and anticoagulants were not sufficient for immobilization, which is in agreement with the SEM investigations. Immobilizations of anticoagulants heparin and fucoidan without plasma treatment (PEH and PEF) did not affect TT due to insufficient immobilization, as was observed in Figure 4. This is consistent with the XPS results in that the PEH and PEF samples did not possess sulfur content in order to increase heparin cofactor II (HCII) based antithrombotic activity . This is consistent with the XPS results in that the PEH and PEF samples did not possess sulfur content in order to increase heparin cofactor II (HCII) based antithrombotic activity [25,39]. Due to the fact that sulfur content was observed only for heparin and fucoidan immobilized samples after plasma treatment (PETH and PETF), expected antithrombotic activity was observed only in the case of the PETF with a TT value of 20.9 s. First and foremost, its sulfur content was 2.4%, while PETH's was only 0.2%. Secondly, the fucoidan immobilization on the PET surface was sufficiently homogeneous in contrast to the heparin immobilized PETH sample, as was observed in Figure . Due to the fact that sulfur content was observed only for heparin and fucoidan immobilized samples after plasma treatment (PETH and PETF), expected antithrombotic activity was observed only in the case of the PETF with a TT value of 20.9 s. First and foremost, its sulfur content was 2.4%, while PETH's was only 0.2%. Secondly, the fucoidan immobilization on the PET surface was sufficiently homogeneous in contrast to the heparin immobilized PETH sample, as was observed in Figure 4, therefore its anticoagulation activity was increased; moreover, heparin is covalently bonded and did not interact sufficiently with the coagulation factors., therefore its anticoagulation activity was increased; moreover, heparin is covalently bonded and did not interact sufficiently with the coagulation factors.\\n\\nCylindrical, low density polyethylene (LDPE) Vacuette blood collection tubes (with 20 cm 2 of contacted surface area) and 4 mL of coagulation sodium citrate (3.2%) were purchased from Greiner Bio-One Company (Kremsmunster, Austria) to use for the anticoagulation activity observation. All blood collection tubes were thoroughly cleaned with distilled water and dried at 30 ˝C for 24 h in an oven. LDPE film with 100 µm thickness was used as a control substrate to LDPE blood collection tubes. The foil was cut into the form of square flat sheets with the dimension of 50 mm ˆ50 mm and was used as received without further purification. Both the sheet and tube form of prepared LDPE samples hereafter referred to as PE. Monomers (see Figure 5) of Allylamine (AAM), N-allylmethylamine (MAAM) with anticoagulants Fucoidan from Fucus vesiculosus, and heparin sodium salt from porcine intestinal mucosa were purchased from Sigma Aldrich (St. Louis, MO, USA) and N,N-dimethylallylamine (DAAM) was supplied by Fluka (St. Louis, MO, USA). Heparin and fucoidan solutions were prepared as 1% (w/v) in distilled water and placed in the vials for further use.  ) of Allylamine (AAM), N-allylmethylamine (MAAM) with anticoagulants Fucoidan from Fucus vesiculosus, and heparin sodium salt from porcine intestinal mucosa were purchased from Sigma Aldrich (St. Louis, MO, USA) and N,N-dimethylallylamine (DAAM) was supplied by Fluka (St. Louis, MO, USA). Heparin and fucoidan solutions were prepared as 1% (w/v) in distilled water and placed in the vials for further use.\\n\\nThe direct current (DC) plasma discharge used for all experiments was generated at the frequency of 40 kHz and power of 50 Watts using a PICO (Diener, Ebhausen, Germany) plasma reactor with a volume of 3 dm 3 . Air was used as a discharge gas with 20 standard cubic centimeter per minute (sccm) flow rate and the pressure in the vacuum chamber was 50 Pa. Both sides of each of the PE sheets and each of the blood collection tubes were exposed to the generated non-thermal plasma for the duration of 60 s (hereafter referred to as PET) to create free radicals and metastable reactive species on the surface to act as initiators for further copolymerization reactions.\\nAfter exposing the plasma, the samples were taken out of the chamber and immediately subjected to AAM, MAAM, and DAAM vapors for 20 s in order to immobilize them via a radical graft polymerization process to create functional amine groups containing polymer brushes on the surface, as shown in Figure 5. These samples are hereafter referred to as PETA, PETM, and PETD, respectively. The monomer contact with the radical within its lifetime is of a paramount importance. In our case, we expect the reaction of the monomer with peroxy radicals which have lifetimes in the range of a few seconds . These samples are hereafter referred to as PETA, PETM, and PETD, respectively. The monomer contact with the radical within its lifetime is of a paramount importance. In our case, we expect the reaction of the monomer with peroxy radicals which have lifetimes in the range of a few seconds [44]..\\nEach PETA, PETM, and PETD substrate were separately placed into heparin/fucoidan containing solution vials and blood collection tubes had been filled up by the same solution and placed in the rotational shaker for 24 h at room temperature in order to immobilize the anticoagulants to the grafted polymer brushes by intramolecular interactions. After 24 h of reaction time, the substrates were taken out of the vials and gently cleaned in water, then distilled water, to eliminate non-immobilized heparin/fucoidan species. In the case of the cylindrical test samples, heparin/fucoidan solutions were poured out and then cleaned carefully by water and distilled water. H and F, which were added in as the last letter of the previous sample abbreviations stand for the heparin and fucoidan immobilized conditions, respectively.\\nFinally, all samples were dried for 2 h at room temperature. Blood collection tubes were used for anticoagulant activity tests and square flat sheets were used for further tests.\\n\\nThe sessile drop method was used to evaluate the total free surface energy of the samples. We used the so-called (SEE System) surface energy evaluation system (Advex Instruments, Brno, Czech Republic) equipped with a CCD camera. Distilled water was used as the testing liquid at 22 ˝C and 60% relative humidity. The volume of the droplets for each experiment was 5 µL and the droplets were kept for 30 s in order to obtain an equilibrium state prior to the measurement. Ten separate readings were averaged to obtain the representative contact angle value in order to estimate the surface hydrophilicity.\\n\\nThe surface morphology of all samples was observed by scanning electron microscope (SEM) using a NANOSEM 450 (FEI, Hillsboro, OR, USA) performed at 5 kV. The instrument was equipped with a so-called low vacuum detector (LVD), and the measurement was performed in a water vapor environment under 90 Pa pressure with a spot size of 50 nm.\\n\\nSurface topology characteristics on the samples were obtained by atomic force microscope (AFM) using a Dimension Icon (Bruker, Karlsruhe, Germany). All experiments were performed by peak force tapping mode using a ScanAsyst-Air Si/Nitride probe (Bruker, Santa Barbara, CA, USA) with k = 0.4 N/m of spring constant value of the cantilever. A scanning area of 5 ˆ5 µm for each sample was investigated with a frequency of 1 Hz. Average surface roughness (R a ) values were analyzed by using NanoScope Analysis software.\\n\\nFor surface chemistry examination, in order to compare the changes in chemical compositions of the studied samples, a Nicolet iS5 (Thermo Scientific, Grand Island, NY, USA) single beam Fourier transform infrared spectroscopy (FTIR) equipped with iD5 attenuated total reflectance (ATR) was used. Spectra were recorded between 400 and 4000 cm ´1 with a resolution of 2 cm ´1 and 64 scans using a ZnSe crystal at an incident angle of 45 ˝.\\n\\nThe chemical composition of the surfaces was analyzed with X-ray photoelectron spectroscopy (XPS) using TFA XPS (Physical Electronics, Chanhassen, MN, USA). The samples were exposed to X-rays over a 400 µm spot size with a monochromatic Al K α1,2 radiation at 1486.6 eV, under 6 ˆ10 ´8 Pa chamber pressure. The emitted photoelectrons were detected with a hemispherical analyzer placed at an angle of 45 ˝in order to correlate to the normal plane of the samples. Survey-scan spectra were made with a 0.4 eV step resolution at 187.85 eV of pass energy. Surface neutralization was carried out by an electron gun, and MultiPak (Version 7.3.1) software (Physical Electronics, Chanhassen, MN, USA) was used to analyze elemental concentration.\\n\\nFor anticoagulation tests, the blood was obtained by venous puncture from a healthy donor in accordance with the Helsinki Declaration, and was placed into blood collection tubes (5 mL each). The obtained human blood plasma was treated with 3.2% citric acid (109 mmol/L) and then centrifuged at 3000ˆg for 15 min at room temperature. Anticoagulant activity was determined by means of prothrombin time (PT), thrombin time (TT), and activated partial thromboplastin time (aPTT) using a SYSMEXCA-1500 (Siemens, Munich, Germany) instrument. Each of the samples was examined three times.\\n\\nPlasma treatment onto LDPE and its effect on further anticoagulant heparin and fucoidan immobilizations has been studied. Surface wettability remarkably increased as a result of the introduced oxidative functional groups by plasma treatment and surface roughness increased by simultaneous etching, as was revealed by both the contact angle measurement and AFM. Anticoagulant immobilization on the LDPE surface without plasma treatment was not sufficient, as it observed from SEM images and XPS results, but treated surfaces showed more homogeneous layers and sulfur content; notably, fucoidan immobilization was more successful than heparin. Anticoagulation tests revealed that the PETF sample has anticoagulation effects, as evidenced by its more homogeneous immobilization and also the higher anticoagulation effect of fucoidan in comparison to heparin. Hence, surface modification of LDPE by plasma treatment followed by fucoidan immobilization represents an effective route to prevent surface mediated thrombus formations of blood contacting biomaterial.\\n\\n\", 'requirements': {'qar_num': 5}}\n"
     ]
    },
    {
     "name": "stderr",
     "output_type": "stream",
     "text": [
      "\n"
     ]
    }
   ],
   "source": [
    "# Do extracting\n",
    "output_file_base = 'gpt-4o-batch-all-p_2_parser_ManuallyHierarchicalNodeParser_8165_gpu_V100_nodeNum_200_pid_1_extract'\n",
    "# Extract response to improve the extract presentage\n",
    "extractor.extract(\n",
    "    nodes=nodes, \n",
    "    cache_path=os.path.abspath(os.path.join(root_path, config['cache'])),\n",
    "    csv_file_name=output_file_base+'.csv')"
   ]
  },
  {
   "cell_type": "code",
   "execution_count": 3,
   "metadata": {},
   "outputs": [
    {
     "name": "stderr",
     "output_type": "stream",
     "text": [
      "100%|██████████| 1/1 [00:00<00:00, 1473.24it/s], ?batch/s]\n"
     ]
    },
    {
     "name": "stdout",
     "output_type": "stream",
     "text": [
      "Here is the context:\n",
      "Advanced mass spectrometry strategies enable detailed structural analysis and profiling of glycans and glycoconjugates, utilizing techniques like derivatizations, chromatography, electrospray ionization, and matrix-assisted laser desorption/ionization. Electron-based techniques offer promising future developments in this area of study.\n",
      "\n",
      "Using this context, generate 1 specific questions that this context can uniquely answer. Ensure that these questions:\n",
      "1. Are directly related to the provided context.\n",
      "2. Highlight unique information or insights from the context.\n",
      "3. Cannot be easily answered by general knowledge.\n",
      "\n",
      "Higher-level summaries of surrounding context may be provided as well. Try using these summaries to generate better questions that this context can answer.\n",
      "\n",
      "\n",
      "Here's a JSON schema to follow:\n",
      "{{\"properties\": {{\"Question\": {{\"title\": \"Question\", \"type\": \"string\"}}, \"Answer\": {{\"title\": \"Answer\", \"type\": \"string\"}}, \"Reason\": {{\"title\": \"Reason\", \"type\": \"string\"}}}}, \"required\": [\"Question\", \"Answer\", \"Reason\"], \"title\": \"QAR\", \"type\": \"object\"}}\n",
      "\n",
      "Output a valid JSON object but do not repeat the schema.\n",
      "\n"
     ]
    },
    {
     "name": "stderr",
     "output_type": "stream",
     "text": [
      "Creating batches: 100%|██████████| 1/1 [00:01<00:00,  1.44s/batch]\n",
      "Processing batches: 100%|██████████| 1/1 [00:14<00:00, 14.21s/batch]\n"
     ]
    }
   ],
   "source": [
    "import csv\n",
    "\n",
    "mode = 'batch'\n",
    "\n",
    "csv_file_name = output_file_base+'.csv'\n",
    "cache_path = os.path.abspath(os.path.join(root_path, config['cache']))\n",
    "csv_file = open(os.path.join(cache_path, csv_file_name), 'w', newline='')\n",
    "# TODO\n",
    "dataset_writer = csv.DictWriter(csv_file, fieldnames=['node_id', 'qar_num', 'input_text', 'raw_response', 'objs'])\n",
    "dataset_writer.writeheader()\n",
    "# target_nodes = nodes[:2] + nodes[-2:]\n",
    "target_nodes = nodes[:1]\n",
    "target_nodes[0].metadata['requirements'] = {'qar_num': 1}\n",
    "\n",
    "if mode == 'immediately':\n",
    "    for node in tqdm(target_nodes):\n",
    "        extractor._extract_metadata_from_node_immediately(node)\n",
    "elif mode == 'batch':\n",
    "    batches, node_dict, input_file_paths, batch_info_paths = extractor._create_batches_from_nodes(target_nodes)\n",
    "    uncompleted_batches = {batch.id: batch for batch in batches}\n",
    "    has_failed, finished_batches = extractor._processing_batches(uncompleted_batches, input_file_paths, batch_info_paths)\n",
    "\n",
    "    if has_failed:\n",
    "        exit()"
   ]
  },
  {
   "cell_type": "code",
   "execution_count": 7,
   "metadata": {},
   "outputs": [
    {
     "data": {
      "text/plain": [
       "{'level': 'document',\n",
       " 'title': 'Mass Spectrometry of Glycans',\n",
       " 'authors': ['Liang Han', 'Catherine E Costello', 'E Catherine'],\n",
       " 'sections': {'abstract': [37, 642],\n",
       "  'Introduction': [644, 10803],\n",
       "  'Glycan release': [10805, 14765],\n",
       "  'Derivatization of Glycans': [14767, 18048],\n",
       "  'Separation of glycans': [18050, 23714],\n",
       "  'Mass spectrometry of glycans': [23716, 45246],\n",
       "  'Conclusions': [45248, 46621]},\n",
       " 'file_name': 'Mass_spectrometry_of_glycans.pdf',\n",
       " 'original_content': 'Title: Mass Spectrometry of Glycans\\n\\nPowerful new strategies based on mass spectrometry are revolutionizing the structural analysis and profiling of glycans and glycoconjugates. We survey here the major biosynthetic pathways that underlie the biological diversity in glycobiology, with emphasis on glycoproteins, and the approaches that can be used to address the resulting heterogeneity. Included among these are derivatizations, on-and off-line chromatography, electrospray and matrix-assisted laser desorption/ionization, and a variety of dissociation methods, the recently introduced electronbased techniques being of particular interest.\\n\\nCarbohydrates are the most abundant and structurally diverse compounds found in nature. They participate in various biological processes. They are involved in diverse roles such as molecular recognition, cell-cell and cell-matrix interactions, energy generation, and modification of protein conformations. Carbohydrates also serve as markers for many disease states. They can be used in the food, textile, paper, and pharmaceutical industries. Increasing evidence shows that numerous biological functions are closely related to specific carbohydrate structures [1][2][3][4]. They can form branched structures because linkages of the constituent monosaccharides can occur at a number of positions.. They can form branched structures because linkages of the constituent monosaccharides can occur at a number of positions.\\nMonosaccharides, which cannot be hydrolyzed into a simpler form, are the most basic units of carbohydrates. Monosaccharides constitute oligosaccharides (2-10 units) by the attachment to one another via glycosidic linkages, forming branched or linear chains. Polysaccharides (>10 units) are typically reserved as large glycans that are composed of repeating oligosaccharide motifs. The ring form of a monosaccharide generates a chiral (anomeric) center. A glycosidic linkage involves the attachment of a monosaccharide to another residue, typically via the hydroxyl group of this anomeric center. The formation of α linkages or β linkages depends on the direction of the C-1 hydroxyl group with respect to the plane of the ring. The most common monosaccharides are the hexoses. Modifications include the absence of one or more oxygen atoms (deoxysugars), oxidation of a primary hydroxyl group to a carboxylic acid (uronic acid), or replacement of a hydroxyl group with a primary amine or acylamino-group. Each of these monosaccharides exists in a number of isomeric forms because of the constituent asymmetrically substituted carbon atoms. Glycosylation is the process by which one or more monosaccharide or oligosaccharide units are linked to proteins or lipids. It is the most common post-translational modification (PTM) [5]. The central paradigm of modern molecular biology is that the information flows from DNA to RNA to protein to cell. Proteins are vital parts of living organisms and nearly half of them are glycosylated . The central paradigm of modern molecular biology is that the information flows from DNA to RNA to protein to cell. Proteins are vital parts of living organisms and nearly half of them are glycosylated [6]. When linked to a specific site on a protein backbone, glycans can modify the structural properties of the protein, affecting its solubility and conformation. Glycans are also important in localization and cellular adhesion events such as those occurring during development and tumorigenesis . When linked to a specific site on a protein backbone, glycans can modify the structural properties of the protein, affecting its solubility and conformation. Glycans are also important in localization and cellular adhesion events such as those occurring during development and tumorigenesis [7][8][9][10]. The modification modulates the activity of the molecules decorated. For example, changes in glycosylation on the cellular surface cause the immune system to target infected cells for destruction.. The modification modulates the activity of the molecules decorated. For example, changes in glycosylation on the cellular surface cause the immune system to target infected cells for destruction.\\nGlycoproteins often exist as heterogeneous mixtures of closely related structures, called glycoforms, which vary in their glycan structures and glycan attachment sites. Glycans attached to specific sites on a protein backbone generate structurally and chemically diverse glycoproteins. The two most common forms of glycosylation are N-and O-linked glycosylation (Figure 1). In N-glycosylation, oligosaccharides bind to the amine nitrogen of asparagine side chains within the Asn-Xxx-Ser(Thr) consensus sequence in which Xxx is any amino acid except proline. In O-glycosylation, oligosaccharides are linked to the hydroxyl oxygen of serine (Ser) or Threonine (Thr) side chains. The N-glycans of higher organisms all contain a common pentasaccharide core structure (Man 3 GlcNAc 2 ), which is also called trimannosyl chitobiose core ). In N-glycosylation, oligosaccharides bind to the amine nitrogen of asparagine side chains within the Asn-Xxx-Ser(Thr) consensus sequence in which Xxx is any amino acid except proline. In O-glycosylation, oligosaccharides are linked to the hydroxyl oxygen of serine (Ser) or Threonine (Thr) side chains. The N-glycans of higher organisms all contain a common pentasaccharide core structure (Man 3 GlcNAc 2 ), which is also called trimannosyl chitobiose core [11]; in contrast, multiple O-glycan core structures exist, and there is considerable structural diversity in this glycan class ; in contrast, multiple O-glycan core structures exist, and there is considerable structural diversity in this glycan class [12]..\\nIn eukaryotes, the glycoprotein and N-linked glycans are synthesized in the endoplasmic reticulum (ER) and Golgi apparatus, involving enzymes that first accomplish synthesis of the lipid-linked oligosaccharide precursor [13]. The process begins with the step-wise addition of monosaccharide residues by oligotransferases, leading to a 14-oligosaccharide core on the lipid carrier dolicholpyrophosphate (Dol-P). Once the seven-sugar precursor (Man 5 GlcNAc 2 -PP-dolichol) is formed on the cytoplasmic side of the ER, the whole complex is flipped across the membrane layer into the ER lumen, where four more mannose residues and three glucose residues are added. In a co-translational process, the assembled glycan is transferred to Asn residues on the nascent protein, within Asn-X-Ser/Thr sequons via the action of oligosaccharyltransferase (OST). Figure . The process begins with the step-wise addition of monosaccharide residues by oligotransferases, leading to a 14-oligosaccharide core on the lipid carrier dolicholpyrophosphate (Dol-P). Once the seven-sugar precursor (Man 5 GlcNAc 2 -PP-dolichol) is formed on the cytoplasmic side of the ER, the whole complex is flipped across the membrane layer into the ER lumen, where four more mannose residues and three glucose residues are added. In a co-translational process, the assembled glycan is transferred to Asn residues on the nascent protein, within Asn-X-Ser/Thr sequons via the action of oligosaccharyltransferase (OST). Figure 2 depicts the whole process  depicts the whole process [14]. High-mannose N-glycans contain only mannose attached to the chitobiose core. During passage through the ER and Golgi, the mannoses on antennae are removed and other types of residues are added, thus reaching the complex N-glycans. Hybrid N-glycans are incompletely processed and retain at least one antenna containing mannose residues . High-mannose N-glycans contain only mannose attached to the chitobiose core. During passage through the ER and Golgi, the mannoses on antennae are removed and other types of residues are added, thus reaching the complex N-glycans. Hybrid N-glycans are incompletely processed and retain at least one antenna containing mannose residues [15]. N-Glycans play important roles in the quality control (QC) of glycoprotein folding in the ER lumen . N-Glycans play important roles in the quality control (QC) of glycoprotein folding in the ER lumen [15][16][17]. Glycoproteins will not pass ER quality control if they fail to reach the correct conformation . Glycoproteins will not pass ER quality control if they fail to reach the correct conformation [18]..\\nBy comparison, O-glycans have neither consensus sequence nor a consistent core structure; they are extremely diverse [19]. The process is typically initiated by adding a single Nacetylgalactosamine (GalNAc) residue via glycosyltransferase . The process is typically initiated by adding a single Nacetylgalactosamine (GalNAc) residue via glycosyltransferase [20]. Mammals have eight common O-glycan core structures . Mammals have eight common O-glycan core structures [3]. O-Glycosylation also has significant effects on the solubility, conformation, stability and hydrophilicity of proteins . O-Glycosylation also has significant effects on the solubility, conformation, stability and hydrophilicity of proteins [21]..\\nThe study of glycans, termed glycomics, is applied to biology and chemistry that focuses on the structure and function of carbohydrates, and on glycoform distributions at the cellular, tissue, organ and organism levels. A glycomics approach may combine three main aspects: the structural characterization of glycans, detailed understanding of glycan-protein interactions, and the study of in vitro and in vivo systems for the determination of function of specific glycans. This review focuses on the structural identification of glycans and determination of glycoform patterns, and summarizes recent techniques in mass spectrometric glycomics. Despite the important functions of oligosaccharides in biological systems, structural determination of these molecules is an analytical challenge compared to other biomolecules. Unlike linear peptides or nucleic acids, a very limited number of monosaccharides can form many stereoisomeric structures of carbohydrates. For structural elucidation, not only the monosaccharides (and their stereochemistry) need be identified, but also how they link together to form the polymers needs to be determined, which may include their sequence and branching pattern. Glycoform patterns and their changes may be measured at the semiquantitative or quantitative level; usually the values are expressed as relative rather than absolute changes. Mass Spectrometry (MS) is one of the important tools for the structural characterization of carbohydrates, as it offers high sensitivity and addresses the most frequent biological problems. With the help of chromatographic separation, derivatization and mass spectral fragmentation, oligosaccharide structures can be elucidated.\\n\\nThe general approach for analyzing carbohydrates involves, first, the release of the glycan moiety from the glycoprotein. Two general methods are available for releasing carbohydrates: enzymatic methods and chemical methods. Enzymatic methods offer the advantage of preserving the information of the glycoprotein. The glycoprotein will not be degraded so that remains available for analysis. Specific enzymes are used to release Nlinked glycans from glycoproteins. Two types of enzymes are available, endoglycosidases and exoglycosidases; the former releases all or most of the glycan whereas the latter removes only a very specific portion of the non-reducing end of the glycan. Common endoglycosidases are the PNGase family which are amidases that release most N-glycans, e.g., PNGase F cleaves the bond between the innermost GlcNAc and asparagines residues of glycoproteins, releasing the carbohydrate and preserving the intact glycosylamine at the reducing end [22,23], although the amino group is quickly hydrolyzed and replaced by an hydroxyl group. Endoglycosidase H (endo H) cleaves between the GlcNAc residues of the chitobiose core for high mannose and hybrid glycans , although the amino group is quickly hydrolyzed and replaced by an hydroxyl group. Endoglycosidase H (endo H) cleaves between the GlcNAc residues of the chitobiose core for high mannose and hybrid glycans [24]. Exoglycosidases cleave one monosaccharide unit at a time from the nonreducing end of the carbohydrate chain and are frequently employed stepwise in conjunction with Matrix-Assisted Laser Desorption/ Ionization Mass Spectrometry (MALDI-MS) profiling of glycoforms, to facilitate assignment of the terminal monosaccharides and linkages . Exoglycosidases cleave one monosaccharide unit at a time from the nonreducing end of the carbohydrate chain and are frequently employed stepwise in conjunction with Matrix-Assisted Laser Desorption/ Ionization Mass Spectrometry (MALDI-MS) profiling of glycoforms, to facilitate assignment of the terminal monosaccharides and linkages [37]. Therefore, many features in the structure of the carbohydrate sample might be deduced from the enzymatic reaction(s). However, not all features of the sequences and linkages can be defined solely by using this approach. Hence, linkage analysis experiments that employ Gas Chromatography coupled to Mass Spectrometry (GC/MS) are still necessary and are regularly employed for rigorous structure analysis.. Therefore, many features in the structure of the carbohydrate sample might be deduced from the enzymatic reaction(s). However, not all features of the sequences and linkages can be defined solely by using this approach. Hence, linkage analysis experiments that employ Gas Chromatography coupled to Mass Spectrometry (GC/MS) are still necessary and are regularly employed for rigorous structure analysis.\\nChemical release, which includes alkaline elimination and hydrazinolysis [25][26][27], preserves the carbohydrate moiety but degrades the glycoprotein. It is frequently used to release Olinked glycans from glycoproteins, since there is a dearth of glycosidases for release of Olinked glycans., preserves the carbohydrate moiety but degrades the glycoprotein. It is frequently used to release Olinked glycans from glycoproteins, since there is a dearth of glycosidases for release of Olinked glycans.\\nIn order to retain the information about site occupancy, N-linked glycan release may be carried out in the presence of 18 O-water, or an enzyme such as PNGase F1-F3 or endo H, that leave the first GlcNAc attached to the protein, may be employed. The determination of glycoform distributions at specific positions on the protein(s) requires that the sample be subjected to proteolysis and analyzed at the glycopeptide level, usually with on-or off-line chromatography in conjunction with mass spectrometry, or that the glycans be characterized after release from isolated glycopeptides.\\n\\nReleased sugars contain a single reactive carbonyl group at the reducing end that can be derivatized separately from the other hydroxyl groups. This property has been used to improve ionization, to add a stable isotope tag or to attach a chromophore for detection by High-performance Liquid Chromatography (HPLC) [28,29]. Reductive amination works for N-linked glycans released enzymatically from proteins and for any glycan that contains a reducing end. It is not applicable to O-glycans released under reductive conditions, while the aldehyde group is reduced to an alditol, but this group may also be derivatized efficiently or labelled with stable isotopes for structural or quantitative studies.. Reductive amination works for N-linked glycans released enzymatically from proteins and for any glycan that contains a reducing end. It is not applicable to O-glycans released under reductive conditions, while the aldehyde group is reduced to an alditol, but this group may also be derivatized efficiently or labelled with stable isotopes for structural or quantitative studies.\\nPermethylation is another important derivatization tool for investigation of glycan structures [30,31]. Carbohydrates are not ionized as efficiently as compounds such as proteins that can be protonated on many basic sites, neither do they appear to be transferred to the vapor phase as efficiently. Permethylation decreases the intermolecular hydrogen bonding, thereby increasing the sample volatility and thus the intensity of the ion signals . Carbohydrates are not ionized as efficiently as compounds such as proteins that can be protonated on many basic sites, neither do they appear to be transferred to the vapor phase as efficiently. Permethylation decreases the intermolecular hydrogen bonding, thereby increasing the sample volatility and thus the intensity of the ion signals [32]. It also enhances the formation of diagnostic fragment ions and thereby increases the yield of useful structural information . It also enhances the formation of diagnostic fragment ions and thereby increases the yield of useful structural information [33]. It prevents gas-phase rearrangements of glycan residues that can introduce ambiguity into structural analyses . It prevents gas-phase rearrangements of glycan residues that can introduce ambiguity into structural analyses [34]. Furthermore, it can eliminate the negative charge associated with acidic residues, and thus stabilize acidic residues in the positive mode; this feature is especially important for the analysis of sialylated glycans in which the carboxyl group is located on the same carbon as the glycosidic linkage . Furthermore, it can eliminate the negative charge associated with acidic residues, and thus stabilize acidic residues in the positive mode; this feature is especially important for the analysis of sialylated glycans in which the carboxyl group is located on the same carbon as the glycosidic linkage [35]. The reaction pathways for reductive amination and permethylation are shown in Figure . The reaction pathways for reductive amination and permethylation are shown in Figure 3, also with several commonly used reagents for reductive amination , also with several commonly used reagents for reductive amination [36,37]..\\n\\nAfter release of the carbohydrates, the next stage is separation of the carbohydrates. This is not always necessary but it offers the advantage of reducing sample complexity, especially when dealing with biological samples. In most cases, the large variety of isomeric or closely related structures of carbohydrate moiety requires high performance separation techniques prior to mass spectrometry.\\nBoth native glycans and permethylated glycans can be separated by HPLC with a C 18 column. As noted above, reductive amination adds chromophores to native glycans, allowing the detection by Ultraviolet (UV) when using offline HPLC. Normal phase LC provides such regular separation of glycans (usually analyzed as derivatives with a chromophore at the reducing end) that the retention index scale is quite linear and can be used as a basis for assignments [38]. The combination of HPLC and MS (online HPLC) provides qualitative and quantitative analysis of native glycans, dramatically decreasing the effort and time requirements . The combination of HPLC and MS (online HPLC) provides qualitative and quantitative analysis of native glycans, dramatically decreasing the effort and time requirements [38]. Both offline and online liquid chromatography/mass spectrometry (LC/MS) approaches are used for glycan or glycoconjugate profiling. Glycans/ glycoconjugates with low abundance, including N-linked glycans, O-linked glycans, glycopeptides and glycolipids, can be detected by LC/MS and this allows the analysis of complex mixtures . Both offline and online liquid chromatography/mass spectrometry (LC/MS) approaches are used for glycan or glycoconjugate profiling. Glycans/ glycoconjugates with low abundance, including N-linked glycans, O-linked glycans, glycopeptides and glycolipids, can be detected by LC/MS and this allows the analysis of complex mixtures [39][40][41]. When permethylation is applied to increase the hydrophobicity, glycans can be separated by reversed phase LC . When permethylation is applied to increase the hydrophobicity, glycans can be separated by reversed phase LC [42]..\\nPorous graphitized carbon chromatography (PGC) uses a solid phase that is composed of large macromolecules that are made up primarily of carbon atoms. There are two main mechanisms which may contribute to retention: hydrophobic interactions and electronic forces [43]. PGC shows an extraordinary isomeric selectivity to separate glycan isomers . PGC shows an extraordinary isomeric selectivity to separate glycan isomers [44,45]. It can also be used for desalting of glycans prior to mass spectrometry.. It can also be used for desalting of glycans prior to mass spectrometry.\\nHydrophobic interaction liquid chromatography (HILIC) is a type of partition chromatography in which the retention mechanism is due the variations in the size and polarity of glycans. It is an effective tool for online LC/MS to analyze derivatized and reducing glycans [46] and peptides/glycopeptides  and peptides/glycopeptides [47]. However, it cannot separate isomers.. However, it cannot separate isomers.\\nIon mobility -mass spectrometry is an emerging method to distinguish isomers of glycans. IM-MS separates and identifies ionized molecules in the gas phase based on their mobility in the presence of a carrier buffer gas. In IMS-MS, a weak uniform electric field is applied across a drift tube to pull ions through the buffer gas. Compact isomers with higher mobility exit the drift tube earlier than those with lower mobility [48]. Recently, advances in the development of traveling wave ion mobility spectrometry (TWIMS) have significantly increased sensitivity and speed . Recently, advances in the development of traveling wave ion mobility spectrometry (TWIMS) have significantly increased sensitivity and speed [49]. TWIMS offers the possibility of separating complex glycan isomers in the gas phase and can easily be combined with mass spectrometry for further characterization . TWIMS offers the possibility of separating complex glycan isomers in the gas phase and can easily be combined with mass spectrometry for further characterization [50]. Figure . Figure 4 displays the IM-MS distribution observed for electrosprayed high mannose glycans derived from RNase B  displays the IM-MS distribution observed for electrosprayed high mannose glycans derived from RNase B [51]. Isomers of Man 7 GlcNAc 2 can be separated by the technique. IM-MS reduces the carbohydrate complexity in a given mass window. Use of tandem mass spectrometry in conjunction with IM-MS can obtain much \"clearer\" fragmentation ions based on separated precursor ions compared to those previously detected in the mixture caused by overlap between isotopic distributions of their precursors . Isomers of Man 7 GlcNAc 2 can be separated by the technique. IM-MS reduces the carbohydrate complexity in a given mass window. Use of tandem mass spectrometry in conjunction with IM-MS can obtain much \"clearer\" fragmentation ions based on separated precursor ions compared to those previously detected in the mixture caused by overlap between isotopic distributions of their precursors [52,53]. This will simplify the level of glycoform de novo identifications by mass spectrometry and make results much more definitive. The development of this and other mobility-based approaches is an especially active area of current MS research and development.. This will simplify the level of glycoform de novo identifications by mass spectrometry and make results much more definitive. The development of this and other mobility-based approaches is an especially active area of current MS research and development.\\n\\nMass spectrometry (MS), in its most simple definition, is the production and detection of ions separated according to their mass-to-charge (m/z) ratios. The detection of such ions results in a mass spectrum which is a plot of the relative abundance of the ions as a function of their m/z ratio. At present, the two most widely-used MS ionization techniques for the analysis of carbohydrates are Matrix-Assisted Laser Desorption/Ionization (MALDI) and Electrospray Ionization (ESI); in both free glycans are typically detected as metal (usually sodium) adducts in the positive ion mode, and as deprotonated or anion-adducted species in the negative-ion mode. Glycopeptides may be detected in their protonated or deprotonated forms. Both MALDI and ESI are soft ionization techniques; i.e., the ionization process imparts little excess energy and thus generates few or no fragments for glycans so that the intact molecular ions can be easily observed. Nevertheless, prompt loss of labile groups, especially sialic acid and fucose, may occur and the extent of its occurrence should be assessed, particularly in quantitative studies. Both MALDI-MS and ESI-MS can be applied to obtain an overall glycan profile. MALDI yields a series of singly charged molecular ions and the ionization efficiency for neutral carbohydrates is constant as the size of molecule increases, in contrast to that for ESI, where the ionization efficiency decreases with an increasing molecular weight [54]. Additionally, ESI usually generates multiply charged ions; although these complicate spectral analysis, especially when mixtures are introduced with on-or off-line separation, the instrument software can perform a deconvolution of the multiple charge states to produce a spectrum that shows a single molecular weight distribution. However, the signal is distributed over multiple charge states and this affects the ability to detect low-abundance species.. Additionally, ESI usually generates multiply charged ions; although these complicate spectral analysis, especially when mixtures are introduced with on-or off-line separation, the instrument software can perform a deconvolution of the multiple charge states to produce a spectrum that shows a single molecular weight distribution. However, the signal is distributed over multiple charge states and this affects the ability to detect low-abundance species.\\nFigure 5 presents profile negative ion (a) Matrix-Assisted Laser Desorption/Ionization-Time of Flight (MALDI-TOF) and (b) Fourier Transform Ion Cyclotron Resonance (FT-ICR) spectra of a Lipid A mixture obtained from a marine source by Elkin and co-workers  presents profile negative ion (a) Matrix-Assisted Laser Desorption/Ionization-Time of Flight (MALDI-TOF) and (b) Fourier Transform Ion Cyclotron Resonance (FT-ICR) spectra of a Lipid A mixture obtained from a marine source by Elkin and co-workers [55]. The Lipid A sample, extracted from the first batch cultivation of the bacterial cells, has three types monophosphorylated lipid molecules designated as M1, M2 and M3, respectively (see Figure . The Lipid A sample, extracted from the first batch cultivation of the bacterial cells, has three types monophosphorylated lipid molecules designated as M1, M2 and M3, respectively (see Figure 5a). Lipids M2 and M3 may result from fragmentation of the ion M1 or may represent variant products that arise from differences in the biosynthetic pathways.). Lipids M2 and M3 may result from fragmentation of the ion M1 or may represent variant products that arise from differences in the biosynthetic pathways.\\nAlthough MALDI-MS and ESI-MS spectra are highly suited to mass fingerprinting of glycan mixtures and is thus very valuable for initial stages of glycomic analysis, the lack of fragment ions can be a problem for detailed structural elucidation of glycans. This can be solved by making the molecular ions more energetic thereby inducing fragmentation, which is achieved by employing one or more well-controlled dissociation steps and tandem mass spectrometry.\\nTandem mass spectrometry (MS n ), including low-and high-energy collision-induced dissociation (CID) [56][57][58], infrared multiphoton dissociation , infrared multiphoton dissociation [59] and the newer electronbased dissociation methods  and the newer electronbased dissociation methods [60][61][62][63][64] has proven to be a powerful means for carbohydrate structural identification. Generally, glycans undergo two main types of cleavage upon CID: glycosidic cleavages resulting from the rupture between the two neighboring residues and cross-ring cleavages that involve the fragmentation of a sugar ring. The former provide information on composition and sequence, while the latter provide some details on the different linkage types. Internal fragments are generated upon the occurrence of two (or more) cleavages, either glycosidic or cross-ring, from more than one site in the molecule  has proven to be a powerful means for carbohydrate structural identification. Generally, glycans undergo two main types of cleavage upon CID: glycosidic cleavages resulting from the rupture between the two neighboring residues and cross-ring cleavages that involve the fragmentation of a sugar ring. The former provide information on composition and sequence, while the latter provide some details on the different linkage types. Internal fragments are generated upon the occurrence of two (or more) cleavages, either glycosidic or cross-ring, from more than one site in the molecule [1]. They may also provide useful structural information. Figure . They may also provide useful structural information. Figure 6 shows the widely-used nomenclature originally proposed by Domon and Costello to designate different types of glycan fragment ions they observed in the high-energy CID spectra obtained using fast atom bombardment (FAB) or Liquid Secondary Ionization Mass Spectrometry (LSIMS) on a four-sector tandem instrument  shows the widely-used nomenclature originally proposed by Domon and Costello to designate different types of glycan fragment ions they observed in the high-energy CID spectra obtained using fast atom bombardment (FAB) or Liquid Secondary Ionization Mass Spectrometry (LSIMS) on a four-sector tandem instrument [65]. Advent of FAB and LSIMS had made it possible to obtain long-lived, stable ion beams for glycans and glycoconjugates and these features led to wide use of these ionization methods in glycobiology, although they have now largely been replaced by MALDI and ESI.. Advent of FAB and LSIMS had made it possible to obtain long-lived, stable ion beams for glycans and glycoconjugates and these features led to wide use of these ionization methods in glycobiology, although they have now largely been replaced by MALDI and ESI.\\nExtensive studies have revealed that protonated oligosaccharides mainly produce glycosidic cleavages, yielding sequence but not linkage information [66][67][68]. Many reports have shown that fragmentation of different metal-adducted oligosaccharides (Li + , Na + , Mg 2+ , Ca 2+ , etc.) resulted in more cross-ring cleavages in low energy CID . Many reports have shown that fragmentation of different metal-adducted oligosaccharides (Li + , Na + , Mg 2+ , Ca 2+ , etc.) resulted in more cross-ring cleavages in low energy CID [67][68][69]. The Leary group and the Lebrilla group have discussed the relationship between the metal size, sugar size, and fragment ion yield. Figure . The Leary group and the Lebrilla group have discussed the relationship between the metal size, sugar size, and fragment ion yield. Figure 7 explains that the activation barrier increases as the radius of the cation increases. The metal ion binding to a ring oxygen localizes the oxygen\\'s electrons and prohibits glycosidic bond cleavages and it therefore induces abundant cross-ring cleavages under CID or Infrared Multiphoton Dissociation (IRMPD) conditions  explains that the activation barrier increases as the radius of the cation increases. The metal ion binding to a ring oxygen localizes the oxygen\\'s electrons and prohibits glycosidic bond cleavages and it therefore induces abundant cross-ring cleavages under CID or Infrared Multiphoton Dissociation (IRMPD) conditions [68,71,72]..\\nMost published studies have been mainly concerned with the fragmentation of positive ions on both native and permethylated N-linked glycans [69,73,74]. The fragment ions from native glycans tend to undergo rearrangement reactions which lead to ambiguous information . The fragment ions from native glycans tend to undergo rearrangement reactions which lead to ambiguous information [34,75]. Permethlyation is used to stabilize the labile acidic groups which can be easily lost, particularly during MALDI ionization and in the analyzer under low or high energy CID . Permethlyation is used to stabilize the labile acidic groups which can be easily lost, particularly during MALDI ionization and in the analyzer under low or high energy CID [11,76]. Low energy CID generates mainly glycosidic cleavages. Fragments resulting from cross-ring cleavages, which can provide information needed for making detailed structural assignments, have quite low relative abundances or are absent. High energy CID can provide extensive informative fragments for analysis of oligosaccharides with smaller sizes . Low energy CID generates mainly glycosidic cleavages. Fragments resulting from cross-ring cleavages, which can provide information needed for making detailed structural assignments, have quite low relative abundances or are absent. High energy CID can provide extensive informative fragments for analysis of oligosaccharides with smaller sizes [35,77]. High energy dissociation in a sector mass spectrometer can produce many informative cleavages . High energy dissociation in a sector mass spectrometer can produce many informative cleavages [65] but these instruments are now seldom available for glycan analysis. but these instruments are now seldom available for glycan analysis.\\nFor larger N-linked glycans with more complex structures, the most abundant cross-ring fragments detected with high-energy CID in a MALDI-TOF/TOF mass spectrometer are often the 1,5 X n cleavages, but these are not unique enough to facilitate detailed structural assignments [78]. Negative ion CID is very useful for analysis of glycans with acidic monosaccharide residues. The Zaia group acquired a set of targeted negative CID spectra in automated mode on heparan sulfate (HS) oligosaccharides deriving from two different tissue sources. By using statistical methods, they were able to profile a number of HS oligosaccharides and foresaw the potential for glycosamineglycans (GAG) class profiling . Negative ion CID is very useful for analysis of glycans with acidic monosaccharide residues. The Zaia group acquired a set of targeted negative CID spectra in automated mode on heparan sulfate (HS) oligosaccharides deriving from two different tissue sources. By using statistical methods, they were able to profile a number of HS oligosaccharides and foresaw the potential for glycosamineglycans (GAG) class profiling [79]. In addition, the spectra from dissociation of N-linked glycan negative ions provide extensive information with, in many cases, specific fragmentation on the chitobiose core that can reveal finer details of glycan structures. But the same deficiency rises, in that only limited structural information can be gained, due to the occurrence of minimal fragmentation on the antennae . In addition, the spectra from dissociation of N-linked glycan negative ions provide extensive information with, in many cases, specific fragmentation on the chitobiose core that can reveal finer details of glycan structures. But the same deficiency rises, in that only limited structural information can be gained, due to the occurrence of minimal fragmentation on the antennae [80][81][82][83][84][85]..\\nRecently, several novel fragmentation techniques have been applied to the analysis of carbohydrates. Adamson et al. and Zhao et al. have investigated the application of electron capture dissociation (ECD) to both linear and branched oligosaccharides by utilizing FT-ICR mass spectrometers [63,64]. They showed that cross-ring cleavages were the dominant fragmentation pathway in ECD spectra. Whereas ECD is applied in the positive ion mode for characterization of neutral glycans, electron detachment dissociation (EDD) generates fragmentation in the negative mode for analysis of acidic glycans, and has been shown to be particularly useful for analysis of glycosaminoglycans (GAGs). Wolff, Amster et al. applied EDD to the analysis of GAGs and elucidated some mechanisms and pathways . They showed that cross-ring cleavages were the dominant fragmentation pathway in ECD spectra. Whereas ECD is applied in the positive ion mode for characterization of neutral glycans, electron detachment dissociation (EDD) generates fragmentation in the negative mode for analysis of acidic glycans, and has been shown to be particularly useful for analysis of glycosaminoglycans (GAGs). Wolff, Amster et al. applied EDD to the analysis of GAGs and elucidated some mechanisms and pathways [61,86]. Adamson and Hakansson also showed that EDD produces relatively abundant cross-ring cleavage ions for N-glycans and milk oligosaccharides . Adamson and Hakansson also showed that EDD produces relatively abundant cross-ring cleavage ions for N-glycans and milk oligosaccharides [87]. Yu et al. investigated the application of electron energy-dependent electron activated dissociation (ExD) based on alkaline metal-adducted permethylated maltoheptaose in positive mode. Their data showed that such a glycan exhibits several fragmentation processes, including electron capture dissociation (ECD) (1.5eV), hot-ECD (9eV), and electronic excitation dissociation (EED) (14eV). EED provided cross-ring cleavages more informative than those obtained by ECD or hot-ECD . Yu et al. investigated the application of electron energy-dependent electron activated dissociation (ExD) based on alkaline metal-adducted permethylated maltoheptaose in positive mode. Their data showed that such a glycan exhibits several fragmentation processes, including electron capture dissociation (ECD) (1.5eV), hot-ECD (9eV), and electronic excitation dissociation (EED) (14eV). EED provided cross-ring cleavages more informative than those obtained by ECD or hot-ECD [62]. Figure . Figure 8 shows the EED spectrum of permethylated Man 5 GlcNAc 2 . The appearance of extensive fragment ions allows the detailed structural identification of the Nlinked glycan. shows the EED spectrum of permethylated Man 5 GlcNAc 2 . The appearance of extensive fragment ions allows the detailed structural identification of the Nlinked glycan.\\nThese fragmentation techniques, including ECD, EDD and EED as discussed above, are mostly limited to FT-ICR MS, but the cost and complexity of these instrument systems limit their availability. Electron transfer dissociation (ETD), a fragmentation technique very similar to ECD, was introduced by Syka et al. for peptide/protein fragmentation [88]. ETD can be carried out in most mass spectrometers, including quadrupole ion trap mass spectrometers, which are widely available. Recently, Han and Costello successfully applied ETD to investigations in a series of milk oligosaccharides and observed extensive cross-ring cleavages as well as other useful fragment ions; this feature of ETD greatly improves the capability of mass spectrometry to determine the linkage types and branching positions for glycans . ETD can be carried out in most mass spectrometers, including quadrupole ion trap mass spectrometers, which are widely available. Recently, Han and Costello successfully applied ETD to investigations in a series of milk oligosaccharides and observed extensive cross-ring cleavages as well as other useful fragment ions; this feature of ETD greatly improves the capability of mass spectrometry to determine the linkage types and branching positions for glycans [60]. Figures 9 and 10 compare the results from CID and ETD of reduced and permethylated LSTa, respectively. The mass accuracy can be guaranteed by carrying out the analyses with an FTICR MS instrument equipped for ETD; ETD-CID MS 3 on the ion trap instrument provides additional valuable clues for revealing fragmentation pathways. Further applications of ETD to the structural determination of glycans, oligosaccharides, glycopeptides and glycoproteins from biological samples are beginning to be reported.. Figures 9 and 10 compare the results from CID and ETD of reduced and permethylated LSTa, respectively. The mass accuracy can be guaranteed by carrying out the analyses with an FTICR MS instrument equipped for ETD; ETD-CID MS 3 on the ion trap instrument provides additional valuable clues for revealing fragmentation pathways. Further applications of ETD to the structural determination of glycans, oligosaccharides, glycopeptides and glycoproteins from biological samples are beginning to be reported.\\nHigh throughput analyses and the newly developed fragmentation techniques, such as ECD, EDD, ETD and EED, that generate much more extensive structural information have the potential for enormous benefit to the glycobiology community, but they have introduced a new problem: the challenges for interpreting the huge amount of mass spectrometric data and building up the databases and search engines necessary to support future glycobiology research.\\nGlycoMod is a widely-used software tool designed to predict all possible compositions of a certain glycan structure, either underivatized, or derivatized, based on its experimentally determined mass [89]. The program can also suggest candidate oligosaccharides that are derived from glycopeptides/glycoproteins known in the SWISS-PROT or TrEMBL databases and match the experimental results against the results from database. UniCarbKB is an online information storage and search platform for glycomics and glycobiology research . The program can also suggest candidate oligosaccharides that are derived from glycopeptides/glycoproteins known in the SWISS-PROT or TrEMBL databases and match the experimental results against the results from database. UniCarbKB is an online information storage and search platform for glycomics and glycobiology research [90]. It brings together information on the structure, biological origin and potential function of glycans and links each stored glycan structure to quality experimental data from mass spectrometry, chromatography and other technologies. Another useful glycan knowledgebase is EUROCarbDB, which is a glycan platform also based on the primary and interpreted analytical data from high-performance liquid chromatography, mass spectrometry and nuclear magnetic resonance experiments . It brings together information on the structure, biological origin and potential function of glycans and links each stored glycan structure to quality experimental data from mass spectrometry, chromatography and other technologies. Another useful glycan knowledgebase is EUROCarbDB, which is a glycan platform also based on the primary and interpreted analytical data from high-performance liquid chromatography, mass spectrometry and nuclear magnetic resonance experiments [91]. It offers various web-based research tools to expedite aspects of glycan analysis, structural eludication, and recommends the format and nomenclature for encoding carbohydrate structures. As mentioned above, liquid chromatography/mass spectrometry (LC/MS) can be used to compare glycan compositions and abundances among different biological samples. Manual interpretation of the LC/MS data is extremely time-consuming. Zaia and co-workers developed a tool to computationally model LC/MS data on tissue derived heparan sulfate oligosaccharides . It offers various web-based research tools to expedite aspects of glycan analysis, structural eludication, and recommends the format and nomenclature for encoding carbohydrate structures. As mentioned above, liquid chromatography/mass spectrometry (LC/MS) can be used to compare glycan compositions and abundances among different biological samples. Manual interpretation of the LC/MS data is extremely time-consuming. Zaia and co-workers developed a tool to computationally model LC/MS data on tissue derived heparan sulfate oligosaccharides [92]. The software, GlycReSoft, improve glycan recognition through grouping candidate glycan compositions summarized over their various charge states, adducts and range of elution times. This strategy can form an essential part of glycomics work flows which enable efficient profiling of glycans. Going forward, the construction of glycoinformatic databases will drive the leading edge and support innovative approaches to connect various types of glycoanalytical data to a centralized repository of known glycan structures.. The software, GlycReSoft, improve glycan recognition through grouping candidate glycan compositions summarized over their various charge states, adducts and range of elution times. This strategy can form an essential part of glycomics work flows which enable efficient profiling of glycans. Going forward, the construction of glycoinformatic databases will drive the leading edge and support innovative approaches to connect various types of glycoanalytical data to a centralized repository of known glycan structures.\\n\\nThis review summarizes the glycomics workflow and the current and emerging mass spectral methods that are available to study the structures of glycans and their functions in biological systems, with a particular emphasis on glycoprotein analysis. Over the past decade, the development of mass spectrometry has increased our knowledge and facilitated exploration of biological carbohydrates. Our understanding of the structures and diversity of glycans in biological samples has increased dramatically due, in large part, to the dramatic improvements in the sensitivity and variety of mass spectrometry approaches. The initiatives that generate glycoinformatics database platforms should hasten the progress in glycocomics by providing freely accessible database tools for carbohydrates researchers and linking glycomics with all areas of biology, medicine and the environment.   The reactions of reductive amination and permethylation as well as several commonly used reagents for reductive amination.   Nomenclature for glycan and glycoconjugate fragments observed in tandem mass spectra. Reproduced, with permission, from [65] Figure  Figure 7..\\nMetal effects on glycans in tandem mass spectrometry: (A) proton mediated glycosidic bond dissociation, (B) higher activation energy barrier as the cation radius increases. Reproduced, with permission, from [71]          [60]\\n\\n',\n",
       " 'requirements': {'qar_num': 1}}"
      ]
     },
     "execution_count": 7,
     "metadata": {},
     "output_type": "execute_result"
    }
   ],
   "source": [
    "node_dict['a2013402-28e1-4fc7-ae48-3fc81a3fa92a']['node'].metadata"
   ]
  },
  {
   "cell_type": "code",
   "execution_count": 4,
   "metadata": {},
   "outputs": [
    {
     "name": "stdout",
     "output_type": "stream",
     "text": [
      "{'id': 'batch_req_Iw7l0olZAFxl8VfCsBrANoFD', 'custom_id': 'a2013402-28e1-4fc7-ae48-3fc81a3fa92a', 'response': {'status_code': 200, 'request_id': '452dcc84ac33334d4b69cd493985f794', 'body': {'id': 'chatcmpl-A53SJCnxcPVsFr9qAwKZkH0so2XgA', 'object': 'chat.completion', 'created': 1725768287, 'model': 'gpt-4o-2024-05-13', 'choices': [{'index': 0, 'message': {'role': 'assistant', 'content': '{\\n  \"Question\": \"How do electron-based techniques compare to traditional mass spectrometry methods in the structural analysis of glycans and glycoconjugates?\",\\n  \"Answer\": \"Electron-based techniques, such as electron-capture dissociation (ECD) and electron-transfer dissociation (ETD), offer advanced capabilities for detailed structural analysis of glycans and glycoconjugates. These techniques enable more precise fragmentation patterns and better preservation of labile modifications compared to traditional methods like collision-induced dissociation (CID). This results in more accurate and comprehensive profiling of glycan structures.\",\\n  \"Reason\": \"The context highlights the role of electron-based techniques in the future of glycan analysis, suggesting they provide unique benefits not available with traditional mass spectrometry methods. This specific comparison points to a nuanced understanding of the advantages offered by electron-based innovations.\"\\n}', 'refusal': None}, 'logprobs': None, 'finish_reason': 'stop'}], 'usage': {'prompt_tokens': 262, 'completion_tokens': 168, 'total_tokens': 430}, 'system_fingerprint': 'fp_25624ae3a5'}}, 'error': None}\n",
      "{\n",
      "  \"Question\": \"How do electron-based techniques compare to traditional mass spectrometry methods in the structural analysis of glycans and glycoconjugates?\",\n",
      "  \"Answer\": \"Electron-based techniques, such as electron-capture dissociation (ECD) and electron-transfer dissociation (ETD), offer advanced capabilities for detailed structural analysis of glycans and glycoconjugates. These techniques enable more precise fragmentation patterns and better preservation of labile modifications compared to traditional methods like collision-induced dissociation (CID). This results in more accurate and comprehensive profiling of glycan structures.\",\n",
      "  \"Reason\": \"The context highlights the role of electron-based techniques in the future of glycan analysis, suggesting they provide unique benefits not available with traditional mass spectrometry methods. This specific comparison points to a nuanced understanding of the advantages offered by electron-based innovations.\"\n",
      "}\n"
     ]
    }
   ],
   "source": [
    "for v, k in finished_batches.items():\n",
    "    for request in k:\n",
    "        response = request['response']['body']['choices'][0]['message']['content'].strip()\n",
    "        print(request)\n",
    "        print(response)"
   ]
  },
  {
   "cell_type": "markdown",
   "metadata": {},
   "source": []
  },
  {
   "cell_type": "markdown",
   "metadata": {},
   "source": [
    "### Read qar result from batchoutput"
   ]
  },
  {
   "cell_type": "code",
   "execution_count": 1,
   "metadata": {},
   "outputs": [],
   "source": [
    "# Load results\n",
    "import os, sys\n",
    "sys.path.insert(0, \"/run/media/zheng/Elements/Projects(D)/Fine-Tuned-GPT-2-with-articles-ground-truth/code/llamaIndex\")\n",
    "import json\n",
    "\n",
    "cache_path = \"/run/media/zheng/Elements/Projects(D)/Fine-Tuned-GPT-2-with-articles-ground-truth/code/llamaIndex/.cache/\"\n",
    "batchoutput_file_name = \"2024-09-08-20-49-36---batchoutput.json\"\n",
    "with open(os.path.join(cache_path, batchoutput_file_name), 'r') as batchout_file:\n",
    "    batchoutput_results = json.loads(batchout_file.read())"
   ]
  },
  {
   "cell_type": "code",
   "execution_count": 2,
   "metadata": {},
   "outputs": [
    {
     "name": "stderr",
     "output_type": "stream",
     "text": [
      "Loading target_nodes.jsonl: 100%|██████████| 219M/219M [00:00<00:00, 283MB/s] \n"
     ]
    }
   ],
   "source": [
    "# Load target nodes\n",
    "from custom.io import load_nodes_jsonl\n",
    "node_file_name = \"target_nodes.jsonl\"\n",
    "nodes = load_nodes_jsonl(os.path.join(cache_path, node_file_name))\n",
    "node_dict = {}\n",
    "for node in nodes:\n",
    "    node_dict[node.id_] = node\n",
    "\n",
    "from custom.schema import LCTemp\n",
    "parser = LCTemp.parser\n",
    "prompt_temp = LCTemp.prompt_template\n",
    "\n",
    "def parse_obj_to_str(objs):\n",
    "    if objs is not None:\n",
    "        return json.dumps([obj.dict() if obj is not None else {} for obj in objs])\n",
    "    return str([])"
   ]
  },
  {
   "cell_type": "code",
   "execution_count": 4,
   "metadata": {},
   "outputs": [
    {
     "name": "stdout",
     "output_type": "stream",
     "text": [
      "Exception when parse response\n",
      "{\n",
      "  \"qars\": [\n",
      "    {\n",
      "      \"Question\": \"What is the significance of isolating Enterobacter ludwigii Ez-185-17 from the Chernobyl area for bioremediation processes?\",\n",
      "      \"Answer\": \"The isolation of Enterobacter ludwigii Ez-185-17 from the Chernobyl area is significant because it suggests that this strain has adapted to survive in a highly radioactive environment, potentially possessing unique genetic and metabolic properties that can be harnessed for bioremediation. Its ability to produce complex exopolysaccharides (EPS) that can bind heavy metals like cadmium (Cd) indicates that it could be used to reduce heavy metal contamination in affected areas.\",\n",
      "      \"Reason\": \"The extreme environment near Chernobyl has likely led to the evolution of microorganisms with unique capabilities. Enterobacter ludwigii Ez-185-17's EPS properties provide a dual function: allowing the bacteria to survive in harsh conditions and offering a mechanism to capture and immobilize heavy metals, thus reducing their bioavailability and toxicity. This makes it a promising candidate for developing bioremediation strategies to clean up contaminated environments.\"\n",
      "    },\n",
      "    {\n",
      "      \"Question\": \"How does the exopolysaccharide (EPS) structure of Enterobacter ludwigii Ez-185-17 contribute to its heavy metal binding capabilities?\",\n",
      "      \"Answer\": \"The EPS structure of Enterobacter ludwigii Ez-185-17 incorporates multiple sugars and modifications that create numerous binding sites for heavy metals like cadmium (Cd). These structural features increase the overall negative charge of the EPS, enhancing its affinity for positively charged metal ions through electrostatic interactions and metal-chelating effects.\",\n",
      "      \"Reason\": \"The composition and modifications of the EPS confer specific physicochemical properties conducive to metal binding. By providing multiple binding sites and enhancing electrostatic interactions, the EPS can more effectively sequester heavy metals, thereby mitigating their mobility and toxicity. This structural adaptation is critical for the microorganism's survival in metal-contaminated environments and offers practical applications for bioremediation.\"\n",
      "    },\n",
      "    {\n",
      "      \"Question\": \"What potential applications do the findings on EPS-mediated cadmium binding in flaxseed have for agricultural practices in contaminated areas?\",\n",
      "      \"Answer\": \"The findings suggest that using EPS from Enterobacter ludwigii Ez-185-17 could reduce cadmium accumulation in flaxseed, thereby decreasing the risk of cadmium entering the human food chain. This application could improve crop safety and agricultural productivity in areas contaminated with heavy metals by mitigating the uptake and translocation of cadmium in plants.\"\n",
      "      \"Reason\": \"Cadmium contamination in agricultural soils is a significant concern because it poses health risks through food consumption. By employing EPS to bind cadmium and reduce its bioavailability in the soil, the flaxseed can grow in contaminated areas with lower cadmium uptake. This biotechnological approach integrates environmental cleanup with safe food production, addressing both ecological and public health issues.\"\n",
      "    }\n",
      "  ]\n",
      "}\n",
      "Exception when parse response\n",
      "{\n",
      "  \"qars\": [\n",
      "    {\n",
      "      \"Question\": \"How does the choice of materials (PMMA, Perspex, PDMS) in the construction of the meso-fluidic CL flow-through cell impact its performance and functionality?\",\n",
      "      \"Answer\": \"The choice of materials such as PMMA (Polymethyl methacrylate) or Perspex for the channels and PDMS (Polydimethylsiloxane) for the cover plate in the construction of a meso-fluidic CL flow-through cell plays a crucial role in the device's performance and functionality. PMMA and Perspex are selected for their excellent optical properties, chemical resistance, and ease of machining by CO2 laser, making precision channel creation possible. PDMS is used for the cover plate due to its flexibility, biocompatibility, and ability to form a tight seal with PMMA, which is crucial for preventing leaks and ensuring accurate fluid flows. Additionally, the sandwiching of the entire device with PMMA sheets ensures structural integrity and robustness of the device.\"\n",
      "\n",
      "      \"Reason\": \"This question is significant because the performance of a meso-fluidic CL flow-through cell heavily relies on the material properties, which affect factors such as optical clarity for detection, chemical compatibility with the reagents used, and the overall mechanical stability of the device. Accurate fluid handling and prevention of leaks are critical for achieving reliable and repeatable results in fluidic applications, which makes the understanding of material selection a foundational aspect of device design. The provided answer details both the practical and functional reasons for selecting these materials, backed by their properties and the specific requirements of fluidic devices, ensuring accurate interpretation and justification of material choice within this context.\"\n",
      "    }\n",
      "  ]\n",
      "}\n",
      "Exception when parse response\n",
      "{\n",
      "  \"qars\": [\n",
      "    {\n",
      "      \"Question\": \"How does the structure and function of the cervix facilitate its role as a barrier and a gateway between the uterine cavity and the external environment?\",\n",
      "      \"Answer\": \"The cervix has a unique structure and function that enables it to act both as a barrier and a gateway. The cervical canal is lined with mucus-producing glands that secrete thick mucus which acts as a physical barrier to pathogens and sperm during most of the menstrual cycle. During ovulation, the consistency of the mucus changes, becoming thinner and more alkaline, facilitating sperm entry into the uterine cavity for potential fertilization. Additionally, the cervix has a robust immune surveillance system that recognizes and responds to potential pathogens, providing an immunological barrier. Its muscular structure also helps maintain pregnancy by staying firm and closed until labor, when it dilates to allow passage of the fetus.\"\n",
      "\n",
      "      \"Reason\": \"This question is significant because understanding the cervix's dual role provides insights into reproductive health, fertility, and mechanisms of infection prevention. The answer is accurate as it explains the physiological changes and structures that enable the cervix to protect the upper reproductive tract while allowing for reproductive functions such as sperm transport and childbirth. These insights are crucial for developing medical interventions and improving women's reproductive health outcomes.\"\n",
      "    }\n",
      "  ]\n",
      "}\n",
      "Exception when parse response\n",
      "{\n",
      "  \"qars\": [\n",
      "    {\n",
      "      \"Question\": \"How do the mechanisms of Lactobacilli and non-lactobacillus probiotics differ in the production of SCFAs and subsequent therapeutic effects, particularly in the context of chemotherapy-induced diarrhea?\",\n",
      "      \"Answer\": \"Lactobacilli primarily produce SCFAs such as acetate, propionate, and butyrate through carbohydrate fermentation processes, which help in reducing inflammation and promoting apoptosis of cancer cells. On the other hand, non-lactobacillus probiotics like Clostridium butyricum also produce butyrate, a key SCFA, but their mechanisms include the fermentation of not just carbohydrates but also proteins and other substrates. Additionally, some of these non-lactobacillus probiotics secrete bacteriocins which can directly inhibit pathogenic bacteria. This dual function of producing SCFAs and secreting bacteriocins provides a stronger, multi-faceted approach to reducing chemotherapy-induced diarrhea and protecting the gut flora.\"\n",
      "\n",
      "      \"Reason\": \"This question is central to understanding the distinct roles and applications of different probiotics in medical treatments. The given answer leverages specific information from the context, particularly the dual role of non-lactobacillus probiotics like Clostridium butyricum in both SCFA production and pathogen inhibition, highlighting their unique advantages in chemotherapy-induced conditions. Researchers are keen on these distinctions to develop tailored probiotic therapies that maximize therapeutic effects and minimize side effects in patients undergoing chemotherapy.\"\n",
      "    }\n",
      "  ]\n",
      "}\n",
      "Exception when parse response\n",
      "{\n",
      "  \"qars\": [\n",
      "    {\n",
      "      \"Question\": \"Why did one plant species not show a significant difference in mycorrhizal colonization rates despite the combined fungal and bacterial treatments?\",\n",
      "      \"Answer\": \"The lack of significant difference in mycorrhizal colonization for the specific plant species could be due to inherent biological or physiological traits of that species that make it less responsive to combined microbial treatments. This could include factors such as a pre-existing high rate of mycorrhizal colonization or particular resistance mechanisms that limit further colonization despite external treatments. Alternatively, the species may have a different set of optimal symbiotic partners not provided in the study.\"\n",
      "      \"Reason\": \"Understanding why one plant species did not respond similarly to the treatments despite the general trend is significant because it highlights the complexity of plant-microbe interactions. It suggests that while certain treatments may be broadly effective, specific plant-microbe relationships need to be considered for individual species. This insight can guide future research towards more tailored plant treatment strategies and can contribute to our broader understanding of plant biology and ecology. In providing this context-specific detailed analysis, researchers can better design experiments that factor in species-specific responses.\"\n",
      "    }\n",
      "  ]\n",
      "}\n",
      "Exception when parse response\n",
      "{\n",
      "  \"qars\": [\n",
      "    {\n",
      "      \"Question\": \"How do genetic elements such as the GS element and variations in G+C content contribute to the diversity and identification of strains within the Mycobacterium avium complex?\",\n",
      "      \"Answer\": \"Genetic elements like the GS element and variations in G+C content are crucial for distinguishing between different strains of the Mycobacterium avium complex. The GS element, particularly in M. avium subsp. silvaticum, serves as a genetic marker that helps in identifying specific subspecies. Similarly, variations in the G+C content, investigated in M. avium subsp. paratuberculosis, provide insights into the genomic composition and stability of these organisms.\"\n",
      "\n",
      "      \"Reason\": \"These questions are significant because understanding these genetic variations is essential for accurate identification and differentiation of pathogenic Mycobacterium strains, which has direct implications for diagnosis and treatment. The GS element as a genetic marker and the G+C content variability are not general knowledge; they are specific insights gained from dedicated genomic studies, making this question particularly relevant to researchers focusing on mycobacterial genetics.\"\n",
      "    }\n",
      "  ]\n",
      "}\n",
      "Exception when parse response\n",
      "{\n",
      "  \"qars\": [\n",
      "    {\n",
      "      \"Question\": \"How can algal prebiotics specifically regulate the gut microbiome to prevent host diseases?\",\n",
      "      \"Answer\": \"Algal prebiotics can regulate the gut microbiome by acting as a food source for beneficial gut bacteria, thereby promoting the growth and activity of these microorganisms. This, in turn, can help in maintaining a balanced gut microbial community, which is crucial for gut health. The prebiotic compounds found in algae, such as polysaccharides, can enhance the production of short-chain fatty acids (SCFAs) like butyrate, propionate, and acetate. These SCFAs have anti-inflammatory properties, improve gut barrier function, and provide energy for colonocytes, thereby preventing diseases such as inflammatory bowel disease (IBD), irritable bowel syndrome (IBS), and even colorectal cancer.\"\n",
      "      \"Reason\": \"This question is significant because it delves into the mechanism by which algal prebiotics affect the gut microbiome and contribute to disease prevention. The context provided suggests a potential use of algal prebiotics, but understanding the specific mechanisms is essential for developing targeted therapies or nutritional interventions. The answer is accurate because it is based on established scientific principles regarding the role of prebiotics and SCFAs in gut health and disease prevention. Research in this area can lead to innovative treatments and dietary recommendations that leverage the unique properties of algal prebiotics.\"\n",
      "    }\n",
      "  ]\n",
      "}\n",
      "Exception when parse response\n",
      "{\n",
      "  \"qars\": [\n",
      "    {\n",
      "      \"Question\": \"How does the hemicelluloses to cellulose ratio of 1:2 in hairs and pappi compare to its importance in other non-wood species used in the pulp industry with respect to pulping aptitude and sheet formation?\",\n",
      "      \"Answer\": \"The hemicelluloses to cellulose ratio of 1:2 in hairs and pappi is critical because it mirrors the ratios found in other non-wood species used in the pulp industry. This similarity suggests that hairs and pappi may exhibit comparable pulping characteristics and efficiency in sheet formation. Hemicelluloses play a crucial role in the papermaking process, primarily because they contribute to the bonding of cellulose fibers during sheet formation. A hemicelluloses to cellulose ratio that aligns with industry standards hints at the potential viability of using hairs and pappi as alternative raw materials in papermaking, potentially offering a sustainable and cost-effective resource.\"\n",
      "\n",
      "      \"Reason\": \"This question is significant to researchers as it directly concerns the potential application of non-wood species in the pulp industry, which is continually seeking more sustainable and cost-effective raw materials. The hemicelluloses to cellulose ratio is a critical parameter because it impacts the pulping process and the quality of the resulting paper. By understanding how comparable this ratio is in hairs and pappi to that in other established non-wood materials, researchers can better evaluate the feasibility and benefits of incorporating these materials into industrial processes. The answer provided is accurate based on the context, where the ratio’s importance in sheet formation and its similarity to other species are emphasized.\"\n",
      "    }\n",
      "  ]\n",
      "}\n",
      "Exception when parse response\n",
      "{\n",
      "  \"qars\": [\n",
      "    {\n",
      "      \"Question\": \"What factors could contribute to the different phenotypic expressions (ropy vs. mucoid) in Lactic Acid Bacteria (LAB), specifically in the context of isolates 338 and 371 showing ropy colonies only on sucrose-containing media?\",\n",
      "      \"Answer\": \"The phenotypic expressions of LAB, such as the ropy and mucoid phenotypes, can be influenced by environmental conditions, including the nutrient composition of the media. In the context of isolates 338 and 371, the presence of sucrose in the media likely activates specific genetic pathways responsible for exopolysaccharide (EPS) production, leading to the ropy phenotype. Specific genes responsible for EPS production, which can be influenced by carbohydrate sources, have been identified in LAB, such as Lactococcus lactis spp. cremoris and Lactobacillus casei strains.\"\n",
      "\n",
      "      \"Reason\": \"This question is significant because understanding the environmental factors (like media composition) affecting LAB phenotypes can help in industrial applications where specific bacterial characteristics are desired. The accurate identification and manipulation of these factors could lead to optimized and controlled fermentation processes, improving product consistency and quality. In this context, the observation that only isolates 338 and 371 developed ropy colonies on sucrose-containing media, while others remained non-ropy, highlights the specific influence of sucrose in the activation of EPS-related pathways. This information aligns with existing literature, which indicates that various LAB can express different phenotypes under specific growth conditions.\"\n",
      "    }\n",
      "  ]\n",
      "}\n",
      "Exception when parse response\n",
      "{\n",
      "  \"qars\": [\n",
      "    {\n",
      "      \"Question\": \"How does the intramolecular H-bond networks within carbohydrates influence their interaction with proteins and solvents?\",\n",
      "      \"Answer\": \"The intramolecular H-bond networks within carbohydrates, arising from the arrangement of hydroxyl groups, significantly enhance their cooperativity. This leads to more stable interactions with proteins, as these H-bond networks can complement and strengthen the hydrogen bonds formed between carbohydrate hydroxyl groups and amino acid residues in protein binding sites. Additionally, in the context of solvents, these intramolecular networks can either make carbohydrates prefer certain solvents (due to enhanced solubility in polar solvents) or lead to specific structured forms in less favorable solvation conditions.',\n",
      "      \"Reason\": \"This question is significant to researchers because understanding the nature of carbohydrate–protein interactions and carbohydrate solvation is crucial in fields such as biochemistry, pharmaceutical sciences, and molecular biology. The provided answer is accurate as it explains how the unique H-bond networks in carbohydrates, determined by their hydroxyl groups, lead to specific interactions that are critical for their biological functions and their behavior in different solvents.\"\n",
      "    }\n",
      "  ]\n",
      "}\n",
      "Exception when parse response\n",
      "{\n",
      "  \"qars\": [\n",
      "    {\n",
      "      \"Question\": \"How do plants convert glucose produced during photosynthesis into polysaccharides like cellulose and starch?\",\n",
      "      \"Answer\": \"Plants convert glucose into polysaccharides through enzymatic processes. During photosynthesis, glucose is initially produced in the form of a simple sugar. This glucose can then follow different metabolic pathways to form cellulose or starch. Cellulose synthesis involves the polymerization of glucose molecules through β-1,4-glycosidic linkages to form long linear chains, which aggregate to form the structural component of the plant cell wall. In contrast, starch is produced through the formation of α-1,4-glycosidic bonds and sometimes α-1,6-glycosidic bonds, leading to a branched structure stored in plastids like chloroplasts and amyloplasts.\"\n",
      "      \"Reason\": \"Understanding the conversion processes of glucose to polysaccharides is crucial for researchers focused on plant biology, bioenergy, and agricultural productivity. The metabolic pathways involved are complex and highly regulated, impacting plant growth and development. Comprehending these mechanisms can facilitate advancements in biomass-based energy sources, improve crop yields, and enhance our knowledge of plant physiology. The answer reflects the specificity of biochemical pathways uniquely connecting the context of glucose production to its conversion into essential structural and storage polysaccharides in plants.\"\n",
      "    }\n",
      "  ]\n",
      "}\n",
      "Exception when parse response\n",
      "{\n",
      "  \"qars\": [\n",
      "    {\n",
      "      \"Question\": \"What implications do the characteristics of N-linked glycans in bovine serum IgG have for the immune functionality or potential therapeutic applications of bovine-derived immunoglobulins?\",\n",
      "      \"Answer\": \"The characteristics of N-linked glycans in bovine serum IgG, such as being predominantly core-fucosyl, asialyl, and biantennary without bisected N-acetylglucosamine, imply a certain level of stability and a defined structural profile which can influence immune signaling and interaction mechanisms. The presence of terminal galactose on 75-85% of IgG molecules suggests enhanced antibody-dependent cellular cytotoxicity (ADCC), while the low incidence of sialylation may indicate limited anti-inflammatory properties compared to more sialylated glycoproteins. These glycosylation patterns can affect the efficacy and specificity of bovine-derived IgGs in therapeutic contexts, such as passive immunotherapy or antibody-based treatments, by mediating their interaction with immune cells and receptors.\"\n",
      "\n",
      "      \"Reason\": \"Understanding the glycosylation patterns of bovine serum IgG is significant because glycosylation plays a crucial role in modulating the immune system's response. Core fucosylation and the presence of terminal galactose are known to impact the antibody's ability to recruit immune effector functions, which is critical for therapeutic applications. Additionally, the low levels of sialylation can reduce the anti-inflammatory functions typically associated with sialylated antibodies, making these glycosylation characteristics vital for designing and utilizing bovine IgG in clinical settings. The provided answer is accurate as it aligns glycosylation features with their known functional effects within immunology.\"\n",
      "    }\n",
      "  ]\n",
      "}\n",
      "Exception when parse response\n",
      "{\n",
      "  \"qars\": [\n",
      "    {\n",
      "      \"Question\": \"What role does fructokinase (FK) play in the phosphorylation of hexoses, and why is it significant to the metabolic pathway involving hexose phosphates?\",\n",
      "      \"Answer\": \"Fructokinase (FK) specifically catalyzes the phosphorylation of fructose (Fru) to fructose 6-phosphate (F6P) in the hexose metabolic pathway. This action is crucial because it allows the integration of fructose, a common monosaccharide, into the central metabolic pathway, enabling its conversion into other essential metabolites such as glucose 6-phosphate (G6P), glucose 1-phosphate (G1P), and UDP-glucose (UDPG) through subsequent enzymatic reactions.\"\n",
      "    }\n",
      "  ]\n",
      "}\n",
      "Exception when parse response\n",
      "```json\n",
      "{\n",
      "  \"qars\": [\n",
      "    {\n",
      "      \"Question\": \"What is the structural significance of the chemical shifts at 4.91 ppm, 4.68 ppm, and 4.98 ppm in ulvans?\",\n",
      "      \"Answer\": \"The chemical shifts at 4.91 ppm, 4.68 ppm, and 4.98 ppm are indicative of the specific hydrogen environments in ulvans. The signal at 4.91 ppm is attributed to H-1 of α-L-Rha 3S linked to β-D-xylose, the signal at 4.68 ppm corresponds to H-1 of β-D-xylose, and the signal at 4.98 ppm corresponds to H-1 of β-D-xylose 2-sulfate. These shifts reflect the presence and positioning of different sulfate groups on the sugar rings, which are characteristic of ulvans' unique polysaccharide structure.\"\n",
      "\n",
      "      \"Reason\": \"Understanding the precise chemical shifts and their relationships to the molecular structure of ulvans is crucial for researchers studying the biochemistry of these complex polysaccharides. The specific shifts provide insight into the sulfonation patterns and glycosidic linkages within ulvans, which are important for determining their biological and functional properties. This level of detail cannot be ascertained through general knowledge and requires specific analysis of the NMR data provided in the context.\"\n",
      "    }\n",
      "  ]\n",
      "}\n",
      "```\n",
      "Exception when parse response\n",
      "{\n",
      "    \"qars\": [\n",
      "        {\n",
      "            \"Question\": \"What factors could explain the variation in Cu levels in breast milk across different geographic regions such as Kayseri, Adana, and in Björklund et al.'s study?\",\n",
      "            \"Answer\": \"The variation in Cu (copper) levels in breast milk across Kayseri (0.05 mg/L), Adana (0.28 mg/L for both term and preterm infants), and in Björklund et al.'s study (0.471 mg/L) may be attributed to several factors, including differences in maternal diet, genetics, environmental exposures, and health status. Geographic regions may have varying levels of copper in soil and water, which can influence the copper content in local food supplies and consequently in maternal nutrition. Additionally, genetic differences across populations can affect how nutrients are absorbed and metabolized in the body. Environmental factors such as pollution and industrial activities may also contribute to varying levels of copper exposure.\"\n",
      "\n",
      "            \"Reason\": \"Understanding the factors that contribute to the variation in copper levels in breast milk is crucial for ensuring optimal infant nutrition and health. These variations can inform public health policies and guidelines for maternal nutrition. The provided answer is accurate as it takes into account the complex interplay of diet, genetics, and environment that are known to influence nutrient levels in breast milk. It also aligns with existing literature on the topic, which highlights the importance of maternal dietary intake and environmental exposures in determining trace mineral levels in breast milk.\"\n",
      "        }\n",
      "    ]\n",
      "}\n"
     ]
    }
   ],
   "source": [
    "import csv\n",
    "\n",
    "csv_file_name = \"gpt-4o-batch-all-p_2_parser_ManuallyHierarchicalNodeParser_8165_gpu_V100_nodeNum_200_pid_1_extract.csv\"\n",
    "csv_file = open(os.path.join(cache_path, csv_file_name), 'w', newline='')\n",
    "\n",
    "dataset_writer = csv.DictWriter(csv_file, fieldnames=['node_id', 'qar_num', 'input_text', 'raw_response', 'objs'])\n",
    "dataset_writer.writeheader()\n",
    "bad_response_num = 0\n",
    "# Parser results to qar format\n",
    "for request in batchoutput_results:\n",
    "    # get response\n",
    "    response = request['response']['body']['choices'][0]['message']['content'].strip()\n",
    "    node = node_dict[request['custom_id']]\n",
    "    try:\n",
    "        parsed_objs = parser.parse(response)\n",
    "    except Exception as e:\n",
    "        print(f\"Exception when parse response\")\n",
    "        print(response)\n",
    "        bad_response_num += 1\n",
    "        parsed_objs = None\n",
    "    if parsed_objs is not None:\n",
    "        parsed_objs = parsed_objs.qars\n",
    "    objs_str = parse_obj_to_str(parsed_objs)\n",
    "    # Langchain end\n",
    "    # write to csv\n",
    "    output_dict = {}\n",
    "    requirements = node.metadata['requirements']\n",
    "    output_dict['node_id'] = node.id_\n",
    "    output_dict['qar_num'] = requirements['qar_num']\n",
    "    output_dict['input_text'] = prompt_temp.format(qar_num=requirements['qar_num'], context_str=node.text)\n",
    "    output_dict['raw_response'] = response\n",
    "    output_dict['objs'] = objs_str\n",
    "    dataset_writer.writerow(output_dict)\n",
    "\n",
    "csv_file.close()"
   ]
  },
  {
   "cell_type": "code",
   "execution_count": 5,
   "metadata": {},
   "outputs": [
    {
     "data": {
      "text/plain": [
       "15"
      ]
     },
     "execution_count": 5,
     "metadata": {},
     "output_type": "execute_result"
    }
   ],
   "source": [
    "bad_response_num"
   ]
  },
  {
   "cell_type": "code",
   "execution_count": 14,
   "metadata": {},
   "outputs": [
    {
     "name": "stderr",
     "output_type": "stream",
     "text": [
      "Loading gpt-4o-batch-all-p_2_parser_ManuallyHierarchicalNodeParser_8165_gpu_V100_nodeNum_200_pid_1.jsonl: 100%|██████████| 1.33G/1.33G [00:06<00:00, 230MB/s] \n"
     ]
    }
   ],
   "source": [
    "# Load nodes\n",
    "from custom.io import load_nodes_jsonl\n",
    "node_file_name = \"gpt-4o-batch-all-p_2_parser_ManuallyHierarchicalNodeParser_8165_gpu_V100_nodeNum_200_pid_1.jsonl\"\n",
    "nodes = load_nodes_jsonl(os.path.join(cache_path, node_file_name))\n",
    "node_dict = {}\n",
    "for node in nodes:\n",
    "    node_dict[node.id_] = node"
   ]
  },
  {
   "cell_type": "code",
   "execution_count": 15,
   "metadata": {},
   "outputs": [
    {
     "data": {
      "text/plain": [
       "45834"
      ]
     },
     "execution_count": 15,
     "metadata": {},
     "output_type": "execute_result"
    }
   ],
   "source": [
    "len(nodes)"
   ]
  },
  {
   "cell_type": "markdown",
   "metadata": {},
   "source": [
    "### Visualize extract result"
   ]
  },
  {
   "cell_type": "code",
   "execution_count": 6,
   "metadata": {},
   "outputs": [],
   "source": [
    "import os\n",
    "import pandas as pd\n",
    "cache_path = '/run/media/zheng/Elements/Projects(D)/Fine-Tuned-GPT-2-with-articles-ground-truth/code/llamaIndex/.cache'\n",
    "csv_file_name = \"gpt-4o-batch-all-p_2_parser_ManuallyHierarchicalNodeParser_8165_gpu_V100_nodeNum_200_pid_1_extract.csv\"\n",
    "df = pd.read_csv(os.path.join(cache_path, csv_file_name))"
   ]
  },
  {
   "cell_type": "code",
   "execution_count": 7,
   "metadata": {},
   "outputs": [
    {
     "data": {
      "text/html": [
       "<div>\n",
       "<style scoped>\n",
       "    .dataframe tbody tr th:only-of-type {\n",
       "        vertical-align: middle;\n",
       "    }\n",
       "\n",
       "    .dataframe tbody tr th {\n",
       "        vertical-align: top;\n",
       "    }\n",
       "\n",
       "    .dataframe thead th {\n",
       "        text-align: right;\n",
       "    }\n",
       "</style>\n",
       "<table border=\"1\" class=\"dataframe\">\n",
       "  <thead>\n",
       "    <tr style=\"text-align: right;\">\n",
       "      <th></th>\n",
       "      <th>node_id</th>\n",
       "      <th>qar_num</th>\n",
       "      <th>input_text</th>\n",
       "      <th>raw_response</th>\n",
       "      <th>objs</th>\n",
       "    </tr>\n",
       "  </thead>\n",
       "  <tbody>\n",
       "    <tr>\n",
       "      <th>0</th>\n",
       "      <td>a2013402-28e1-4fc7-ae48-3fc81a3fa92a</td>\n",
       "      <td>3</td>\n",
       "      <td>You are an expert researcher. Using the follow...</td>\n",
       "      <td>{\\n  \"qars\": [\\n    {\\n      \"Question\": \"How ...</td>\n",
       "      <td>[{\"Question\": \"How do advanced mass spectromet...</td>\n",
       "    </tr>\n",
       "    <tr>\n",
       "      <th>1</th>\n",
       "      <td>1afa3420-36ca-44e3-9c70-96779dce6c91</td>\n",
       "      <td>3</td>\n",
       "      <td>You are an expert researcher. Using the follow...</td>\n",
       "      <td>{\\n  \"qars\": [\\n    {\\n      \"Question\": \"What...</td>\n",
       "      <td>[{\"Question\": \"What specific mechanism allows ...</td>\n",
       "    </tr>\n",
       "    <tr>\n",
       "      <th>2</th>\n",
       "      <td>37e78ddb-6196-49c4-b786-ddec2ff70c7e</td>\n",
       "      <td>3</td>\n",
       "      <td>You are an expert researcher. Using the follow...</td>\n",
       "      <td>{\\n  \"qars\": [\\n    {\\n      \"Question\": \"How ...</td>\n",
       "      <td>[{\"Question\": \"How does the administration of ...</td>\n",
       "    </tr>\n",
       "    <tr>\n",
       "      <th>3</th>\n",
       "      <td>56eabac7-8098-4427-8836-ac323e92d31b</td>\n",
       "      <td>3</td>\n",
       "      <td>You are an expert researcher. Using the follow...</td>\n",
       "      <td>{\\n  \"qars\": [\\n    {\\n      \"Question\": \"What...</td>\n",
       "      <td>[{\"Question\": \"What is the significance of sma...</td>\n",
       "    </tr>\n",
       "    <tr>\n",
       "      <th>4</th>\n",
       "      <td>1422854f-c275-4872-a4df-1d2eb73691e3</td>\n",
       "      <td>3</td>\n",
       "      <td>You are an expert researcher. Using the follow...</td>\n",
       "      <td>{\\n  \"qars\": [\\n    {\\n      \"Question\": \"How ...</td>\n",
       "      <td>[{\"Question\": \"How do glycosylation patterns o...</td>\n",
       "    </tr>\n",
       "    <tr>\n",
       "      <th>...</th>\n",
       "      <td>...</td>\n",
       "      <td>...</td>\n",
       "      <td>...</td>\n",
       "      <td>...</td>\n",
       "      <td>...</td>\n",
       "    </tr>\n",
       "    <tr>\n",
       "      <th>3495</th>\n",
       "      <td>4b89f337-24cb-4e93-860c-f9ab8e008f9f</td>\n",
       "      <td>1</td>\n",
       "      <td>You are an expert researcher. Using the follow...</td>\n",
       "      <td>{\\n  \"qars\": [\\n    {\\n      \"Question\": \"What...</td>\n",
       "      <td>[{\"Question\": \"What specific factors could acc...</td>\n",
       "    </tr>\n",
       "    <tr>\n",
       "      <th>3496</th>\n",
       "      <td>0fb2ebad-7c51-4a28-b15b-963a0fe333f0</td>\n",
       "      <td>1</td>\n",
       "      <td>You are an expert researcher. Using the follow...</td>\n",
       "      <td>{\\n  \"qars\": [\\n    {\\n      \"Question\": \"How ...</td>\n",
       "      <td>[{\"Question\": \"How can the recent discovery of...</td>\n",
       "    </tr>\n",
       "    <tr>\n",
       "      <th>3497</th>\n",
       "      <td>4e8e9c31-9b81-4b36-8f50-cb64b2f3965e</td>\n",
       "      <td>1</td>\n",
       "      <td>You are an expert researcher. Using the follow...</td>\n",
       "      <td>{\\n  \"qars\": [\\n    {\\n      \"Question\": \"What...</td>\n",
       "      <td>[{\"Question\": \"What are the advantages and lim...</td>\n",
       "    </tr>\n",
       "    <tr>\n",
       "      <th>3498</th>\n",
       "      <td>d108e671-f55a-411d-a31a-aa81340ca007</td>\n",
       "      <td>1</td>\n",
       "      <td>You are an expert researcher. Using the follow...</td>\n",
       "      <td>{\\n  \"qars\": [\\n    {\\n      \"Question\": \"How ...</td>\n",
       "      <td>[{\"Question\": \"How does the high level of 4-ga...</td>\n",
       "    </tr>\n",
       "    <tr>\n",
       "      <th>3499</th>\n",
       "      <td>7d452790-bb06-4c38-94ad-36ccd85626a8</td>\n",
       "      <td>1</td>\n",
       "      <td>You are an expert researcher. Using the follow...</td>\n",
       "      <td>{\\n  \"qars\": [\\n    {\\n      \"Question\": \"What...</td>\n",
       "      <td>[{\"Question\": \"What is the specific metabolic ...</td>\n",
       "    </tr>\n",
       "  </tbody>\n",
       "</table>\n",
       "<p>3500 rows × 5 columns</p>\n",
       "</div>"
      ],
      "text/plain": [
       "                                   node_id  qar_num  \\\n",
       "0     a2013402-28e1-4fc7-ae48-3fc81a3fa92a        3   \n",
       "1     1afa3420-36ca-44e3-9c70-96779dce6c91        3   \n",
       "2     37e78ddb-6196-49c4-b786-ddec2ff70c7e        3   \n",
       "3     56eabac7-8098-4427-8836-ac323e92d31b        3   \n",
       "4     1422854f-c275-4872-a4df-1d2eb73691e3        3   \n",
       "...                                    ...      ...   \n",
       "3495  4b89f337-24cb-4e93-860c-f9ab8e008f9f        1   \n",
       "3496  0fb2ebad-7c51-4a28-b15b-963a0fe333f0        1   \n",
       "3497  4e8e9c31-9b81-4b36-8f50-cb64b2f3965e        1   \n",
       "3498  d108e671-f55a-411d-a31a-aa81340ca007        1   \n",
       "3499  7d452790-bb06-4c38-94ad-36ccd85626a8        1   \n",
       "\n",
       "                                             input_text  \\\n",
       "0     You are an expert researcher. Using the follow...   \n",
       "1     You are an expert researcher. Using the follow...   \n",
       "2     You are an expert researcher. Using the follow...   \n",
       "3     You are an expert researcher. Using the follow...   \n",
       "4     You are an expert researcher. Using the follow...   \n",
       "...                                                 ...   \n",
       "3495  You are an expert researcher. Using the follow...   \n",
       "3496  You are an expert researcher. Using the follow...   \n",
       "3497  You are an expert researcher. Using the follow...   \n",
       "3498  You are an expert researcher. Using the follow...   \n",
       "3499  You are an expert researcher. Using the follow...   \n",
       "\n",
       "                                           raw_response  \\\n",
       "0     {\\n  \"qars\": [\\n    {\\n      \"Question\": \"How ...   \n",
       "1     {\\n  \"qars\": [\\n    {\\n      \"Question\": \"What...   \n",
       "2     {\\n  \"qars\": [\\n    {\\n      \"Question\": \"How ...   \n",
       "3     {\\n  \"qars\": [\\n    {\\n      \"Question\": \"What...   \n",
       "4     {\\n  \"qars\": [\\n    {\\n      \"Question\": \"How ...   \n",
       "...                                                 ...   \n",
       "3495  {\\n  \"qars\": [\\n    {\\n      \"Question\": \"What...   \n",
       "3496  {\\n  \"qars\": [\\n    {\\n      \"Question\": \"How ...   \n",
       "3497  {\\n  \"qars\": [\\n    {\\n      \"Question\": \"What...   \n",
       "3498  {\\n  \"qars\": [\\n    {\\n      \"Question\": \"How ...   \n",
       "3499  {\\n  \"qars\": [\\n    {\\n      \"Question\": \"What...   \n",
       "\n",
       "                                                   objs  \n",
       "0     [{\"Question\": \"How do advanced mass spectromet...  \n",
       "1     [{\"Question\": \"What specific mechanism allows ...  \n",
       "2     [{\"Question\": \"How does the administration of ...  \n",
       "3     [{\"Question\": \"What is the significance of sma...  \n",
       "4     [{\"Question\": \"How do glycosylation patterns o...  \n",
       "...                                                 ...  \n",
       "3495  [{\"Question\": \"What specific factors could acc...  \n",
       "3496  [{\"Question\": \"How can the recent discovery of...  \n",
       "3497  [{\"Question\": \"What are the advantages and lim...  \n",
       "3498  [{\"Question\": \"How does the high level of 4-ga...  \n",
       "3499  [{\"Question\": \"What is the specific metabolic ...  \n",
       "\n",
       "[3500 rows x 5 columns]"
      ]
     },
     "execution_count": 7,
     "metadata": {},
     "output_type": "execute_result"
    }
   ],
   "source": [
    "df"
   ]
  },
  {
   "cell_type": "code",
   "execution_count": 13,
   "metadata": {},
   "outputs": [
    {
     "name": "stdout",
     "output_type": "stream",
     "text": [
      "174 3 0\n",
      "567 1 0\n",
      "1147 1 0\n",
      "1174 1 0\n",
      "1312 1 0\n",
      "1326 1 0\n",
      "1594 1 0\n",
      "1809 1 0\n",
      "2098 1 0\n",
      "2135 1 0\n",
      "2240 1 0\n",
      "2590 1 0\n",
      "2836 1 0\n",
      "2941 1 0\n",
      "3050 1 0\n"
     ]
    },
    {
     "data": {
      "text/plain": [
       "15"
      ]
     },
     "execution_count": 13,
     "metadata": {},
     "output_type": "execute_result"
    }
   ],
   "source": [
    "import json\n",
    "invalid_count = 0\n",
    "for row_id in range(len(df)):\n",
    "    obj_json = json.loads(df['objs'][row_id])\n",
    "    if df['qar_num'][row_id] != len(obj_json):\n",
    "        print(row_id, df['qar_num'][row_id], len(obj_json))\n",
    "        invalid_count += 1\n",
    "invalid_count"
   ]
  },
  {
   "cell_type": "markdown",
   "metadata": {},
   "source": [
    "### re Format response"
   ]
  },
  {
   "cell_type": "code",
   "execution_count": 1,
   "metadata": {},
   "outputs": [],
   "source": [
    "import os, sys\n",
    "sys.path.insert(0, \"/run/media/zheng/Elements/Projects(D)/Fine-Tuned-GPT-2-with-articles-ground-truth/code/llamaIndex\")\n",
    "from custom.schema import LCTemp\n",
    "\n",
    "parser = LCTemp.parser\n",
    "prompt = LCTemp.prompt_template\n",
    "\n",
    "def parse_obj_to_str(objs):\n",
    "    objs_str = \"\"\n",
    "    for obj in objs:\n",
    "        obj_str = '\\n'.join([f'{k}={v}' for k, v in obj.dict().items()])\n",
    "        objs_str += f\"[{obj_str}]\\n\"\n",
    "    return objs_str.strip()"
   ]
  },
  {
   "cell_type": "code",
   "execution_count": 2,
   "metadata": {},
   "outputs": [
    {
     "name": "stdout",
     "output_type": "stream",
     "text": [
      "here 1\n",
      "parser: {'qars': [{'Question': 'What are the potential pharmacological benefits of the compounds isolated from the leaves and flowers of T. procumbens?', 'Answer': 'The compounds isolated from T. procumbens, including dexamethasone luteolin, glucoluteolin, β-sitosterol quercetin, β-sitosterol-3-o-β-D-xylopyranoside, and flavonoid procumbenetin, possess a range of pharmacological properties. Dexamethasone luteolin and glucoluteolin have anti-inflammatory and antioxidant activities, β-sitosterol quercetin exhibits anti-cancer and anti-inflammatory properties, and β-sitosterol-3-o-β-D-xylopyranoside and flavonoid procumbenetin are noted for their potential in modulating immune response and exhibiting antimicrobial activities. Moreover, novel water-soluble polysaccharides from T. procumbens may offer unique therapeutic potentials such as immune system modulation and antiviral effects.', 'Reason': 'This question is significant to researchers because understanding the pharmacological benefits of natural compounds helps in the development of new therapeutic agents. The accurate answer leverages the specific information provided about the identified compounds and their sources (leaves and flowers of T. procumbens), as well as their known pharmacological effects reported in previous studies. This contextual analysis could guide further research on the medicinal use of T. procumbens and its isolated compounds.'}]}\n",
      "here 1\n"
     ]
    },
    {
     "data": {
      "text/plain": [
       "MultipleQARs(qars=[QAR(Question='What are the potential pharmacological benefits of the compounds isolated from the leaves and flowers of T. procumbens?', Answer='The compounds isolated from T. procumbens, including dexamethasone luteolin, glucoluteolin, β-sitosterol quercetin, β-sitosterol-3-o-β-D-xylopyranoside, and flavonoid procumbenetin, possess a range of pharmacological properties. Dexamethasone luteolin and glucoluteolin have anti-inflammatory and antioxidant activities, β-sitosterol quercetin exhibits anti-cancer and anti-inflammatory properties, and β-sitosterol-3-o-β-D-xylopyranoside and flavonoid procumbenetin are noted for their potential in modulating immune response and exhibiting antimicrobial activities. Moreover, novel water-soluble polysaccharides from T. procumbens may offer unique therapeutic potentials such as immune system modulation and antiviral effects.', Reason='This question is significant to researchers because understanding the pharmacological benefits of natural compounds helps in the development of new therapeutic agents. The accurate answer leverages the specific information provided about the identified compounds and their sources (leaves and flowers of T. procumbens), as well as their known pharmacological effects reported in previous studies. This contextual analysis could guide further research on the medicinal use of T. procumbens and its isolated compounds.')])"
      ]
     },
     "execution_count": 2,
     "metadata": {},
     "output_type": "execute_result"
    }
   ],
   "source": [
    "response = \"{\\n  \\\"qars\\\": [\\n    {\\n      \\\"Question\\\": \\\"What are the potential pharmacological benefits of the compounds isolated from the leaves and flowers of T. procumbens?\\\",\\n      \\\"Answer\\\": \\\"The compounds isolated from T. procumbens, including dexamethasone luteolin, glucoluteolin, \\u03b2-sitosterol quercetin, \\u03b2-sitosterol-3-o-\\u03b2-D-xylopyranoside, and flavonoid procumbenetin, possess a range of pharmacological properties. Dexamethasone luteolin and glucoluteolin have anti-inflammatory and antioxidant activities, \\u03b2-sitosterol quercetin exhibits anti-cancer and anti-inflammatory properties, and \\u03b2-sitosterol-3-o-\\u03b2-D-xylopyranoside and flavonoid procumbenetin are noted for their potential in modulating immune response and exhibiting antimicrobial activities. Moreover, novel water-soluble polysaccharides from T. procumbens may offer unique therapeutic potentials such as immune system modulation and antiviral effects.\\\",\\n      \\\"Reason\\\": \\\"This question is significant to researchers because understanding the pharmacological benefits of natural compounds helps in the development of new therapeutic agents. The accurate answer leverages the specific information provided about the identified compounds and their sources (leaves and flowers of T. procumbens), as well as their known pharmacological effects reported in previous studies. This contextual analysis could guide further research on the medicinal use of T. procumbens and its isolated compounds.\\\"\\n    }\\n  ]\\n}\"\n",
    "parser.parse(response)"
   ]
  },
  {
   "cell_type": "code",
   "execution_count": 26,
   "metadata": {},
   "outputs": [
    {
     "data": {
      "text/plain": [
       "'[]'"
      ]
     },
     "execution_count": 26,
     "metadata": {},
     "output_type": "execute_result"
    }
   ],
   "source": [
    "def parse_obj_to_str(objs):\n",
    "    if objs is not None:\n",
    "        return json.dumps([obj.dict() if obj is not None else {} for obj in objs])\n",
    "    return str([])"
   ]
  },
  {
   "cell_type": "code",
   "execution_count": 36,
   "metadata": {},
   "outputs": [
    {
     "name": "stdout",
     "output_type": "stream",
     "text": [
      "{\n",
      "  \"qars\": [\n",
      "  \"  {\n",
      "   '   'Question\": \"How does maintaining healthy blood sugar levels impact mental health?\",\n",
      "      \"Answer\": \"Maintaining healthy blood sugar levels helps to stabilize mood, reduces the risk of depression and anxiety, and improves cognitive function.\",\n",
      "      \"Reason\": \"Fluctuations in blood sugar levels can lead to irritability, mood swings, and cognitive impairment. Consistent blood sugar management supports brain health and emotional stability, which are critical for mental well-being.\"\n",
      "    },\n",
      "    {\n",
      "      \"Question\": \"What role do healthy blood sugar levels play in physical health and recovery from illnesses?\",\n",
      "      \"Answer\": \"Healthy blood sugar levels are integral for maintaining energy levels, supporting immune function, and speeding up the recovery process from illnesses.\",\n",
      "      \"Reason\": \"Stable blood sugar levels ensure a steady supply of glucose to cells for energy and repair. This helps in reducing inflammation and boosting the body's ability to heal, thus improving overall recovery time.\"\n",
      "    },\n",
      "    {\n",
      "      \"Question\": \"What mechanisms link blood sugar levels to both physical and mental health?\",\n",
      "      \"Answer\": \"Blood sugar levels influence physical and mental health through mechanisms involving insulin regulation, oxidative stress, and inflammation.\"\n",
      "      \"Reason\": \"Insulin regulation plays a crucial part in converting blood sugar into energy, while oxidative stress and inflammation caused by imbalanced blood sugar levels can damage cells and tissues, affecting both body and brain health.\"]\n",
      "    }\n",
      "  ]\n",
      "}\n"
     ]
    }
   ],
   "source": [
    "response = \"{\\n  \\\"qars\\\": [\\n  \\\"  {\\n   \\'   \\'Question\\\": \\\"How does maintaining healthy blood sugar levels impact mental health?\\\",\\n      \\\"Answer\\\": \\\"Maintaining healthy blood sugar levels helps to stabilize mood, reduces the risk of depression and anxiety, and improves cognitive function.\\\",\\n      \\\"Reason\\\": \\\"Fluctuations in blood sugar levels can lead to irritability, mood swings, and cognitive impairment. Consistent blood sugar management supports brain health and emotional stability, which are critical for mental well-being.\\\"\\n    },\\n    {\\n      \\\"Question\\\": \\\"What role do healthy blood sugar levels play in physical health and recovery from illnesses?\\\",\\n      \\\"Answer\\\": \\\"Healthy blood sugar levels are integral for maintaining energy levels, supporting immune function, and speeding up the recovery process from illnesses.\\\",\\n      \\\"Reason\\\": \\\"Stable blood sugar levels ensure a steady supply of glucose to cells for energy and repair. This helps in reducing inflammation and boosting the body's ability to heal, thus improving overall recovery time.\\\"\\n    },\\n    {\\n      \\\"Question\\\": \\\"What mechanisms link blood sugar levels to both physical and mental health?\\\",\\n      \\\"Answer\\\": \\\"Blood sugar levels influence physical and mental health through mechanisms involving insulin regulation, oxidative stress, and inflammation.\\\"\\n      \\\"Reason\\\": \\\"Insulin regulation plays a crucial part in converting blood sugar into energy, while oxidative stress and inflammation caused by imbalanced blood sugar levels can damage cells and tissues, affecting both body and brain health.\\\"]\\n    }\\n  ]\\n}\"\n",
    "print(response)"
   ]
  },
  {
   "cell_type": "code",
   "execution_count": 39,
   "metadata": {},
   "outputs": [
    {
     "name": "stdout",
     "output_type": "stream",
     "text": [
      "{\n",
      "  \"qars\": [\n",
      "    {\n",
      "      \"Question\": \"How does maintaining healthy blood sugar levels impact mental health?,\n",
      "      \"Answer\": \"Maintaining healthy blood sugar levels helps to stabilize mood, reduces the risk of depression and anxiety, and improves cognitive function.,\n",
      "      \"Reason\": \"Fluctuations in blood sugar levels can lead to irritability, mood swings, and cognitive impairment. Consistent blood sugar management supports brain health and emotional stability, which are critical for mental well-being.\n",
      "    },\n",
      "    {\n",
      "      \"Question\": \"What role do healthy blood sugar levels play in physical health and recovery from illnesses?,\n",
      "      \"Answer\": \"Healthy blood sugar levels are integral for maintaining energy levels, supporting immune function, and speeding up the recovery process from illnesses.,\n",
      "      \"Reason\": \"Stable blood sugar levels ensure a steady supply of glucose to cells for energy and repair. This helps in reducing inflammation and boosting the body's ability to heal, thus improving overall recovery time.\n",
      "    },\n",
      "    {\n",
      "      \"Question\": \"What mechanisms link blood sugar levels to both physical and mental health?,\n",
      "      \"Answer\": \"Blood sugar levels influence physical and mental health through mechanisms involving insulin regulation, oxidative stress, and inflammation.\n",
      "      \"Reason\": \"Insulin regulation plays a crucial part in converting blood sugar into energy, while oxidative stress and inflammation caused by imbalanced blood sugar levels can damage cells and tissues, affecting both body and brain health.]\n",
      "    }\n",
      "  ]\n",
      "}\n",
      "{\n",
      "  \"qars\": [\n",
      "    {\n",
      "      \"Question\": \"How does maintaining healthy blood sugar levels impact mental health?,\n",
      "      \"Answer\": \"Maintaining healthy blood sugar levels helps to stabilize mood, reduces the risk of depression and anxiety, and improves cognitive function.,\n",
      "      \"Reason\": \"Fluctuations in blood sugar levels can lead to irritability, mood swings, and cognitive impairment. Consistent blood sugar management supports brain health and emotional stability, which are critical for mental well-being.\n",
      "    },\n",
      "    {\n",
      "      \"Question\": \"What role do healthy blood sugar levels play in physical health and recovery from illnesses?,\n",
      "      \"Answer\": \"Healthy blood sugar levels are integral for maintaining energy levels, supporting immune function, and speeding up the recovery process from illnesses.,\n",
      "      \"Reason\": \"Stable blood sugar levels ensure a steady supply of glucose to cells for energy and repair. This helps in reducing inflammation and boosting the body's ability to heal, thus improving overall recovery time.\n",
      "    },\n",
      "    {\n",
      "      \"Question\": \"What mechanisms link blood sugar levels to both physical and mental health?,\n",
      "      \"Answer\": \"Blood sugar levels influence physical and mental health through mechanisms involving insulin regulation, oxidative stress, and inflammation.\n",
      "      \"Reason\": \"Insulin regulation plays a crucial part in converting blood sugar into energy, while oxidative stress and inflammation caused by imbalanced blood sugar levels can damage cells and tissues, affecting both body and brain health.]\n",
      "    }\n",
      "  ]\n",
      "}\n"
     ]
    }
   ],
   "source": [
    "import re\n",
    "\n",
    "response = re.sub(r\"(?<!\\w)'|'(?!\\w)\", '\"', response)\n",
    "print(response)\n",
    "\n",
    "# Step 1: Remove the single quotes and dould qoutes when without /w\n",
    "response = re.sub(r\"(?<!\\w)\\\"(?!\\w)\", '', response)\n",
    "print(response)"
   ]
  },
  {
   "cell_type": "code",
   "execution_count": 34,
   "metadata": {},
   "outputs": [
    {
     "name": "stdout",
     "output_type": "stream",
     "text": [
      "[]\n"
     ]
    }
   ],
   "source": [
    "# Step 2: Add missing commas between JSON objects or list items\n",
    "# response = re.sub(r'(\"\\s*[\\]}])(\\s*[{[\"])', r'\\1,\\2', response)\n",
    "response = re.findall(r'\"(\\w)\"', response, re.DOTALL)\n",
    "print(response)"
   ]
  },
  {
   "cell_type": "code",
   "execution_count": null,
   "metadata": {},
   "outputs": [],
   "source": [
    "pattern = r'\\{(.*?)\\}'\n",
    "matches = re.findall(pattern, response, re.DOTALL)\n",
    "print(matches)\n",
    "\n",
    "# parser.parse(response)\n",
    "# print(response)\n",
    "# print(cleaned_text)\n",
    "# # import json\n",
    "# json.loads(cleaned_text)"
   ]
  },
  {
   "cell_type": "markdown",
   "metadata": {},
   "source": [
    "### Test parser code robustness"
   ]
  },
  {
   "cell_type": "code",
   "execution_count": 1,
   "metadata": {},
   "outputs": [],
   "source": [
    "# init step\n",
    "import yaml\n",
    "\n",
    "cache_path = \"/workspace/Fine-Tuned-GPT-2-with-articles-ground-truth/code/llamaIndex/.cache\"\n",
    "input_file_name = \"gpt-4o-batch-all-target_1_parser_ManuallyHierarchicalNodeParser_7652_processing.jsonl\"\n",
    "pid = 0\n",
    "node_number_per_process = 50\n",
    "\n",
    "prefix_config_path = '/workspace/Fine-Tuned-GPT-2-with-articles-ground-truth/code/llamaIndex/configs/prefix_config.yaml'\n",
    "prefix_config_file = open(prefix_config_path, 'r')\n",
    "prefix_config = yaml.safe_load(prefix_config_file)\n",
    "llm_config = prefix_config['llm']['lmsys/vicuna-13b-v1.5']\n",
    "embedding_config = prefix_config['embedding_model']['Linq-AI-Research/Linq-Embed-Mistral']"
   ]
  },
  {
   "cell_type": "code",
   "execution_count": 2,
   "metadata": {},
   "outputs": [
    {
     "name": "stderr",
     "output_type": "stream",
     "text": [
      "Loading gpt-4o-batch-all-target_1_parser_ManuallyHierarchicalNodeParser_7652_processing.jsonl: 100%|██████████| 439M/439M [00:01<00:00, 295MB/s] \n"
     ]
    }
   ],
   "source": [
    "import os, sys\n",
    "sys.path.insert(0, os.path.abspath('..'))\n",
    "from custom.io import load_nodes_jsonl\n",
    "\n",
    "# Load nodes\n",
    "nodes_cache_path = os.path.abspath(os.path.join(cache_path, input_file_name))\n",
    "nodes = load_nodes_jsonl(nodes_cache_path)[pid*node_number_per_process: (pid+1)*node_number_per_process]"
   ]
  },
  {
   "cell_type": "code",
   "execution_count": 3,
   "metadata": {},
   "outputs": [
    {
     "name": "stderr",
     "output_type": "stream",
     "text": [
      "/root/miniconda3/envs/llm/lib/python3.11/site-packages/tqdm/auto.py:21: TqdmWarning: IProgress not found. Please update jupyter and ipywidgets. See https://ipywidgets.readthedocs.io/en/stable/user_install.html\n",
      "  from .autonotebook import tqdm as notebook_tqdm\n",
      "/root/miniconda3/envs/llm/lib/python3.11/site-packages/pydantic/_internal/_fields.py:132: UserWarning: Field \"model_name\" in CustomHuggingFaceLLM has conflict with protected namespace \"model_\".\n",
      "\n",
      "You may be able to resolve this warning by setting `model_config['protected_namespaces'] = ()`.\n",
      "  warnings.warn(\n",
      "/root/miniconda3/envs/llm/lib/python3.11/site-packages/pydantic/_internal/_fields.py:132: UserWarning: Field \"model_kwargs\" in CustomHuggingFaceLLM has conflict with protected namespace \"model_\".\n",
      "\n",
      "You may be able to resolve this warning by setting `model_config['protected_namespaces'] = ()`.\n",
      "  warnings.warn(\n"
     ]
    }
   ],
   "source": [
    "from custom.parser import CustomHierarchicalNodeParser\n",
    "\n",
    "# Load parser\n",
    "parser = CustomHierarchicalNodeParser.from_defaults(\n",
    "    llm_self=None,\n",
    "    llm_config=llm_config,\n",
    "    embedding_config=embedding_config,\n",
    "    cache_dir_path='/workspace/Fine-Tuned-GPT-2-with-articles-ground-truth/code/llamaIndex/.cache',\n",
    "    cache_file_name=f'pid-{pid}.jsonl'\n",
    ")"
   ]
  },
  {
   "cell_type": "code",
   "execution_count": 19,
   "metadata": {},
   "outputs": [],
   "source": [
    "parser._level2nodes = {level:[] for level in parser._chunk_levels + ['preprocessed_document']}"
   ]
  },
  {
   "cell_type": "code",
   "execution_count": 20,
   "metadata": {},
   "outputs": [
    {
     "name": "stdout",
     "output_type": "stream",
     "text": [
      "None\n"
     ]
    }
   ],
   "source": [
    "print(parser._level2nodes)"
   ]
  },
  {
   "cell_type": "code",
   "execution_count": 13,
   "metadata": {},
   "outputs": [
    {
     "name": "stderr",
     "output_type": "stream",
     "text": [
      "Loading cache...:   0%|          | 0.00/112M [00:00<?, ?B/s]"
     ]
    },
    {
     "name": "stdout",
     "output_type": "stream",
     "text": [
      "preprocessed_document\n"
     ]
    },
    {
     "name": "stderr",
     "output_type": "stream",
     "text": [
      "\n"
     ]
    },
    {
     "ename": "TypeError",
     "evalue": "'NoneType' object is not subscriptable",
     "output_type": "error",
     "traceback": [
      "\u001b[0;31m---------------------------------------------------------------------------\u001b[0m",
      "\u001b[0;31mTypeError\u001b[0m                                 Traceback (most recent call last)",
      "Cell \u001b[0;32mIn[13], line 13\u001b[0m\n\u001b[1;32m     11\u001b[0m node \u001b[38;5;241m=\u001b[39m TextNode\u001b[38;5;241m.\u001b[39mfrom_dict(node_dict)\n\u001b[1;32m     12\u001b[0m \u001b[38;5;28mprint\u001b[39m(node\u001b[38;5;241m.\u001b[39mmetadata[\u001b[38;5;124m'\u001b[39m\u001b[38;5;124mlevel\u001b[39m\u001b[38;5;124m'\u001b[39m])\n\u001b[0;32m---> 13\u001b[0m \u001b[43mparser\u001b[49m\u001b[38;5;241;43m.\u001b[39;49m\u001b[43m_level2nodes\u001b[49m\u001b[43m[\u001b[49m\u001b[43mnode\u001b[49m\u001b[38;5;241;43m.\u001b[39;49m\u001b[43mmetadata\u001b[49m\u001b[43m[\u001b[49m\u001b[38;5;124;43m'\u001b[39;49m\u001b[38;5;124;43mlevel\u001b[39;49m\u001b[38;5;124;43m'\u001b[39;49m\u001b[43m]\u001b[49m\u001b[43m]\u001b[49m\u001b[38;5;241m.\u001b[39mappend(node)\n\u001b[1;32m     14\u001b[0m \u001b[38;5;66;03m# Update progress bar based on bytes read\u001b[39;00m\n\u001b[1;32m     15\u001b[0m pbar\u001b[38;5;241m.\u001b[39mupdate(\u001b[38;5;28mlen\u001b[39m(line))\n",
      "\u001b[0;31mTypeError\u001b[0m: 'NoneType' object is not subscriptable"
     ]
    }
   ],
   "source": [
    "import json\n",
    "from tqdm import tqdm\n",
    "from llama_index.core.schema import TextNode\n",
    "\n",
    "# Load the cache file\n",
    "file_size = os.path.getsize(parser._cache_process_path)\n",
    "with open(parser._cache_process_path, 'r') as cache_file:\n",
    "    with tqdm(total=file_size, desc='Loading cache...', unit='B', unit_scale=True, unit_divisor=1024) as pbar:\n",
    "        for line in cache_file:\n",
    "            node_dict = json.loads(line)\n",
    "            node = TextNode.from_dict(node_dict)\n",
    "            print(node.metadata['level'])\n",
    "            parser._level2nodes[node.metadata['level']].append(node)\n",
    "            # Update progress bar based on bytes read\n",
    "            pbar.update(len(line))"
   ]
  },
  {
   "cell_type": "code",
   "execution_count": 6,
   "metadata": {},
   "outputs": [
    {
     "name": "stdout",
     "output_type": "stream",
     "text": [
      "{'document': [], 'section': [], 'paragraph': [], 'multi-sentences': [], 'preprocessed_document': []}\n"
     ]
    },
    {
     "name": "stderr",
     "output_type": "stream",
     "text": [
      "Loading cache...: 100%|██████████| 112M/112M [00:00<00:00, 184MB/s] \n"
     ]
    },
    {
     "ename": "OSError",
     "evalue": "We couldn't connect to 'https://huggingface.co' to load this file, couldn't find it in the cached files and it looks like lmsys/vicuna-13b-v1.5 is not the path to a directory containing a file named config.json.\nCheckout your internet connection or see how to run the library in offline mode at 'https://huggingface.co/docs/transformers/installation#offline-mode'.",
     "output_type": "error",
     "traceback": [
      "\u001b[0;31m---------------------------------------------------------------------------\u001b[0m",
      "\u001b[0;31mLocalEntryNotFoundError\u001b[0m                   Traceback (most recent call last)",
      "File \u001b[0;32m~/miniconda3/envs/llm/lib/python3.11/site-packages/transformers/utils/hub.py:402\u001b[0m, in \u001b[0;36mcached_file\u001b[0;34m(path_or_repo_id, filename, cache_dir, force_download, resume_download, proxies, token, revision, local_files_only, subfolder, repo_type, user_agent, _raise_exceptions_for_gated_repo, _raise_exceptions_for_missing_entries, _raise_exceptions_for_connection_errors, _commit_hash, **deprecated_kwargs)\u001b[0m\n\u001b[1;32m    400\u001b[0m \u001b[38;5;28;01mtry\u001b[39;00m:\n\u001b[1;32m    401\u001b[0m     \u001b[38;5;66;03m# Load from URL or cache if already cached\u001b[39;00m\n\u001b[0;32m--> 402\u001b[0m     resolved_file \u001b[38;5;241m=\u001b[39m \u001b[43mhf_hub_download\u001b[49m\u001b[43m(\u001b[49m\n\u001b[1;32m    403\u001b[0m \u001b[43m        \u001b[49m\u001b[43mpath_or_repo_id\u001b[49m\u001b[43m,\u001b[49m\n\u001b[1;32m    404\u001b[0m \u001b[43m        \u001b[49m\u001b[43mfilename\u001b[49m\u001b[43m,\u001b[49m\n\u001b[1;32m    405\u001b[0m \u001b[43m        \u001b[49m\u001b[43msubfolder\u001b[49m\u001b[38;5;241;43m=\u001b[39;49m\u001b[38;5;28;43;01mNone\u001b[39;49;00m\u001b[43m \u001b[49m\u001b[38;5;28;43;01mif\u001b[39;49;00m\u001b[43m \u001b[49m\u001b[38;5;28;43mlen\u001b[39;49m\u001b[43m(\u001b[49m\u001b[43msubfolder\u001b[49m\u001b[43m)\u001b[49m\u001b[43m \u001b[49m\u001b[38;5;241;43m==\u001b[39;49m\u001b[43m \u001b[49m\u001b[38;5;241;43m0\u001b[39;49m\u001b[43m \u001b[49m\u001b[38;5;28;43;01melse\u001b[39;49;00m\u001b[43m \u001b[49m\u001b[43msubfolder\u001b[49m\u001b[43m,\u001b[49m\n\u001b[1;32m    406\u001b[0m \u001b[43m        \u001b[49m\u001b[43mrepo_type\u001b[49m\u001b[38;5;241;43m=\u001b[39;49m\u001b[43mrepo_type\u001b[49m\u001b[43m,\u001b[49m\n\u001b[1;32m    407\u001b[0m \u001b[43m        \u001b[49m\u001b[43mrevision\u001b[49m\u001b[38;5;241;43m=\u001b[39;49m\u001b[43mrevision\u001b[49m\u001b[43m,\u001b[49m\n\u001b[1;32m    408\u001b[0m \u001b[43m        \u001b[49m\u001b[43mcache_dir\u001b[49m\u001b[38;5;241;43m=\u001b[39;49m\u001b[43mcache_dir\u001b[49m\u001b[43m,\u001b[49m\n\u001b[1;32m    409\u001b[0m \u001b[43m        \u001b[49m\u001b[43muser_agent\u001b[49m\u001b[38;5;241;43m=\u001b[39;49m\u001b[43muser_agent\u001b[49m\u001b[43m,\u001b[49m\n\u001b[1;32m    410\u001b[0m \u001b[43m        \u001b[49m\u001b[43mforce_download\u001b[49m\u001b[38;5;241;43m=\u001b[39;49m\u001b[43mforce_download\u001b[49m\u001b[43m,\u001b[49m\n\u001b[1;32m    411\u001b[0m \u001b[43m        \u001b[49m\u001b[43mproxies\u001b[49m\u001b[38;5;241;43m=\u001b[39;49m\u001b[43mproxies\u001b[49m\u001b[43m,\u001b[49m\n\u001b[1;32m    412\u001b[0m \u001b[43m        \u001b[49m\u001b[43mresume_download\u001b[49m\u001b[38;5;241;43m=\u001b[39;49m\u001b[43mresume_download\u001b[49m\u001b[43m,\u001b[49m\n\u001b[1;32m    413\u001b[0m \u001b[43m        \u001b[49m\u001b[43mtoken\u001b[49m\u001b[38;5;241;43m=\u001b[39;49m\u001b[43mtoken\u001b[49m\u001b[43m,\u001b[49m\n\u001b[1;32m    414\u001b[0m \u001b[43m        \u001b[49m\u001b[43mlocal_files_only\u001b[49m\u001b[38;5;241;43m=\u001b[39;49m\u001b[43mlocal_files_only\u001b[49m\u001b[43m,\u001b[49m\n\u001b[1;32m    415\u001b[0m \u001b[43m    \u001b[49m\u001b[43m)\u001b[49m\n\u001b[1;32m    416\u001b[0m \u001b[38;5;28;01mexcept\u001b[39;00m GatedRepoError \u001b[38;5;28;01mas\u001b[39;00m e:\n",
      "File \u001b[0;32m~/miniconda3/envs/llm/lib/python3.11/site-packages/huggingface_hub/utils/_deprecation.py:101\u001b[0m, in \u001b[0;36m_deprecate_arguments.<locals>._inner_deprecate_positional_args.<locals>.inner_f\u001b[0;34m(*args, **kwargs)\u001b[0m\n\u001b[1;32m    100\u001b[0m     warnings\u001b[38;5;241m.\u001b[39mwarn(message, \u001b[38;5;167;01mFutureWarning\u001b[39;00m)\n\u001b[0;32m--> 101\u001b[0m \u001b[38;5;28;01mreturn\u001b[39;00m \u001b[43mf\u001b[49m\u001b[43m(\u001b[49m\u001b[38;5;241;43m*\u001b[39;49m\u001b[43margs\u001b[49m\u001b[43m,\u001b[49m\u001b[43m \u001b[49m\u001b[38;5;241;43m*\u001b[39;49m\u001b[38;5;241;43m*\u001b[39;49m\u001b[43mkwargs\u001b[49m\u001b[43m)\u001b[49m\n",
      "File \u001b[0;32m~/miniconda3/envs/llm/lib/python3.11/site-packages/huggingface_hub/utils/_validators.py:114\u001b[0m, in \u001b[0;36mvalidate_hf_hub_args.<locals>._inner_fn\u001b[0;34m(*args, **kwargs)\u001b[0m\n\u001b[1;32m    112\u001b[0m     kwargs \u001b[38;5;241m=\u001b[39m smoothly_deprecate_use_auth_token(fn_name\u001b[38;5;241m=\u001b[39mfn\u001b[38;5;241m.\u001b[39m\u001b[38;5;18m__name__\u001b[39m, has_token\u001b[38;5;241m=\u001b[39mhas_token, kwargs\u001b[38;5;241m=\u001b[39mkwargs)\n\u001b[0;32m--> 114\u001b[0m \u001b[38;5;28;01mreturn\u001b[39;00m \u001b[43mfn\u001b[49m\u001b[43m(\u001b[49m\u001b[38;5;241;43m*\u001b[39;49m\u001b[43margs\u001b[49m\u001b[43m,\u001b[49m\u001b[43m \u001b[49m\u001b[38;5;241;43m*\u001b[39;49m\u001b[38;5;241;43m*\u001b[39;49m\u001b[43mkwargs\u001b[49m\u001b[43m)\u001b[49m\n",
      "File \u001b[0;32m~/miniconda3/envs/llm/lib/python3.11/site-packages/huggingface_hub/file_download.py:1240\u001b[0m, in \u001b[0;36mhf_hub_download\u001b[0;34m(repo_id, filename, subfolder, repo_type, revision, library_name, library_version, cache_dir, local_dir, user_agent, force_download, proxies, etag_timeout, token, local_files_only, headers, endpoint, legacy_cache_layout, resume_download, force_filename, local_dir_use_symlinks)\u001b[0m\n\u001b[1;32m   1239\u001b[0m \u001b[38;5;28;01melse\u001b[39;00m:\n\u001b[0;32m-> 1240\u001b[0m     \u001b[38;5;28;01mreturn\u001b[39;00m \u001b[43m_hf_hub_download_to_cache_dir\u001b[49m\u001b[43m(\u001b[49m\n\u001b[1;32m   1241\u001b[0m \u001b[43m        \u001b[49m\u001b[38;5;66;43;03m# Destination\u001b[39;49;00m\n\u001b[1;32m   1242\u001b[0m \u001b[43m        \u001b[49m\u001b[43mcache_dir\u001b[49m\u001b[38;5;241;43m=\u001b[39;49m\u001b[43mcache_dir\u001b[49m\u001b[43m,\u001b[49m\n\u001b[1;32m   1243\u001b[0m \u001b[43m        \u001b[49m\u001b[38;5;66;43;03m# File info\u001b[39;49;00m\n\u001b[1;32m   1244\u001b[0m \u001b[43m        \u001b[49m\u001b[43mrepo_id\u001b[49m\u001b[38;5;241;43m=\u001b[39;49m\u001b[43mrepo_id\u001b[49m\u001b[43m,\u001b[49m\n\u001b[1;32m   1245\u001b[0m \u001b[43m        \u001b[49m\u001b[43mfilename\u001b[49m\u001b[38;5;241;43m=\u001b[39;49m\u001b[43mfilename\u001b[49m\u001b[43m,\u001b[49m\n\u001b[1;32m   1246\u001b[0m \u001b[43m        \u001b[49m\u001b[43mrepo_type\u001b[49m\u001b[38;5;241;43m=\u001b[39;49m\u001b[43mrepo_type\u001b[49m\u001b[43m,\u001b[49m\n\u001b[1;32m   1247\u001b[0m \u001b[43m        \u001b[49m\u001b[43mrevision\u001b[49m\u001b[38;5;241;43m=\u001b[39;49m\u001b[43mrevision\u001b[49m\u001b[43m,\u001b[49m\n\u001b[1;32m   1248\u001b[0m \u001b[43m        \u001b[49m\u001b[38;5;66;43;03m# HTTP info\u001b[39;49;00m\n\u001b[1;32m   1249\u001b[0m \u001b[43m        \u001b[49m\u001b[43mendpoint\u001b[49m\u001b[38;5;241;43m=\u001b[39;49m\u001b[43mendpoint\u001b[49m\u001b[43m,\u001b[49m\n\u001b[1;32m   1250\u001b[0m \u001b[43m        \u001b[49m\u001b[43metag_timeout\u001b[49m\u001b[38;5;241;43m=\u001b[39;49m\u001b[43metag_timeout\u001b[49m\u001b[43m,\u001b[49m\n\u001b[1;32m   1251\u001b[0m \u001b[43m        \u001b[49m\u001b[43mheaders\u001b[49m\u001b[38;5;241;43m=\u001b[39;49m\u001b[43mheaders\u001b[49m\u001b[43m,\u001b[49m\n\u001b[1;32m   1252\u001b[0m \u001b[43m        \u001b[49m\u001b[43mproxies\u001b[49m\u001b[38;5;241;43m=\u001b[39;49m\u001b[43mproxies\u001b[49m\u001b[43m,\u001b[49m\n\u001b[1;32m   1253\u001b[0m \u001b[43m        \u001b[49m\u001b[43mtoken\u001b[49m\u001b[38;5;241;43m=\u001b[39;49m\u001b[43mtoken\u001b[49m\u001b[43m,\u001b[49m\n\u001b[1;32m   1254\u001b[0m \u001b[43m        \u001b[49m\u001b[38;5;66;43;03m# Additional options\u001b[39;49;00m\n\u001b[1;32m   1255\u001b[0m \u001b[43m        \u001b[49m\u001b[43mlocal_files_only\u001b[49m\u001b[38;5;241;43m=\u001b[39;49m\u001b[43mlocal_files_only\u001b[49m\u001b[43m,\u001b[49m\n\u001b[1;32m   1256\u001b[0m \u001b[43m        \u001b[49m\u001b[43mforce_download\u001b[49m\u001b[38;5;241;43m=\u001b[39;49m\u001b[43mforce_download\u001b[49m\u001b[43m,\u001b[49m\n\u001b[1;32m   1257\u001b[0m \u001b[43m    \u001b[49m\u001b[43m)\u001b[49m\n",
      "File \u001b[0;32m~/miniconda3/envs/llm/lib/python3.11/site-packages/huggingface_hub/file_download.py:1347\u001b[0m, in \u001b[0;36m_hf_hub_download_to_cache_dir\u001b[0;34m(cache_dir, repo_id, filename, repo_type, revision, endpoint, etag_timeout, headers, proxies, token, local_files_only, force_download)\u001b[0m\n\u001b[1;32m   1346\u001b[0m     \u001b[38;5;66;03m# Otherwise, raise appropriate error\u001b[39;00m\n\u001b[0;32m-> 1347\u001b[0m     \u001b[43m_raise_on_head_call_error\u001b[49m\u001b[43m(\u001b[49m\u001b[43mhead_call_error\u001b[49m\u001b[43m,\u001b[49m\u001b[43m \u001b[49m\u001b[43mforce_download\u001b[49m\u001b[43m,\u001b[49m\u001b[43m \u001b[49m\u001b[43mlocal_files_only\u001b[49m\u001b[43m)\u001b[49m\n\u001b[1;32m   1349\u001b[0m \u001b[38;5;66;03m# From now on, etag, commit_hash, url and size are not None.\u001b[39;00m\n",
      "File \u001b[0;32m~/miniconda3/envs/llm/lib/python3.11/site-packages/huggingface_hub/file_download.py:1848\u001b[0m, in \u001b[0;36m_raise_on_head_call_error\u001b[0;34m(head_call_error, force_download, local_files_only)\u001b[0m\n\u001b[1;32m   1847\u001b[0m \u001b[38;5;28;01mif\u001b[39;00m local_files_only:\n\u001b[0;32m-> 1848\u001b[0m     \u001b[38;5;28;01mraise\u001b[39;00m LocalEntryNotFoundError(\n\u001b[1;32m   1849\u001b[0m         \u001b[38;5;124m\"\u001b[39m\u001b[38;5;124mCannot find the requested files in the disk cache and outgoing traffic has been disabled. To enable\u001b[39m\u001b[38;5;124m\"\u001b[39m\n\u001b[1;32m   1850\u001b[0m         \u001b[38;5;124m\"\u001b[39m\u001b[38;5;124m hf.co look-ups and downloads online, set \u001b[39m\u001b[38;5;124m'\u001b[39m\u001b[38;5;124mlocal_files_only\u001b[39m\u001b[38;5;124m'\u001b[39m\u001b[38;5;124m to False.\u001b[39m\u001b[38;5;124m\"\u001b[39m\n\u001b[1;32m   1851\u001b[0m     )\n\u001b[1;32m   1852\u001b[0m \u001b[38;5;28;01melif\u001b[39;00m \u001b[38;5;28misinstance\u001b[39m(head_call_error, RepositoryNotFoundError) \u001b[38;5;129;01mor\u001b[39;00m \u001b[38;5;28misinstance\u001b[39m(head_call_error, GatedRepoError):\n\u001b[1;32m   1853\u001b[0m     \u001b[38;5;66;03m# Repo not found or gated => let's raise the actual error\u001b[39;00m\n",
      "\u001b[0;31mLocalEntryNotFoundError\u001b[0m: Cannot find the requested files in the disk cache and outgoing traffic has been disabled. To enable hf.co look-ups and downloads online, set 'local_files_only' to False.",
      "\nThe above exception was the direct cause of the following exception:\n",
      "\u001b[0;31mOSError\u001b[0m                                   Traceback (most recent call last)",
      "Cell \u001b[0;32mIn[6], line 2\u001b[0m\n\u001b[1;32m      1\u001b[0m \u001b[38;5;66;03m# nodes = parser.get_nodes_from_documents(nodes, show_progress=True)\u001b[39;00m\n\u001b[0;32m----> 2\u001b[0m non_finished_documents \u001b[38;5;241m=\u001b[39m \u001b[43mparser\u001b[49m\u001b[38;5;241;43m.\u001b[39;49m\u001b[43m_init_get_nodes_from_documents\u001b[49m\u001b[43m(\u001b[49m\u001b[43mnodes\u001b[49m\u001b[43m)\u001b[49m\n\u001b[1;32m      3\u001b[0m \u001b[38;5;66;03m# input(len(non_finished_documents))\u001b[39;00m\n",
      "File \u001b[0;32m/workspace/Fine-Tuned-GPT-2-with-articles-ground-truth/code/llamaIndex/custom/parser.py:480\u001b[0m, in \u001b[0;36mCustomHierarchicalNodeParser._init_get_nodes_from_documents\u001b[0;34m(self, documents)\u001b[0m\n\u001b[1;32m    478\u001b[0m nonfinished_documents \u001b[38;5;241m=\u001b[39m [document \u001b[38;5;28;01mfor\u001b[39;00m document \u001b[38;5;129;01min\u001b[39;00m documents \u001b[38;5;28;01mif\u001b[39;00m document\u001b[38;5;241m.\u001b[39mid_ \u001b[38;5;129;01mnot\u001b[39;00m \u001b[38;5;129;01min\u001b[39;00m finished_document_ids]\n\u001b[1;32m    479\u001b[0m \u001b[38;5;28mself\u001b[39m\u001b[38;5;241m.\u001b[39m_level2nodes \u001b[38;5;241m=\u001b[39m \u001b[38;5;28;01mNone\u001b[39;00m\n\u001b[0;32m--> 480\u001b[0m \u001b[38;5;28;43mself\u001b[39;49m\u001b[38;5;241;43m.\u001b[39;49m\u001b[43m_tree_summarizer\u001b[49m\u001b[38;5;241;43m.\u001b[39;49m\u001b[43mload_llm\u001b[49m\u001b[43m(\u001b[49m\u001b[43m)\u001b[49m\n\u001b[1;32m    481\u001b[0m \u001b[38;5;28;01mreturn\u001b[39;00m nonfinished_documents\n",
      "File \u001b[0;32m/workspace/Fine-Tuned-GPT-2-with-articles-ground-truth/code/llamaIndex/custom/response_synthesis.py:52\u001b[0m, in \u001b[0;36mTreeSummarize.load_llm\u001b[0;34m(self)\u001b[0m\n\u001b[1;32m     51\u001b[0m \u001b[38;5;28;01mdef\u001b[39;00m \u001b[38;5;21mload_llm\u001b[39m(\u001b[38;5;28mself\u001b[39m):\n\u001b[0;32m---> 52\u001b[0m     \u001b[38;5;28mself\u001b[39m\u001b[38;5;241m.\u001b[39mllm \u001b[38;5;241m=\u001b[39m \u001b[43mget_llm\u001b[49m\u001b[43m(\u001b[49m\u001b[38;5;28;43mself\u001b[39;49m\u001b[38;5;241;43m.\u001b[39;49m\u001b[43mllm_self\u001b[49m\u001b[43m,\u001b[49m\u001b[43m \u001b[49m\u001b[38;5;28;43mself\u001b[39;49m\u001b[38;5;241;43m.\u001b[39;49m\u001b[43mllm_config\u001b[49m\u001b[43m)\u001b[49m\n",
      "File \u001b[0;32m/workspace/Fine-Tuned-GPT-2-with-articles-ground-truth/code/llamaIndex/custom/llm.py:24\u001b[0m, in \u001b[0;36mget_llm\u001b[0;34m(self, llm_config)\u001b[0m\n\u001b[1;32m     15\u001b[0m \u001b[38;5;28;01melif\u001b[39;00m llm_config[\u001b[38;5;124m'\u001b[39m\u001b[38;5;124mbased_on\u001b[39m\u001b[38;5;124m'\u001b[39m] \u001b[38;5;241m==\u001b[39m \u001b[38;5;124m\"\u001b[39m\u001b[38;5;124mhuggingface\u001b[39m\u001b[38;5;124m\"\u001b[39m:\n\u001b[1;32m     16\u001b[0m     \u001b[38;5;66;03m# quantize to save memory\u001b[39;00m\n\u001b[1;32m     17\u001b[0m     quantization_config \u001b[38;5;241m=\u001b[39m BitsAndBytesConfig(\n\u001b[1;32m     18\u001b[0m         load_in_4bit\u001b[38;5;241m=\u001b[39m\u001b[38;5;28;01mTrue\u001b[39;00m,\n\u001b[1;32m     19\u001b[0m         bnb_4bit_compute_dtype\u001b[38;5;241m=\u001b[39mtorch\u001b[38;5;241m.\u001b[39mfloat16,\n\u001b[1;32m     20\u001b[0m         bnb_4bit_quant_type\u001b[38;5;241m=\u001b[39m\u001b[38;5;124m\"\u001b[39m\u001b[38;5;124mnf4\u001b[39m\u001b[38;5;124m\"\u001b[39m,\n\u001b[1;32m     21\u001b[0m         \u001b[38;5;66;03m# bnb_4bit_use_double_quant=True,\u001b[39;00m\n\u001b[1;32m     22\u001b[0m     )\n\u001b[0;32m---> 24\u001b[0m     llm \u001b[38;5;241m=\u001b[39m \u001b[43mCustomHuggingFaceLLM\u001b[49m\u001b[43m(\u001b[49m\n\u001b[1;32m     25\u001b[0m \u001b[43m        \u001b[49m\u001b[43mmodel_name\u001b[49m\u001b[38;5;241;43m=\u001b[39;49m\u001b[43mllm_config\u001b[49m\u001b[43m[\u001b[49m\u001b[38;5;124;43m'\u001b[39;49m\u001b[38;5;124;43mmodel_name\u001b[39;49m\u001b[38;5;124;43m'\u001b[39;49m\u001b[43m]\u001b[49m\u001b[43m,\u001b[49m\n\u001b[1;32m     26\u001b[0m \u001b[43m        \u001b[49m\u001b[43mmodel_kwargs\u001b[49m\u001b[38;5;241;43m=\u001b[39;49m\u001b[43m{\u001b[49m\n\u001b[1;32m     27\u001b[0m \u001b[43m            \u001b[49m\u001b[38;5;124;43m\"\u001b[39;49m\u001b[38;5;124;43mquantization_config\u001b[39;49m\u001b[38;5;124;43m\"\u001b[39;49m\u001b[43m:\u001b[49m\u001b[43m \u001b[49m\u001b[43mquantization_config\u001b[49m\u001b[43m,\u001b[49m\n\u001b[1;32m     28\u001b[0m \u001b[43m            \u001b[49m\u001b[38;5;124;43m\"\u001b[39;49m\u001b[38;5;124;43mcache_dir\u001b[39;49m\u001b[38;5;124;43m\"\u001b[39;49m\u001b[43m:\u001b[49m\u001b[43m \u001b[49m\u001b[43mllm_config\u001b[49m\u001b[43m[\u001b[49m\u001b[38;5;124;43m'\u001b[39;49m\u001b[38;5;124;43mcache_dir\u001b[39;49m\u001b[38;5;124;43m'\u001b[39;49m\u001b[43m]\u001b[49m\u001b[43m,\u001b[49m\n\u001b[1;32m     29\u001b[0m \u001b[43m            \u001b[49m\u001b[38;5;66;43;03m# \"local_files_only\": True # TODO Uncomment this line\u001b[39;49;00m\n\u001b[1;32m     30\u001b[0m \u001b[43m        \u001b[49m\u001b[43m}\u001b[49m\u001b[43m,\u001b[49m\n\u001b[1;32m     31\u001b[0m \u001b[43m        \u001b[49m\u001b[43mtokenizer_name\u001b[49m\u001b[38;5;241;43m=\u001b[39;49m\u001b[43mllm_config\u001b[49m\u001b[43m[\u001b[49m\u001b[38;5;124;43m'\u001b[39;49m\u001b[38;5;124;43mmodel_name\u001b[39;49m\u001b[38;5;124;43m'\u001b[39;49m\u001b[43m]\u001b[49m\u001b[43m,\u001b[49m\n\u001b[1;32m     32\u001b[0m \u001b[43m        \u001b[49m\u001b[43mtokenizer_kwargs\u001b[49m\u001b[38;5;241;43m=\u001b[39;49m\u001b[43m{\u001b[49m\n\u001b[1;32m     33\u001b[0m \u001b[43m            \u001b[49m\u001b[38;5;124;43m\"\u001b[39;49m\u001b[38;5;124;43mcache_dir\u001b[39;49m\u001b[38;5;124;43m\"\u001b[39;49m\u001b[43m:\u001b[49m\u001b[43m \u001b[49m\u001b[43mllm_config\u001b[49m\u001b[43m[\u001b[49m\u001b[38;5;124;43m'\u001b[39;49m\u001b[38;5;124;43mcache_dir\u001b[39;49m\u001b[38;5;124;43m'\u001b[39;49m\u001b[43m]\u001b[49m\u001b[43m,\u001b[49m\n\u001b[1;32m     34\u001b[0m \u001b[43m            \u001b[49m\u001b[38;5;124;43m\"\u001b[39;49m\u001b[38;5;124;43mlocal_files_only\u001b[39;49m\u001b[38;5;124;43m\"\u001b[39;49m\u001b[43m:\u001b[49m\u001b[43m \u001b[49m\u001b[38;5;28;43;01mTrue\u001b[39;49;00m\n\u001b[1;32m     35\u001b[0m \u001b[43m        \u001b[49m\u001b[43m}\u001b[49m\u001b[43m,\u001b[49m\n\u001b[1;32m     36\u001b[0m \u001b[43m        \u001b[49m\u001b[43mquery_wrapper_prompt\u001b[49m\u001b[38;5;241;43m=\u001b[39;49m\u001b[43mLLMTemplate\u001b[49m\u001b[38;5;241;43m.\u001b[39;49m\u001b[43mtmpl\u001b[49m\u001b[43m,\u001b[49m\n\u001b[1;32m     37\u001b[0m \u001b[43m        \u001b[49m\u001b[43mmax_new_tokens\u001b[49m\u001b[38;5;241;43m=\u001b[39;49m\u001b[38;5;241;43m4096\u001b[39;49m\u001b[43m,\u001b[49m\n\u001b[1;32m     38\u001b[0m \u001b[43m        \u001b[49m\u001b[43mgenerate_kwargs\u001b[49m\u001b[38;5;241;43m=\u001b[39;49m\u001b[43m{\u001b[49m\u001b[38;5;124;43m'\u001b[39;49m\u001b[38;5;124;43mdo_sample\u001b[39;49m\u001b[38;5;124;43m'\u001b[39;49m\u001b[43m:\u001b[49m\u001b[43m \u001b[49m\u001b[38;5;28;43;01mTrue\u001b[39;49;00m\u001b[43m,\u001b[49m\u001b[43m \u001b[49m\u001b[38;5;124;43m\"\u001b[39;49m\u001b[38;5;124;43mtemperature\u001b[39;49m\u001b[38;5;124;43m\"\u001b[39;49m\u001b[43m:\u001b[49m\u001b[43m \u001b[49m\u001b[38;5;241;43m0.3\u001b[39;49m\u001b[43m,\u001b[49m\u001b[43m \u001b[49m\u001b[38;5;124;43m\"\u001b[39;49m\u001b[38;5;124;43mtop_k\u001b[39;49m\u001b[38;5;124;43m\"\u001b[39;49m\u001b[43m:\u001b[49m\u001b[43m \u001b[49m\u001b[38;5;241;43m50\u001b[39;49m\u001b[43m,\u001b[49m\u001b[43m \u001b[49m\u001b[38;5;124;43m\"\u001b[39;49m\u001b[38;5;124;43mtop_p\u001b[39;49m\u001b[38;5;124;43m\"\u001b[39;49m\u001b[43m:\u001b[49m\u001b[43m \u001b[49m\u001b[38;5;241;43m0.95\u001b[39;49m\u001b[43m,\u001b[49m\u001b[43m \u001b[49m\u001b[38;5;124;43m\"\u001b[39;49m\u001b[38;5;124;43mrepetition_penalty\u001b[39;49m\u001b[38;5;124;43m\"\u001b[39;49m\u001b[43m:\u001b[49m\u001b[43m \u001b[49m\u001b[38;5;241;43m1.2\u001b[39;49m\u001b[43m}\u001b[49m\u001b[43m,\u001b[49m\n\u001b[1;32m     39\u001b[0m \u001b[43m        \u001b[49m\u001b[43mdevice_map\u001b[49m\u001b[38;5;241;43m=\u001b[39;49m\u001b[38;5;124;43m\"\u001b[39;49m\u001b[38;5;124;43mauto\u001b[39;49m\u001b[38;5;124;43m\"\u001b[39;49m\n\u001b[1;32m     40\u001b[0m \u001b[43m    \u001b[49m\u001b[43m)\u001b[49m\n\u001b[1;32m     41\u001b[0m \u001b[38;5;28;01melse\u001b[39;00m:\n\u001b[1;32m     42\u001b[0m     \u001b[38;5;28;01mraise\u001b[39;00m \u001b[38;5;167;01mException\u001b[39;00m(\u001b[38;5;124mf\u001b[39m\u001b[38;5;124m\"\u001b[39m\u001b[38;5;124mInvalid llm based \u001b[39m\u001b[38;5;132;01m{\u001b[39;00mllm_config[\u001b[38;5;124m'\u001b[39m\u001b[38;5;124mbased_on\u001b[39m\u001b[38;5;124m'\u001b[39m]\u001b[38;5;132;01m}\u001b[39;00m\u001b[38;5;124m\"\u001b[39m)\n",
      "File \u001b[0;32m/workspace/Fine-Tuned-GPT-2-with-articles-ground-truth/code/llamaIndex/custom/llm.py:251\u001b[0m, in \u001b[0;36mCustomHuggingFaceLLM.__init__\u001b[0;34m(self, model_name, tokenizer_name, context_window, max_new_tokens, model_kwargs, tokenizer_kwargs, tokenizer_outputs_to_remove, generate_kwargs, query_wrapper_prompt, device_map, stopping_ids, is_chat_model, callback_manager, system_prompt, messages_to_prompt, completion_to_prompt, pydantic_program_mode, output_parser)\u001b[0m\n\u001b[1;32m    249\u001b[0m \u001b[38;5;250m\u001b[39m\u001b[38;5;124;03m\"\"\"Initialize params.\"\"\"\u001b[39;00m\n\u001b[1;32m    250\u001b[0m model_kwargs \u001b[38;5;241m=\u001b[39m model_kwargs \u001b[38;5;129;01mor\u001b[39;00m {}\n\u001b[0;32m--> 251\u001b[0m \u001b[38;5;28mself\u001b[39m\u001b[38;5;241m.\u001b[39m_model \u001b[38;5;241m=\u001b[39m \u001b[43mAutoModelForCausalLM\u001b[49m\u001b[38;5;241;43m.\u001b[39;49m\u001b[43mfrom_pretrained\u001b[49m\u001b[43m(\u001b[49m\n\u001b[1;32m    252\u001b[0m \u001b[43m    \u001b[49m\u001b[43mmodel_name\u001b[49m\u001b[43m,\u001b[49m\u001b[43m \u001b[49m\u001b[43mdevice_map\u001b[49m\u001b[38;5;241;43m=\u001b[39;49m\u001b[43mdevice_map\u001b[49m\u001b[43m,\u001b[49m\u001b[43m \u001b[49m\u001b[38;5;241;43m*\u001b[39;49m\u001b[38;5;241;43m*\u001b[39;49m\u001b[43mmodel_kwargs\u001b[49m\n\u001b[1;32m    253\u001b[0m \u001b[43m\u001b[49m\u001b[43m)\u001b[49m\n\u001b[1;32m    255\u001b[0m \u001b[38;5;66;03m# check context_window\u001b[39;00m\n\u001b[1;32m    256\u001b[0m config_dict \u001b[38;5;241m=\u001b[39m \u001b[38;5;28mself\u001b[39m\u001b[38;5;241m.\u001b[39m_model\u001b[38;5;241m.\u001b[39mconfig\u001b[38;5;241m.\u001b[39mto_dict()\n",
      "File \u001b[0;32m~/miniconda3/envs/llm/lib/python3.11/site-packages/transformers/models/auto/auto_factory.py:524\u001b[0m, in \u001b[0;36m_BaseAutoModelClass.from_pretrained\u001b[0;34m(cls, pretrained_model_name_or_path, *model_args, **kwargs)\u001b[0m\n\u001b[1;32m    521\u001b[0m \u001b[38;5;28;01mif\u001b[39;00m kwargs\u001b[38;5;241m.\u001b[39mget(\u001b[38;5;124m\"\u001b[39m\u001b[38;5;124mquantization_config\u001b[39m\u001b[38;5;124m\"\u001b[39m, \u001b[38;5;28;01mNone\u001b[39;00m) \u001b[38;5;129;01mis\u001b[39;00m \u001b[38;5;129;01mnot\u001b[39;00m \u001b[38;5;28;01mNone\u001b[39;00m:\n\u001b[1;32m    522\u001b[0m     _ \u001b[38;5;241m=\u001b[39m kwargs\u001b[38;5;241m.\u001b[39mpop(\u001b[38;5;124m\"\u001b[39m\u001b[38;5;124mquantization_config\u001b[39m\u001b[38;5;124m\"\u001b[39m)\n\u001b[0;32m--> 524\u001b[0m config, kwargs \u001b[38;5;241m=\u001b[39m \u001b[43mAutoConfig\u001b[49m\u001b[38;5;241;43m.\u001b[39;49m\u001b[43mfrom_pretrained\u001b[49m\u001b[43m(\u001b[49m\n\u001b[1;32m    525\u001b[0m \u001b[43m    \u001b[49m\u001b[43mpretrained_model_name_or_path\u001b[49m\u001b[43m,\u001b[49m\n\u001b[1;32m    526\u001b[0m \u001b[43m    \u001b[49m\u001b[43mreturn_unused_kwargs\u001b[49m\u001b[38;5;241;43m=\u001b[39;49m\u001b[38;5;28;43;01mTrue\u001b[39;49;00m\u001b[43m,\u001b[49m\n\u001b[1;32m    527\u001b[0m \u001b[43m    \u001b[49m\u001b[43mtrust_remote_code\u001b[49m\u001b[38;5;241;43m=\u001b[39;49m\u001b[43mtrust_remote_code\u001b[49m\u001b[43m,\u001b[49m\n\u001b[1;32m    528\u001b[0m \u001b[43m    \u001b[49m\u001b[43mcode_revision\u001b[49m\u001b[38;5;241;43m=\u001b[39;49m\u001b[43mcode_revision\u001b[49m\u001b[43m,\u001b[49m\n\u001b[1;32m    529\u001b[0m \u001b[43m    \u001b[49m\u001b[43m_commit_hash\u001b[49m\u001b[38;5;241;43m=\u001b[39;49m\u001b[43mcommit_hash\u001b[49m\u001b[43m,\u001b[49m\n\u001b[1;32m    530\u001b[0m \u001b[43m    \u001b[49m\u001b[38;5;241;43m*\u001b[39;49m\u001b[38;5;241;43m*\u001b[39;49m\u001b[43mhub_kwargs\u001b[49m\u001b[43m,\u001b[49m\n\u001b[1;32m    531\u001b[0m \u001b[43m    \u001b[49m\u001b[38;5;241;43m*\u001b[39;49m\u001b[38;5;241;43m*\u001b[39;49m\u001b[43mkwargs\u001b[49m\u001b[43m,\u001b[49m\n\u001b[1;32m    532\u001b[0m \u001b[43m\u001b[49m\u001b[43m)\u001b[49m\n\u001b[1;32m    534\u001b[0m \u001b[38;5;66;03m# if torch_dtype=auto was passed here, ensure to pass it on\u001b[39;00m\n\u001b[1;32m    535\u001b[0m \u001b[38;5;28;01mif\u001b[39;00m kwargs_orig\u001b[38;5;241m.\u001b[39mget(\u001b[38;5;124m\"\u001b[39m\u001b[38;5;124mtorch_dtype\u001b[39m\u001b[38;5;124m\"\u001b[39m, \u001b[38;5;28;01mNone\u001b[39;00m) \u001b[38;5;241m==\u001b[39m \u001b[38;5;124m\"\u001b[39m\u001b[38;5;124mauto\u001b[39m\u001b[38;5;124m\"\u001b[39m:\n",
      "File \u001b[0;32m~/miniconda3/envs/llm/lib/python3.11/site-packages/transformers/models/auto/configuration_auto.py:976\u001b[0m, in \u001b[0;36mAutoConfig.from_pretrained\u001b[0;34m(cls, pretrained_model_name_or_path, **kwargs)\u001b[0m\n\u001b[1;32m    973\u001b[0m trust_remote_code \u001b[38;5;241m=\u001b[39m kwargs\u001b[38;5;241m.\u001b[39mpop(\u001b[38;5;124m\"\u001b[39m\u001b[38;5;124mtrust_remote_code\u001b[39m\u001b[38;5;124m\"\u001b[39m, \u001b[38;5;28;01mNone\u001b[39;00m)\n\u001b[1;32m    974\u001b[0m code_revision \u001b[38;5;241m=\u001b[39m kwargs\u001b[38;5;241m.\u001b[39mpop(\u001b[38;5;124m\"\u001b[39m\u001b[38;5;124mcode_revision\u001b[39m\u001b[38;5;124m\"\u001b[39m, \u001b[38;5;28;01mNone\u001b[39;00m)\n\u001b[0;32m--> 976\u001b[0m config_dict, unused_kwargs \u001b[38;5;241m=\u001b[39m \u001b[43mPretrainedConfig\u001b[49m\u001b[38;5;241;43m.\u001b[39;49m\u001b[43mget_config_dict\u001b[49m\u001b[43m(\u001b[49m\u001b[43mpretrained_model_name_or_path\u001b[49m\u001b[43m,\u001b[49m\u001b[43m \u001b[49m\u001b[38;5;241;43m*\u001b[39;49m\u001b[38;5;241;43m*\u001b[39;49m\u001b[43mkwargs\u001b[49m\u001b[43m)\u001b[49m\n\u001b[1;32m    977\u001b[0m has_remote_code \u001b[38;5;241m=\u001b[39m \u001b[38;5;124m\"\u001b[39m\u001b[38;5;124mauto_map\u001b[39m\u001b[38;5;124m\"\u001b[39m \u001b[38;5;129;01min\u001b[39;00m config_dict \u001b[38;5;129;01mand\u001b[39;00m \u001b[38;5;124m\"\u001b[39m\u001b[38;5;124mAutoConfig\u001b[39m\u001b[38;5;124m\"\u001b[39m \u001b[38;5;129;01min\u001b[39;00m config_dict[\u001b[38;5;124m\"\u001b[39m\u001b[38;5;124mauto_map\u001b[39m\u001b[38;5;124m\"\u001b[39m]\n\u001b[1;32m    978\u001b[0m has_local_code \u001b[38;5;241m=\u001b[39m \u001b[38;5;124m\"\u001b[39m\u001b[38;5;124mmodel_type\u001b[39m\u001b[38;5;124m\"\u001b[39m \u001b[38;5;129;01min\u001b[39;00m config_dict \u001b[38;5;129;01mand\u001b[39;00m config_dict[\u001b[38;5;124m\"\u001b[39m\u001b[38;5;124mmodel_type\u001b[39m\u001b[38;5;124m\"\u001b[39m] \u001b[38;5;129;01min\u001b[39;00m CONFIG_MAPPING\n",
      "File \u001b[0;32m~/miniconda3/envs/llm/lib/python3.11/site-packages/transformers/configuration_utils.py:632\u001b[0m, in \u001b[0;36mPretrainedConfig.get_config_dict\u001b[0;34m(cls, pretrained_model_name_or_path, **kwargs)\u001b[0m\n\u001b[1;32m    630\u001b[0m original_kwargs \u001b[38;5;241m=\u001b[39m copy\u001b[38;5;241m.\u001b[39mdeepcopy(kwargs)\n\u001b[1;32m    631\u001b[0m \u001b[38;5;66;03m# Get config dict associated with the base config file\u001b[39;00m\n\u001b[0;32m--> 632\u001b[0m config_dict, kwargs \u001b[38;5;241m=\u001b[39m \u001b[38;5;28;43mcls\u001b[39;49m\u001b[38;5;241;43m.\u001b[39;49m\u001b[43m_get_config_dict\u001b[49m\u001b[43m(\u001b[49m\u001b[43mpretrained_model_name_or_path\u001b[49m\u001b[43m,\u001b[49m\u001b[43m \u001b[49m\u001b[38;5;241;43m*\u001b[39;49m\u001b[38;5;241;43m*\u001b[39;49m\u001b[43mkwargs\u001b[49m\u001b[43m)\u001b[49m\n\u001b[1;32m    633\u001b[0m \u001b[38;5;28;01mif\u001b[39;00m \u001b[38;5;124m\"\u001b[39m\u001b[38;5;124m_commit_hash\u001b[39m\u001b[38;5;124m\"\u001b[39m \u001b[38;5;129;01min\u001b[39;00m config_dict:\n\u001b[1;32m    634\u001b[0m     original_kwargs[\u001b[38;5;124m\"\u001b[39m\u001b[38;5;124m_commit_hash\u001b[39m\u001b[38;5;124m\"\u001b[39m] \u001b[38;5;241m=\u001b[39m config_dict[\u001b[38;5;124m\"\u001b[39m\u001b[38;5;124m_commit_hash\u001b[39m\u001b[38;5;124m\"\u001b[39m]\n",
      "File \u001b[0;32m~/miniconda3/envs/llm/lib/python3.11/site-packages/transformers/configuration_utils.py:689\u001b[0m, in \u001b[0;36mPretrainedConfig._get_config_dict\u001b[0;34m(cls, pretrained_model_name_or_path, **kwargs)\u001b[0m\n\u001b[1;32m    685\u001b[0m configuration_file \u001b[38;5;241m=\u001b[39m kwargs\u001b[38;5;241m.\u001b[39mpop(\u001b[38;5;124m\"\u001b[39m\u001b[38;5;124m_configuration_file\u001b[39m\u001b[38;5;124m\"\u001b[39m, CONFIG_NAME) \u001b[38;5;28;01mif\u001b[39;00m gguf_file \u001b[38;5;129;01mis\u001b[39;00m \u001b[38;5;28;01mNone\u001b[39;00m \u001b[38;5;28;01melse\u001b[39;00m gguf_file\n\u001b[1;32m    687\u001b[0m \u001b[38;5;28;01mtry\u001b[39;00m:\n\u001b[1;32m    688\u001b[0m     \u001b[38;5;66;03m# Load from local folder or from cache or download from model Hub and cache\u001b[39;00m\n\u001b[0;32m--> 689\u001b[0m     resolved_config_file \u001b[38;5;241m=\u001b[39m \u001b[43mcached_file\u001b[49m\u001b[43m(\u001b[49m\n\u001b[1;32m    690\u001b[0m \u001b[43m        \u001b[49m\u001b[43mpretrained_model_name_or_path\u001b[49m\u001b[43m,\u001b[49m\n\u001b[1;32m    691\u001b[0m \u001b[43m        \u001b[49m\u001b[43mconfiguration_file\u001b[49m\u001b[43m,\u001b[49m\n\u001b[1;32m    692\u001b[0m \u001b[43m        \u001b[49m\u001b[43mcache_dir\u001b[49m\u001b[38;5;241;43m=\u001b[39;49m\u001b[43mcache_dir\u001b[49m\u001b[43m,\u001b[49m\n\u001b[1;32m    693\u001b[0m \u001b[43m        \u001b[49m\u001b[43mforce_download\u001b[49m\u001b[38;5;241;43m=\u001b[39;49m\u001b[43mforce_download\u001b[49m\u001b[43m,\u001b[49m\n\u001b[1;32m    694\u001b[0m \u001b[43m        \u001b[49m\u001b[43mproxies\u001b[49m\u001b[38;5;241;43m=\u001b[39;49m\u001b[43mproxies\u001b[49m\u001b[43m,\u001b[49m\n\u001b[1;32m    695\u001b[0m \u001b[43m        \u001b[49m\u001b[43mresume_download\u001b[49m\u001b[38;5;241;43m=\u001b[39;49m\u001b[43mresume_download\u001b[49m\u001b[43m,\u001b[49m\n\u001b[1;32m    696\u001b[0m \u001b[43m        \u001b[49m\u001b[43mlocal_files_only\u001b[49m\u001b[38;5;241;43m=\u001b[39;49m\u001b[43mlocal_files_only\u001b[49m\u001b[43m,\u001b[49m\n\u001b[1;32m    697\u001b[0m \u001b[43m        \u001b[49m\u001b[43mtoken\u001b[49m\u001b[38;5;241;43m=\u001b[39;49m\u001b[43mtoken\u001b[49m\u001b[43m,\u001b[49m\n\u001b[1;32m    698\u001b[0m \u001b[43m        \u001b[49m\u001b[43muser_agent\u001b[49m\u001b[38;5;241;43m=\u001b[39;49m\u001b[43muser_agent\u001b[49m\u001b[43m,\u001b[49m\n\u001b[1;32m    699\u001b[0m \u001b[43m        \u001b[49m\u001b[43mrevision\u001b[49m\u001b[38;5;241;43m=\u001b[39;49m\u001b[43mrevision\u001b[49m\u001b[43m,\u001b[49m\n\u001b[1;32m    700\u001b[0m \u001b[43m        \u001b[49m\u001b[43msubfolder\u001b[49m\u001b[38;5;241;43m=\u001b[39;49m\u001b[43msubfolder\u001b[49m\u001b[43m,\u001b[49m\n\u001b[1;32m    701\u001b[0m \u001b[43m        \u001b[49m\u001b[43m_commit_hash\u001b[49m\u001b[38;5;241;43m=\u001b[39;49m\u001b[43mcommit_hash\u001b[49m\u001b[43m,\u001b[49m\n\u001b[1;32m    702\u001b[0m \u001b[43m    \u001b[49m\u001b[43m)\u001b[49m\n\u001b[1;32m    703\u001b[0m     commit_hash \u001b[38;5;241m=\u001b[39m extract_commit_hash(resolved_config_file, commit_hash)\n\u001b[1;32m    704\u001b[0m \u001b[38;5;28;01mexcept\u001b[39;00m \u001b[38;5;167;01mEnvironmentError\u001b[39;00m:\n\u001b[1;32m    705\u001b[0m     \u001b[38;5;66;03m# Raise any environment error raise by `cached_file`. It will have a helpful error message adapted to\u001b[39;00m\n\u001b[1;32m    706\u001b[0m     \u001b[38;5;66;03m# the original exception.\u001b[39;00m\n",
      "File \u001b[0;32m~/miniconda3/envs/llm/lib/python3.11/site-packages/transformers/utils/hub.py:445\u001b[0m, in \u001b[0;36mcached_file\u001b[0;34m(path_or_repo_id, filename, cache_dir, force_download, resume_download, proxies, token, revision, local_files_only, subfolder, repo_type, user_agent, _raise_exceptions_for_gated_repo, _raise_exceptions_for_missing_entries, _raise_exceptions_for_connection_errors, _commit_hash, **deprecated_kwargs)\u001b[0m\n\u001b[1;32m    439\u001b[0m     \u001b[38;5;28;01mif\u001b[39;00m (\n\u001b[1;32m    440\u001b[0m         resolved_file \u001b[38;5;129;01mis\u001b[39;00m \u001b[38;5;129;01mnot\u001b[39;00m \u001b[38;5;28;01mNone\u001b[39;00m\n\u001b[1;32m    441\u001b[0m         \u001b[38;5;129;01mor\u001b[39;00m \u001b[38;5;129;01mnot\u001b[39;00m _raise_exceptions_for_missing_entries\n\u001b[1;32m    442\u001b[0m         \u001b[38;5;129;01mor\u001b[39;00m \u001b[38;5;129;01mnot\u001b[39;00m _raise_exceptions_for_connection_errors\n\u001b[1;32m    443\u001b[0m     ):\n\u001b[1;32m    444\u001b[0m         \u001b[38;5;28;01mreturn\u001b[39;00m resolved_file\n\u001b[0;32m--> 445\u001b[0m     \u001b[38;5;28;01mraise\u001b[39;00m \u001b[38;5;167;01mEnvironmentError\u001b[39;00m(\n\u001b[1;32m    446\u001b[0m         \u001b[38;5;124mf\u001b[39m\u001b[38;5;124m\"\u001b[39m\u001b[38;5;124mWe couldn\u001b[39m\u001b[38;5;124m'\u001b[39m\u001b[38;5;124mt connect to \u001b[39m\u001b[38;5;124m'\u001b[39m\u001b[38;5;132;01m{\u001b[39;00mHUGGINGFACE_CO_RESOLVE_ENDPOINT\u001b[38;5;132;01m}\u001b[39;00m\u001b[38;5;124m'\u001b[39m\u001b[38;5;124m to load this file, couldn\u001b[39m\u001b[38;5;124m'\u001b[39m\u001b[38;5;124mt find it in the\u001b[39m\u001b[38;5;124m\"\u001b[39m\n\u001b[1;32m    447\u001b[0m         \u001b[38;5;124mf\u001b[39m\u001b[38;5;124m\"\u001b[39m\u001b[38;5;124m cached files and it looks like \u001b[39m\u001b[38;5;132;01m{\u001b[39;00mpath_or_repo_id\u001b[38;5;132;01m}\u001b[39;00m\u001b[38;5;124m is not the path to a directory containing a file named\u001b[39m\u001b[38;5;124m\"\u001b[39m\n\u001b[1;32m    448\u001b[0m         \u001b[38;5;124mf\u001b[39m\u001b[38;5;124m\"\u001b[39m\u001b[38;5;124m \u001b[39m\u001b[38;5;132;01m{\u001b[39;00mfull_filename\u001b[38;5;132;01m}\u001b[39;00m\u001b[38;5;124m.\u001b[39m\u001b[38;5;130;01m\\n\u001b[39;00m\u001b[38;5;124mCheckout your internet connection or see how to run the library in offline mode at\u001b[39m\u001b[38;5;124m\"\u001b[39m\n\u001b[1;32m    449\u001b[0m         \u001b[38;5;124m\"\u001b[39m\u001b[38;5;124m \u001b[39m\u001b[38;5;124m'\u001b[39m\u001b[38;5;124mhttps://huggingface.co/docs/transformers/installation#offline-mode\u001b[39m\u001b[38;5;124m'\u001b[39m\u001b[38;5;124m.\u001b[39m\u001b[38;5;124m\"\u001b[39m\n\u001b[1;32m    450\u001b[0m     ) \u001b[38;5;28;01mfrom\u001b[39;00m \u001b[38;5;21;01me\u001b[39;00m\n\u001b[1;32m    451\u001b[0m \u001b[38;5;28;01mexcept\u001b[39;00m EntryNotFoundError \u001b[38;5;28;01mas\u001b[39;00m e:\n\u001b[1;32m    452\u001b[0m     \u001b[38;5;28;01mif\u001b[39;00m \u001b[38;5;129;01mnot\u001b[39;00m _raise_exceptions_for_missing_entries:\n",
      "\u001b[0;31mOSError\u001b[0m: We couldn't connect to 'https://huggingface.co' to load this file, couldn't find it in the cached files and it looks like lmsys/vicuna-13b-v1.5 is not the path to a directory containing a file named config.json.\nCheckout your internet connection or see how to run the library in offline mode at 'https://huggingface.co/docs/transformers/installation#offline-mode'."
     ]
    }
   ],
   "source": [
    "# nodes = parser.get_nodes_from_documents(nodes, show_progress=True)\n",
    "non_finished_documents = parser._init_get_nodes_from_documents(nodes)\n",
    "# input(len(non_finished_documents))\n"
   ]
  },
  {
   "cell_type": "code",
   "execution_count": null,
   "metadata": {},
   "outputs": [],
   "source": [
    "\n",
    "if show_progress:\n",
    "    with tqdm(total=len(documents), desc=\"parsing documents\") as pbar:\n",
    "        pbar.update(len(documents) - len(non_finished_documents))\n",
    "        for document in non_finished_documents:\n",
    "            self._get_nodes_from_one_document(document, pbar)\n",
    "else:\n",
    "    for document in non_finished_documents:\n",
    "        self._get_nodes_from_one_document(document)\n",
    "self._cache_process_file.close()"
   ]
  }
 ],
 "metadata": {
  "kernelspec": {
   "display_name": "Python 3 (ipykernel)",
   "language": "python",
   "name": "python3"
  },
  "language_info": {
   "codemirror_mode": {
    "name": "ipython",
    "version": 3
   },
   "file_extension": ".py",
   "mimetype": "text/x-python",
   "name": "python",
   "nbconvert_exporter": "python",
   "pygments_lexer": "ipython3",
   "version": "3.11.9"
  }
 },
 "nbformat": 4,
 "nbformat_minor": 2
}
