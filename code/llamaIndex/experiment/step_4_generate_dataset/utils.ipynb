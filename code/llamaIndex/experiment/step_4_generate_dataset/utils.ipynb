{
 "cells": [
  {
   "cell_type": "code",
   "execution_count": 2,
   "metadata": {},
   "outputs": [],
   "source": [
    "import os\n",
    "import pandas as pd\n",
    "\n",
    "qa_file_name = 'gpt-4o-batch-all-target_extract_gpt-4o-QAExtractor-batch_pid_0.jsonl.csv'\n",
    "qa_dataset_path = os.path.join(os.path.abspath('../../.cache'), qa_file_name)\n",
    "df = pd.read_csv(qa_dataset_path)"
   ]
  },
  {
   "cell_type": "code",
   "execution_count": 3,
   "metadata": {},
   "outputs": [
    {
     "name": "stdout",
     "output_type": "stream",
     "text": [
      "[Invalid rqa pairs] No objs found at row id: 10 which should have 3 questions\n",
      "[Invalid rqa pairs] No objs found at row id: 126 which should have 1 questions\n",
      "[Invalid rqa pairs] No objs found at row id: 195 which should have 1 questions\n",
      "[Invalid rqa pairs] No objs found at row id: 415 which should have 1 questions\n",
      "[Invalid rqa pairs] No objs found at row id: 457 which should have 1 questions\n",
      "[Invalid rqa pairs] No objs found at row id: 556 which should have 1 questions\n",
      "[Invalid rqa pairs] No objs found at row id: 561 which should have 1 questions\n",
      "[Invalid rqa pairs] No objs found at row id: 574 which should have 1 questions\n",
      "[Invalid rqa pairs] No objs found at row id: 579 which should have 1 questions\n",
      "[Invalid rqa pairs] No objs found at row id: 631 which should have 1 questions\n",
      "[Invalid rqa pairs] No objs found at row id: 641 which should have 1 questions\n",
      "[Invalid rqa pairs] No objs found at row id: 709 which should have 1 questions\n"
     ]
    }
   ],
   "source": [
    "import json\n",
    "\n",
    "def get_context(input_text):\n",
    "    lines = input_text.split('\\n')\n",
    "    for idx, text in enumerate(lines):\n",
    "        if text.startswith('Here is the context'):\n",
    "            # The next line will be the context string\n",
    "            if idx + 1 < len(lines):\n",
    "                return lines[idx + 1]\n",
    "\n",
    "def get_quetions_answers_and_groundtruth(df):\n",
    "    questions = []\n",
    "    ground_truths = []\n",
    "    correct_contexts = []\n",
    "\n",
    "    for row_id, obj_str in enumerate(df['objs']):\n",
    "        objs = json.loads(obj_str)\n",
    "        if len(objs) == 0:\n",
    "            print(f\"[Invalid rqa pairs] No objs found at row id: {row_id} which should have {df['qar_num'][row_id]} questions\")\n",
    "        for obj in objs:\n",
    "            questions.append(obj['Question'])\n",
    "            ground_truths.append(obj['Answer'])\n",
    "            correct_contexts.append([get_context(df['input_text'][row_id])])\n",
    "    return questions, ground_truths, correct_contexts\n",
    "\n",
    "q, g, c = get_quetions_answers_and_groundtruth(df)"
   ]
  },
  {
   "cell_type": "code",
   "execution_count": 1,
   "metadata": {},
   "outputs": [],
   "source": [
    "import os\n",
    "from transformers import AutoModelForSequenceClassification, AutoTokenizer\n",
    "\n",
    "model = AutoModelForSequenceClassification.from_pretrained(os.path.abspath('../step_3_level_predictor/results/checkpoint-945'))\n",
    "tokenizer = AutoTokenizer.from_pretrained(os.path.abspath('../step_3_level_predictor/results/checkpoint-945'))"
   ]
  },
  {
   "cell_type": "code",
   "execution_count": 2,
   "metadata": {},
   "outputs": [
    {
     "name": "stdout",
     "output_type": "stream",
     "text": [
      "Predicted class: 2\n"
     ]
    }
   ],
   "source": [
    "import torch\n",
    "\n",
    "# Example input text\n",
    "input_text = \"This is an example sentence.\"\n",
    "\n",
    "# Tokenize the input\n",
    "inputs = tokenizer(input_text, return_tensors=\"pt\", truncation=True)\n",
    "\n",
    "# Put the model in evaluation mode\n",
    "model.eval()\n",
    "\n",
    "# Get the prediction\n",
    "with torch.no_grad():\n",
    "    outputs = model(**inputs)\n",
    "    logits = outputs.logits\n",
    "    predicted_class = torch.argmax(logits, dim=-1)\n",
    "\n",
    "print(f\"Predicted class: {predicted_class.item()}\")"
   ]
  },
  {
   "cell_type": "code",
   "execution_count": 7,
   "metadata": {},
   "outputs": [
    {
     "data": {
      "text/html": [
       "<div>\n",
       "<style scoped>\n",
       "    .dataframe tbody tr th:only-of-type {\n",
       "        vertical-align: middle;\n",
       "    }\n",
       "\n",
       "    .dataframe tbody tr th {\n",
       "        vertical-align: top;\n",
       "    }\n",
       "\n",
       "    .dataframe thead th {\n",
       "        text-align: right;\n",
       "    }\n",
       "</style>\n",
       "<table border=\"1\" class=\"dataframe\">\n",
       "  <thead>\n",
       "    <tr style=\"text-align: right;\">\n",
       "      <th></th>\n",
       "      <th>question</th>\n",
       "      <th>ground_truth</th>\n",
       "      <th>answer</th>\n",
       "      <th>context</th>\n",
       "      <th>context_length_sum</th>\n",
       "    </tr>\n",
       "  </thead>\n",
       "  <tbody>\n",
       "    <tr>\n",
       "      <th>0</th>\n",
       "      <td>What structural factor allows for easy water a...</td>\n",
       "      <td>Cracked cuticles allow for easy water absorpti...</td>\n",
       "      <td>Cracked cuticles in soybean cultivars allow fo...</td>\n",
       "      <td>[This research investigates the differences in...</td>\n",
       "      <td>1475</td>\n",
       "    </tr>\n",
       "    <tr>\n",
       "      <th>1</th>\n",
       "      <td>Why do intact cuticles remain impermeable to w...</td>\n",
       "      <td>Intact cuticles remain impermeable due to the ...</td>\n",
       "      <td>Intact cuticles remain impermeable to water du...</td>\n",
       "      <td>[What components of the intact outer cuticle a...</td>\n",
       "      <td>708</td>\n",
       "    </tr>\n",
       "    <tr>\n",
       "      <th>2</th>\n",
       "      <td>How can the permeability of intact cuticles be...</td>\n",
       "      <td>Heat and alkaline treatments can temporarily r...</td>\n",
       "      <td>The permeability of intact cuticles can be tem...</td>\n",
       "      <td>[What components of the intact outer cuticle a...</td>\n",
       "      <td>1660</td>\n",
       "    </tr>\n",
       "    <tr>\n",
       "      <th>3</th>\n",
       "      <td>Why has the production of healthy sweeteners l...</td>\n",
       "      <td>The production of healthy sweeteners like fruc...</td>\n",
       "      <td>The production of healthy sweeteners like fruc...</td>\n",
       "      <td>[The production of healthy sweeteners like fru...</td>\n",
       "      <td>856</td>\n",
       "    </tr>\n",
       "    <tr>\n",
       "      <th>4</th>\n",
       "      <td>What are the methods mentioned for producing f...</td>\n",
       "      <td>Fructose can be made using either multi-enzyma...</td>\n",
       "      <td>Fructose can be produced using multi-enzymatic...</td>\n",
       "      <td>[Monosaccharides can be generated through vari...</td>\n",
       "      <td>1017</td>\n",
       "    </tr>\n",
       "  </tbody>\n",
       "</table>\n",
       "</div>"
      ],
      "text/plain": [
       "                                            question  \\\n",
       "0  What structural factor allows for easy water a...   \n",
       "1  Why do intact cuticles remain impermeable to w...   \n",
       "2  How can the permeability of intact cuticles be...   \n",
       "3  Why has the production of healthy sweeteners l...   \n",
       "4  What are the methods mentioned for producing f...   \n",
       "\n",
       "                                        ground_truth  \\\n",
       "0  Cracked cuticles allow for easy water absorpti...   \n",
       "1  Intact cuticles remain impermeable due to the ...   \n",
       "2  Heat and alkaline treatments can temporarily r...   \n",
       "3  The production of healthy sweeteners like fruc...   \n",
       "4  Fructose can be made using either multi-enzyma...   \n",
       "\n",
       "                                              answer  \\\n",
       "0  Cracked cuticles in soybean cultivars allow fo...   \n",
       "1  Intact cuticles remain impermeable to water du...   \n",
       "2  The permeability of intact cuticles can be tem...   \n",
       "3  The production of healthy sweeteners like fruc...   \n",
       "4  Fructose can be produced using multi-enzymatic...   \n",
       "\n",
       "                                             context  context_length_sum  \n",
       "0  [This research investigates the differences in...                1475  \n",
       "1  [What components of the intact outer cuticle a...                 708  \n",
       "2  [What components of the intact outer cuticle a...                1660  \n",
       "3  [The production of healthy sweeteners like fru...                 856  \n",
       "4  [Monosaccharides can be generated through vari...                1017  "
      ]
     },
     "execution_count": 7,
     "metadata": {},
     "output_type": "execute_result"
    }
   ],
   "source": [
    "import json\n",
    "import pandas as pd\n",
    "\n",
    "file_path = \"./dataset/gpt-4o-batch-all-target_with_predictor_retrieved_contexts_dataset_condition_2.jsonl\"\n",
    "\n",
    "# Read the JSONL file line by line and convert it into a list of dictionaries\n",
    "data = []\n",
    "with open(file_path, 'r') as file:\n",
    "    for line in file:\n",
    "        data.append(json.loads(line.strip()))  # Parse each line as JSON and add it to the list\n",
    "\n",
    "# Create a DataFrame from the list of dictionaries\n",
    "df = pd.DataFrame(data)\n",
    "\n",
    "# Add a new column for the sum of the lengths of the 'context' field\n",
    "df['context_length_sum'] = df['context'].apply(lambda context: sum(len(text) for text in context))\n",
    "\n",
    "# Display the updated DataFrame\n",
    "df.head()"
   ]
  },
  {
   "cell_type": "code",
   "execution_count": 12,
   "metadata": {},
   "outputs": [
    {
     "data": {
      "image/png": "[encoded data removed]",
      "text/plain": [
       "<Figure size 800x600 with 1 Axes>"
      ]
     },
     "metadata": {},
     "output_type": "display_data"
    }
   ],
   "source": [
    "import matplotlib.pyplot as plt\n",
    "import seaborn as sns\n",
    "\n",
    "mean_length = df['context_length_sum'].mean()\n",
    "\n",
    "# Plot the boxplot\n",
    "plt.figure(figsize=(8, 6))\n",
    "sns.boxplot(x=df['context_length_sum'], color=\"skyblue\")\n",
    "\n",
    "# Display the mean value as a vertical line\n",
    "plt.axvline(mean_length, color='red', linestyle='--', label=f'Mean: {mean_length:.2f}')\n",
    "\n",
    "# Add titles and labels\n",
    "plt.title(\"Boxplot of Context Lengths\", fontsize=14)\n",
    "plt.xlabel(\"Sum of Context Lengths\", fontsize=12)\n",
    "plt.legend()\n",
    "\n",
    "# Show the plot\n",
    "plt.show()"
   ]
  },
  {
   "cell_type": "code",
   "execution_count": 15,
   "metadata": {},
   "outputs": [],
   "source": [
    "import json\n",
    "import pandas as pd\n",
    "\n",
    "file_path = \"./datasets/gpt-4o-batch-all-target_top2_predictor_retrieved_contexts_dataset_condition_2.jsonl\"\n",
    "\n",
    "# Read the JSONL file line by line and convert it into a list of dictionaries\n",
    "retrieved_nums = []\n",
    "with open(file_path, 'r') as file:\n",
    "    for line in file:\n",
    "        data = json.loads(line.strip())  # Parse each line as JSON and add it to the list\n",
    "        retrieved_nums.append(len(data['contexts']))"
   ]
  },
  {
   "cell_type": "code",
   "execution_count": 16,
   "metadata": {},
   "outputs": [
    {
     "data": {
      "image/png": "[encoded data removed]",
      "text/plain": [
       "<Figure size 800x600 with 1 Axes>"
      ]
     },
     "metadata": {},
     "output_type": "display_data"
    }
   ],
   "source": [
    "import matplotlib.pyplot as plt\n",
    "import seaborn as sns\n",
    "\n",
    "mean_length = sum(retrieved_nums)/len(retrieved_nums)\n",
    "\n",
    "# Plot the boxplot\n",
    "plt.figure(figsize=(8, 6))\n",
    "sns.boxplot(x=retrieved_nums, color=\"skyblue\")\n",
    "\n",
    "# Display the mean value as a vertical line\n",
    "plt.axvline(mean_length, color='red', linestyle='--', label=f'Mean: {mean_length:.2f}')\n",
    "\n",
    "# Add titles and labels\n",
    "plt.title(\"Boxplot of Retrieved Numbers\", fontsize=14)\n",
    "plt.xlabel(\"Retrieved Numbers\", fontsize=12)\n",
    "plt.legend()\n",
    "\n",
    "# Show the plot\n",
    "plt.show()"
   ]
  },
  {
   "cell_type": "code",
   "execution_count": null,
   "metadata": {},
   "outputs": [],
   "source": []
  }
 ],
 "metadata": {
  "kernelspec": {
   "display_name": "llm",
   "language": "python",
   "name": "python3"
  },
  "language_info": {
   "codemirror_mode": {
    "name": "ipython",
    "version": 3
   },
   "file_extension": ".py",
   "mimetype": "text/x-python",
   "name": "python",
   "nbconvert_exporter": "python",
   "pygments_lexer": "ipython3",
   "version": "3.11.9"
  }
 },
 "nbformat": 4,
 "nbformat_minor": 2
}
