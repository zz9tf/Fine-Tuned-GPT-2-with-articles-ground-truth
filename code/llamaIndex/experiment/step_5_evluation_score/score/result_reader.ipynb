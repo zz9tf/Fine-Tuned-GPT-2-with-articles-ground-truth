{
 "cells": [
  {
   "cell_type": "code",
   "execution_count": 1,
   "metadata": {},
   "outputs": [],
   "source": [
    "import os\n",
    "import pandas as pd\n",
    "\n",
    "def visulize_result_with_condition(condition, matrixes):\n",
    "    print(f\"experiment: {condition}\")\n",
    "    for matrix in matrixes:\n",
    "        for filename in os.listdir(os.path.abspath('.')):\n",
    "            if condition in filename and matrix in filename:\n",
    "                result = pd.read_csv(filename)\n",
    "                mean_value = round(result[matrix].mean(), 5)\n",
    "                mean_value *= 100\n",
    "                print(f'{matrix}: {mean_value:.5}')"
   ]
  },
  {
   "cell_type": "code",
   "execution_count": 2,
   "metadata": {},
   "outputs": [
    {
     "name": "stdout",
     "output_type": "stream",
     "text": [
      "experiment: condition_1\n",
      "faithfulness: 86.317\n",
      "answer_relevancy: 90.15\n",
      "answer_similarity: 95.21\n",
      "answer_correctness: 82.04\n",
      "context_precision: 94.978\n",
      "context_utilization: 95.426\n",
      "context_recall: 92.481\n",
      "context_entity_recall: 68.379\n"
     ]
    }
   ],
   "source": [
    "matrixes = [\n",
    "    'faithfulness',\n",
    "    'answer_relevancy',\n",
    "    'answer_similarity',\n",
    "    'answer_correctness',\n",
    "    'context_precision',\n",
    "    'context_utilization',\n",
    "    'context_recall',\n",
    "    'context_entity_recall'\n",
    "]\n",
    "\n",
    "condition = \"condition_1\"\n",
    "\n",
    "visulize_result_with_condition(condition, matrixes)"
   ]
  },
  {
   "cell_type": "code",
   "execution_count": 3,
   "metadata": {},
   "outputs": [
    {
     "name": "stdout",
     "output_type": "stream",
     "text": [
      "experiment: condition_2\n"
     ]
    }
   ],
   "source": [
    "condition = 'condition_2'\n",
    "visulize_result_with_condition(condition, matrixes)"
   ]
  },
  {
   "cell_type": "code",
   "execution_count": 5,
   "metadata": {},
   "outputs": [
    {
     "data": {
      "text/plain": [
       "0       1.0\n",
       "1       1.0\n",
       "2       1.0\n",
       "3       1.0\n",
       "4       1.0\n",
       "       ... \n",
       "1110    1.0\n",
       "1111    1.0\n",
       "1112    1.0\n",
       "1113    1.0\n",
       "1114    1.0\n",
       "Name: context_recall, Length: 1115, dtype: float64"
      ]
     },
     "execution_count": 5,
     "metadata": {},
     "output_type": "execute_result"
    }
   ],
   "source": [
    "import pandas as pd\n",
    "recall = pd.read_csv('dataset_condition_1_context_recall_2024-10-13-12-40-25.csv')\n",
    "recall['context_recall']"
   ]
  },
  {
   "cell_type": "code",
   "execution_count": 15,
   "metadata": {},
   "outputs": [
    {
     "name": "stdout",
     "output_type": "stream",
     "text": [
      "Filtered entity recall has been written to 'filtered_recall.txt'\n"
     ]
    }
   ],
   "source": [
    "# Assuming entity_recall is a pandas DataFrame\n",
    "filtered_recall = recall[recall['context_recall'] < 0.5]\n",
    "\n",
    "save_name = 'filtered_recall.txt'\n",
    "# Open a text file to write the output\n",
    "with open(save_name, 'w') as f:\n",
    "    # Iterate over the filtered DataFrame and write each element to the file\n",
    "    for index, row in filtered_recall.iterrows():\n",
    "        f.write(f\"Row {index}:\\n\")\n",
    "        f.write(f\"Question: {row['question']}\\n\")\n",
    "        f.write(f\"Ground Truth: {row['ground_truth']}\\n\")\n",
    "        f.write(f\"Answer: {row['answer']}\\n\")\n",
    "        f.write(f\"Contexts: {row['contexts']}\\n\")\n",
    "        f.write(f\"Context Entity Recall: {row['context_recall']}\\n\")\n",
    "        f.write(\"\\n\")  # Adding a blank line for better readability\n",
    "\n",
    "print(f\"Filtered entity recall has been written to '{save_name}'\")\n"
   ]
  },
  {
   "cell_type": "code",
   "execution_count": 6,
   "metadata": {},
   "outputs": [
    {
     "data": {
      "image/png": "[encoded data removed]",
      "text/plain": [
       "<Figure size 800x600 with 1 Axes>"
      ]
     },
     "metadata": {},
     "output_type": "display_data"
    }
   ],
   "source": [
    "import matplotlib.pyplot as plt\n",
    "import seaborn as sns\n",
    "\n",
    "# Plot the distribution using seaborn\n",
    "plt.figure(figsize=(8, 6))\n",
    "sns.histplot(recall['context_recall'], bins=30, kde=True)\n",
    "\n",
    "# Add title and labels\n",
    "plt.title('Distribution of context_recall', fontsize=16)\n",
    "plt.xlabel('Context Recall', fontsize=12)\n",
    "plt.ylabel('Frequency', fontsize=12)\n",
    "\n",
    "# Show the plot\n",
    "plt.show()"
   ]
  },
  {
   "cell_type": "code",
   "execution_count": 23,
   "metadata": {},
   "outputs": [
    {
     "data": {
      "application/vnd.jupyter.widget-view+json": {
       "model_id": "7d7e478ac0a54f83ab90dd0553006a53",
       "version_major": 2,
       "version_minor": 0
      },
      "text/plain": [
       "Evaluating:   0%|          | 0/1 [00:00<?, ?it/s]"
      ]
     },
     "metadata": {},
     "output_type": "display_data"
    },
    {
     "name": "stdout",
     "output_type": "stream",
     "text": [
      "[ContextRecallClassificationAnswers(__root__=[ContextRecallClassificationAnswer(statement='Recent advancements in isolating new microorganisms focus on discovering bacteria and fungi from extreme environments that exhibit higher stability and activity of cellulase enzymes.', attributed=1, reason='The context mentions the importance of isolating new microorganisms that produce cellulase enzymes.'), ContextRecallClassificationAnswer(statement='Techniques such as metagenomics and high-throughput screening have accelerated the identification of these microorganisms.', attributed=0, reason='The context does not provide specific techniques used for identifying microorganisms.'), ContextRecallClassificationAnswer(statement='Advances in genetic modification and synthetic biology have also enabled the engineering of microbial strains to enhance their cellulase production capabilities.', attributed=0, reason='The context does not mention genetic modification or synthetic biology in relation to cellulase production.')])]\n"
     ]
    },
    {
     "data": {
      "text/plain": [
       "{'context_recall': 0.3333}"
      ]
     },
     "execution_count": 23,
     "metadata": {},
     "output_type": "execute_result"
    }
   ],
   "source": [
    "from datasets import Dataset\n",
    "from ragas import evaluate\n",
    "\n",
    "from ragas.metrics import (\n",
    "    faithfulness,\n",
    "    answer_relevancy,\n",
    "    answer_similarity,\n",
    "    answer_correctness,\n",
    "    context_precision,\n",
    "    context_utilization,\n",
    "    context_recall,\n",
    "    context_entity_recall,\n",
    "    noise_sensitivity_relevant,\n",
    "    noise_sensitivity_irrelevant\n",
    ")\n",
    "import os\n",
    "import sys\n",
    "sys.path.insert(0, os.path.abspath('../../..'))\n",
    "from configs.load_config import load_configs\n",
    "load_configs()\n",
    "\n",
    "dataset = Dataset.from_dict(\n",
    "    {\n",
    "        'question': ['What are the recent advancements in isolating new microorganisms that produce cellulase enzymes for bioethanol production?'],\n",
    "        'ground_truth': ['Recent advancements in isolating new microorganisms focus on discovering bacteria and fungi from extreme environments that exhibit higher stability and activity of cellulase enzymes. Techniques such as metagenomics and high-throughput screening have accelerated the identification of these microorganisms. Advances in genetic modification and synthetic biology have also enabled the engineering of microbial strains to enhance their cellulase production capabilities.'],\n",
    "        'answer': ['The research article discusses recent advancements in isolating new microorganisms that produce cellulase enzymes, which are crucial for the efficient conversion of cellulose in lignocellulosic biomass to bioethanol. These advancements include the identification and characterization of novel microbial strains with enhanced cellulase production capabilities. The authors emphasize the significance of exploring diverse environments, such as extreme habitats or underexplored ecosystems, to discover microorganisms that can produce more effective cellulase cocktails. Additionally, advancements in molecular techniques and genomic analysis have facilitated the identification of specific genes responsible for cellulase production, allowing for targeted isolation and optimization of these microorganisms. Overall, the focus on isolating new cellulase-producing microorganisms is seen as a key growth area in the cellulase industry, with the potential to improve bioethanol production efficiency.'],\n",
    "        'contexts': [['This research article explores recent developments in improving cellulase cocktail performance for efficient conversion of cellulose in lignocellulosic biomass to bioethanol. The authors discuss the importance of isolating new microorganisms that produce these enzymes and highlight potential growth areas in the cellulase industry.']]\n",
    "    }\n",
    ")\n",
    "\n",
    "evaluate(\n",
    "    dataset=dataset,\n",
    "    metrics=[context_recall],\n",
    "    raise_exceptions=True\n",
    ")"
   ]
  },
  {
   "cell_type": "code",
   "execution_count": 9,
   "metadata": {},
   "outputs": [
    {
     "data": {
      "text/html": [
       "<div>\n",
       "<style scoped>\n",
       "    .dataframe tbody tr th:only-of-type {\n",
       "        vertical-align: middle;\n",
       "    }\n",
       "\n",
       "    .dataframe tbody tr th {\n",
       "        vertical-align: top;\n",
       "    }\n",
       "\n",
       "    .dataframe thead th {\n",
       "        text-align: right;\n",
       "    }\n",
       "</style>\n",
       "<table border=\"1\" class=\"dataframe\">\n",
       "  <thead>\n",
       "    <tr style=\"text-align: right;\">\n",
       "      <th></th>\n",
       "      <th>question</th>\n",
       "      <th>ground_truth</th>\n",
       "      <th>answer</th>\n",
       "      <th>contexts</th>\n",
       "      <th>context_entity_recall</th>\n",
       "    </tr>\n",
       "  </thead>\n",
       "  <tbody>\n",
       "    <tr>\n",
       "      <th>0</th>\n",
       "      <td>What structural factor allows for easy water a...</td>\n",
       "      <td>Cracked cuticles allow for easy water absorpti...</td>\n",
       "      <td>Cracked cuticles in soybean cultivars allow fo...</td>\n",
       "      <td>['This research investigates the differences i...</td>\n",
       "      <td>0.666667</td>\n",
       "    </tr>\n",
       "    <tr>\n",
       "      <th>1</th>\n",
       "      <td>Why do intact cuticles remain impermeable to w...</td>\n",
       "      <td>Intact cuticles remain impermeable due to the ...</td>\n",
       "      <td>Intact cuticles remain impermeable to water be...</td>\n",
       "      <td>['This research investigates the differences i...</td>\n",
       "      <td>0.500000</td>\n",
       "    </tr>\n",
       "    <tr>\n",
       "      <th>2</th>\n",
       "      <td>How can the permeability of intact cuticles be...</td>\n",
       "      <td>Heat and alkaline treatments can temporarily r...</td>\n",
       "      <td>The permeability of intact cuticles can be tem...</td>\n",
       "      <td>['This research investigates the differences i...</td>\n",
       "      <td>0.666667</td>\n",
       "    </tr>\n",
       "    <tr>\n",
       "      <th>3</th>\n",
       "      <td>Why has the production of healthy sweeteners l...</td>\n",
       "      <td>The production of healthy sweeteners like fruc...</td>\n",
       "      <td>The production of healthy sweeteners like fruc...</td>\n",
       "      <td>['The production of healthy sweeteners like fr...</td>\n",
       "      <td>1.000000</td>\n",
       "    </tr>\n",
       "    <tr>\n",
       "      <th>4</th>\n",
       "      <td>What are the methods mentioned for producing f...</td>\n",
       "      <td>Fructose can be made using either multi-enzyma...</td>\n",
       "      <td>Fructose can be produced using either multi-en...</td>\n",
       "      <td>['The production of healthy sweeteners like fr...</td>\n",
       "      <td>0.750000</td>\n",
       "    </tr>\n",
       "    <tr>\n",
       "      <th>...</th>\n",
       "      <td>...</td>\n",
       "      <td>...</td>\n",
       "      <td>...</td>\n",
       "      <td>...</td>\n",
       "      <td>...</td>\n",
       "    </tr>\n",
       "    <tr>\n",
       "      <th>1110</th>\n",
       "      <td>What are the primary lifestyle factors contrib...</td>\n",
       "      <td>Obesity is commonly caused by excessive food i...</td>\n",
       "      <td>The primary lifestyle factors contributing to ...</td>\n",
       "      <td>['Obesity is one of very first warning signs f...</td>\n",
       "      <td>0.333333</td>\n",
       "    </tr>\n",
       "    <tr>\n",
       "      <th>1111</th>\n",
       "      <td>How do sedentary lifestyles affect energy meta...</td>\n",
       "      <td>Sedentary lifestyles affect the homeostasis of...</td>\n",
       "      <td>Sedentary lifestyles negatively impact energy ...</td>\n",
       "      <td>['In fact, it is usually the consequence of se...</td>\n",
       "      <td>0.666667</td>\n",
       "    </tr>\n",
       "    <tr>\n",
       "      <th>1112</th>\n",
       "      <td>What potential strategies are suggested by the...</td>\n",
       "      <td>The research suggests both indirect and direct...</td>\n",
       "      <td>The research suggests that there may be indire...</td>\n",
       "      <td>['Although the manufacturing of living A. muci...</td>\n",
       "      <td>1.000000</td>\n",
       "    </tr>\n",
       "    <tr>\n",
       "      <th>1113</th>\n",
       "      <td>How do mental and physical conditions impact t...</td>\n",
       "      <td>Mental and physical conditions of the host sev...</td>\n",
       "      <td>Mental and physical conditions significantly i...</td>\n",
       "      <td>['Gut microbiota symbiotically reside in human...</td>\n",
       "      <td>0.200000</td>\n",
       "    </tr>\n",
       "    <tr>\n",
       "      <th>1114</th>\n",
       "      <td>What health condition can occur due to an imba...</td>\n",
       "      <td>An imbalance in the composition of the microbi...</td>\n",
       "      <td>An imbalance in the composition of the microbi...</td>\n",
       "      <td>['Gut microbiota symbiotically reside in human...</td>\n",
       "      <td>0.333333</td>\n",
       "    </tr>\n",
       "  </tbody>\n",
       "</table>\n",
       "<p>1115 rows × 5 columns</p>\n",
       "</div>"
      ],
      "text/plain": [
       "                                               question  \\\n",
       "0     What structural factor allows for easy water a...   \n",
       "1     Why do intact cuticles remain impermeable to w...   \n",
       "2     How can the permeability of intact cuticles be...   \n",
       "3     Why has the production of healthy sweeteners l...   \n",
       "4     What are the methods mentioned for producing f...   \n",
       "...                                                 ...   \n",
       "1110  What are the primary lifestyle factors contrib...   \n",
       "1111  How do sedentary lifestyles affect energy meta...   \n",
       "1112  What potential strategies are suggested by the...   \n",
       "1113  How do mental and physical conditions impact t...   \n",
       "1114  What health condition can occur due to an imba...   \n",
       "\n",
       "                                           ground_truth  \\\n",
       "0     Cracked cuticles allow for easy water absorpti...   \n",
       "1     Intact cuticles remain impermeable due to the ...   \n",
       "2     Heat and alkaline treatments can temporarily r...   \n",
       "3     The production of healthy sweeteners like fruc...   \n",
       "4     Fructose can be made using either multi-enzyma...   \n",
       "...                                                 ...   \n",
       "1110  Obesity is commonly caused by excessive food i...   \n",
       "1111  Sedentary lifestyles affect the homeostasis of...   \n",
       "1112  The research suggests both indirect and direct...   \n",
       "1113  Mental and physical conditions of the host sev...   \n",
       "1114  An imbalance in the composition of the microbi...   \n",
       "\n",
       "                                                 answer  \\\n",
       "0     Cracked cuticles in soybean cultivars allow fo...   \n",
       "1     Intact cuticles remain impermeable to water be...   \n",
       "2     The permeability of intact cuticles can be tem...   \n",
       "3     The production of healthy sweeteners like fruc...   \n",
       "4     Fructose can be produced using either multi-en...   \n",
       "...                                                 ...   \n",
       "1110  The primary lifestyle factors contributing to ...   \n",
       "1111  Sedentary lifestyles negatively impact energy ...   \n",
       "1112  The research suggests that there may be indire...   \n",
       "1113  Mental and physical conditions significantly i...   \n",
       "1114  An imbalance in the composition of the microbi...   \n",
       "\n",
       "                                               contexts  context_entity_recall  \n",
       "0     ['This research investigates the differences i...               0.666667  \n",
       "1     ['This research investigates the differences i...               0.500000  \n",
       "2     ['This research investigates the differences i...               0.666667  \n",
       "3     ['The production of healthy sweeteners like fr...               1.000000  \n",
       "4     ['The production of healthy sweeteners like fr...               0.750000  \n",
       "...                                                 ...                    ...  \n",
       "1110  ['Obesity is one of very first warning signs f...               0.333333  \n",
       "1111  ['In fact, it is usually the consequence of se...               0.666667  \n",
       "1112  ['Although the manufacturing of living A. muci...               1.000000  \n",
       "1113  ['Gut microbiota symbiotically reside in human...               0.200000  \n",
       "1114  ['Gut microbiota symbiotically reside in human...               0.333333  \n",
       "\n",
       "[1115 rows x 5 columns]"
      ]
     },
     "execution_count": 9,
     "metadata": {},
     "output_type": "execute_result"
    }
   ],
   "source": [
    "entity_recall = pd.read_csv('dataset_condition_1_context_entity_recall_2024-10-13-12-40-25.csv')\n",
    "entity_recall"
   ]
  },
  {
   "cell_type": "code",
   "execution_count": 18,
   "metadata": {},
   "outputs": [
    {
     "name": "stdout",
     "output_type": "stream",
     "text": [
      "Filtered entity recall has been written to 'filtered_entity_recall.txt'\n"
     ]
    }
   ],
   "source": [
    "# Assuming entity_recall is a pandas DataFrame\n",
    "filtered_entity_recall = entity_recall[entity_recall['context_entity_recall'] < 0.5]\n",
    "\n",
    "save_name = 'filtered_entity_recall.txt'\n",
    "# Open a text file to write the output\n",
    "with open(save_name, 'w') as f:\n",
    "    # Iterate over the filtered DataFrame and write each element to the file\n",
    "    for index, row in filtered_entity_recall.iterrows():\n",
    "        f.write(f\"Row {index}:\\n\")\n",
    "        f.write(f\"Question: {row['question']}\\n\")\n",
    "        f.write(f\"Ground Truth: {row['ground_truth']}\\n\")\n",
    "        f.write(f\"Answer: {row['answer']}\\n\")\n",
    "        f.write(f\"Contexts: {row['contexts']}\\n\")\n",
    "        f.write(f\"Context Entity Recall: {row['context_entity_recall']}\\n\")\n",
    "        f.write(\"\\n\")  # Adding a blank line for better readability\n",
    "\n",
    "print(f\"Filtered entity recall has been written to '{save_name}'\")"
   ]
  },
  {
   "cell_type": "code",
   "execution_count": 10,
   "metadata": {},
   "outputs": [
    {
     "data": {
      "image/png": "[encoded data removed]",
      "text/plain": [
       "<Figure size 800x600 with 1 Axes>"
      ]
     },
     "metadata": {},
     "output_type": "display_data"
    }
   ],
   "source": [
    "import matplotlib.pyplot as plt\n",
    "import seaborn as sns\n",
    "\n",
    "# Plot the distribution using seaborn\n",
    "plt.figure(figsize=(8, 6))\n",
    "sns.histplot(entity_recall['context_entity_recall'], bins=30, kde=True)\n",
    "\n",
    "# Add title and labels\n",
    "plt.title('Distribution of entity_recall', fontsize=16)\n",
    "plt.xlabel('Context Recall', fontsize=12)\n",
    "plt.ylabel('Frequency', fontsize=12)\n",
    "\n",
    "# Show the plot\n",
    "plt.show()"
   ]
  },
  {
   "cell_type": "code",
   "execution_count": null,
   "metadata": {},
   "outputs": [],
   "source": []
  }
 ],
 "metadata": {
  "kernelspec": {
   "display_name": "llm",
   "language": "python",
   "name": "python3"
  },
  "language_info": {
   "codemirror_mode": {
    "name": "ipython",
    "version": 3
   },
   "file_extension": ".py",
   "mimetype": "text/x-python",
   "name": "python",
   "nbconvert_exporter": "python",
   "pygments_lexer": "ipython3",
   "version": "3.11.9"
  }
 },
 "nbformat": 4,
 "nbformat_minor": 2
}
