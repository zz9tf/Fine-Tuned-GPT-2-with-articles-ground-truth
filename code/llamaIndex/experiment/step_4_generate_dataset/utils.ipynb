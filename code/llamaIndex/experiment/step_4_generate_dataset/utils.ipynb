{
 "cells": [
  {
   "cell_type": "code",
   "execution_count": 2,
   "metadata": {},
   "outputs": [],
   "source": [
    "import os\n",
    "import pandas as pd\n",
    "\n",
    "qa_file_name = 'gpt-4o-batch-all-target_extract_gpt-4o-QAExtractor-batch_pid_0.jsonl.csv'\n",
    "qa_dataset_path = os.path.join(os.path.abspath('../../.cache'), qa_file_name)\n",
    "df = pd.read_csv(qa_dataset_path)"
   ]
  },
  {
   "cell_type": "code",
   "execution_count": 3,
   "metadata": {},
   "outputs": [
    {
     "name": "stdout",
     "output_type": "stream",
     "text": [
      "[Invalid rqa pairs] No objs found at row id: 10 which should have 3 questions\n",
      "[Invalid rqa pairs] No objs found at row id: 126 which should have 1 questions\n",
      "[Invalid rqa pairs] No objs found at row id: 195 which should have 1 questions\n",
      "[Invalid rqa pairs] No objs found at row id: 415 which should have 1 questions\n",
      "[Invalid rqa pairs] No objs found at row id: 457 which should have 1 questions\n",
      "[Invalid rqa pairs] No objs found at row id: 556 which should have 1 questions\n",
      "[Invalid rqa pairs] No objs found at row id: 561 which should have 1 questions\n",
      "[Invalid rqa pairs] No objs found at row id: 574 which should have 1 questions\n",
      "[Invalid rqa pairs] No objs found at row id: 579 which should have 1 questions\n",
      "[Invalid rqa pairs] No objs found at row id: 631 which should have 1 questions\n",
      "[Invalid rqa pairs] No objs found at row id: 641 which should have 1 questions\n",
      "[Invalid rqa pairs] No objs found at row id: 709 which should have 1 questions\n"
     ]
    }
   ],
   "source": [
    "import json\n",
    "\n",
    "def get_context(input_text):\n",
    "    lines = input_text.split('\\n')\n",
    "    for idx, text in enumerate(lines):\n",
    "        if text.startswith('Here is the context'):\n",
    "            # The next line will be the context string\n",
    "            if idx + 1 < len(lines):\n",
    "                return lines[idx + 1]\n",
    "\n",
    "def get_quetions_answers_and_groundtruth(df):\n",
    "    questions = []\n",
    "    ground_truths = []\n",
    "    correct_contexts = []\n",
    "\n",
    "    for row_id, obj_str in enumerate(df['objs']):\n",
    "        objs = json.loads(obj_str)\n",
    "        if len(objs) == 0:\n",
    "            print(f\"[Invalid rqa pairs] No objs found at row id: {row_id} which should have {df['qar_num'][row_id]} questions\")\n",
    "        for obj in objs:\n",
    "            questions.append(obj['Question'])\n",
    "            ground_truths.append(obj['Answer'])\n",
    "            correct_contexts.append([get_context(df['input_text'][row_id])])\n",
    "    return questions, ground_truths, correct_contexts\n",
    "\n",
    "q, g, c = get_quetions_answers_and_groundtruth(df)"
   ]
  },
  {
   "cell_type": "code",
   "execution_count": 1,
   "metadata": {},
   "outputs": [],
   "source": [
    "import os\n",
    "from transformers import AutoModelForSequenceClassification, AutoTokenizer\n",
    "\n",
    "model = AutoModelForSequenceClassification.from_pretrained(os.path.abspath('../step_3_level_predictor/results/checkpoint-945'))\n",
    "tokenizer = AutoTokenizer.from_pretrained(os.path.abspath('../step_3_level_predictor/results/checkpoint-945'))"
   ]
  },
  {
   "cell_type": "code",
   "execution_count": 2,
   "metadata": {},
   "outputs": [
    {
     "name": "stdout",
     "output_type": "stream",
     "text": [
      "Predicted class: 2\n"
     ]
    }
   ],
   "source": [
    "import torch\n",
    "\n",
    "# Example input text\n",
    "input_text = \"This is an example sentence.\"\n",
    "\n",
    "# Tokenize the input\n",
    "inputs = tokenizer(input_text, return_tensors=\"pt\", truncation=True)\n",
    "\n",
    "# Put the model in evaluation mode\n",
    "model.eval()\n",
    "\n",
    "# Get the prediction\n",
    "with torch.no_grad():\n",
    "    outputs = model(**inputs)\n",
    "    logits = outputs.logits\n",
    "    predicted_class = torch.argmax(logits, dim=-1)\n",
    "\n",
    "print(f\"Predicted class: {predicted_class.item()}\")"
   ]
  }
 ],
 "metadata": {
  "kernelspec": {
   "display_name": "llm",
   "language": "python",
   "name": "python3"
  },
  "language_info": {
   "codemirror_mode": {
    "name": "ipython",
    "version": 3
   },
   "file_extension": ".py",
   "mimetype": "text/x-python",
   "name": "python",
   "nbconvert_exporter": "python",
   "pygments_lexer": "ipython3",
   "version": "3.11.9"
  }
 },
 "nbformat": 4,
 "nbformat_minor": 2
}
