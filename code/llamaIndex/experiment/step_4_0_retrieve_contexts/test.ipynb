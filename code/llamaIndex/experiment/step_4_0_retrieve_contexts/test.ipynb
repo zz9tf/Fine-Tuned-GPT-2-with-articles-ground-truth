{
 "cells": [
  {
   "cell_type": "code",
   "execution_count": 17,
   "metadata": {},
   "outputs": [],
   "source": [
    "import chromadb\n",
    "from llama_index.vector_stores.chroma import ChromaVectorStore\n",
    "from llama_index.core import StorageContext\n",
    "from llama_index.core import VectorStoreIndex\n",
    "\n",
    "chroma_client = chromadb.EphemeralClient()\n",
    "chroma_collection = chroma_client.create_collection(\"quickstart\")\n",
    "vector_store = ChromaVectorStore(chroma_collection=chroma_collection)\n",
    "storage_context = StorageContext.from_defaults(vector_store=vector_store)"
   ]
  },
  {
   "cell_type": "code",
   "execution_count": 4,
   "metadata": {},
   "outputs": [],
   "source": [
    "v = VectorStoreIndex(\n",
    "    index_struct=VectorStoreIndex.index_struct_cls(index_id='test'),\n",
    "    storage_context=storage_context,\n",
    "    embed_model='skip'\n",
    ")\n",
    "retriever = v.as_retriever()"
   ]
  },
  {
   "cell_type": "code",
   "execution_count": 16,
   "metadata": {},
   "outputs": [],
   "source": [
    "\n",
    "retriever._vector_store.client._client.delete_collection(retriever._vector_store.client.name)"
   ]
  },
  {
   "cell_type": "code",
   "execution_count": 19,
   "metadata": {},
   "outputs": [],
   "source": [
    "retriever._vector_store._collection = chroma_collection"
   ]
  },
  {
   "cell_type": "code",
   "execution_count": 22,
   "metadata": {},
   "outputs": [
    {
     "data": {
      "text/plain": [
       "['1ac4550a-a88c-4226-82e3-4804cab047d0']"
      ]
     },
     "execution_count": 22,
     "metadata": {},
     "output_type": "execute_result"
    }
   ],
   "source": [
    "from llama_index.core.schema import MetadataMode, TextNode\n",
    "retriever._vector_store.add([TextNode(text=\"test\", embedding=[1,0,0,0])])"
   ]
  },
  {
   "cell_type": "code",
   "execution_count": null,
   "metadata": {},
   "outputs": [],
   "source": [
    "import os\n",
    "import chromadb\n",
    "from llama_index.vector_stores.chroma import ChromaVectorStore\n",
    "\n",
    "for i in range(1,5):\n",
    "    db_path = f'{i}_chroma'\n",
    "    chroma_client = chromadb.PersistentClient(path=db_path)\n",
    "    chroma_collection = chroma_client.get_or_create_collection(name='quickstart')\n",
    "    vector_stores.append(ChromaVectorStore(chroma_collection=chroma_collection))"
   ]
  },
  {
   "cell_type": "markdown",
   "metadata": {},
   "source": [
    "### Visualize retrieval result"
   ]
  },
  {
   "cell_type": "code",
   "execution_count": null,
   "metadata": {},
   "outputs": [
    {
     "name": "stderr",
     "output_type": "stream",
     "text": [
      "Reading gpt-4o-batch-all-target_all-level_0_chroma.jsonl:   0%|          | 0.00/16.5G [00:00<?, ?B/s]"
     ]
    },
    {
     "name": "stderr",
     "output_type": "stream",
     "text": [
      "Reading gpt-4o-batch-all-target_all-level_0_chroma.jsonl:   5%|▍         | 842M/16.5G [00:13<03:50, 73.1MB/s] "
     ]
    }
   ],
   "source": [
    "import os\n",
    "import json\n",
    "import matplotlib.pyplot as plt\n",
    "from tqdm import tqdm\n",
    "\n",
    "id_num = []\n",
    "text_num = []\n",
    "length_of_text = {}\n",
    "file_path = './._cache/gpt-4o-batch-all-target_all-level_0_chroma.jsonl'\n",
    "file_size = os.path.getsize(file_path)\n",
    "with open(os.path.abspath(file_path), 'r') as read_file:\n",
    "    with tqdm(total=file_size, desc=f'Reading {file_path.split(os.path.sep)[-1]}', unit='B', unit_scale=True, unit_divisor=1024) as pbar:\n",
    "        for line in read_file:\n",
    "            data = json.loads(line)\n",
    "            id_set = set()\n",
    "            text_set = set()\n",
    "            if isinstance(data['retrieved_nodes'], dict):\n",
    "                for level in data['retrieved_nodes']:\n",
    "                    for node in data['retrieved_nodes'][level]:\n",
    "                        id_set.add(node['id_'])\n",
    "                        text_set.add(node['text'])\n",
    "                    \n",
    "                    length = sum([len(node['text']) for node in data['retrieved_nodes'][level]])\n",
    "                    if level not in length_of_text:\n",
    "                        length_of_text[level] = []\n",
    "                    length_of_text[level].append(length)\n",
    "                    \n",
    "            else:\n",
    "                id_set = set()\n",
    "                text_set = set()\n",
    "                for node in data['retrieved_nodes']:\n",
    "                    id_set.add(node['id_'])\n",
    "                    text_set.add(node['text'])\n",
    "                    \n",
    "            id_num.append(len(id_set))\n",
    "            text_num.append(len(text_set))\n",
    "            \n",
    "            pbar.update(len(line))\n",
    "\n",
    "data_to_plot = [id_num, text_num] + list(length_of_text.values())\n",
    "labels = ['ID Numbers', 'Text Numbers'] + [f'Length of Text - {level}' for level in length_of_text.keys()]\n",
    "\n",
    "# Plot the box plot\n",
    "plt.figure(figsize=(10, 6))\n",
    "plt.boxplot(data_to_plot, labels=labels, patch_artist=True, \n",
    "            boxprops=dict(facecolor='lightblue', color='blue'),\n",
    "            medianprops=dict(color='red'))\n",
    "\n",
    "min_values = [min(data) for data in data_to_plot]\n",
    "for i, min_val in enumerate(min_values):\n",
    "    plt.text(i + 1, min_val, f'{min_val}', color='blue', ha='center', va='bottom', fontsize=10)\n",
    "\n",
    "# Add title and labels\n",
    "plt.title('Box Plot for ID Numbers, Text Numbers, and Length of Text', fontsize=14)\n",
    "plt.ylabel('Values', fontsize=12)\n",
    "plt.grid(axis='y', linestyle='--', alpha=0.7)\n",
    "\n",
    "# Show the plot\n",
    "plt.show()"
   ]
  },
  {
   "cell_type": "code",
   "execution_count": 3,
   "metadata": {},
   "outputs": [
    {
     "data": {
      "text/plain": [
       "221"
      ]
     },
     "execution_count": 3,
     "metadata": {},
     "output_type": "execute_result"
    }
   ],
   "source": [
    "length_of_text.index(17320)"
   ]
  },
  {
   "cell_type": "code",
   "execution_count": null,
   "metadata": {},
   "outputs": [],
   "source": [
    "line_number = 221\n",
    "with open(file_path, 'r') as file:\n",
    "    for current_line_number, line in enumerate(file):\n",
    "        if current_line_number == line_number:\n",
    "            data = json.loads(line)  # .strip() removes any leading/trailing whitespace or newline\n",
    "            break"
   ]
  },
  {
   "cell_type": "code",
   "execution_count": 10,
   "metadata": {},
   "outputs": [
    {
     "name": "stdout",
     "output_type": "stream",
     "text": [
      "9167\n",
      "4372\n",
      "2793\n",
      "2775\n"
     ]
    }
   ],
   "source": [
    "for level in data['retrieved_nodes']:\n",
    "    length = sum([len(node['text']) for node in data['retrieved_nodes'][level]])\n",
    "    print(length)"
   ]
  },
  {
   "cell_type": "code",
   "execution_count": 2,
   "metadata": {},
   "outputs": [
    {
     "data": {
      "text/plain": [
       "{'question_node_id': '3d751495-ce66-4254-a79f-ed8d740b9424',\n",
       " 'question_id': 0,\n",
       " 'retrieved_nodes_id': ['3d751495-ce66-4254-a79f-ed8d740b9424',\n",
       "  'bb171619-265f-4f07-8261-558ed5301732',\n",
       "  '9883acd0-621d-41cb-95d8-94353bd89de6',\n",
       "  '95174e27-8fb4-4b7a-9c9f-0ddb3ab08a31',\n",
       "  '71503056-c446-457a-91a4-7c1ab3ef6e97',\n",
       "  '7b4b9a02-4867-4933-8edf-d16dcfb851b8',\n",
       "  'f8f21811-b8d9-43bd-86d7-f5664ddcf251',\n",
       "  'b61b9701-a5ab-41d9-8a10-7325d58a39e8',\n",
       "  '13cdd47d-b0a8-414c-8410-cbe0deb6fb90',\n",
       "  '65dd068d-b628-49f3-9433-92660d8bf648',\n",
       "  'ed09992c-7852-4561-b8fb-16ed13ff9cfb',\n",
       "  '67b520b7-0a4f-421d-9663-2da4f987f03d',\n",
       "  'b668db5d-0e65-42fc-a3b5-38ae5ac659f1',\n",
       "  '949d5ef3-d469-40a3-943f-fa7f8f31ef73',\n",
       "  '3936d6a8-cd1b-43ae-9246-d620312cf7f1'],\n",
       " 'retrieved_contexts': ['This research investigates the differences in water uptake rates among various soybean cultivars by analyzing their seed coat cutin structures. The findings show that cracked cuticles allow for easy water absorption while intact ones remain impermeable due to the absence of typical mid-chain hydroxylated fatty acids. Heat and alkaline treatments can reverse this permeability temporarily.',\n",
       "  'This study examines the imbibition characteristics of six soybean varieties, revealing that four cultivars exhibit soft seed properties due to differing degrees of permeability. Conversely, cv. OX-951 displays hard seeds with no notable water absorption observed throughout the experiment.',\n",
       "  'Despite their suggestive appearance, pits are not involved in imbibition of water by soybean seeds (Ma et al.,  2 00 4 ). ] ). ]',\n",
       "  'Researchers tested various methods to improve water permeability in soybean seeds, ultimately finding success through boiling the seeds in 1M NaOH for 5 minutes. This process removed portions of the cuticle and endocarp deposits, allowing for greater water uptake efficiency without causing damage to the seed coat or underlying cells.',\n",
       "  'This research focuses on understanding the structural basis of soybean seed coat impermeability, particularly the anatomical features and roles of the outer cuticle. It emphasizes the importance of cuticular cracks in regulating water uptake during germination and suggests genetic modifications may help create more permeable seeds.',\n",
       "  '1. The study analyzed global gene expression differences between two soybean varieties with different levels of drought resistance.\\n2. It was found that pectin metabolism plays a significant role in improving cell wall properties, leading to better hydraulic conductivity and water retention.',\n",
       "  'The study examines the impact of removing specific parts of the outer cuticle on soybean seed hydration and germination. Researchers discovered that certain proteins and lipids form tight cell connections and create a hydrophobic barrier on the seed coat, which prevents water absorption. They also compared the effects of different treatments on the seed cuticles and found that NaOH selectively eliminates x-hydroxy fatty acids from the outer cuticle, affecting its permeability to water.',\n",
       "  'This experimental result is consistent with an earlier anatomical study showing that soft seeds of soybean have naturally occurring, minute cracks in their outer cuticle whereas hard seeds do not (Ma et al., 2004).',\n",
       "  'in evaluations of E. varivestis feeding on soybean cultivars.',\n",
       "  'The results presented herein provide direct experimental evidence that the inconspicuous, outermost cuticle of a soybean seed governs its initial ability to imbibe water, a necessary prerequisite for full hydration and seed germination. Selective removal of patches of the outer cuticle with hot alkali did render the seeds capable of imbibition. In accordance with this premise, when areas of the outer cuticle were removed by hot alkali treatment, seeds were changed from hard to soft. This experimental result is consistent with an earlier anatomical study showing that soft seeds of soybean have naturally occurring, minute cracks in their outer cuticle whereas hard seeds do not (Ma et al., 2004).',\n",
       "  'Understanding the basis for hard seed impermeability to water is an essential first step in developing strategies to handle such seeds on a large scale at the processing stage, and to plan suitable genetic modifications., they constitute a major problem during food processing where rapid and uniform hydration is important for the production of quality soybean foods such as soymilk, tofu, and miso. Understanding the basis for hard seed impermeability to water is an essential first step in developing strategies to handle such seeds on a large scale at the processing stage, and to plan suitable genetic modifications.',\n",
       "  'S affects AM fungal community structures in roots of different soybean cultivars .',\n",
       "  'The results presented herein provide direct experimental evidence that the inconspicuous, outermost cuticle of a soybean seed governs its initial ability to imbibe water, a necessary prerequisite for full hydration and seed germination. Selective removal of patches of the outer cuticle with hot alkali did render the seeds capable of imbibition. In accordance with this premise, when areas of the outer cuticle were removed by hot alkali treatment, seeds were changed from hard to soft.',\n",
       "  '• Water which is absorbed from the soil by the roots.',\n",
       "  '• Water which is absorbed from the soil by the roots.']}"
      ]
     },
     "execution_count": 2,
     "metadata": {},
     "output_type": "execute_result"
    }
   ],
   "source": [
    "import os\n",
    "import json\n",
    "with open(os.path.abspath('./retrieved_contexts/gpt-4o-batch-all-target_one_retrieved_contexts.jsonl'), 'r') as read_file:\n",
    "    line = read_file.readline()\n",
    "    data = json.loads(line)\n",
    "data"
   ]
  },
  {
   "cell_type": "code",
   "execution_count": 4,
   "metadata": {},
   "outputs": [
    {
     "name": "stdout",
     "output_type": "stream",
     "text": [
      "15\n",
      "14\n"
     ]
    }
   ],
   "source": [
    "id_set = set(data['retrieved_nodes_id'])\n",
    "text_set = set(data['retrieved_contexts'])\n",
    "\n",
    "print(len(id_set))\n",
    "print(len(text_set))"
   ]
  },
  {
   "cell_type": "code",
   "execution_count": 5,
   "metadata": {},
   "outputs": [
    {
     "data": {
      "text/plain": [
       "4530"
      ]
     },
     "execution_count": 5,
     "metadata": {},
     "output_type": "execute_result"
    }
   ],
   "source": [
    "sum([len(text) for text in data['retrieved_contexts']])"
   ]
  },
  {
   "cell_type": "code",
   "execution_count": 12,
   "metadata": {},
   "outputs": [
    {
     "name": "stderr",
     "output_type": "stream",
     "text": [
      "Reading gpt-4o-batch-all-target_all-level_1_chroma_not_finish.jsonl:   0%|          | 0.00/5.49G [01:56<?, ?B/s]"
     ]
    },
    {
     "name": "stdout",
     "output_type": "stream",
     "text": [
      "290\n",
      "f6439ca3-ecf0-45a6-ad07-1d8f7e852724\n"
     ]
    },
    {
     "name": "stderr",
     "output_type": "stream",
     "text": [
      "\n"
     ]
    }
   ],
   "source": [
    "file_path = './._cache/gpt-4o-batch-all-target_all-level_1_chroma_not_finish.jsonl'\n",
    "file_size = os.path.getsize(file_path)\n",
    "with open(os.path.abspath(file_path), 'r') as read_file:\n",
    "    with tqdm(total=file_size, desc=f'Reading {file_path.split(os.path.sep)[-1]}', unit='B', unit_scale=True, unit_divisor=1024) as pbar:\n",
    "        for i, line in enumerate(read_file):\n",
    "            data = json.loads(line)\n",
    "print(i)\n",
    "print(data['question_node_id'])"
   ]
  },
  {
   "cell_type": "code",
   "execution_count": null,
   "metadata": {},
   "outputs": [],
   "source": []
  }
 ],
 "metadata": {
  "kernelspec": {
   "display_name": "llm",
   "language": "python",
   "name": "python3"
  },
  "language_info": {
   "codemirror_mode": {
    "name": "ipython",
    "version": 3
   },
   "file_extension": ".py",
   "mimetype": "text/x-python",
   "name": "python",
   "nbconvert_exporter": "python",
   "pygments_lexer": "ipython3",
   "version": "3.11.9"
  }
 },
 "nbformat": 4,
 "nbformat_minor": 2
}
