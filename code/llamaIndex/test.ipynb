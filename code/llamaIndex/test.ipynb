{
 "cells": [
  {
   "cell_type": "code",
   "execution_count": 1,
   "metadata": {},
   "outputs": [],
   "source": [
    "from utils.custom_document_reader import CustomDocumentReader\n",
    "\n",
    "documents = CustomDocumentReader(\n",
    "    input_dir=\"/home/zhengzheng/scratch0/projects/Fine-Tuned-GPT-2-with-articles-ground-truth/data\",\n",
    "    cache_dir=\"/home/zhengzheng/scratch0/projects/Fine-Tuned-GPT-2-with-articles-ground-truth/code/llamaIndex/.cache\",\n",
    "    config_path=\"/home/zhengzheng/scratch0/projects/Fine-Tuned-GPT-2-with-articles-ground-truth/code/llamaIndex/utils/config.json\",\n",
    "    remove_cache=False\n",
    ")._load_data()"
   ]
  },
  {
   "cell_type": "code",
   "execution_count": 2,
   "metadata": {},
   "outputs": [],
   "source": [
    "from llama_index.core.node_parser import SentenceSplitter\n",
    "\n",
    "ss1 = SentenceSplitter(\n",
    "    chunk_size=1024,\n",
    "    include_metadata=True,\n",
    "    include_prev_next_rel=True,\n",
    ")"
   ]
  },
  {
   "cell_type": "code",
   "execution_count": 3,
   "metadata": {},
   "outputs": [],
   "source": [
    "from llama_index.core.storage.docstore import SimpleDocumentStore\n",
    "nodes = ss1.get_nodes_from_documents(documents)\n",
    "docstore = SimpleDocumentStore()\n",
    "docstore.add_documents(nodes)\n",
    "docstore.persist(persist_path=\"/home/zhengzheng/scratch0/projects/Fine-Tuned-GPT-2-with-articles-ground-truth/code/llamaIndex/.cache/test.json\")\n"
   ]
  },
  {
   "cell_type": "code",
   "execution_count": 8,
   "metadata": {},
   "outputs": [
    {
     "ename": "TypeError",
     "evalue": "NodeParser.get_nodes_from_documents() missing 1 required positional argument: 'documents'",
     "output_type": "error",
     "traceback": [
      "\u001b[0;31m---------------------------------------------------------------------------\u001b[0m",
      "\u001b[0;31mTypeError\u001b[0m                                 Traceback (most recent call last)",
      "Cell \u001b[0;32mIn[8], line 3\u001b[0m\n\u001b[1;32m      1\u001b[0m \u001b[38;5;28;01mfrom\u001b[39;00m \u001b[38;5;21;01mllama_index\u001b[39;00m\u001b[38;5;21;01m.\u001b[39;00m\u001b[38;5;21;01mcore\u001b[39;00m\u001b[38;5;21;01m.\u001b[39;00m\u001b[38;5;21;01mnode_parser\u001b[39;00m \u001b[38;5;28;01mimport\u001b[39;00m SimpleFileNodeParser\n\u001b[0;32m----> 3\u001b[0m nodes \u001b[38;5;241m=\u001b[39m \u001b[43mSimpleFileNodeParser\u001b[49m\u001b[38;5;241;43m.\u001b[39;49m\u001b[43mget_nodes_from_documents\u001b[49m\u001b[43m(\u001b[49m\u001b[43mdocuments\u001b[49m\u001b[43m)\u001b[49m\n",
      "\u001b[0;31mTypeError\u001b[0m: NodeParser.get_nodes_from_documents() missing 1 required positional argument: 'documents'"
     ]
    }
   ],
   "source": [
    "from llama_index.core.node_parser import SimpleFileNodeParser\n",
    "\n",
    "nodes = SimpleFileNodeParser.get_nodes_from_documents(documents=documents)"
   ]
  },
  {
   "cell_type": "code",
   "execution_count": 9,
   "metadata": {},
   "outputs": [
    {
     "name": "stdout",
     "output_type": "stream",
     "text": [
      "key: id_\n",
      "value: 9a552180-6da4-4e61-ab2c-48f113195f75\n",
      "\n",
      "\n",
      "key: embedding\n",
      "value: None\n",
      "\n",
      "\n",
      "key: metadata\n",
      "value: {'title': \"THE ROLE OF FREE RADICALS IN THE PATHOPHYSIOLOGY OF PARKINSON'S DISEASE\", 'authors': ['Sultana Banulescu'], 'sections': [[80, 1324], [1326, 5554], [5556, 11481], [11483, 14121], [14123, 16320], [16322, 18591], [18593, 25018], [25020, 28963], [28965, 31086], [31088, 33499], [33501, 36989], [36991, 54352]], 'file_name': '1_SHAKING_Palsy_The_Role_of_Free_Radical.pdf'}\n",
      "\n",
      "\n",
      "key: excluded_embed_metadata_keys\n",
      "value: []\n",
      "\n",
      "\n",
      "key: excluded_llm_metadata_keys\n",
      "value: []\n",
      "\n",
      "\n",
      "key: relationships\n",
      "value: {<NodeRelationship.SOURCE: '1'>: {'node_id': 'c1f72f5a-0fac-49f5-8a19-de4453a2ee44', 'node_type': <ObjectType.DOCUMENT: '4'>, 'metadata': {'title': \"THE ROLE OF FREE RADICALS IN THE PATHOPHYSIOLOGY OF PARKINSON'S DISEASE\", 'authors': ['Sultana Banulescu'], 'sections': [[80, 1324], [1326, 5554], [5556, 11481], [11483, 14121], [14123, 16320], [16322, 18591], [18593, 25018], [25020, 28963], [28965, 31086], [31088, 33499], [33501, 36989], [36991, 54352]], 'file_name': '1_SHAKING_Palsy_The_Role_of_Free_Radical.pdf'}, 'hash': '5a79407542371b1c879a725dacc4723273747b6ae7191b169c514ebb5045ebac', 'class_name': 'RelatedNodeInfo'}, <NodeRelationship.NEXT: '3'>: {'node_id': '436fa01a-783e-452a-9b19-bf8d32e768e4', 'node_type': <ObjectType.TEXT: '1'>, 'metadata': {}, 'hash': 'fa19741687e89c5c8a9bea5265df636ff85d67ddc8bae72475b60dae4fbac7ad', 'class_name': 'RelatedNodeInfo'}}\n",
      "\n",
      "\n",
      "key: text\n",
      "value: Title: THE ROLE OF FREE RADICALS IN THE PATHOPHYSIOLOGY OF PARKINSON'S DISEASE\n",
      "\n",
      "[1. Abstract]\n",
      "Parkinson's disease is a chronic illness classified within the category of neurodegenative diseases along with Alzheimer's disease, Huntington's disease, amyotrophic lateral sclerosis, Friedreich ataxia and others. It consists of progressive degeneration of the dopaminergic neurons in the substantia nigra in the midbrain. Its onset was correlated with aging, toxic events, and metabolic causes. There is no clear-cut pattern of inheritance in Parkinson's disease, although a genetic component was incriminated in a small percentage of cases. There is strong evidence that it may be caused largely by oxidative stress and metal toxicity; patients have low levels of natural antioxidants (glutathione and superoxide dismutase) and high leve ls of iron in the substantia nigra and other areas of their brain, leading to the hypothesis that iron and other transition metals help catalyze the free radical reactions that destroy the dopaminergic neurons, and that high levels of antioxidants (e.g., uric acid, flavonoids, ubiquinone) may help prevent or slow down the progress of Parkinson's disease. This review paper is dedicated to analyzing this hypothesis and also attempts to define possible future directions of investigation.\n",
      "\n",
      "[2. Introduction]\n",
      "Parkinson's disease is a chronic illness due to the progressive degeneration of those neurons that normally produce the neurotransmitter dopamine, leading to a dopamine deficiency in the basal ganglia. It is characterized by the following symptoms: muscular rigidity, resting tremor, bradykinesia (slow movement) or akinesia (absence or difficulty in initiating movement), shuffling gait, and stooped posture; depression or dementia may also be present at later stages.\n",
      "The most characteristic symptom, the accentuated tremor, led the British physician who first described this disease in 1817, James Parkinson, to name it \"shaking palsy\". Parkinson's disease is more common among men than among women and is four times more frequent in Caucasians than in darkly pigmented races. In the United States, PD affects about 1% of the population over age 60 [1]. Parkinson's disease is idiopathic, i.e. of no known cause. It is rarely inherited and less than 1% of all cases are believed to have a genetic component. The main pathological feature of PD is the progressive destruction of dopamine-producing cells in the substantia nigra region of the brain stem. The loss of dopamine affects the balance between dopamine and acetylcholine in the brain and subsequently the output to various muscles. Symptoms develop once 70% of the dopaminergic neurons in the substantia nigra have been destroyed . Parkinson's disease is idiopathic, i.e. of no known cause. It is rarely inherited and less than 1% of all cases are believed to have a genetic component. The main pathological feature of PD is the progressive destruction of dopamine-producing cells in the substantia nigra region of the brain stem. The loss of dopamine affects the balance between dopamine and acetylcholine in the brain and subsequently the output to various muscles. Symptoms develop once 70% of the dopaminergic neurons in the substantia nigra have been destroyed [1]. Dopamine replacement is still considered the most efficient treatment for PD. Dopamine itself does not cross the blood-brain barrier and is consequently administered in the form of its chemical precursor, levodopa. Levodopa is given in combination with carbidopa, which inhibits the metabolism of levodopa in peripheral tissues in order to maximize its CNS effect. Dopamine agonists (e.g. bromocriptine) are also used. Avaiable surgical techniques are either ablative (thalamotomy and pallidotomy), augmentative (high-frequency deep-brain stimulation) or restaurative (gene therapy and neurotransplantation). Additiona l adjunctive therapies include physical therapy and nutritional counseling.\n",
      "\n",
      "\n",
      "key: mimetype\n",
      "value: text/plain\n",
      "\n",
      "\n",
      "key: start_char_idx\n",
      "value: 0\n",
      "\n",
      "\n",
      "key: end_char_idx\n",
      "value: 3970\n",
      "\n",
      "\n",
      "key: text_template\n",
      "value: {metadata_str}\n",
      "\n",
      "{content}\n",
      "\n",
      "\n",
      "key: metadata_template\n",
      "value: {key}: {value}\n",
      "\n",
      "\n",
      "key: metadata_seperator\n",
      "value: \n",
      "\n",
      "\n",
      "\n",
      "key: class_name\n",
      "value: TextNode\n",
      "\n",
      "\n"
     ]
    }
   ],
   "source": [
    "for k, v in nodes[0].to_dict().items():\n",
    "    print(f\"key: {k}\\nvalue: {v}\\n\\n\")"
   ]
  },
  {
   "cell_type": "code",
   "execution_count": 1,
   "metadata": {},
   "outputs": [],
   "source": [
    "from utils.custom_parser import CustomHierarchicalNodeParser\n",
    "hnp = CustomHierarchicalNodeParser.from_defaults()"
   ]
  },
  {
   "cell_type": "code",
   "execution_count": 3,
   "metadata": {},
   "outputs": [
    {
     "name": "stdout",
     "output_type": "stream",
     "text": [
      "Doc ID: 85244a98-09e5-40ca-bb1c-ca37e37e41d6\n",
      "Text: Title: THE ROLE OF FREE RADICALS IN THE PATHOPHYSIOLOGY OF\n",
      "PARKINSON'S DISEASE  [1. Abstract] Parkinson's disease is a chronic\n",
      "illness classified within the category of neurodegenative diseases\n",
      "along with Alzheimer's disease, Huntington's disease, amyotrophic\n",
      "lateral sclerosis, Friedreich ataxia and others. It consists of\n",
      "progressive degeneratio...\n"
     ]
    },
    {
     "ename": "NameError",
     "evalue": "name 'exit' is not defined",
     "output_type": "error",
     "traceback": [
      "\u001b[0;31m---------------------------------------------------------------------------\u001b[0m",
      "\u001b[0;31mNameError\u001b[0m                                 Traceback (most recent call last)",
      "Cell \u001b[0;32mIn[3], line 1\u001b[0m\n\u001b[0;32m----> 1\u001b[0m \u001b[43mhnp\u001b[49m\u001b[38;5;241;43m.\u001b[39;49m\u001b[43mget_nodes_from_documents\u001b[49m\u001b[43m(\u001b[49m\u001b[43mdocuments\u001b[49m\u001b[43m)\u001b[49m\n",
      "File \u001b[0;32m/scratch0/zhengzheng/projects/Fine-Tuned-GPT-2-with-articles-ground-truth/code/llamaIndex/utils/custom_parser.py:162\u001b[0m, in \u001b[0;36mHierarchicalNodeParser.get_nodes_from_documents\u001b[0;34m(self, documents, show_progress, **kwargs)\u001b[0m\n\u001b[1;32m    160\u001b[0m \u001b[38;5;28;01mfor\u001b[39;00m doc \u001b[38;5;129;01min\u001b[39;00m documents_with_progress:\n\u001b[1;32m    161\u001b[0m     \u001b[38;5;28mprint\u001b[39m(doc)\n\u001b[0;32m--> 162\u001b[0m     \u001b[43mexit\u001b[49m()\n\u001b[1;32m    163\u001b[0m     nodes_from_doc \u001b[38;5;241m=\u001b[39m \u001b[38;5;28mself\u001b[39m\u001b[38;5;241m.\u001b[39m_recursively_get_nodes_from_nodes([doc], \u001b[38;5;241m0\u001b[39m)\n\u001b[1;32m    164\u001b[0m     all_nodes\u001b[38;5;241m.\u001b[39mextend(nodes_from_doc)\n",
      "\u001b[0;31mNameError\u001b[0m: name 'exit' is not defined"
     ]
    }
   ],
   "source": [
    "hnp.get_nodes_from_documents(documents)"
   ]
  },
  {
   "cell_type": "code",
   "execution_count": null,
   "metadata": {},
   "outputs": [],
   "source": []
  }
 ],
 "metadata": {
  "kernelspec": {
   "display_name": "base",
   "language": "python",
   "name": "python3"
  },
  "language_info": {
   "codemirror_mode": {
    "name": "ipython",
    "version": 3
   },
   "file_extension": ".py",
   "mimetype": "text/x-python",
   "name": "python",
   "nbconvert_exporter": "python",
   "pygments_lexer": "ipython3",
   "version": "3.12.2"
  }
 },
 "nbformat": 4,
 "nbformat_minor": 2
}
