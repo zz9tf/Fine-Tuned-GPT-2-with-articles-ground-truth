{
 "cells": [
  {
   "cell_type": "markdown",
   "metadata": {},
   "source": [
    "### Reader"
   ]
  },
  {
   "cell_type": "code",
   "execution_count": 1,
   "metadata": {},
   "outputs": [],
   "source": [
    "import os\n",
    "import xml.etree.ElementTree as ET\n",
    "cache_path = '/home/zhengzheng/scratch0/projects/Fine-Tuned-GPT-2-with-articles-ground-truth/code/llamaIndex/.cache'\n",
    "filenames = [filename for filename in os.listdir(cache_path) if filename.endswith('tei.xml')]\n",
    "\n",
    "\n",
    "def get_full_text(element):\n",
    "    text = element.text or ''\n",
    "    for subelement in element:\n",
    "        text += ET.tostring(subelement, encoding='unicode', method='text')\n",
    "        if subelement.tail:\n",
    "            text += subelement.tail\n",
    "    return text.strip()\n",
    "\n",
    "iter_filenames = (iter(filenames))"
   ]
  },
  {
   "cell_type": "code",
   "execution_count": 5,
   "metadata": {},
   "outputs": [
    {
     "data": {
      "text/plain": [
       "'/home/zhengzheng/scratch0/projects/Fine-Tuned-GPT-2-with-articles-ground-truth/code/llamaIndex/.cache/1_H_NMR_studies_of_molecular_interaction.grobid.tei.xml'"
      ]
     },
     "execution_count": 5,
     "metadata": {},
     "output_type": "execute_result"
    }
   ],
   "source": [
    "file_path = os.path.join(cache_path, next(iter_filenames)) \n",
    "file_path"
   ]
  },
  {
   "cell_type": "code",
   "execution_count": 6,
   "metadata": {},
   "outputs": [],
   "source": [
    "file_dict = {}\n",
    "tree = ET.parse(file_path)\n",
    "root = tree.getroot()\n",
    "\n",
    "namespace = {'tei': 'http://www.tei-c.org/ns/1.0'}"
   ]
  },
  {
   "cell_type": "code",
   "execution_count": 7,
   "metadata": {},
   "outputs": [
    {
     "data": {
      "text/plain": [
       "{'title': 'H NMR studies of molecular interaction of D-glucosamine and N-acetyl-Dglucosamine with capsaicin in aqueous and non-aqueous media'}"
      ]
     },
     "execution_count": 7,
     "metadata": {},
     "output_type": "execute_result"
    }
   ],
   "source": [
    "# title\n",
    "title = root.find('.//tei:teiHeader/tei:fileDesc/tei:titleStmt/tei:title', namespaces=namespace)\n",
    "file_dict['title'] = title.text\n",
    "file_dict"
   ]
  },
  {
   "cell_type": "code",
   "execution_count": 8,
   "metadata": {},
   "outputs": [
    {
     "data": {
      "text/plain": [
       "{'title': 'H NMR studies of molecular interaction of D-glucosamine and N-acetyl-Dglucosamine with capsaicin in aqueous and non-aqueous media',\n",
       " 'authors': ['Inocencio Higuera-Ciapara',\n",
       "  'Claudia Virués',\n",
       "  'Marcela Jiménez-Chávez',\n",
       "  'Evelin Martínez-Benavidez',\n",
       "  'Javier Hernández',\n",
       "  'Zaira Domínguez',\n",
       "  'Roberto López-Rendón',\n",
       "  'Enrique F Velázquez',\n",
       "  'Motomichi Inoue',\n",
       "  'Evelin Martínez- Benavidez']}"
      ]
     },
     "execution_count": 8,
     "metadata": {},
     "output_type": "execute_result"
    }
   ],
   "source": [
    "# authors\n",
    "authors = root.findall('.//tei:teiHeader/tei:fileDesc/tei:sourceDesc/tei:biblStruct/tei:analytic/tei:author/tei:persName', namespaces=namespace)\n",
    "file_dict['authors'] = []\n",
    "for author in authors:\n",
    "    forename = author.findall('tei:forename', namespaces=namespace)\n",
    "    if len(forename) == 0:\n",
    "        continue\n",
    "    forename = ' '.join(name.text for name in forename)\n",
    "    surname = ' '.join([name.text for name in author.findall('tei:surname', namespaces=namespace)])\n",
    "    author_name = forename + ' ' + surname\n",
    "    file_dict['authors'].append(author_name)\n",
    "file_dict"
   ]
  },
  {
   "cell_type": "code",
   "execution_count": 10,
   "metadata": {},
   "outputs": [
    {
     "name": "stdout",
     "output_type": "stream",
     "text": [
      "<Element '{http://www.tei-c.org/ns/1.0}p' at 0x7f47956d8ae0>\n"
     ]
    },
    {
     "data": {
      "text/plain": [
       "{'title': 'H NMR studies of molecular interaction of D-glucosamine and N-acetyl-Dglucosamine with capsaicin in aqueous and non-aqueous media',\n",
       " 'authors': ['Inocencio Higuera-Ciapara',\n",
       "  'Claudia Virués',\n",
       "  'Marcela Jiménez-Chávez',\n",
       "  'Evelin Martínez-Benavidez',\n",
       "  'Javier Hernández',\n",
       "  'Zaira Domínguez',\n",
       "  'Roberto López-Rendón',\n",
       "  'Enrique F Velázquez',\n",
       "  'Motomichi Inoue',\n",
       "  'Evelin Martínez- Benavidez'],\n",
       " 'abstract': '►Interaction of glucosamine with capsaicin is sensitive to pH and solvent.'}"
      ]
     },
     "execution_count": 10,
     "metadata": {},
     "output_type": "execute_result"
    }
   ],
   "source": [
    "# abstract\n",
    "abstract = root.find('.//tei:teiHeader/tei:profileDesc/tei:abstract/tei:div/tei:p', namespaces=namespace)\n",
    "print(abstract)\n",
    "if abstract is not None:\n",
    "    file_dict['abstract'] = abstract.text\n",
    "file_dict"
   ]
  },
  {
   "cell_type": "code",
   "execution_count": 11,
   "metadata": {},
   "outputs": [
    {
     "data": {
      "text/plain": [
       "{'title': 'H NMR studies of molecular interaction of D-glucosamine and N-acetyl-Dglucosamine with capsaicin in aqueous and non-aqueous media',\n",
       " 'authors': ['Inocencio Higuera-Ciapara',\n",
       "  'Claudia Virués',\n",
       "  'Marcela Jiménez-Chávez',\n",
       "  'Evelin Martínez-Benavidez',\n",
       "  'Javier Hernández',\n",
       "  'Zaira Domínguez',\n",
       "  'Roberto López-Rendón',\n",
       "  'Enrique F Velázquez',\n",
       "  'Motomichi Inoue',\n",
       "  'Evelin Martínez- Benavidez'],\n",
       " 'abstract': '►Interaction of glucosamine with capsaicin is sensitive to pH and solvent.',\n",
       " 'Introduction': 'Capsaicin, N-(4-hydroxy-3-methoxybenzyl)-8-methyl-trans-6-nonenamide, is the major capsaicinoid of chili peppers (Capsicum spp.). The molecule (shown in Scheme 1) consists of a hydrophilic unit (region A composed of a vanillyl ring) and a hydrophobic unit (region C composed of a fatty acid), which are linked by an amide linkage (region B), conferring amphipathic characters on the compound; every region is expected to contribute to the biological activities [1,2]. The well-known activities include antiobesity . The well-known activities include antiobesity [3], analgesic , analgesic [4] and antioxidant  and antioxidant [5]. In addition, powerful anticancer activity has been reported against the cell lines of pancreas . In addition, powerful anticancer activity has been reported against the cell lines of pancreas [6], lung , lung [7], prostate , prostate [8] and glioblastoma  and glioblastoma [9], through apoptosis. In therapeutic application, however, capsaicin has serious disadvantages including burn sensation, low bioavailability and poor water solubility , through apoptosis. In therapeutic application, however, capsaicin has serious disadvantages including burn sensation, low bioavailability and poor water solubility [10]. To overcome these difficulties, nanocarriers have been developed based on biopolymers that permit controlled release and transport to the site of action, resulting in the enhancement of the specificity and the improvement of the intrinsic activity . To overcome these difficulties, nanocarriers have been developed based on biopolymers that permit controlled release and transport to the site of action, resulting in the enhancement of the specificity and the improvement of the intrinsic activity [11]. A good example is provided by chitosan, which is a biopolymer composed principally of glucosamine and N-acetylglucosamine units interlinked through β1-4 glucoside bonds (Scheme1); its efficient. A good example is provided by chitosan, which is a biopolymer composed principally of glucosamine and N-acetylglucosamine units interlinked through β1-4 glucoside bonds (Scheme1); its efficient',\n",
       " 'M A N U S C R I P T A C C E P T E D ACCEPTED MANUSCRIPT': '4 encapsulation has been demonstrated towards active substances such as doxorubicin [12], curcumin , curcumin [13], camptothecin , camptothecin [14], and capsaicin , and capsaicin [11,15]. Recently, chitosan-capsaicin complexes have been subjected to evaluation of physicochemical and biological activities . Recently, chitosan-capsaicin complexes have been subjected to evaluation of physicochemical and biological activities [11,16]. Despite the notable properties of chitosan towards capsaicin, it is hard to have an insight into the functions at chemical and molecular levers because of the complex glucosamineacetylglucosamine network. The complexation of chitosan is supposed to proceed in a complicated process involving collective polymer effects in addition to intermolecular interaction of component monomer units. The local intermolecular interaction, however, is expected to be clarified at molecular level by individual studies of the complexation of each component monosaccharide, i.e., D-glucosamine (2-amino-2-deoxy-D-glucose) and N-acetyl-Dglucosamine (2-acetamido-2-deoxy-D-glucose). In addition, these substances themselves present beneficial health effects . Despite the notable properties of chitosan towards capsaicin, it is hard to have an insight into the functions at chemical and molecular levers because of the complex glucosamineacetylglucosamine network. The complexation of chitosan is supposed to proceed in a complicated process involving collective polymer effects in addition to intermolecular interaction of component monomer units. The local intermolecular interaction, however, is expected to be clarified at molecular level by individual studies of the complexation of each component monosaccharide, i.e., D-glucosamine (2-amino-2-deoxy-D-glucose) and N-acetyl-Dglucosamine (2-acetamido-2-deoxy-D-glucose). In addition, these substances themselves present beneficial health effects [17], as they are synthesized naturally and incorporated readily in tissue because of geometrical similarity, resulting in immunocompatibility, non-immunogenicity and bioavailability , as they are synthesized naturally and incorporated readily in tissue because of geometrical similarity, resulting in immunocompatibility, non-immunogenicity and bioavailability [18]. Another feature of the monosaccharides is that the hydroxyl, amino and acetyl groups facilitate structural modification to promise many applications in agriculture . Another feature of the monosaccharides is that the hydroxyl, amino and acetyl groups facilitate structural modification to promise many applications in agriculture [19], cosmetics , cosmetics [20], and pharmaceutics , and pharmaceutics [21]. These functional groups are supposed to be responsible for the interaction with a variety of substrates including capsaicin which carries functional phenol and amide groups as molecular recognition sites. From these viewpoints, the present 1  . These functional groups are supposed to be responsible for the interaction with a variety of substrates including capsaicin which carries functional phenol and amide groups as molecular recognition sites. From these viewpoints, the present 1',\n",
       " 'Experimental': 'Capsaicin (≥ 95%), D-glucosamine hydrochloride (≥ 99 %) and N-acetyl-D-glucosamine (≥ 95 %) were supplied from Aldrich, and were confirmed by 1 H and 13 C NMR. All materials were dried in vacuum at room temperature for six hours before use. Handling of the materials, including the preparations of stock and sample solutions, was carried out under nitrogen atmosphere in an AtmosBag ™ . 1 H NMR spectra were obtained with an Agilent Technologies 400/64 Premium Shielded spectrometer operating at 400 MHz, and a Bruker ASCEND spectrometer operating at 500 MHz. Titrations were performed by adding successively 5 L aliquots of a concentrated titrant solution with a calibrated micropipette into an NMR tube loaded with 0.5 mL of a solution of a sample compound whose NMR signals were used for probing complexation, with exception of some titration systems. In the titration of capsaicin with glucosamine, weighed solid of the titrant was added directly into an NMR tube filled with 0.5 mL of a capsaicin solution, because the solubility of glucosamine hydrochloride is too low for preparing a concentrated titrant solution. After each addition, the solid was dissolved thoroughly with vigorous shaking at 50 ºC for two minutes, and the sample tube was left in the NMR probe until the solution was cooled to\\nthe probe temperature before spectrum recording; after the measurement, it was confirmed that no precipitation occurred. A similar method of sample preparation was employed for the titrations of glucosamine and N-acetylglucosamine with capsaicin in D 2 O, because of low watersolubility of the titrant capsaicin. Weighed solid capsaicin was added into an NMR tube loaded with 0.5 mL of a monosaccharide solution. Each mixture was rigorously shaken at 50 ºC, and was left in the NMR probe until temperature equilibrium; the absence of any solid was confirmed after NMR measurements. The solubility of capsaicin is even lowered in acidic solution, causing difficulty in some titrations at low pD. The sample and titrant concentrations are described in the legend of each figure that represents a titration curve and also in Supplementary Materials section. The pH of a sample solution was adjusted by using just necessary amounts of solid Na₂CO₂ and 0.01 % DCl, and pH values measured by a glass electrode calibrated with the standard buffers were converted to pD on the basis of relation pD = pH meas + 0.45 [22]. The variation of pD was less than ±0.02 in every titration run. Volume changes due to addition of aliquots were corrected in calculation process. Non-linear leastsquares calculations were performed on locally developed Excel ® worksheets . The variation of pD was less than ±0.02 in every titration run. Volume changes due to addition of aliquots were corrected in calculation process. Non-linear leastsquares calculations were performed on locally developed Excel ® worksheets [23]..',\n",
       " 'Self-association of glucosamine cation': 'The 1 H NMR spectrum of glucosamine hydrochloride presents only the signals of α form in DMSO. The chemical shifts δ are changed with the concentration, as represented in Figure 1 for selected protons (the NMR spectra are shown in Figure  for selected protons (the NMR spectra are shown in Figure S1 in Supplementary Materials section). The asymptotic increases in δ with the concentration suggest that glucosamine cations in Supplementary Materials section). The asymptotic increases in δ with the concentration suggest that glucosamine cations\\nassociate with each other to yield aggregates with hydrogen bonding [24][25][26]. Therefore, the self-association has been studied prior to experiments of complexation with capsaicin.. Therefore, the self-association has been studied prior to experiments of complexation with capsaicin.\\nIn a glucosamine monomer, the NH 3 + group, which is a strong proton donor, constructs a five-membered intramolecular hydrogen-bonding system together with O(1), as illustrated in The self-association is assumed to be controlled by a single binding constant, which is equivalent to the mean successive association constant K as defined by the following equation.\\nHere [Gl k ] is the molar concentration of an aggregate composed of k units of glucosamine (abbreviation Gl is used for the species in DMSO). Since NH 3 + is the only proton-donating group, every aggregate is terminated by an unbound NH 3 + site; i.e., any aggregate composed of n units involves one unassociated NH 3 + site in addition to n -1 sites of associated NH 3 + . The δ values inherent in these sites are averaged in the fast-exchange case, so that δ observed for NH 3 + is expressed by the following equation.\\nHere δ as is the δ inherent in NH 3 + associated with other units in the aggregate, δ ua is δ of NH 3 + proton in unassociated monomeric molecule, and the unbound NH 3 + in the aggregate is assumed to carry δ ua identical with that of monomeric molecule. Least-squares fitting based on Equation 2reproduces well the titration curve of the NH 3 + proton, as shown in Figure reproduces well the titration curve of the NH 3 + proton, as shown in Figure 3; the calculation process is detailed in Section 5.1 (Calculation models and processes). The parameters are determined as K as = 490 (230) M -1 , δ ua = 7.750 (0.041) and δ as = 8.067 (0.008); the numbers in the parentheses are the standard deviations, and M = mol dm -3 . Since δ ua is determined by extrapolation to C Gl = 0 in a δ versus C Gl plot, the very sharp δ-change in the low concentration region causes the large uncertainty of δ ua , which propagates to the standard deviation of K as .; the calculation process is detailed in Section 5.1 (Calculation models and processes). The parameters are determined as K as = 490 (230) M -1 , δ ua = 7.750 (0.041) and δ as = 8.067 (0.008); the numbers in the parentheses are the standard deviations, and M = mol dm -3 . Since δ ua is determined by extrapolation to C Gl = 0 in a δ versus C Gl plot, the very sharp δ-change in the low concentration region causes the large uncertainty of δ ua , which propagates to the standard deviation of K as .\\nFurthermore, K as determined for different sample solutions are varied in the same order of the standard deviation, because the hydrogen bonds are readily broken by water involved\\nunavoidably in the solvent [24,25]; the above K as value has been obtained for solutions dried with our maximum efforts. Evidently, glucosamine cations are associated through hydrogen bonds of NH 3 + with various oxygen atoms to form linear aggregates in non-aqueous media.; the above K as value has been obtained for solutions dried with our maximum efforts. Evidently, glucosamine cations are associated through hydrogen bonds of NH 3 + with various oxygen atoms to form linear aggregates in non-aqueous media.\\nSince the oxygen atoms are bound in an irregular manner, Equation 2 is invalid for the OH proton shifts, as the asymptotic titration curves of OH protons show a trend of saturation in a high concentration range as compared with the curve of NH 3 + (Figure 1).).\\nThe broken lines in Figure 3  for n = 2. Since these mole fractions are very small, self-associated glucosamine has no definite stoichiometry; instead, the aggregates are composed of various numbers of units.  for n = 2. Since these mole fractions are very small, self-associated glucosamine has no definite stoichiometry; instead, the aggregates are composed of various numbers of units.',\n",
       " 'Complexation of glucosamine with capsaicin': 'Complexation with capsaicin has been studied for GlH + and Gl 0 species individually by selecting pD values in titrations: i.e., pD = 6.55 at which the mole fraction of GlH + is 0.98; pD = 9.55 at which the mole fraction of Gl 0 is 0.93. The pKa of capsaicin has been reported to be 9.76 and 9.93 [33,34]. Since the acid dissociation constant in D 2 O is larger than that in H 2 O by almost one unit . Since the acid dissociation constant in D 2 O is larger than that in H 2 O by almost one unit [30,31], capsaicin is neutral even at pD 9.55. Therefore, a titration at the selected pD gives practically the proper formation constant for each species At pD 9.55, the 1 H NMR signals of the CH(2) and CH(1) protons in both glucosamine isomers show significant shifts upon addition of capsaicin, as represented in Figure , capsaicin is neutral even at pD 9.55. Therefore, a titration at the selected pD gives practically the proper formation constant for each species At pD 9.55, the 1 H NMR signals of the CH(2) and CH(1) protons in both glucosamine isomers show significant shifts upon addition of capsaicin, as represented in Figure 10 and   and  S3 in Supplementary Materials). in Supplementary Materials).\\nThe titration curves in Figure 11 show asymptotic decrease which is characteristic of 1:1complexation. Since the coexisting isomers, α-Gl 0 and β-Gl 0 , compete with each other for the complexation with capsaicin, the formation constant of each complex is defined individually: show asymptotic decrease which is characteristic of 1:1complexation. Since the coexisting isomers, α-Gl 0 and β-Gl 0 , compete with each other for the complexation with capsaicin, the formation constant of each complex is defined individually:\\nIn these expressions, [αGl 0 Cp] and [βGl 0 Cp] are the molar concentrations of capsaicin complexes with α-Gl 0 and β-Gl 0 , respectively. In the fast exchange case, of each isomer is proportional to the mole fraction of the complex.\\nHere jCα and jCβ are the jα and jβ values inherent in the signal j of the complexes of α and β forms, respectively. The total concentrations of the isomers, C αGl and C βGl , were obtained on the basis of the populations determined from the NMR signal intensities. Equations 13 and 14 can be expressed by a function of K fα and K fβ , individually, as explained in Section 5.2 (Calculation models and processes). Least-squares fittings of jα and jβ have determined the formation constants shown in Table 3. The thermodynamic stability K fα of the α-glucosamine complex is significantly higher than K fβ of the β complex.. The thermodynamic stability K fα of the α-glucosamine complex is significantly higher than K fβ of the β complex.\\nIn the titration of capsaicin with glucosamine at pD 9.55, the aromatic protons shift upfield with line-broadening, as presented in Figure 12, while the shifts of the aliphatic protons are only of the order of 0.001 (cf. Table , while the shifts of the aliphatic protons are only of the order of 0.001 (cf. Table S4 in Supplementary Materials). The changes in δ of the aromatic protons are plotted in Figure  in Supplementary Materials). The changes in δ of the aromatic protons are plotted in Figure 13. Complexed capsaicin exhibits proton signals averaged over the complexes of αand β-glucosamine, due to the fast exchange. As a consequence, K fα and K fβ cannot be determined individually from the observed monotonic titration curves. The solid lines in Figure . Complexed capsaicin exhibits proton signals averaged over the complexes of αand β-glucosamine, due to the fast exchange. As a consequence, K fα and K fβ cannot be determined individually from the observed monotonic titration curves. The solid lines in Figure 13 are drawn on the basis of the non-competitive 1:1-complexation; K f1 values shown in Table  are drawn on the basis of the non-competitive 1:1-complexation; K f1 values shown in Table 3 give underestimation for the true formation constant, due to the hydrogen bonds in the complex with glucosamine. Since hydrogen bonding is ineffective in aqueous media under ordinary conditions, the complexation is supposed to be motivated primarily by the solvent-exclusion effect and/or the van-der-Waals interaction  give underestimation for the true formation constant, due to the hydrogen bonds in the complex with glucosamine. Since hydrogen bonding is ineffective in aqueous media under ordinary conditions, the complexation is supposed to be motivated primarily by the solvent-exclusion effect and/or the van-der-Waals interaction [35,36,37]. Once reactant molecules are closed to each other, water-free space created between the paired reactant molecules permits the formation of a hydrogen bond between the phenol OH and an oxygen or nitrogen atom in glucosamine so as to stabilize the intermolecular contact; the NH 2 group bearing a well-defined lone-pair is a better counter site of the hydrogen-bonding, as schematically shown in Figure . Once reactant molecules are closed to each other, water-free space created between the paired reactant molecules permits the formation of a hydrogen bond between the phenol OH and an oxygen or nitrogen atom in glucosamine so as to stabilize the intermolecular contact; the NH 2 group bearing a well-defined lone-pair is a better counter site of the hydrogen-bonding, as schematically shown in Figure 14. Such hydrogen bonds reduce diamagnetic screening constants at the binding sites in glucosamine, but the phenyl ring of the capsaicin molecule that faces a glucosamine molecule induces a local magnetic field on the glucosamine protons in the direction opposite to the external field . Such hydrogen bonds reduce diamagnetic screening constants at the binding sites in glucosamine, but the phenyl ring of the capsaicin molecule that faces a glucosamine molecule induces a local magnetic field on the glucosamine protons in the direction opposite to the external field [24,38,39]. The ring-current field is more effective so that the overall δ values are decreased upon complexation, as confirmed by the negative jC of glucosamine (Table . The ring-current field is more effective so that the overall δ values are decreased upon complexation, as confirmed by the negative jC of glucosamine (Table 3). The comparison of the jC values indicates that the closest CH groups to the ring center of capsaicin are CH(1) and CH(2) in the α-glucosamine complex while CH(2) and CH(3) in the β-complex (Figure ). The comparison of the jC values indicates that the closest CH groups to the ring center of capsaicin are CH(1) and CH(2) in the α-glucosamine complex while CH(2) and CH(3) in the β-complex (Figure 14). Change in δ of other protons are less than 0.0035 in both α and β isomers (cf. Table ). Change in δ of other protons are less than 0.0035 in both α and β isomers (cf. Table S3), suggesting that these protons are located far away from the perpendicular. The absolute C values tend to be larger in the α-complex than in the β-complex;), suggesting that these protons are located far away from the perpendicular. The absolute C values tend to be larger in the α-complex than in the β-complex;\\nthe former may be in a closer contact in consistency with the larger K fα values. In contrast to the aromatic proton of capsaicin, the aliphatic protons, including CH(2) bonded to amide C=O, do not show significant shifts upon complexation (Table S4). Therefore, the amide group does not contribute to the complexation, differing from the complexation in DMSO; the aliphatic chain is located outside of the water-free space constructed by the close contact with glucosamine, so that hydration on the amide group hinders intermolecular hydrogen-bonding with glucosamine.). Therefore, the amide group does not contribute to the complexation, differing from the complexation in DMSO; the aliphatic chain is located outside of the water-free space constructed by the close contact with glucosamine, so that hydration on the amide group hinders intermolecular hydrogen-bonding with glucosamine.',\n",
       " 'Complexation of N-acetylglucosamine with capsaicin': 'The complexation of N-acetylglucosamine was studied at pD 9.55 for comparison with glucosamine, although the former is not protonated in the ordinary pH range [40]; at pD 6.55, the solubility of capsaicin was too low for titrations. In the titration of capsaicin with Nacetylglucosamine, the aromatic protons are shifted with the total concentration of the monosaccharide (Figure 15), while the absolute values of aliphatic protons are less than 0.002 except CH(1´) bound to the phenyl group (Table ), while the absolute values of aliphatic protons are less than 0.002 except CH(1´) bound to the phenyl group (Table S4). The titration curves of the aromatic protons are almost linear, suggesting that log K f is not larger than 10 if simple 1:1-complexation is assumable (Figure ). The titration curves of the aromatic protons are almost linear, suggesting that log K f is not larger than 10 if simple 1:1-complexation is assumable (Figure S6 in Supplementary Materials). The NMR shifts of N-acetylglucosamine by addition of capsaicin are also too small to elucidate the complexation (Table  in Supplementary Materials). The NMR shifts of N-acetylglucosamine by addition of capsaicin are also too small to elucidate the complexation (Table S3). A novel phenomena found in the titration is that the populations of α and β forms are changed in the presence of capsaicin: α form is the majority with a population of 0.66 until the concentration This observation suggests indirectly the presence of hyperconjugative interactions operative at the anomeric carbon, although the interaction is too weak to form a complex with a definite composition. In summary, capsaicin has much stronger molecular interaction with deprotonated glucosamine than with the N-acetyl derivative.). A novel phenomena found in the titration is that the populations of α and β forms are changed in the presence of capsaicin: α form is the majority with a population of 0.66 until the concentration This observation suggests indirectly the presence of hyperconjugative interactions operative at the anomeric carbon, although the interaction is too weak to form a complex with a definite composition. In summary, capsaicin has much stronger molecular interaction with deprotonated glucosamine than with the N-acetyl derivative.',\n",
       " 'Protonation of glucosamine': 'Glucosamine is in protonation-deprotonation equilibrium with a logarithmic protonation constant (equivalent to pKa) of 7.58 [29]. Since a common weak acid is dissociated in D 2 O at a pD higher than at the corresponding pH in H 2 O by ca. one unit . Since a common weak acid is dissociated in D 2 O at a pD higher than at the corresponding pH in H 2 O by ca. one unit [30,31], the protonation constant and the species distribution of glucosamine in D 2 O are required to be determined prior to NMR studies of complexation. Figure , the protonation constant and the species distribution of glucosamine in D 2 O are required to be determined prior to NMR studies of complexation. Figure 8 represents δ versus pD plots obtained for CH(1) and CH  represents δ versus pD plots obtained for CH(1) and CH (2) protons, which exhibit the most significant shifts in both α and β forms. For a single-step protonation, δ j of proton j is expressed by the following function of pD. protons, which exhibit the most significant shifts in both α and β forms. For a single-step protonation, δ j of proton j is expressed by the following function of pD.\\nHere δ j0 and δ j1 are the δ j inherent in the deprotonated species (denoted by Gl 0 ) and that of the mono-protonated species (denoted by GlH + ), respectively, and K D is the protonation constant in expected to be more stable in α form, enabling protonation at the higher pD. This distinction is supposed to be caused by the steric and stereoelectronic effects of the anomeric carbon [32]..\\nThe to environment that may be altered with pD. The reversible conversion from A to B with increasing pD is defined by:\\nHere [Gl 0 A ] and [Gl 0 B ] are the molar concentrations of Gl 0 under the influence of environments A and B, respectively. When the pD response of the interconversion is expressed by the logistic (or \"dose-response\") equation against pD, the population P of either form can be expressed by an extended formula of Equation 8 as follows.\\nHere P 0B , P 0A , and P 1 are the populations intrinsic of Gl 0 B , Gl 0 A , and GlH + species, respectively, in either isomer, and K ′ D is an apparent protonation constant related to the population change.',\n",
       " 'M A N U S C R I P T A C C E P T E D': 'In the titrations at pD 6.55, at which glucosamine is fully protonated, the δ changes of capsaicin protons are much smaller than those at pD 9.55 (cf. Table S4). The largest change is observed for CH(2) protons for both isomers. Even their titration curves do not show asymptotic trends, which are difficult to interpret definitely (Figure ). The largest change is observed for CH(2) protons for both isomers. Even their titration curves do not show asymptotic trends, which are difficult to interpret definitely (Figure S5 in Supplementary Materials). in Supplementary Materials).\\nTentative least-squares calculations based on the competitive complexation have estimated the formation constant to be of the order of 10 M -1 . Obviously, the capsaicin complex of GlH + is much less stable than that of Gl 0 , as a result of protonation on the amino group: the NH 3 + group weakens the solvent-exclusion effect because of a stronger interaction with water molecules, and also it is incapable of working as proton-accepting site towards the phenol OH of capsaicin. This fact supports the crucial role of NH 2 in the complexation of deprotonated glucosamine Gl 0 .',\n",
       " 'Conclusion': 'Protonation and self-association equilibria of glucosamine as well as its complexation with capsaicin have been studied by 1 H NMR titrations, which are interpreted by formulation suitable for every equilibrium model. Both D-glucosamine and N-acetyl-D-glucosamine present quite different complexation modes in aqueous and non-aqueous media. Especially, the complexation of glucosamine is sensitive to the environments, such as pH in aqueous media.\\nIn DMSO, glucosamine cations undergo self-association with intermolecular binding between NH 3 + and OH sites. The resulting linear aggregates composed of various numbers of units react with capsaicin to form a pseudo-1:1-complex with formation constant of ca. 30 M -1 ; the complex is stabilized by hydrogen bonding illustrated in Figure 6 Protonation on the amino nitrogen drastically decreases the stability of the complexes, supporting the crucial role of NH 2 groups in the complexation of deprotonated glucosamine. The formation constants conclude that the α-glucosamine complex is thermodynamically more stable than the β-complex; the chemical shifts of glucosamine protons suggest that the intermolecular contact is closer in the α-complex, in consistency with the higher thermodynamic stability. This clear difference between the isomers is ascribable to the steric and stereoelectronic effects at the anomeric carbon. Neither α nor β form of N-acetylglucosamine yields a complex as stable as deprotonated glucosamine, as a result of conversion of amino to amide groups. This is another evidence for the role of NH 2 in the complexation of glucosamine. Protonation on the amino nitrogen drastically decreases the stability of the complexes, supporting the crucial role of NH 2 groups in the complexation of deprotonated glucosamine. The formation constants conclude that the α-glucosamine complex is thermodynamically more stable than the β-complex; the chemical shifts of glucosamine protons suggest that the intermolecular contact is closer in the α-complex, in consistency with the higher thermodynamic stability. This clear difference between the isomers is ascribable to the steric and stereoelectronic effects at the anomeric carbon. Neither α nor β form of N-acetylglucosamine yields a complex as stable as deprotonated glucosamine, as a result of conversion of amino to amide groups. This is another evidence for the role of NH 2 in the complexation of glucosamine.\\nThe above complexation schemes in aqueous media are suggestive of local interaction sites in nanocarriers based on chitosan, which is composed of glucosamine and Nacetylglucosamine (Scheme 1). The glucosamine unit, rather than the N-acetylglucosamine unit, is predicated to play a major role in interaction with capsaicin. This selective interaction is much more pronounced in basic media in which glucosamine is not protonated.',\n",
       " 'Self-association in DMSO': 'This section explains the calculation model and process of δ given by Equation 2for selfassociation. The mass balance of the self-association is expressed by the following equation.for selfassociation. The mass balance of the self-association is expressed by the following equation.\\nHere C Gl is the total molar concentration of glucosamine, and the summation is made from 2 to n depending on the degree of association. The summation of the geometric progression leads to the polynomial of x that is K as [Gl]:\\nx -(n + 1)\\nThe numerical solution of the polynomial gives x for a certain n, and hence [Gl] can be calculated for a given K as . Equation 2for δ is rewritten by:for δ is rewritten by:\\nThe second term is replaced by C Gl -[Gl], and the third term is rewritten by a geometric progression as follows.\\nThe summation of the geometrical progression to n leads to the following equation.\\nSince [Gl] is obtained numerically from Equation 16for given K as values, δ is expressed as a function of K as by a series of numerical calculations. Least-squares fitting of an observed δ versus C Gl curve determines the association constant K as together with δ ua and δ as . In practical calculations, n was cut off at about 25 on the basis of the criterion n [Gl n ]/C Gl << 0.01 over the entire concentration C Gl in a titration run. All calculations were performed on Excel ® worksheets.for given K as values, δ is expressed as a function of K as by a series of numerical calculations. Least-squares fitting of an observed δ versus C Gl curve determines the association constant K as together with δ ua and δ as . In practical calculations, n was cut off at about 25 on the basis of the criterion n [Gl n ]/C Gl << 0.01 over the entire concentration C Gl in a titration run. All calculations were performed on Excel ® worksheets.',\n",
       " 'Competitive complexation in D 2 O': 'This section explains the least-squares fittings of jα and jβ defined by Equations 13 and 14 for the competitive complexation of α and β isomers.\\nThe concentrations in Equations 11 and 12 follow the mass balances expressed by:\\nIn these expressions, C αGl and C βGl are the total molar concentrations of αand β-glucosamine, respectively. Combination of Equations 11 and 12 with Equations 20-22 leads to the following cubic equation of X that is [αGl 0 Cp] for α form.\\n(\\nHere\\nThe same type of cubic equation is derived for β form by interchanging subscripts α and β in the parameters. The cubic equations can be solved numerically for given K fα and K fβ . A series of solutions gives [αGl 0 Cp] as a function of K fα and K fβ , and leads to a pair of theoretical titration curves of jα and jβ against C Cp on the basis of Equations 13 and 14. Alternate curve fittings were carried out repeatedly on a pair of titration curves of α and β forms as follows. The first least-squares calculation was executed for jα by assuming K fβ = 0; the resulting K fα is the formation constant for virtual non-competitive complexation. This value was employed for K fα in the least-squares fitting of jβ , and the obtained K fβ was used in the next least-squares fitting of jα . These alternate fittings were repeated until convergence in the parameters. The consistency was confirmed by changing the order of least-squares calculations for jα and jβ . These least- [39] C. Virués, R. E. Navarro, E. F. Velázquez, M.B. Inoue, M. Inoue, NMR studies of hostguest complexes of anionic cyclophanes with dopamine and its analogues in aqueous media, J.\\nIncl. Phenomenon Macrocycl. Chem. 48 (2004) 141-146.\\n[40] M.J. O´Neil, The Merck Index, An Encyclopedia of Chemicals, Drugs and Biologicals, 13th ed. 2001, p. 353.',\n",
       " 'Captions of Schemes and Figures': 'Scheme1. Molecular        2.    .    3.   .   3.  Tables .  Tables Table 1. Formation constants and inherent chemical shift changes (with standard deviations at the least digit) determined by least-squares fits for amide NH and phenol OH of capsaicin (Cp) titrated by cationic α-glucosamine (Gl) and its N-acetyl derivative (AGl) in DMSO-d 6 .      values are shown in Table  Formation constants and inherent chemical shift changes (with standard deviations at the least digit) determined by least-squares fits for amide NH and phenol OH of capsaicin (Cp) titrated by cationic α-glucosamine (Gl) and its N-acetyl derivative (AGl) in DMSO-d 6 .      values are shown in Table 1. The dotted lines are drawn by assuming 1:1-complexation for comparison: K f1 = 8 M -1 and C = 0.0045 for OH and 0.0065 for NH. The spectra are shown in Figure . The dotted lines are drawn by assuming 1:1-complexation for comparison: K f1 = 8 M -1 and C = 0.0045 for OH and 0.0065 for NH. The spectra are shown in Figure S3.   .'}"
      ]
     },
     "execution_count": 11,
     "metadata": {},
     "output_type": "execute_result"
    }
   ],
   "source": [
    "# Body\n",
    "body = root.findall('.//tei:text/tei:body/tei:div', namespaces=namespace)\n",
    "\n",
    "for i, child in enumerate(body):\n",
    "    ps = child.findall('.//tei:p', namespaces=namespace)\n",
    "    if len(ps) == 0:\n",
    "        continue\n",
    "    head = child.find('.//tei:head', namespaces=namespace).text\n",
    "    content = '\\n'.join([get_full_text(p) for p in ps])\n",
    "    file_dict[head] = content\n",
    "file_dict"
   ]
  },
  {
   "cell_type": "code",
   "execution_count": null,
   "metadata": {},
   "outputs": [],
   "source": [
    "from utils.custom_document_reader import CustomDocumentReader\n",
    "\n",
    "documents = CustomDocumentReader(\n",
    "    input_dir=\"/home/zhengzheng/scratch0/projects/Fine-Tuned-GPT-2-with-articles-ground-truth/data\",\n",
    "    cache_dir=\"/home/zhengzheng/scratch0/projects/Fine-Tuned-GPT-2-with-articles-ground-truth/code/llamaIndex/.cache\",\n",
    "    config_path=\"/home/zhengzheng/scratch0/projects/Fine-Tuned-GPT-2-with-articles-ground-truth/code/llamaIndex/utils/config.json\",\n",
    "    remove_cache=False\n",
    ")._load_data()"
   ]
  },
  {
   "cell_type": "markdown",
   "metadata": {},
   "source": [
    "### CustomSplitter"
   ]
  },
  {
   "cell_type": "code",
   "execution_count": null,
   "metadata": {},
   "outputs": [],
   "source": [
    "from llama_index.core.node_parser import SentenceSplitter\n",
    "\n",
    "ss1 = SentenceSplitter(\n",
    "    chunk_size=1024,\n",
    "    include_metadata=True,\n",
    "    include_prev_next_rel=True,\n",
    ")"
   ]
  },
  {
   "cell_type": "code",
   "execution_count": null,
   "metadata": {},
   "outputs": [],
   "source": [
    "from llama_index.core.storage.docstore import SimpleDocumentStore\n",
    "nodes = ss1.get_nodes_from_documents(documents)\n",
    "docstore = SimpleDocumentStore()\n",
    "docstore.add_documents(nodes)\n",
    "docstore.persist(persist_path=\"/home/zhengzheng/scratch0/projects/Fine-Tuned-GPT-2-with-articles-ground-truth/code/llamaIndex/.cache/test.json\")\n"
   ]
  },
  {
   "cell_type": "code",
   "execution_count": null,
   "metadata": {},
   "outputs": [],
   "source": [
    "from llama_index.core.node_parser import SimpleFileNodeParser\n",
    "\n",
    "nodes = SimpleFileNodeParser().get_nodes_from_documents(documents=documents)"
   ]
  },
  {
   "cell_type": "code",
   "execution_count": null,
   "metadata": {},
   "outputs": [],
   "source": [
    "for k, v in nodes[0].to_dict().items():\n",
    "    print(f\"key: {k}\\nvalue: {v}\\n\\n\")"
   ]
  },
  {
   "cell_type": "code",
   "execution_count": null,
   "metadata": {},
   "outputs": [],
   "source": [
    "from utils.custom_document_reader import CustomDocumentReader\n",
    "\n",
    "documents = CustomDocumentReader(\n",
    "    input_dir=\"/home/zhengzheng/scratch0/projects/Fine-Tuned-GPT-2-with-articles-ground-truth/data\",\n",
    "    cache_dir=\"/home/zhengzheng/scratch0/projects/Fine-Tuned-GPT-2-with-articles-ground-truth/code/llamaIndex/.cache\",\n",
    "    config_path=\"/home/zhengzheng/scratch0/projects/Fine-Tuned-GPT-2-with-articles-ground-truth/code/llamaIndex/utils/config.json\",\n",
    "    remove_cache=False\n",
    ")._load_data()\n",
    "\n",
    "from utils.custom_parser import CustomHierarchicalNodeParser\n",
    "hnp = CustomHierarchicalNodeParser.from_defaults()\n",
    "hnp._parse_nodes(documents)"
   ]
  },
  {
   "cell_type": "markdown",
   "metadata": {},
   "source": [
    "### Test custom document reader"
   ]
  },
  {
   "cell_type": "code",
   "execution_count": null,
   "metadata": {},
   "outputs": [],
   "source": [
    "from utils.custom_document_reader import CustomDocumentReader\n",
    "\n",
    "documents = CustomDocumentReader(\n",
    "    input_dir=\"/home/zhengzheng/scratch0/projects/Fine-Tuned-GPT-2-with-articles-ground-truth/data\",\n",
    "    cache_dir=\"/home/zhengzheng/scratch0/projects/Fine-Tuned-GPT-2-with-articles-ground-truth/code/llamaIndex/.cache\",\n",
    "    config_path=\"/home/zhengzheng/scratch0/projects/Fine-Tuned-GPT-2-with-articles-ground-truth/code/llamaIndex/utils/config.json\",\n",
    "    remove_cache=False\n",
    ")._load_data()\n",
    "\n",
    "from utils.custom_parser import CustomHierarchicalNodeParser\n",
    "hnp = CustomHierarchicalNodeParser.from_defaults()\n",
    "nodes = hnp.get_nodes_from_documents(documents)"
   ]
  },
  {
   "cell_type": "code",
   "execution_count": null,
   "metadata": {},
   "outputs": [],
   "source": [
    "len(documents)"
   ]
  },
  {
   "cell_type": "code",
   "execution_count": null,
   "metadata": {},
   "outputs": [],
   "source": [
    "len(nodes)"
   ]
  },
  {
   "cell_type": "code",
   "execution_count": null,
   "metadata": {},
   "outputs": [],
   "source": [
    "from utils.custom_extractor import HuggingfaceBasedExtractor, OllamaBasedExtractor, OpenAIBasedExtractor\n",
    "\n",
    "extractor = OllamaBasedExtractor(\n",
    "    model_name='sammcj/sfr-embedding-mistral:Q4_K_M',\n",
    "    only_meta={'level': ['section']}\n",
    ")\n",
    "\n",
    "extractor.extract(nodes)"
   ]
  },
  {
   "cell_type": "markdown",
   "metadata": {},
   "source": [
    "### Pydantic"
   ]
  },
  {
   "cell_type": "code",
   "execution_count": null,
   "metadata": {},
   "outputs": [],
   "source": [
    "from pydantic import BaseModel\n",
    "from typing import List\n",
    "\n",
    "from llama_index.core.program import LLMTextCompletionProgram\n",
    "\n",
    "\n",
    "class DocumentSummary(BaseModel):\n",
    "    \"\"\"Data model for a summary of a document.\"\"\"\n",
    "\n",
    "    summary: str\n",
    "\n",
    "\n",
    "prompt_template_str = \"\"\"\\\n",
    "Generate an example album, with an artist and a list of songs. \\\n",
    "Using the movie {movie_name} as inspiration.\\\n",
    "\"\"\"\n",
    "\n",
    "program = LLMTextCompletionProgram.from_defaults(\n",
    "    output_cls=DocumentSummary,\n",
    "    prompt_template_str=prompt_template_str,\n",
    "    verbose=True,\n",
    ")"
   ]
  }
 ],
 "metadata": {
  "kernelspec": {
   "display_name": "base",
   "language": "python",
   "name": "python3"
  },
  "language_info": {
   "codemirror_mode": {
    "name": "ipython",
    "version": 3
   },
   "file_extension": ".py",
   "mimetype": "text/x-python",
   "name": "python",
   "nbconvert_exporter": "python",
   "pygments_lexer": "ipython3",
   "version": "3.12.2"
  }
 },
 "nbformat": 4,
 "nbformat_minor": 2
}
