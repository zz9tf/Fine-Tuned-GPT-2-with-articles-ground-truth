{
 "cells": [
  {
   "cell_type": "markdown",
   "metadata": {},
   "source": [
    "### TSNE"
   ]
  },
  {
   "cell_type": "code",
   "execution_count": 8,
   "metadata": {},
   "outputs": [],
   "source": [
    "import os\n",
    "import sys\n",
    "import json\n",
    "import numpy as np\n",
    "import pandas as pd\n",
    "import matplotlib.pyplot as plt\n",
    "import seaborn as sns\n",
    "from sklearn.manifold import TSNE\n",
    "from matplotlib.gridspec import GridSpec\n",
    "\n",
    "# ------------------ Data Loading Functions ------------------\n",
    "\n",
    "def load_jsonl(file_path):\n",
    "    embeddings = []\n",
    "    levels = []\n",
    "    with open(file_path, 'r') as f:\n",
    "        for line in f:\n",
    "            # Parse each line as JSON and append it to the list\n",
    "            obj = json.loads(line)\n",
    "            embeddings.append(obj['embedding'])\n",
    "            levels.append(obj['level'])\n",
    "    return embeddings, levels\n",
    "\n",
    "# ------------------ TSNE and Data Preparation ------------------\n",
    "\n",
    "def get_tsne_result(embeddings, n_components=2, perplexity=30, random_state=42):\n",
    "    \"\"\"Generate TSNE result from embeddings.\"\"\"\n",
    "    tsne = TSNE(n_components, perplexity=perplexity, random_state=random_state)\n",
    "    tsne_result = tsne.fit_transform(embeddings)\n",
    "    return tsne_result\n",
    "\n",
    "def create_tsne_dataframe(tsne_result, levels):\n",
    "    \"\"\"Create a DataFrame with TSNE result and corresponding labels.\"\"\"\n",
    "    return pd.DataFrame({'tsne_1': tsne_result[:, 0], 'tsne_2': tsne_result[:, 1], 'label': levels})\n",
    "\n",
    "# ------------------ Plotting Functions ------------------\n",
    "\n",
    "def plot_tsne_result(tsne_result_df, unique_labels, palette, nodes_file_name):\n",
    "    \"\"\"Plot TSNE result using a scatter plot with subplots for individual labels.\"\"\"\n",
    "    # Create a figure and a GridSpec layout\n",
    "    fig = plt.figure(figsize=(16, 8))\n",
    "    gs = GridSpec(2, 3, width_ratios=[2, 1, 1])\n",
    "\n",
    "    # Create the large plot on the left (spanning both rows)\n",
    "    ax_main = fig.add_subplot(gs[:, 0])\n",
    "    sns.scatterplot(data=tsne_result_df, x='tsne_1', y='tsne_2', hue='label', palette=palette, ax=ax_main, alpha=0.5)\n",
    "    ax_main.set_title('All Data')\n",
    "\n",
    "    # Get x and y axis limits from the main plot\n",
    "    xlim = ax_main.get_xlim()\n",
    "    ylim = ax_main.get_ylim()\n",
    "\n",
    "    # Create the 2x2 grid on the right for individual label plots\n",
    "    for i, label in enumerate(unique_labels[:4]):\n",
    "        ax = fig.add_subplot(gs[i // 2, i % 2 + 1])\n",
    "        label_data = tsne_result_df[tsne_result_df['label'] == label]\n",
    "        sns.scatterplot(data=label_data, x='tsne_1', y='tsne_2', color=palette[i], ax=ax, alpha=0.8)\n",
    "\n",
    "        # Set x and y limits to match the main plot\n",
    "        ax.set_xlim(xlim)\n",
    "        ax.set_ylim(ylim)\n",
    "\n",
    "        ax.set_title(f'Label {label}')\n",
    "        ax.legend([label])\n",
    "\n",
    "    # Adjust layout and save the image\n",
    "    plt.tight_layout()\n",
    "    # plt.savefig(f\"tsne_result_{nodes_file_name}.png\")\n",
    "    # plt.close()"
   ]
  },
  {
   "cell_type": "code",
   "execution_count": 3,
   "metadata": {},
   "outputs": [
    {
     "name": "stdout",
     "output_type": "stream",
     "text": [
      "../1_get_embedding_value/contexts/embeddings_gpt-4o-batch-all-target_1_parser_ManuallyHierarchicalNodeParser_7652_gpu_V100_nodeNum_50_pid_1.jsonl\n",
      "../1_get_embedding_value/contexts/embeddings_gpt-4o-batch-all-target_1_parser_ManuallyHierarchicalNodeParser_7652_gpu_V100_nodeNum_50_pid_2.jsonl\n",
      "../1_get_embedding_value/contexts/embeddings_gpt-4o-batch-all-target_1_parser_ManuallyHierarchicalNodeParser_7652_gpu_V100_nodeNum_50_pid_3.jsonl\n",
      "../1_get_embedding_value/contexts/embeddings_gpt-4o-batch-all-target_1_parser_ManuallyHierarchicalNodeParser_7652_gpu_V100_nodeNum_50_pid_4.jsonl\n"
     ]
    }
   ],
   "source": [
    "# Load embeddings\n",
    "all_embeddings = []\n",
    "all_levels = []\n",
    "\n",
    "files = os.listdir(os.path.abspath('../1_get_embedding_value/contexts'))\n",
    "files = sorted(files, key=lambda x: int(x.split('.')[0].split('_')[-1]))\n",
    "\n",
    "for file_name in files[:4]:\n",
    "    embeddings_file_path = f\"../1_get_embedding_value/contexts/{file_name}\"\n",
    "    print(embeddings_file_path)\n",
    "    embeddings, levels = load_jsonl(embeddings_file_path)\n",
    "    \n",
    "    # Append to the combined lists\n",
    "    all_embeddings.extend(embeddings)\n",
    "    all_levels.extend(levels)\n",
    "\n",
    "merged_embeddings = np.array(all_embeddings)\n",
    "embeddings = merged_embeddings\n",
    "levels = all_levels"
   ]
  },
  {
   "cell_type": "code",
   "execution_count": 1,
   "metadata": {},
   "outputs": [
    {
     "name": "stdout",
     "output_type": "stream",
     "text": [
      "48560\n"
     ]
    }
   ],
   "source": [
    "print(len(embeddings))"
   ]
  },
  {
   "cell_type": "code",
   "execution_count": 6,
   "metadata": {},
   "outputs": [],
   "source": [
    "# Generate TSNE result\n",
    "tsne_results = []"
   ]
  },
  {
   "cell_type": "code",
   "execution_count": 6,
   "metadata": {},
   "outputs": [
    {
     "name": "stdout",
     "output_type": "stream",
     "text": [
      "random_state: 42\n",
      "property: 10\n",
      "property: 20\n",
      "property: 30\n",
      "property: 40\n",
      "property: 50\n",
      "random_state: 300\n",
      "property: 10\n",
      "property: 20\n",
      "property: 30\n",
      "property: 40\n",
      "property: 50\n",
      "random_state: 1001\n",
      "property: 10\n",
      "property: 20\n",
      "property: 30\n",
      "property: 40\n",
      "property: 50\n"
     ]
    }
   ],
   "source": [
    "# Generate tsne with different parameters\n",
    "for random_state in [42, 300, 1001]:\n",
    "    print(f\"random_state: {random_state}\")\n",
    "    tsne_one_row = []\n",
    "    for property in [10, 20, 30, 40, 50]:\n",
    "        print(f\"property: {property}\")\n",
    "        tsne_one_row.append(get_tsne_result(embeddings, 2))\n",
    "    tsne_results.append(tsne_one_row)"
   ]
  },
  {
   "cell_type": "code",
   "execution_count": 19,
   "metadata": {},
   "outputs": [],
   "source": [
    "data_to_save = []\n",
    "\n",
    "# Iterate over the random_state and properties\n",
    "for i, random_state in enumerate([42, 300, 1001]):\n",
    "    for j, property in enumerate([10, 20, 30, 40, 50]):\n",
    "        # Get the t-SNE results for this combination\n",
    "        tsne_result = tsne_results[i][j]\n",
    "        \n",
    "        # For each embedding row, append the random_state, property, levels, and t-SNE coordinates\n",
    "        for idx in range(len(levels)):\n",
    "            data_to_save.append([random_state, property, levels[idx], tsne_result[idx][0], tsne_result[idx][1]])\n",
    "\n",
    "# Create a Pandas DataFrame from the collected data\n",
    "df = pd.DataFrame(data_to_save, columns=['random_state', 'property', 'level', 'tsne_x', 'tsne_y'])\n",
    "\n",
    "# Save the DataFrame to a CSV file\n",
    "df.to_csv('tsne_results_with_levels.csv', index=False)"
   ]
  },
  {
   "cell_type": "code",
   "execution_count": 9,
   "metadata": {},
   "outputs": [
    {
     "data": {
      "image/png": "[encoded data removed]",
      "text/plain": [
       "<Figure size 1600x800 with 5 Axes>"
      ]
     },
     "metadata": {},
     "output_type": "display_data"
    }
   ],
   "source": [
    "tsne_result = tsne_results[0][0]\n",
    "\n",
    "# Create a DataFrame with TSNE result and labels\n",
    "tsne_result_df = create_tsne_dataframe(tsne_result, levels)\n",
    "\n",
    "# Define unique labels and color palette\n",
    "unique_labels = tsne_result_df['label'].unique()\n",
    "palette = sns.color_palette('Set1', len(unique_labels))\n",
    "\n",
    "# Plot and save the TSNE result\n",
    "plot_tsne_result(tsne_result_df, unique_labels, palette, embeddings_file_path.split('/')[-1].split('.')[0])"
   ]
  },
  {
   "cell_type": "markdown",
   "metadata": {},
   "source": [
    "### TSNE - queries"
   ]
  },
  {
   "cell_type": "code",
   "execution_count": 1,
   "metadata": {},
   "outputs": [],
   "source": [
    "import os\n",
    "import sys\n",
    "import json\n",
    "import numpy as np\n",
    "import pandas as pd\n",
    "import matplotlib.pyplot as plt\n",
    "import seaborn as sns\n",
    "from sklearn.manifold import TSNE\n",
    "from matplotlib.gridspec import GridSpec\n",
    "\n",
    "# ------------------ Data Loading Functions ------------------\n",
    "\n",
    "def load_jsonl(file_path):\n",
    "    embeddings = []\n",
    "    levels = []\n",
    "    with open(file_path, 'r') as f:\n",
    "        for line in f:\n",
    "            # Parse each line as JSON and append it to the list\n",
    "            obj = json.loads(line)\n",
    "            embeddings.append(obj['embedding'])\n",
    "            levels.append(obj['level'])\n",
    "    return np.array(embeddings), levels\n",
    "\n",
    "# ------------------ TSNE and Data Preparation ------------------\n",
    "\n",
    "def get_tsne_result(embeddings, n_components=2):\n",
    "    \"\"\"Generate TSNE result from embeddings.\"\"\"\n",
    "    tsne = TSNE(n_components)\n",
    "    tsne_result = tsne.fit_transform(embeddings)\n",
    "    return tsne_result\n",
    "\n",
    "def create_tsne_dataframe(tsne_result, levels):\n",
    "    \"\"\"Create a DataFrame with TSNE result and corresponding labels.\"\"\"\n",
    "    return pd.DataFrame({'tsne_1': tsne_result[:, 0], 'tsne_2': tsne_result[:, 1], 'label': levels})\n",
    "\n",
    "# ------------------ Plotting Functions ------------------\n",
    "\n",
    "def plot_tsne_result(tsne_result_df, unique_labels, palette, nodes_file_name):\n",
    "    \"\"\"Plot TSNE result using a scatter plot with subplots for individual labels.\"\"\"\n",
    "    # Create a figure and a GridSpec layout\n",
    "    fig = plt.figure(figsize=(16, 8))\n",
    "    gs = GridSpec(2, 3, width_ratios=[2, 1, 1])\n",
    "\n",
    "    # Create the large plot on the left (spanning both rows)\n",
    "    ax_main = fig.add_subplot(gs[:, 0])\n",
    "    sns.scatterplot(data=tsne_result_df, x='tsne_1', y='tsne_2', hue='label', palette=palette, ax=ax_main, alpha=0.5)\n",
    "    ax_main.set_title('All Data')\n",
    "\n",
    "    # Get x and y axis limits from the main plot\n",
    "    xlim = ax_main.get_xlim()\n",
    "    ylim = ax_main.get_ylim()\n",
    "\n",
    "    # Create the 2x2 grid on the right for individual label plots\n",
    "    for i, label in enumerate(unique_labels[:4]):\n",
    "        ax = fig.add_subplot(gs[i // 2, i % 2 + 1])\n",
    "        label_data = tsne_result_df[tsne_result_df['label'] == label]\n",
    "        sns.scatterplot(data=label_data, x='tsne_1', y='tsne_2', color=palette[i], ax=ax, alpha=0.8)\n",
    "\n",
    "        # Set x and y limits to match the main plot\n",
    "        ax.set_xlim(xlim)\n",
    "        ax.set_ylim(ylim)\n",
    "\n",
    "        ax.set_title(f'Label {label}')\n",
    "        ax.legend([label])\n",
    "\n",
    "    # Adjust layout and save the image\n",
    "    plt.tight_layout()\n",
    "    plt.savefig(f\"tsne_result_{nodes_file_name}.png\")\n",
    "    plt.close()"
   ]
  },
  {
   "cell_type": "code",
   "execution_count": 2,
   "metadata": {},
   "outputs": [],
   "source": [
    "pid_num = 1\n",
    "# Load embeddings\n",
    "embeddings_file_path = f\"../1_get_embedding_value/data/embeddings_question_pid_{pid_num}.jsonl\"\n",
    "embeddings, levels = load_jsonl(embeddings_file_path)\n",
    "\n",
    "# Generate TSNE result\n",
    "tsne_result = get_tsne_result(embeddings, 2)"
   ]
  },
  {
   "cell_type": "code",
   "execution_count": 5,
   "metadata": {},
   "outputs": [],
   "source": [
    "# Create a DataFrame with TSNE result and labels\n",
    "tsne_result_df = create_tsne_dataframe(tsne_result, levels)\n",
    "\n",
    "# Define unique labels and color palette\n",
    "unique_labels = tsne_result_df['label'].unique()\n",
    "palette = sns.color_palette('Set1', len(unique_labels))\n",
    "\n",
    "# Plot and save the TSNE result\n",
    "plot_tsne_result(tsne_result_df, unique_labels, palette, embeddings_file_path.split('/')[-1].split('.')[0])"
   ]
  },
  {
   "cell_type": "markdown",
   "metadata": {},
   "source": [
    "### Load data"
   ]
  },
  {
   "cell_type": "code",
   "execution_count": 24,
   "metadata": {},
   "outputs": [],
   "source": [
    "import pandas as pd\n"
   ]
  },
  {
   "cell_type": "code",
   "execution_count": 25,
   "metadata": {},
   "outputs": [],
   "source": [
    "# Load CSV file into DataFrame\n",
    "df_pca = pd.read_hdf(\"cluster_result_pca.h5\")"
   ]
  },
  {
   "cell_type": "code",
   "execution_count": 3,
   "metadata": {},
   "outputs": [],
   "source": [
    "df_ae = pd.read_hdf(\"cluster_result_ae.h5\")"
   ]
  },
  {
   "cell_type": "code",
   "execution_count": 30,
   "metadata": {},
   "outputs": [],
   "source": [
    "df_kmeans = pd.read_hdf(\"cluster_result_kmeans.h5\")"
   ]
  },
  {
   "cell_type": "code",
   "execution_count": null,
   "metadata": {},
   "outputs": [],
   "source": [
    "import os, sys\n",
    "sys.path.insert(0, os.path.abspath('.'))\n",
    "from custom.io import load_nodes_jsonl\n",
    "\n",
    "def load_nodes(pid_num, cache_dir):\n",
    "    print(\"Loading nodes\")\n",
    "    file_name = f\"gpt-4o-batch-all-p_2_parser_ManuallyHierarchicalNodeParser_8165_gpu_V100_nodeNum_200_pid_{pid_num}.jsonl\"\n",
    "    file_path = os.path.join(cache_dir, file_name)\n",
    "    nodes = load_nodes_jsonl(file_path)\n",
    "    return nodes\n",
    "\n",
    "nodes = load_nodes(1, os.path.abspath('./.save'))"
   ]
  },
  {
   "cell_type": "markdown",
   "metadata": {},
   "source": [
    "### PCA"
   ]
  },
  {
   "cell_type": "code",
   "execution_count": null,
   "metadata": {},
   "outputs": [],
   "source": [
    "df_pca"
   ]
  },
  {
   "cell_type": "code",
   "execution_count": null,
   "metadata": {},
   "outputs": [],
   "source": [
    "import os, sys\n",
    "sys.path.insert(0, os.path.abspath('.'))\n",
    "from custom.io import load_nodes_jsonl\n",
    "\n",
    "def load_nodes(pid_num, cache_dir):\n",
    "    print(\"Loading nodes\")\n",
    "    file_name = f\"gpt-4o-batch-all-p_2_parser_ManuallyHierarchicalNodeParser_8165_gpu_V100_nodeNum_200_pid_{pid_num}.jsonl\"\n",
    "    file_path = os.path.join(cache_dir, file_name)\n",
    "    nodes = load_nodes_jsonl(file_path)\n",
    "    return nodes\n",
    "\n",
    "nodes = load_nodes(1, os.path.abspath('./.save'))"
   ]
  },
  {
   "cell_type": "code",
   "execution_count": null,
   "metadata": {},
   "outputs": [],
   "source": [
    "import matplotlib.pyplot as plt\n",
    "import matplotlib.patches as mpatches\n",
    "import numpy as np\n",
    "\n",
    "# Plot the results\n",
    "plt.figure(figsize=(10, 8))\n",
    "scatter = plt.scatter(df_pca['PCA1'], df_pca['PCA2'], c=df_kmeans['kmean_labels'], cmap='viridis', s = 50, alpha=0.5) \n",
    "\n",
    "# Create the scatter plot\n",
    "# level2int = {level : i for i, level in enumerate(['document', 'section', 'paragraph', 'multi-sentences'])}\n",
    "# scatter = plt.scatter(df_pca['PCA1'], df_pca['PCA2'], c=[level2int[node.metadata['level']] for node in nodes], cmap='viridis', s = 50, alpha=0.5) \n",
    "# Reverse the mapping for easy label creation\n",
    "# int2level = {v: k for k, v in level2int.items()}\n",
    "\n",
    "# Set the ticks to match the integer labels for the levels\n",
    "# cbar = plt.colorbar(scatter, label='labels')\n",
    "# cbar.set_ticks([0, 1, 2, 3])\n",
    "# cbar.set_ticklabels(['document', 'section', 'paragraph', 'multi-sentences'])\n",
    "\n",
    "# Create a legend using custom patches\n",
    "# handles = [mpatches.Patch(color=scatter.cmap(scatter.norm(level2int[level])), label=level) \n",
    "#            for level in level2int]\n",
    "unique_labels = np.unique(df_kmeans['kmean_labels'])\n",
    "# handles = [mpatches.Patch(color=scatter.cmap(scatter.norm(level2int[level])), label=level) \n",
    "#            for level in level2int]\n",
    "handles = [mpatches.Patch(color=scatter.cmap(scatter.norm(label)), label=f'Label {label}') for label in unique_labels]\n",
    "\n",
    "# Add the legend to the plot (in the upper right corner)\n",
    "plt.legend(handles=handles, title=\"Labels\", loc='upper right')\n",
    "\n",
    "\n",
    "# Add labels to the points\n",
    "# for i, node in enumerate(nodes):\n",
    "#     label = node.metadata['level']  # Get the text label\n",
    "#     plt.text(df_pca['PCA1'].iloc[i], df_pca['PCA2'].iloc[i], label, fontsize=8, ha='right', color='black')\n",
    "\n",
    "# Add titles and labels\n",
    "plt.title('PCA of Clustered Embeddings')\n",
    "plt.xlabel('PCA Component 1')\n",
    "plt.ylabel('PCA Component 2')\n",
    "plt.show()"
   ]
  },
  {
   "cell_type": "markdown",
   "metadata": {},
   "source": [
    "### AutoEncoder"
   ]
  },
  {
   "cell_type": "code",
   "execution_count": null,
   "metadata": {},
   "outputs": [],
   "source": [
    "df_ae"
   ]
  },
  {
   "cell_type": "code",
   "execution_count": 21,
   "metadata": {},
   "outputs": [],
   "source": [
    "selected_node = [node.metadata['level'] in ['document', 'section', 'paragraph', 'multi-sentences'] for node in nodes]"
   ]
  },
  {
   "cell_type": "code",
   "execution_count": null,
   "metadata": {},
   "outputs": [],
   "source": [
    "import matplotlib.pyplot as plt\n",
    "import matplotlib.patches as mpatches\n",
    "\n",
    "# Plot the results\n",
    "plt.figure(figsize=(10, 8))\n",
    "# scatter = plt.scatter(df_ae['AE1'], df_ae['AE2'], c=df_kmeans['kmean_labels'], cmap='viridis', s=50)\n",
    "\n",
    "# Create the scatter plot\n",
    "level2int = {level : i for i, level in enumerate(['document', 'section', 'paragraph', 'multi-sentences'])}\n",
    "scatter = plt.scatter(df_ae['AE1'][selected_node], df_ae['AE2'][selected_node], c=[level2int[node.metadata['level']] for i, node in enumerate(nodes) if selected_node[i]], cmap='viridis', s = 50, alpha=0.5) \n",
    "# Reverse the mapping for easy label creation\n",
    "int2level = {v: k for k, v in level2int.items()}\n",
    "\n",
    "# Create a legend using custom patches\n",
    "handles = [mpatches.Patch(color=scatter.cmap(scatter.norm(level2int[level])), label=level) \n",
    "           for level in level2int]\n",
    "\n",
    "# Add the legend to the plot (in the upper right corner)\n",
    "plt.legend(handles=handles, title=\"Labels\", loc='upper right')\n",
    "\n",
    "plt.title('AutoEncoder of Clustered Embeddings')\n",
    "plt.xlabel('AutoEncoder Component 1')\n",
    "plt.ylabel('AutoEncoder Component 2')\n",
    "plt.show()\n",
    "\n",
    "# Plot the results\n",
    "plt.figure(figsize=(10, 8))\n",
    "# scatter = plt.scatter(df_pca['PCA1'], df_pca['PCA2'], c=df_kmeans['kmean_labels'], cmap='viridis', s = 50, alpha=0.5) \n",
    "\n",
    "\n",
    "# Set the ticks to match the integer labels for the levels\n",
    "# cbar = plt.colorbar(scatter, label='labels')\n",
    "# cbar.set_ticks([0, 1, 2, 3])\n",
    "# cbar.set_ticklabels(['document', 'section', 'paragraph', 'multi-sentences'])\n"
   ]
  },
  {
   "cell_type": "code",
   "execution_count": null,
   "metadata": {},
   "outputs": [],
   "source": []
  }
 ],
 "metadata": {
  "kernelspec": {
   "display_name": "llm",
   "language": "python",
   "name": "python3"
  },
  "language_info": {
   "codemirror_mode": {
    "name": "ipython",
    "version": 3
   },
   "file_extension": ".py",
   "mimetype": "text/x-python",
   "name": "python",
   "nbconvert_exporter": "python",
   "pygments_lexer": "ipython3",
   "version": "3.11.9"
  }
 },
 "nbformat": 4,
 "nbformat_minor": 2
}
